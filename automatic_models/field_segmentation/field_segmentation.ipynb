{
 "cells": [
  {
   "cell_type": "code",
   "execution_count": 24,
   "metadata": {
    "collapsed": true
   },
   "outputs": [],
   "source": [
    "import cv2\n",
    "import numpy as np\n",
    "import alphashape\n",
    "import matplotlib.pyplot as plt\n",
    "from typing import Tuple\n",
    "from skimage.morphology import area_opening, reconstruction, convex_hull_image\n",
    "from skimage.filters import roberts\n",
    "from skimage.feature import corner_harris, corner_peaks\n",
    "from scipy import ndimage"
   ]
  },
  {
   "cell_type": "code",
   "execution_count": 10,
   "outputs": [],
   "source": [
    "def mask_green_pixels(image: np.ndarray,\n",
    "                     min_range: Tuple = (36, 25, 25),\n",
    "                     max_range: Tuple = (70, 255, 255)) -> np.ndarray:\n",
    "    \"\"\"\n",
    "    Process image (loaded as opencv np.array) to get only green regions\n",
    "    :param image: image as a np.ndarray following cv2 convention\n",
    "    :param min_range: minimum value of a pixel to be classified as green (in HSV scale)\n",
    "    :param max_range: maximum value of a pixel to be classified as green (in HSV scale)\n",
    "    :return: grayscale image with blue pixels indicating green pixels and black pixels rest\n",
    "    \"\"\"\n",
    "    hsv = cv2.cvtColor(image, cv2.COLOR_BGR2HSV)\n",
    "    mask = cv2.inRange(hsv, min_range, max_range)\n",
    "\n",
    "    im_gray = cv2.cvtColor(image, cv2.COLOR_BGR2GRAY)\n",
    "    im_gray[mask > 0] = 255\n",
    "    im_gray[mask == 0] = 0\n",
    "    return im_gray\n",
    "\n",
    "\n",
    "def remove_noise(grayscale_img: np.ndarray,\n",
    "                 area_threshold: int = 400) -> np.ndarray:\n",
    "    \"\"\"\n",
    "    Apply openning morphology to get rid of small white blobs and erosion to get rid of small black holes\n",
    "    :param grayscale_img: numpy array with shape (nrow, ncol)\n",
    "    :param area_threshold: threshold for preserving white objects\n",
    "    :return: grayscale image without noise\n",
    "    \"\"\"\n",
    "\n",
    "    modified = area_opening(image=grayscale_img,\n",
    "                            area_threshold=area_threshold)\n",
    "    seed = np.copy(modified)\n",
    "    seed[1:-1, 1:-1] = modified.max()\n",
    "    mask = modified\n",
    "    modified = reconstruction(seed, mask, method='erosion')\n",
    "\n",
    "    return modified\n",
    "\n",
    "def get_polygon_coordinates(filtered_image: np.ndarray, apply_convex_hull: bool):\n",
    "    if apply_convex_hull:\n",
    "        chull = convex_hull_image(filtered_image)\n",
    "        filtered_image[chull] = 255\n",
    "    #edges = roberts(filtered_image)\n",
    "    coords = corner_peaks(corner_harris(image), min_distance=5, threshold_rel=0.02)\n",
    "    ## adding edges to end-of-pictures\n",
    "\n",
    "    return coords"
   ],
   "metadata": {
    "collapsed": false
   }
  },
  {
   "cell_type": "code",
   "execution_count": 32,
   "outputs": [],
   "source": [
    "img = cv2.imread('/home/skocznapanda/programming/BSc-soccer-annotator/data/barcelona_valencia_frames/raw_frames/frame_169.jpg')\n",
    "\n",
    "green = mask_green_pixels(img)\n",
    "without_noise = remove_noise(green)\n",
    "chull = convex_hull_image(without_noise)\n",
    "after_convex = without_noise.copy()\n",
    "after_convex[chull] = 255\n",
    "\n",
    "converted = after_convex.astype('int')\n",
    "converted\n",
    "labeled_image, num_features = ndimage.label(converted)\n",
    "# Find the location of all objects\n",
    "objs = ndimage.find_objects(labeled_image)"
   ],
   "metadata": {
    "collapsed": false
   }
  },
  {
   "cell_type": "code",
   "execution_count": 39,
   "outputs": [
    {
     "data": {
      "text/plain": "[(slice(86, 719, None), slice(0, 1280, None))]"
     },
     "execution_count": 39,
     "metadata": {},
     "output_type": "execute_result"
    }
   ],
   "source": [
    "objs"
   ],
   "metadata": {
    "collapsed": false
   }
  },
  {
   "cell_type": "code",
   "execution_count": 22,
   "outputs": [
    {
     "data": {
      "text/plain": "True"
     },
     "execution_count": 22,
     "metadata": {},
     "output_type": "execute_result"
    }
   ],
   "source": [
    "#edges.max()\n",
    "\n",
    "#for el in contours[0]:\n",
    "#    original[int(el[0]), int(el[1])] = [0, 0, 255]\n",
    "#original[combined > 0 ] = [0, 0, 255]\n"
   ],
   "metadata": {
    "collapsed": false
   }
  },
  {
   "cell_type": "code",
   "execution_count": 25,
   "outputs": [
    {
     "data": {
      "text/plain": "(array([[[429, 513]],\n \n        [[428, 514]],\n \n        [[427, 514]],\n \n        [[426, 515]],\n \n        [[426, 516]],\n \n        [[425, 517]],\n \n        [[425, 522]],\n \n        [[426, 523]],\n \n        [[426, 534]],\n \n        [[427, 535]],\n \n        [[427, 538]],\n \n        [[429, 540]],\n \n        [[430, 540]],\n \n        [[431, 541]],\n \n        [[432, 540]],\n \n        [[433, 540]],\n \n        [[433, 539]],\n \n        [[434, 538]],\n \n        [[434, 535]],\n \n        [[435, 534]],\n \n        [[435, 517]],\n \n        [[434, 516]],\n \n        [[434, 515]],\n \n        [[433, 514]],\n \n        [[432, 514]],\n \n        [[431, 513]]], dtype=int32),\n array([[[952, 466]],\n \n        [[951, 467]],\n \n        [[950, 467]],\n \n        [[948, 469]],\n \n        [[948, 492]],\n \n        [[949, 493]],\n \n        [[949, 494]],\n \n        [[950, 494]],\n \n        [[951, 495]],\n \n        [[952, 495]],\n \n        [[953, 494]],\n \n        [[954, 494]],\n \n        [[954, 493]],\n \n        [[955, 492]],\n \n        [[955, 478]],\n \n        [[956, 477]],\n \n        [[956, 475]],\n \n        [[957, 474]],\n \n        [[957, 468]],\n \n        [[956, 467]],\n \n        [[955, 467]],\n \n        [[954, 466]]], dtype=int32),\n array([[[792, 320]],\n \n        [[792, 321]],\n \n        [[791, 322]],\n \n        [[791, 328]],\n \n        [[790, 329]],\n \n        [[790, 333]],\n \n        [[791, 334]],\n \n        [[792, 334]],\n \n        [[793, 333]],\n \n        [[793, 331]],\n \n        [[794, 330]],\n \n        [[794, 324]],\n \n        [[795, 323]],\n \n        [[794, 322]],\n \n        [[794, 320]]], dtype=int32),\n array([[[416, 264]],\n \n        [[416, 267]],\n \n        [[417, 267]],\n \n        [[417, 265]]], dtype=int32),\n array([[[826, 250]],\n \n        [[826, 251]],\n \n        [[825, 252]],\n \n        [[825, 254]],\n \n        [[826, 255]],\n \n        [[826, 256]],\n \n        [[829, 256]],\n \n        [[830, 255]],\n \n        [[830, 254]],\n \n        [[831, 253]],\n \n        [[831, 252]],\n \n        [[830, 251]],\n \n        [[830, 250]]], dtype=int32),\n array([[[380, 250]],\n \n        [[379, 251]],\n \n        [[379, 258]],\n \n        [[380, 259]],\n \n        [[380, 263]],\n \n        [[381, 264]],\n \n        [[381, 265]],\n \n        [[382, 266]],\n \n        [[383, 266]],\n \n        [[384, 265]],\n \n        [[384, 261]],\n \n        [[385, 260]],\n \n        [[385, 255]],\n \n        [[384, 254]],\n \n        [[384, 252]],\n \n        [[382, 250]]], dtype=int32),\n array([[[726, 248]],\n \n        [[726, 250]],\n \n        [[727, 250]],\n \n        [[728, 249]],\n \n        [[727, 248]]], dtype=int32),\n array([[[168, 244]],\n \n        [[167, 245]],\n \n        [[167, 251]],\n \n        [[168, 252]],\n \n        [[168, 253]],\n \n        [[170, 253]],\n \n        [[171, 252]],\n \n        [[171, 246]],\n \n        [[169, 244]]], dtype=int32),\n array([[[ 50, 208]],\n \n        [[ 49, 209]],\n \n        [[ 49, 210]],\n \n        [[ 48, 211]],\n \n        [[ 48, 214]],\n \n        [[ 49, 215]],\n \n        [[ 49, 217]],\n \n        [[ 50, 218]],\n \n        [[ 50, 220]],\n \n        [[ 52, 222]],\n \n        [[ 54, 220]],\n \n        [[ 54, 213]],\n \n        [[ 53, 212]],\n \n        [[ 53, 208]]], dtype=int32),\n array([[[322, 204]],\n \n        [[322, 209]],\n \n        [[321, 210]],\n \n        [[321, 211]],\n \n        [[320, 212]],\n \n        [[320, 215]],\n \n        [[321, 214]],\n \n        [[321, 211]],\n \n        [[322, 210]],\n \n        [[322, 208]],\n \n        [[323, 207]],\n \n        [[323, 204]]], dtype=int32),\n array([[[   0,    0]],\n \n        [[   0,  120]],\n \n        [[   3,  120]],\n \n        [[   4,  119]],\n \n        [[   6,  119]],\n \n        [[   7,  118]],\n \n        [[  13,  118]],\n \n        [[  14,  119]],\n \n        [[  16,  119]],\n \n        [[  18,  121]],\n \n        [[  19,  121]],\n \n        [[  23,  125]],\n \n        [[  38,  125]],\n \n        [[  39,  126]],\n \n        [[  46,  126]],\n \n        [[  47,  125]],\n \n        [[  68,  125]],\n \n        [[  69,  126]],\n \n        [[  71,  126]],\n \n        [[  72,  127]],\n \n        [[  87,  127]],\n \n        [[  88,  126]],\n \n        [[  93,  126]],\n \n        [[  94,  125]],\n \n        [[ 105,  125]],\n \n        [[ 106,  124]],\n \n        [[ 114,  124]],\n \n        [[ 115,  125]],\n \n        [[ 130,  125]],\n \n        [[ 131,  124]],\n \n        [[ 146,  124]],\n \n        [[ 147,  123]],\n \n        [[ 149,  123]],\n \n        [[ 150,  122]],\n \n        [[ 154,  122]],\n \n        [[ 155,  121]],\n \n        [[ 157,  121]],\n \n        [[ 158,  122]],\n \n        [[ 174,  122]],\n \n        [[ 175,  123]],\n \n        [[ 180,  123]],\n \n        [[ 181,  122]],\n \n        [[ 188,  122]],\n \n        [[ 189,  121]],\n \n        [[ 203,  121]],\n \n        [[ 204,  122]],\n \n        [[ 216,  122]],\n \n        [[ 217,  121]],\n \n        [[ 239,  121]],\n \n        [[ 240,  122]],\n \n        [[ 246,  122]],\n \n        [[ 247,  121]],\n \n        [[ 255,  121]],\n \n        [[ 256,  120]],\n \n        [[ 296,  120]],\n \n        [[ 297,  119]],\n \n        [[ 311,  119]],\n \n        [[ 312,  118]],\n \n        [[ 315,  118]],\n \n        [[ 316,  119]],\n \n        [[ 352,  119]],\n \n        [[ 353,  118]],\n \n        [[ 360,  118]],\n \n        [[ 361,  117]],\n \n        [[ 390,  117]],\n \n        [[ 391,  116]],\n \n        [[ 397,  116]],\n \n        [[ 398,  115]],\n \n        [[ 444,  115]],\n \n        [[ 445,  116]],\n \n        [[ 463,  116]],\n \n        [[ 464,  115]],\n \n        [[ 467,  115]],\n \n        [[ 468,  114]],\n \n        [[ 478,  114]],\n \n        [[ 479,  115]],\n \n        [[ 487,  115]],\n \n        [[ 488,  114]],\n \n        [[ 505,  114]],\n \n        [[ 506,  113]],\n \n        [[ 514,  113]],\n \n        [[ 515,  112]],\n \n        [[ 555,  112]],\n \n        [[ 556,  111]],\n \n        [[ 565,  111]],\n \n        [[ 566,  110]],\n \n        [[ 580,  110]],\n \n        [[ 581,  111]],\n \n        [[ 591,  111]],\n \n        [[ 592,  110]],\n \n        [[ 612,  110]],\n \n        [[ 613,  109]],\n \n        [[ 619,  109]],\n \n        [[ 620,  110]],\n \n        [[ 625,  110]],\n \n        [[ 626,  111]],\n \n        [[ 637,  111]],\n \n        [[ 638,  110]],\n \n        [[ 641,  110]],\n \n        [[ 642,  109]],\n \n        [[ 649,  109]],\n \n        [[ 650,  108]],\n \n        [[ 661,  108]],\n \n        [[ 662,  107]],\n \n        [[ 666,  107]],\n \n        [[ 667,  106]],\n \n        [[ 698,  106]],\n \n        [[ 699,  105]],\n \n        [[ 718,  105]],\n \n        [[ 719,  104]],\n \n        [[ 752,  104]],\n \n        [[ 753,  103]],\n \n        [[ 790,  103]],\n \n        [[ 791,  102]],\n \n        [[ 809,  102]],\n \n        [[ 810,  101]],\n \n        [[ 835,  101]],\n \n        [[ 836,  100]],\n \n        [[ 845,  100]],\n \n        [[ 846,   99]],\n \n        [[ 855,   99]],\n \n        [[ 856,  100]],\n \n        [[ 867,  100]],\n \n        [[ 868,   99]],\n \n        [[ 874,   99]],\n \n        [[ 875,   98]],\n \n        [[ 881,   98]],\n \n        [[ 882,   97]],\n \n        [[ 887,   97]],\n \n        [[ 888,   98]],\n \n        [[ 907,   98]],\n \n        [[ 908,   97]],\n \n        [[ 914,   97]],\n \n        [[ 915,   96]],\n \n        [[ 919,   96]],\n \n        [[ 920,   95]],\n \n        [[ 923,   95]],\n \n        [[ 924,   96]],\n \n        [[ 936,   96]],\n \n        [[ 937,   95]],\n \n        [[ 965,   95]],\n \n        [[ 966,   96]],\n \n        [[ 971,   96]],\n \n        [[ 972,   97]],\n \n        [[ 981,   97]],\n \n        [[ 982,   96]],\n \n        [[ 991,   96]],\n \n        [[ 992,   95]],\n \n        [[1010,   95]],\n \n        [[1011,   94]],\n \n        [[1013,   94]],\n \n        [[1014,   93]],\n \n        [[1019,   93]],\n \n        [[1020,   94]],\n \n        [[1021,   94]],\n \n        [[1024,   97]],\n \n        [[1024,   98]],\n \n        [[1025,   99]],\n \n        [[1025,  102]],\n \n        [[1026,  103]],\n \n        [[1026,  115]],\n \n        [[1028,  117]],\n \n        [[1145,  117]],\n \n        [[1146,  116]],\n \n        [[1146,  115]],\n \n        [[1147,  114]],\n \n        [[1147,   96]],\n \n        [[1148,   95]],\n \n        [[1148,   93]],\n \n        [[1151,   90]],\n \n        [[1153,   90]],\n \n        [[1154,   89]],\n \n        [[1165,   89]],\n \n        [[1166,   88]],\n \n        [[1173,   88]],\n \n        [[1174,   87]],\n \n        [[1178,   87]],\n \n        [[1179,   86]],\n \n        [[1197,   86]],\n \n        [[1198,   85]],\n \n        [[1208,   85]],\n \n        [[1209,   86]],\n \n        [[1215,   86]],\n \n        [[1216,   87]],\n \n        [[1222,   87]],\n \n        [[1223,   88]],\n \n        [[1225,   88]],\n \n        [[1226,   89]],\n \n        [[1246,   89]],\n \n        [[1247,   90]],\n \n        [[1251,   90]],\n \n        [[1252,   91]],\n \n        [[1255,   91]],\n \n        [[1256,   92]],\n \n        [[1263,   92]],\n \n        [[1264,   93]],\n \n        [[1268,   93]],\n \n        [[1269,   94]],\n \n        [[1273,   94]],\n \n        [[1274,   95]],\n \n        [[1279,   95]],\n \n        [[1279,    0]],\n \n        [[ 767,    0]],\n \n        [[ 767,    2]],\n \n        [[ 766,    3]],\n \n        [[ 766,    4]],\n \n        [[ 764,    6]],\n \n        [[ 763,    6]],\n \n        [[ 762,    7]],\n \n        [[ 758,    7]],\n \n        [[ 755,    4]],\n \n        [[ 755,    2]],\n \n        [[ 754,    1]],\n \n        [[ 754,    0]],\n \n        [[  68,    0]],\n \n        [[  68,    3]],\n \n        [[  65,    6]],\n \n        [[  64,    6]],\n \n        [[  63,    7]],\n \n        [[  59,    7]],\n \n        [[  58,    6]],\n \n        [[  57,    6]],\n \n        [[  54,    3]],\n \n        [[  54,    0]]], dtype=int32))"
     },
     "execution_count": 25,
     "metadata": {},
     "output_type": "execute_result"
    }
   ],
   "source": [
    "dst = cv2.GaussianBlur(imgray,(13,13),cv2.BORDER_DEFAULT)\n",
    "value, thresh = cv2.threshold(dst, 60, 255, cv2.THRESH_BINARY_INV)\n",
    "cnts, hierarchy = cv2.findContours(thresh, cv2.RETR_EXTERNAL,cv2.CHAIN_APPROX_SIMPLE)\n",
    "\n",
    "cnts"
   ],
   "metadata": {
    "collapsed": false
   }
  },
  {
   "cell_type": "code",
   "execution_count": 14,
   "outputs": [
    {
     "data": {
      "text/plain": "array([[  0,   0,   0, ...,   0,   0,   0],\n       [  0,   0,   0, ...,   0,   0,   0],\n       [  0,   0,   0, ...,   0,   0,   0],\n       ...,\n       [255, 255, 255, ..., 255, 255, 255],\n       [  0, 255, 255, ..., 255, 255, 255],\n       [  0,   0,   0, ...,   0,   0,   0]], dtype=uint8)"
     },
     "execution_count": 14,
     "metadata": {},
     "output_type": "execute_result"
    }
   ],
   "source": [
    "green[:,:,1]"
   ],
   "metadata": {
    "collapsed": false
   }
  },
  {
   "cell_type": "code",
   "execution_count": 5,
   "outputs": [
    {
     "data": {
      "text/plain": "numpy.ndarray"
     },
     "execution_count": 5,
     "metadata": {},
     "output_type": "execute_result"
    }
   ],
   "source": [
    "green_coordinates = np.argwhere(imask > 0)\n",
    "type(green_coordinates)"
   ],
   "metadata": {
    "collapsed": false
   }
  },
  {
   "cell_type": "code",
   "execution_count": 9,
   "outputs": [
    {
     "data": {
      "text/plain": "array([[False, False, False, ..., False, False, False],\n       [False, False, False, ..., False, False, False],\n       [False, False, False, ..., False, False, False],\n       ...,\n       [ True,  True,  True, ...,  True,  True,  True],\n       [False,  True,  True, ...,  True,  True,  True],\n       [False, False, False, ..., False, False, False]])"
     },
     "execution_count": 9,
     "metadata": {},
     "output_type": "execute_result"
    }
   ],
   "source": [
    "plt.plot(x=)"
   ],
   "metadata": {
    "collapsed": false
   }
  },
  {
   "cell_type": "code",
   "execution_count": 6,
   "outputs": [],
   "source": [
    "alpha_shape = alphashape.alphashape(green_coordinates, 0.)"
   ],
   "metadata": {
    "collapsed": false
   }
  },
  {
   "cell_type": "code",
   "execution_count": 7,
   "outputs": [],
   "source": [
    "x, y = alpha_shape.exterior.coords.xy"
   ],
   "metadata": {
    "collapsed": false
   }
  },
  {
   "cell_type": "code",
   "execution_count": 8,
   "outputs": [
    {
     "data": {
      "text/plain": "array('d', [124.0, 2.0, 0.0, 0.0, 15.0, 44.0, 45.0, 99.0, 718.0, 718.0, 717.0, 124.0])"
     },
     "execution_count": 8,
     "metadata": {},
     "output_type": "execute_result"
    }
   ],
   "source": [
    "x"
   ],
   "metadata": {
    "collapsed": false
   }
  },
  {
   "cell_type": "code",
   "execution_count": 36,
   "outputs": [
    {
     "ename": "KeyboardInterrupt",
     "evalue": "",
     "output_type": "error",
     "traceback": [
      "\u001B[0;31m---------------------------------------------------------------------------\u001B[0m",
      "\u001B[0;31mKeyboardInterrupt\u001B[0m                         Traceback (most recent call last)",
      "Cell \u001B[0;32mIn [36], line 19\u001B[0m\n\u001B[1;32m     16\u001B[0m \u001B[38;5;28;01mwhile\u001B[39;00m(\u001B[38;5;241m1\u001B[39m):\n\u001B[1;32m     18\u001B[0m     cv2\u001B[38;5;241m.\u001B[39mimshow(\u001B[38;5;124m'\u001B[39m\u001B[38;5;124mimage\u001B[39m\u001B[38;5;124m'\u001B[39m, image)\n\u001B[0;32m---> 19\u001B[0m     \u001B[38;5;28;01mif\u001B[39;00m \u001B[43mcv2\u001B[49m\u001B[38;5;241;43m.\u001B[39;49m\u001B[43mwaitKey\u001B[49m\u001B[43m(\u001B[49m\u001B[38;5;241;43m20\u001B[39;49m\u001B[43m)\u001B[49m \u001B[38;5;241m&\u001B[39m \u001B[38;5;241m0xFF\u001B[39m \u001B[38;5;241m==\u001B[39m \u001B[38;5;241m27\u001B[39m:\n\u001B[1;32m     20\u001B[0m         \u001B[38;5;28;01mbreak\u001B[39;00m\n\u001B[1;32m     22\u001B[0m cv2\u001B[38;5;241m.\u001B[39mdestroyAllWindows()\n",
      "\u001B[0;31mKeyboardInterrupt\u001B[0m: "
     ]
    }
   ],
   "source": [
    "polygon_coordinates = np.array(list(zip(x.tolist(), y.tolist())), dtype=np.int32)\n",
    "polygon_coordinates = polygon_coordinates.reshape((-1,1,2))\n",
    "isClosed = True\n",
    "\n",
    "# Blue color in BGR\n",
    "color = (255, 0, 0)\n",
    "\n",
    "# Line thickness of 2 px\n",
    "thickness = 2\n",
    "\n",
    "# Using cv2.polylines() method\n",
    "# Draw a Blue polygon with\n",
    "# thickness of 1 px\n",
    "image = cv2.polylines(img, [polygon_coordinates],\n",
    "                      isClosed, color, thickness)\n",
    "while(1):\n",
    "\n",
    "    cv2.imshow('image', image)\n",
    "    if cv2.waitKey(20) & 0xFF == 27:\n",
    "        break\n",
    "\n",
    "cv2.destroyAllWindows()"
   ],
   "metadata": {
    "collapsed": false
   }
  },
  {
   "cell_type": "code",
   "execution_count": 35,
   "outputs": [
    {
     "data": {
      "text/plain": "dtype('float64')"
     },
     "execution_count": 35,
     "metadata": {},
     "output_type": "execute_result"
    }
   ],
   "source": [
    "polygon_coordinates.dtype"
   ],
   "metadata": {
    "collapsed": false
   }
  },
  {
   "cell_type": "code",
   "execution_count": null,
   "outputs": [],
   "source": [],
   "metadata": {
    "collapsed": false
   }
  }
 ],
 "metadata": {
  "kernelspec": {
   "display_name": "Python 3",
   "language": "python",
   "name": "python3"
  },
  "language_info": {
   "codemirror_mode": {
    "name": "ipython",
    "version": 2
   },
   "file_extension": ".py",
   "mimetype": "text/x-python",
   "name": "python",
   "nbconvert_exporter": "python",
   "pygments_lexer": "ipython2",
   "version": "2.7.6"
  }
 },
 "nbformat": 4,
 "nbformat_minor": 0
}
