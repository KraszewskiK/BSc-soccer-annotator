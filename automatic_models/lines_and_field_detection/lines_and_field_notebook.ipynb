{
 "cells": [
  {
   "cell_type": "code",
   "execution_count": 1,
   "metadata": {
    "collapsed": true
   },
   "outputs": [
    {
     "name": "stderr",
     "output_type": "stream",
     "text": [
      "/home/skocznapanda/programming/BSc-soccer-annotator/venv/lib/python3.9/site-packages/torch/cuda/__init__.py:88: UserWarning: CUDA initialization: The NVIDIA driver on your system is too old (found version 10010). Please update your GPU driver by downloading and installing a new version from the URL: http://www.nvidia.com/Download/index.aspx Alternatively, go to: https://pytorch.org to install a PyTorch version that has been compiled with your version of the CUDA driver. (Triggered internally at ../c10/cuda/CUDAFunctions.cpp:109.)\n",
      "  return torch._C._cuda_getDeviceCount() > 0\n"
     ]
    }
   ],
   "source": [
    "import cv2\n",
    "from lines_and_field_detector import LineDetector, LineDetectorConfig\n",
    "import dataclasses"
   ]
  },
  {
   "cell_type": "code",
   "execution_count": 2,
   "outputs": [
    {
     "data": {
      "text/plain": "{'name': 'Optimization Based Image Registration',\n 'template_path': '/home/skocznapanda/programming/BSc-soccer-annotator/automatic_models/lines_and_field_detection/data/template.png',\n 'out_dir': '/home/skocznapanda/programming/BSc-soccer-annotator/automatic_models/lines_and_field_detection/out',\n 'batch_size': 1,\n 'coord_conv_template': True,\n 'error_model': 'loss_surface',\n 'error_target': 'iou_whole',\n 'guess_model': 'init_guess',\n 'homo_param_method': 'deep_homography',\n 'load_weights_error_model': 'pretrained_loss_surface',\n 'load_weights_upstream': 'pretrained_init_guess',\n 'lr_optim': 1e-05,\n 'need_single_image_normalization': True,\n 'need_spectral_norm_error_model': True,\n 'need_spectral_norm_upstream': False,\n 'optim_criterion': 'l1loss',\n 'optim_iters': 20,\n 'optim_method': 'stn',\n 'optim_type': 'adam',\n 'prevent_neg': 'sigmoid',\n 'warp_dim': 8,\n 'warp_type': 'homography',\n 'constant_var_use_cuda': False,\n 'torch_backends_cudnn_enabled': False,\n 'desired_homography': 'optim'}"
     },
     "execution_count": 2,
     "metadata": {},
     "output_type": "execute_result"
    }
   ],
   "source": [
    "config = LineDetectorConfig()\n",
    "dataclasses.asdict(config)"
   ],
   "metadata": {
    "collapsed": false
   }
  },
  {
   "cell_type": "code",
   "execution_count": 2,
   "outputs": [
    {
     "name": "stderr",
     "output_type": "stream",
     "text": [
      "[ WARN:0@12.076] global /io/opencv/modules/imgcodecs/src/loadsave.cpp (239) findDecoder imread_('./example.png'): can't open/read file: check file path/integrity\n"
     ]
    }
   ],
   "source": [
    "template_path = './data/template.png'\n",
    "json_path = './data/lines_coordinates.json'\n",
    "image = \"./example.png\"\n",
    "image_arr = cv2.imread(image)\n",
    "template = cv2.imread(template_path)\n",
    "\n"
   ],
   "metadata": {
    "collapsed": false
   }
  },
  {
   "cell_type": "code",
   "execution_count": 3,
   "outputs": [
    {
     "ename": "error",
     "evalue": "OpenCV(4.5.5) /io/opencv/modules/imgproc/src/color.cpp:182: error: (-215:Assertion failed) !_src.empty() in function 'cvtColor'\n",
     "output_type": "error",
     "traceback": [
      "\u001B[0;31m---------------------------------------------------------------------------\u001B[0m",
      "\u001B[0;31merror\u001B[0m                                     Traceback (most recent call last)",
      "Cell \u001B[0;32mIn [3], line 2\u001B[0m\n\u001B[1;32m      1\u001B[0m line_detector \u001B[38;5;241m=\u001B[39m LineDetector(image_array\u001B[38;5;241m=\u001B[39mimage_arr)\n\u001B[0;32m----> 2\u001B[0m \u001B[43mline_detector\u001B[49m\u001B[38;5;241;43m.\u001B[39;49m\u001B[43mget_orig_optim_homography\u001B[49m\u001B[43m(\u001B[49m\u001B[43m)\u001B[49m\n",
      "File \u001B[0;32m~/programming/BSc-soccer-annotator/automatic_models/lines_and_field_detection/lines_and_field_detector.py:183\u001B[0m, in \u001B[0;36mLineDetector.get_orig_optim_homography\u001B[0;34m(self, desired)\u001B[0m\n\u001B[1;32m    181\u001B[0m \u001B[38;5;28;01mif\u001B[39;00m desired \u001B[38;5;129;01mnot\u001B[39;00m \u001B[38;5;129;01min\u001B[39;00m [\u001B[38;5;124m'\u001B[39m\u001B[38;5;124morig\u001B[39m\u001B[38;5;124m'\u001B[39m, \u001B[38;5;124m'\u001B[39m\u001B[38;5;124moptim\u001B[39m\u001B[38;5;124m'\u001B[39m]:\n\u001B[1;32m    182\u001B[0m     \u001B[38;5;28;01mraise\u001B[39;00m \u001B[38;5;167;01mException\u001B[39;00m(\u001B[38;5;124m'\u001B[39m\u001B[38;5;124mInvalid homography argument. Please choose from \u001B[39m\u001B[38;5;124m{\u001B[39m\u001B[38;5;124morig, optim}\u001B[39m\u001B[38;5;124m'\u001B[39m)\n\u001B[0;32m--> 183\u001B[0m goal_image \u001B[38;5;241m=\u001B[39m \u001B[38;5;28;43mself\u001B[39;49m\u001B[38;5;241;43m.\u001B[39;49m\u001B[43m_preprocess_field_image\u001B[49m\u001B[43m(\u001B[49m\u001B[43m)\u001B[49m\n\u001B[1;32m    184\u001B[0m template_image \u001B[38;5;241m=\u001B[39m \u001B[38;5;28mself\u001B[39m\u001B[38;5;241m.\u001B[39m_preprocess_template_image(ask_configs\u001B[38;5;241m=\u001B[39m\u001B[38;5;28;01mTrue\u001B[39;00m)\n\u001B[1;32m    185\u001B[0m e2e \u001B[38;5;241m=\u001B[39m end_2_end_optimization\u001B[38;5;241m.\u001B[39mEnd2EndOptimFactory\u001B[38;5;241m.\u001B[39mget_end_2_end_optimization_model(\u001B[38;5;28mself\u001B[39m\u001B[38;5;241m.\u001B[39mconfig)\n",
      "File \u001B[0;32m~/programming/BSc-soccer-annotator/automatic_models/lines_and_field_detection/lines_and_field_detector.py:199\u001B[0m, in \u001B[0;36mLineDetector._preprocess_field_image\u001B[0;34m(self)\u001B[0m\n\u001B[1;32m    194\u001B[0m \u001B[38;5;28;01mdef\u001B[39;00m \u001B[38;5;21m_preprocess_field_image\u001B[39m(\u001B[38;5;28mself\u001B[39m):\n\u001B[1;32m    195\u001B[0m     \u001B[38;5;124;03m\"\"\"\u001B[39;00m\n\u001B[1;32m    196\u001B[0m \u001B[38;5;124;03m    Preprocess image containing field, so it is ready to be used by models\u001B[39;00m\n\u001B[1;32m    197\u001B[0m \u001B[38;5;124;03m    :return: transformed image\u001B[39;00m\n\u001B[1;32m    198\u001B[0m \u001B[38;5;124;03m    \"\"\"\u001B[39;00m\n\u001B[0;32m--> 199\u001B[0m     goal_image \u001B[38;5;241m=\u001B[39m \u001B[43mcv2\u001B[49m\u001B[38;5;241;43m.\u001B[39;49m\u001B[43mcvtColor\u001B[49m\u001B[43m(\u001B[49m\u001B[38;5;28;43mself\u001B[39;49m\u001B[38;5;241;43m.\u001B[39;49m\u001B[43mimage_array\u001B[49m\u001B[43m,\u001B[49m\u001B[43m \u001B[49m\u001B[43mcv2\u001B[49m\u001B[38;5;241;43m.\u001B[39;49m\u001B[43mCOLOR_BGR2RGB\u001B[49m\u001B[43m)\u001B[49m\n\u001B[1;32m    200\u001B[0m     goal_image \u001B[38;5;241m=\u001B[39m goal_image\u001B[38;5;241m.\u001B[39mastype(np\u001B[38;5;241m.\u001B[39muint8)\n\u001B[1;32m    201\u001B[0m     goal_image \u001B[38;5;241m=\u001B[39m cv2\u001B[38;5;241m.\u001B[39mresize(goal_image, (\u001B[38;5;241m256\u001B[39m, \u001B[38;5;241m256\u001B[39m))\n",
      "\u001B[0;31merror\u001B[0m: OpenCV(4.5.5) /io/opencv/modules/imgproc/src/color.cpp:182: error: (-215:Assertion failed) !_src.empty() in function 'cvtColor'\n"
     ]
    }
   ],
   "source": [
    "line_detector = LineDetector(image_array=image_arr)\n",
    "line_detector.get_orig_optim_homography()"
   ],
   "metadata": {
    "collapsed": false
   }
  },
  {
   "cell_type": "code",
   "execution_count": 6,
   "outputs": [],
   "source": [
    "line_detector.get_field(H_inv=line_detector.homography_inv)\n",
    "line_detector.get_lines()"
   ],
   "metadata": {
    "collapsed": false
   }
  },
  {
   "cell_type": "code",
   "execution_count": 7,
   "outputs": [
    {
     "data": {
      "text/plain": "{'SIDE LINE TOP': [(0.0, 204.20455512118568),\n  (788.80081928636, 161.2497655079224)],\n 'SIDE LINE BOTTOM': [(727.4743535243472, 720.0), (1280.0, 637.0374084807344)],\n 'SIDE LINE RIGHT': [(788.80081928636, 161.2497655079224),\n  (1280.0, 282.7905970900758)]}"
     },
     "execution_count": 7,
     "metadata": {},
     "output_type": "execute_result"
    }
   ],
   "source": [
    "line_detector.lines"
   ],
   "metadata": {
    "collapsed": false
   }
  },
  {
   "cell_type": "code",
   "execution_count": 8,
   "outputs": [
    {
     "data": {
      "text/plain": "[[1280.0, 277.84670844216197],\n [793.7511822599214, 158.86768296041353],\n [0.0, 201.79980247037844],\n [0.0, 720.0],\n [817.6265978070106, 720.0],\n [1280.0, 649.4784995892969],\n [1280.0, 277.84670844216197]]"
     },
     "execution_count": 8,
     "metadata": {},
     "output_type": "execute_result"
    }
   ],
   "source": [
    "line_detector.field"
   ],
   "metadata": {
    "collapsed": false
   }
  },
  {
   "cell_type": "code",
   "execution_count": 13,
   "outputs": [],
   "source": [
    "import json"
   ],
   "metadata": {
    "collapsed": false
   }
  },
  {
   "cell_type": "code",
   "execution_count": 17,
   "outputs": [],
   "source": [
    "diki = {}\n",
    "diki[1] = line_detector.field"
   ],
   "metadata": {
    "collapsed": false
   }
  },
  {
   "cell_type": "code",
   "execution_count": 18,
   "outputs": [],
   "source": [
    "with open('test.json', 'w') as f:\n",
    "    json.dump(diki, f)\n"
   ],
   "metadata": {
    "collapsed": false
   }
  },
  {
   "cell_type": "code",
   "execution_count": 12,
   "outputs": [
    {
     "ename": "NameError",
     "evalue": "name 'json' is not defined",
     "output_type": "error",
     "traceback": [
      "\u001B[0;31m---------------------------------------------------------------------------\u001B[0m",
      "\u001B[0;31mNameError\u001B[0m                                 Traceback (most recent call last)",
      "Cell \u001B[0;32mIn [12], line 1\u001B[0m\n\u001B[0;32m----> 1\u001B[0m \u001B[43mjson\u001B[49m\u001B[38;5;241m.\u001B[39mdump(diki)\n",
      "\u001B[0;31mNameError\u001B[0m: name 'json' is not defined"
     ]
    }
   ],
   "source": [
    "json.dump(diki)"
   ],
   "metadata": {
    "collapsed": false
   }
  },
  {
   "cell_type": "code",
   "execution_count": null,
   "outputs": [],
   "source": [],
   "metadata": {
    "collapsed": false
   }
  }
 ],
 "metadata": {
  "kernelspec": {
   "display_name": "Python 3",
   "language": "python",
   "name": "python3"
  },
  "language_info": {
   "codemirror_mode": {
    "name": "ipython",
    "version": 2
   },
   "file_extension": ".py",
   "mimetype": "text/x-python",
   "name": "python",
   "nbconvert_exporter": "python",
   "pygments_lexer": "ipython2",
   "version": "2.7.6"
  }
 },
 "nbformat": 4,
 "nbformat_minor": 0
}
