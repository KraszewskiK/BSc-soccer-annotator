{
 "cells": [
  {
   "cell_type": "code",
   "execution_count": 2,
   "metadata": {
    "collapsed": true
   },
   "outputs": [
    {
     "name": "stderr",
     "output_type": "stream",
     "text": [
      "/home/skocznapanda/programming/BSc-soccer-annotator/venv/lib/python3.9/site-packages/torch/cuda/__init__.py:88: UserWarning: CUDA initialization: The NVIDIA driver on your system is too old (found version 10010). Please update your GPU driver by downloading and installing a new version from the URL: http://www.nvidia.com/Download/index.aspx Alternatively, go to: https://pytorch.org to install a PyTorch version that has been compiled with your version of the CUDA driver. (Triggered internally at ../c10/cuda/CUDAFunctions.cpp:109.)\n",
      "  return torch._C._cuda_getDeviceCount() > 0\n"
     ]
    }
   ],
   "source": [
    "import os\n",
    "import numpy as np\n",
    "import torch\n",
    "import imageio\n",
    "import matplotlib.pyplot as plt\n",
    "from PIL import Image\n",
    "from tqdm import tqdm_notebook as tqdm\n",
    "import sys\n",
    "from utils import utils, warp, image_utils, constant_var\n",
    "from models import end_2_end_optimization\n",
    "from options import fake_options\n",
    "from utils.image_utils import *\n",
    "import cv2\n",
    "import matplotlib.pyplot as plt\n",
    "\n",
    "from lines_and_field_detector import LineDetector\n"
   ]
  },
  {
   "cell_type": "code",
   "execution_count": 3,
   "outputs": [],
   "source": [
    "template_path = './data/template.png'\n",
    "json_path = './data/lines_coordinates.json'\n",
    "image = \"./example.png\"\n",
    "image_arr = cv2.imread(image)\n",
    "template = cv2.imread(template_path)\n",
    "\n"
   ],
   "metadata": {
    "collapsed": false
   }
  },
  {
   "cell_type": "code",
   "execution_count": 4,
   "outputs": [
    {
     "name": "stdout",
     "output_type": "stream",
     "text": [
      "---------------------- NOTIFICATION ----------------------\n",
      "\n",
      "Resnet backbone config for loss_surface\n",
      "Spectral norm for resnet: True\n",
      "Using BN for resnet\n",
      "Imagenet pretrain weights for resnet: False\n",
      "\n",
      "-------------------------- END --------------------------\n",
      "---------------------- NOTIFICATION ----------------------\n",
      "\n",
      "Weights loaded for loss_surface\n",
      "From: /home/skocznapanda/programming/BSc-soccer-annotator/automatic_models/lines_and_field_detection/out/pretrained_loss_surface/checkpoint.pth.tar\n",
      "\n",
      "-------------------------- END --------------------------\n",
      "---------------------- NOTIFICATION ----------------------\n",
      "\n",
      "Resnet backbone config for init_guess\n",
      "Spectral norm for resnet: False\n",
      "Using BN for resnet\n",
      "Imagenet pretrain weights for resnet: False\n",
      "\n",
      "-------------------------- END --------------------------\n",
      "---------------------- NOTIFICATION ----------------------\n",
      "\n",
      "Weights loaded for init_guess\n",
      "From: /home/skocznapanda/programming/BSc-soccer-annotator/automatic_models/lines_and_field_detection/out/pretrained_init_guess/checkpoint.pth.tar\n",
      "\n",
      "-------------------------- END --------------------------\n",
      "---------------------- NOTIFICATION ----------------------\n",
      "\n",
      "Weights loaded for init_guess\n",
      "From: /home/skocznapanda/programming/BSc-soccer-annotator/automatic_models/lines_and_field_detection/out/pretrained_init_guess/checkpoint.pth.tar\n",
      "\n",
      "-------------------------- END --------------------------\n"
     ]
    },
    {
     "name": "stderr",
     "output_type": "stream",
     "text": [
      "  0%|          | 0/30 [00:00<?, ?it/s]/home/skocznapanda/programming/BSc-soccer-annotator/venv/lib/python3.9/site-packages/torch/functional.py:504: UserWarning: torch.meshgrid: in an upcoming release, it will be required to pass the indexing argument. (Triggered internally at ../aten/src/ATen/native/TensorShape.cpp:3190.)\n",
      "  return _VF.meshgrid(tensors, **kwargs)  # type: ignore[attr-defined]\n",
      "/home/skocznapanda/programming/BSc-soccer-annotator/venv/lib/python3.9/site-packages/torch/nn/functional.py:4227: UserWarning: Default grid_sample and affine_grid behavior has changed to align_corners=False since 1.3.0. Please specify align_corners=True if the old behavior is desired. See the documentation of grid_sample for details.\n",
      "  warnings.warn(\n",
      "100%|██████████| 30/30 [00:10<00:00,  2.85it/s]\n"
     ]
    }
   ],
   "source": [
    "line_detector = LineDetector(image_array=image_arr)\n",
    "line_detector.get_orig_optim_homography()"
   ],
   "metadata": {
    "collapsed": false
   }
  },
  {
   "cell_type": "code",
   "execution_count": 6,
   "outputs": [],
   "source": [
    "line_detector.get_field(H_inv=line_detector.homography_inv)\n",
    "line_detector.get_lines()"
   ],
   "metadata": {
    "collapsed": false
   }
  },
  {
   "cell_type": "code",
   "execution_count": 7,
   "outputs": [
    {
     "data": {
      "text/plain": "{'SIDE LINE TOP': [(0.0, 204.20455512118568),\n  (788.80081928636, 161.2497655079224)],\n 'SIDE LINE BOTTOM': [(727.4743535243472, 720.0), (1280.0, 637.0374084807344)],\n 'SIDE LINE RIGHT': [(788.80081928636, 161.2497655079224),\n  (1280.0, 282.7905970900758)]}"
     },
     "execution_count": 7,
     "metadata": {},
     "output_type": "execute_result"
    }
   ],
   "source": [
    "line_detector.lines"
   ],
   "metadata": {
    "collapsed": false
   }
  },
  {
   "cell_type": "code",
   "execution_count": 8,
   "outputs": [
    {
     "data": {
      "text/plain": "[[1280.0, 277.84670844216197],\n [793.7511822599214, 158.86768296041353],\n [0.0, 201.79980247037844],\n [0.0, 720.0],\n [817.6265978070106, 720.0],\n [1280.0, 649.4784995892969],\n [1280.0, 277.84670844216197]]"
     },
     "execution_count": 8,
     "metadata": {},
     "output_type": "execute_result"
    }
   ],
   "source": [
    "line_detector.field"
   ],
   "metadata": {
    "collapsed": false
   }
  },
  {
   "cell_type": "code",
   "execution_count": 13,
   "outputs": [],
   "source": [
    "import json"
   ],
   "metadata": {
    "collapsed": false
   }
  },
  {
   "cell_type": "code",
   "execution_count": 17,
   "outputs": [],
   "source": [
    "diki = {}\n",
    "diki[1] = line_detector.field"
   ],
   "metadata": {
    "collapsed": false
   }
  },
  {
   "cell_type": "code",
   "execution_count": 18,
   "outputs": [],
   "source": [
    "with open('test.json', 'w') as f:\n",
    "    json.dump(diki, f)\n"
   ],
   "metadata": {
    "collapsed": false
   }
  },
  {
   "cell_type": "code",
   "execution_count": 12,
   "outputs": [
    {
     "ename": "NameError",
     "evalue": "name 'json' is not defined",
     "output_type": "error",
     "traceback": [
      "\u001B[0;31m---------------------------------------------------------------------------\u001B[0m",
      "\u001B[0;31mNameError\u001B[0m                                 Traceback (most recent call last)",
      "Cell \u001B[0;32mIn [12], line 1\u001B[0m\n\u001B[0;32m----> 1\u001B[0m \u001B[43mjson\u001B[49m\u001B[38;5;241m.\u001B[39mdump(diki)\n",
      "\u001B[0;31mNameError\u001B[0m: name 'json' is not defined"
     ]
    }
   ],
   "source": [
    "json.dump(diki)"
   ],
   "metadata": {
    "collapsed": false
   }
  },
  {
   "cell_type": "code",
   "execution_count": null,
   "outputs": [],
   "source": [],
   "metadata": {
    "collapsed": false
   }
  }
 ],
 "metadata": {
  "kernelspec": {
   "display_name": "Python 3",
   "language": "python",
   "name": "python3"
  },
  "language_info": {
   "codemirror_mode": {
    "name": "ipython",
    "version": 2
   },
   "file_extension": ".py",
   "mimetype": "text/x-python",
   "name": "python",
   "nbconvert_exporter": "python",
   "pygments_lexer": "ipython2",
   "version": "2.7.6"
  }
 },
 "nbformat": 4,
 "nbformat_minor": 0
}
