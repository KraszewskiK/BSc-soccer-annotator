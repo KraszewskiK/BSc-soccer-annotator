{
 "cells": [
  {
   "cell_type": "markdown",
   "source": [
    "NOTEBOOK FOR GENERAL USAGE OF AUTOMATIC MODELS"
   ],
   "metadata": {
    "collapsed": false
   }
  },
  {
   "cell_type": "code",
   "execution_count": 1,
   "outputs": [
    {
     "name": "stderr",
     "output_type": "stream",
     "text": [
      "/home/skocznapanda/programming/BSc-soccer-annotator/venv/lib/python3.9/site-packages/torch/cuda/__init__.py:88: UserWarning: CUDA initialization: The NVIDIA driver on your system is too old (found version 10010). Please update your GPU driver by downloading and installing a new version from the URL: http://www.nvidia.com/Download/index.aspx Alternatively, go to: https://pytorch.org to install a PyTorch version that has been compiled with your version of the CUDA driver. (Triggered internally at ../c10/cuda/CUDAFunctions.cpp:109.)\n",
      "  return torch._C._cuda_getDeviceCount() > 0\n"
     ]
    }
   ],
   "source": [
    "import os\n",
    "from handlers import VideoHandler, ImageHandler\n"
   ],
   "metadata": {
    "collapsed": false
   }
  },
  {
   "cell_type": "code",
   "execution_count": 6,
   "outputs": [],
   "source": [
    "video_handler = VideoHandler(video_path='./data/2019-08-17 - 18-00 Celta Vigo 1 - 3 Real Madrid/output.mp4',\n",
    "                             output_path='../matches/2019-08-17_celtavigo_realmadrid',\n",
    "                             desired_frequency=1,\n",
    "                             starting_point=60\n",
    "                     )\n",
    "video_handler.divide_video()"
   ],
   "metadata": {
    "collapsed": false
   }
  },
  {
   "cell_type": "code",
   "execution_count": 7,
   "outputs": [
    {
     "name": "stderr",
     "output_type": "stream",
     "text": [
      "YOLOR 🚀 d77dc7c torch 1.13.0+cu117 CPU\n",
      "\n"
     ]
    },
    {
     "name": "stdout",
     "output_type": "stream",
     "text": [
      "Fusing layers... \n",
      "RepConv.fuse_repvgg_block\n",
      "RepConv.fuse_repvgg_block\n",
      "RepConv.fuse_repvgg_block\n"
     ]
    },
    {
     "name": "stderr",
     "output_type": "stream",
     "text": [
      "Model Summary: 306 layers, 36905341 parameters, 36905341 gradients\n",
      "/home/skocznapanda/programming/BSc-soccer-annotator/venv/lib/python3.9/site-packages/torch/functional.py:504: UserWarning: torch.meshgrid: in an upcoming release, it will be required to pass the indexing argument. (Triggered internally at ../aten/src/ATen/native/TensorShape.cpp:3190.)\n",
      "  return _VF.meshgrid(tensors, **kwargs)  # type: ignore[attr-defined]\n",
      "YOLOR 🚀 d77dc7c torch 1.13.0+cu117 CPU\n",
      "\n"
     ]
    },
    {
     "name": "stdout",
     "output_type": "stream",
     "text": [
      "60.0 was processed.\n",
      "Fusing layers... \n",
      "RepConv.fuse_repvgg_block\n",
      "RepConv.fuse_repvgg_block\n",
      "RepConv.fuse_repvgg_block\n"
     ]
    },
    {
     "name": "stderr",
     "output_type": "stream",
     "text": [
      "Model Summary: 306 layers, 36905341 parameters, 36905341 gradients\n",
      "YOLOR 🚀 d77dc7c torch 1.13.0+cu117 CPU\n",
      "\n"
     ]
    },
    {
     "name": "stdout",
     "output_type": "stream",
     "text": [
      "61.0 was processed.\n",
      "Fusing layers... \n",
      "RepConv.fuse_repvgg_block\n",
      "RepConv.fuse_repvgg_block\n",
      "RepConv.fuse_repvgg_block\n"
     ]
    },
    {
     "name": "stderr",
     "output_type": "stream",
     "text": [
      "Model Summary: 306 layers, 36905341 parameters, 36905341 gradients\n",
      "YOLOR 🚀 d77dc7c torch 1.13.0+cu117 CPU\n",
      "\n"
     ]
    },
    {
     "name": "stdout",
     "output_type": "stream",
     "text": [
      "62.0 was processed.\n",
      "Fusing layers... \n",
      "RepConv.fuse_repvgg_block\n",
      "RepConv.fuse_repvgg_block\n",
      "RepConv.fuse_repvgg_block\n"
     ]
    },
    {
     "name": "stderr",
     "output_type": "stream",
     "text": [
      "Model Summary: 306 layers, 36905341 parameters, 36905341 gradients\n",
      "YOLOR 🚀 d77dc7c torch 1.13.0+cu117 CPU\n",
      "\n"
     ]
    },
    {
     "name": "stdout",
     "output_type": "stream",
     "text": [
      "63.0 was processed.\n",
      "Fusing layers... \n",
      "RepConv.fuse_repvgg_block\n",
      "RepConv.fuse_repvgg_block\n",
      "RepConv.fuse_repvgg_block\n"
     ]
    },
    {
     "name": "stderr",
     "output_type": "stream",
     "text": [
      "Model Summary: 306 layers, 36905341 parameters, 36905341 gradients\n",
      "YOLOR 🚀 d77dc7c torch 1.13.0+cu117 CPU\n",
      "\n"
     ]
    },
    {
     "name": "stdout",
     "output_type": "stream",
     "text": [
      "64.0 was processed.\n",
      "Fusing layers... \n",
      "RepConv.fuse_repvgg_block\n",
      "RepConv.fuse_repvgg_block\n",
      "RepConv.fuse_repvgg_block\n"
     ]
    },
    {
     "name": "stderr",
     "output_type": "stream",
     "text": [
      "Model Summary: 306 layers, 36905341 parameters, 36905341 gradients\n",
      "YOLOR 🚀 d77dc7c torch 1.13.0+cu117 CPU\n",
      "\n"
     ]
    },
    {
     "name": "stdout",
     "output_type": "stream",
     "text": [
      "65.0 was processed.\n",
      "Fusing layers... \n",
      "RepConv.fuse_repvgg_block\n",
      "RepConv.fuse_repvgg_block\n",
      "RepConv.fuse_repvgg_block\n"
     ]
    },
    {
     "name": "stderr",
     "output_type": "stream",
     "text": [
      "Model Summary: 306 layers, 36905341 parameters, 36905341 gradients\n",
      "YOLOR 🚀 d77dc7c torch 1.13.0+cu117 CPU\n",
      "\n"
     ]
    },
    {
     "name": "stdout",
     "output_type": "stream",
     "text": [
      "66.0 was processed.\n",
      "Fusing layers... \n",
      "RepConv.fuse_repvgg_block\n",
      "RepConv.fuse_repvgg_block\n",
      "RepConv.fuse_repvgg_block\n"
     ]
    },
    {
     "name": "stderr",
     "output_type": "stream",
     "text": [
      "Model Summary: 306 layers, 36905341 parameters, 36905341 gradients\n",
      "YOLOR 🚀 d77dc7c torch 1.13.0+cu117 CPU\n",
      "\n"
     ]
    },
    {
     "name": "stdout",
     "output_type": "stream",
     "text": [
      "67.0 was processed.\n",
      "Fusing layers... \n"
     ]
    },
    {
     "name": "stderr",
     "output_type": "stream",
     "text": [
      "Model Summary: 306 layers, 36905341 parameters, 36905341 gradients\n"
     ]
    },
    {
     "name": "stdout",
     "output_type": "stream",
     "text": [
      "RepConv.fuse_repvgg_block\n",
      "RepConv.fuse_repvgg_block\n",
      "RepConv.fuse_repvgg_block\n"
     ]
    },
    {
     "name": "stderr",
     "output_type": "stream",
     "text": [
      "YOLOR 🚀 d77dc7c torch 1.13.0+cu117 CPU\n",
      "\n"
     ]
    },
    {
     "name": "stdout",
     "output_type": "stream",
     "text": [
      "68.0 was processed.\n",
      "Fusing layers... \n"
     ]
    },
    {
     "name": "stderr",
     "output_type": "stream",
     "text": [
      "Model Summary: 306 layers, 36905341 parameters, 36905341 gradients\n"
     ]
    },
    {
     "name": "stdout",
     "output_type": "stream",
     "text": [
      "RepConv.fuse_repvgg_block\n",
      "RepConv.fuse_repvgg_block\n",
      "RepConv.fuse_repvgg_block\n"
     ]
    },
    {
     "name": "stderr",
     "output_type": "stream",
     "text": [
      "YOLOR 🚀 d77dc7c torch 1.13.0+cu117 CPU\n",
      "\n"
     ]
    },
    {
     "name": "stdout",
     "output_type": "stream",
     "text": [
      "69.0 was processed.\n",
      "Fusing layers... \n"
     ]
    },
    {
     "name": "stderr",
     "output_type": "stream",
     "text": [
      "Model Summary: 306 layers, 36905341 parameters, 36905341 gradients\n"
     ]
    },
    {
     "name": "stdout",
     "output_type": "stream",
     "text": [
      "RepConv.fuse_repvgg_block\n",
      "RepConv.fuse_repvgg_block\n",
      "RepConv.fuse_repvgg_block\n"
     ]
    },
    {
     "name": "stderr",
     "output_type": "stream",
     "text": [
      "YOLOR 🚀 d77dc7c torch 1.13.0+cu117 CPU\n",
      "\n"
     ]
    },
    {
     "name": "stdout",
     "output_type": "stream",
     "text": [
      "70.0 was processed.\n",
      "Fusing layers... \n",
      "RepConv.fuse_repvgg_block\n",
      "RepConv.fuse_repvgg_block\n",
      "RepConv.fuse_repvgg_block\n"
     ]
    },
    {
     "name": "stderr",
     "output_type": "stream",
     "text": [
      "Model Summary: 306 layers, 36905341 parameters, 36905341 gradients\n",
      "YOLOR 🚀 d77dc7c torch 1.13.0+cu117 CPU\n",
      "\n"
     ]
    },
    {
     "name": "stdout",
     "output_type": "stream",
     "text": [
      "71.0 was processed.\n",
      "Fusing layers... \n"
     ]
    },
    {
     "name": "stderr",
     "output_type": "stream",
     "text": [
      "Model Summary: 306 layers, 36905341 parameters, 36905341 gradients\n"
     ]
    },
    {
     "name": "stdout",
     "output_type": "stream",
     "text": [
      "RepConv.fuse_repvgg_block\n",
      "RepConv.fuse_repvgg_block\n",
      "RepConv.fuse_repvgg_block\n"
     ]
    },
    {
     "name": "stderr",
     "output_type": "stream",
     "text": [
      "YOLOR 🚀 d77dc7c torch 1.13.0+cu117 CPU\n",
      "\n"
     ]
    },
    {
     "name": "stdout",
     "output_type": "stream",
     "text": [
      "72.0 was processed.\n",
      "Fusing layers... \n"
     ]
    },
    {
     "name": "stderr",
     "output_type": "stream",
     "text": [
      "Model Summary: 306 layers, 36905341 parameters, 36905341 gradients\n"
     ]
    },
    {
     "name": "stdout",
     "output_type": "stream",
     "text": [
      "RepConv.fuse_repvgg_block\n",
      "RepConv.fuse_repvgg_block\n",
      "RepConv.fuse_repvgg_block\n"
     ]
    },
    {
     "name": "stderr",
     "output_type": "stream",
     "text": [
      "YOLOR 🚀 d77dc7c torch 1.13.0+cu117 CPU\n",
      "\n"
     ]
    },
    {
     "name": "stdout",
     "output_type": "stream",
     "text": [
      "73.0 was processed.\n",
      "Fusing layers... \n"
     ]
    },
    {
     "name": "stderr",
     "output_type": "stream",
     "text": [
      "Model Summary: 306 layers, 36905341 parameters, 36905341 gradients\n"
     ]
    },
    {
     "name": "stdout",
     "output_type": "stream",
     "text": [
      "RepConv.fuse_repvgg_block\n",
      "RepConv.fuse_repvgg_block\n",
      "RepConv.fuse_repvgg_block\n"
     ]
    },
    {
     "name": "stderr",
     "output_type": "stream",
     "text": [
      "YOLOR 🚀 d77dc7c torch 1.13.0+cu117 CPU\n",
      "\n"
     ]
    },
    {
     "name": "stdout",
     "output_type": "stream",
     "text": [
      "74.0 was processed.\n",
      "Fusing layers... \n"
     ]
    },
    {
     "name": "stderr",
     "output_type": "stream",
     "text": [
      "Model Summary: 306 layers, 36905341 parameters, 36905341 gradients\n"
     ]
    },
    {
     "name": "stdout",
     "output_type": "stream",
     "text": [
      "RepConv.fuse_repvgg_block\n",
      "RepConv.fuse_repvgg_block\n",
      "RepConv.fuse_repvgg_block\n"
     ]
    },
    {
     "name": "stderr",
     "output_type": "stream",
     "text": [
      "YOLOR 🚀 d77dc7c torch 1.13.0+cu117 CPU\n",
      "\n"
     ]
    },
    {
     "name": "stdout",
     "output_type": "stream",
     "text": [
      "75.0 was processed.\n",
      "Fusing layers... \n"
     ]
    },
    {
     "name": "stderr",
     "output_type": "stream",
     "text": [
      "Model Summary: 306 layers, 36905341 parameters, 36905341 gradients\n"
     ]
    },
    {
     "name": "stdout",
     "output_type": "stream",
     "text": [
      "RepConv.fuse_repvgg_block\n",
      "RepConv.fuse_repvgg_block\n",
      "RepConv.fuse_repvgg_block\n"
     ]
    },
    {
     "name": "stderr",
     "output_type": "stream",
     "text": [
      "YOLOR 🚀 d77dc7c torch 1.13.0+cu117 CPU\n",
      "\n"
     ]
    },
    {
     "name": "stdout",
     "output_type": "stream",
     "text": [
      "76.0 was processed.\n",
      "Fusing layers... \n"
     ]
    },
    {
     "name": "stderr",
     "output_type": "stream",
     "text": [
      "Model Summary: 306 layers, 36905341 parameters, 36905341 gradients\n"
     ]
    },
    {
     "name": "stdout",
     "output_type": "stream",
     "text": [
      "RepConv.fuse_repvgg_block\n",
      "RepConv.fuse_repvgg_block\n",
      "RepConv.fuse_repvgg_block\n"
     ]
    },
    {
     "name": "stderr",
     "output_type": "stream",
     "text": [
      "YOLOR 🚀 d77dc7c torch 1.13.0+cu117 CPU\n",
      "\n"
     ]
    },
    {
     "name": "stdout",
     "output_type": "stream",
     "text": [
      "77.0 was processed.\n",
      "Fusing layers... \n",
      "RepConv.fuse_repvgg_block\n",
      "RepConv.fuse_repvgg_block\n",
      "RepConv.fuse_repvgg_block\n"
     ]
    },
    {
     "name": "stderr",
     "output_type": "stream",
     "text": [
      "Model Summary: 306 layers, 36905341 parameters, 36905341 gradients\n",
      "YOLOR 🚀 d77dc7c torch 1.13.0+cu117 CPU\n",
      "\n"
     ]
    },
    {
     "name": "stdout",
     "output_type": "stream",
     "text": [
      "78.0 was processed.\n",
      "Fusing layers... \n",
      "RepConv.fuse_repvgg_block\n",
      "RepConv.fuse_repvgg_block\n",
      "RepConv.fuse_repvgg_block\n"
     ]
    },
    {
     "name": "stderr",
     "output_type": "stream",
     "text": [
      "Model Summary: 306 layers, 36905341 parameters, 36905341 gradients\n",
      "YOLOR 🚀 d77dc7c torch 1.13.0+cu117 CPU\n",
      "\n"
     ]
    },
    {
     "name": "stdout",
     "output_type": "stream",
     "text": [
      "79.0 was processed.\n",
      "Fusing layers... \n",
      "RepConv.fuse_repvgg_block\n",
      "RepConv.fuse_repvgg_block\n",
      "RepConv.fuse_repvgg_block\n"
     ]
    },
    {
     "name": "stderr",
     "output_type": "stream",
     "text": [
      "Model Summary: 306 layers, 36905341 parameters, 36905341 gradients\n",
      "YOLOR 🚀 d77dc7c torch 1.13.0+cu117 CPU\n",
      "\n"
     ]
    },
    {
     "name": "stdout",
     "output_type": "stream",
     "text": [
      "80.0 was processed.\n",
      "Fusing layers... \n",
      "RepConv.fuse_repvgg_block\n",
      "RepConv.fuse_repvgg_block\n",
      "RepConv.fuse_repvgg_block\n"
     ]
    },
    {
     "name": "stderr",
     "output_type": "stream",
     "text": [
      "Model Summary: 306 layers, 36905341 parameters, 36905341 gradients\n",
      "YOLOR 🚀 d77dc7c torch 1.13.0+cu117 CPU\n",
      "\n"
     ]
    },
    {
     "name": "stdout",
     "output_type": "stream",
     "text": [
      "81.0 was processed.\n",
      "Fusing layers... \n",
      "RepConv.fuse_repvgg_block\n",
      "RepConv.fuse_repvgg_block\n",
      "RepConv.fuse_repvgg_block\n"
     ]
    },
    {
     "name": "stderr",
     "output_type": "stream",
     "text": [
      "Model Summary: 306 layers, 36905341 parameters, 36905341 gradients\n",
      "YOLOR 🚀 d77dc7c torch 1.13.0+cu117 CPU\n",
      "\n"
     ]
    },
    {
     "name": "stdout",
     "output_type": "stream",
     "text": [
      "82.0 was processed.\n",
      "Fusing layers... \n",
      "RepConv.fuse_repvgg_block\n",
      "RepConv.fuse_repvgg_block\n",
      "RepConv.fuse_repvgg_block\n"
     ]
    },
    {
     "name": "stderr",
     "output_type": "stream",
     "text": [
      "Model Summary: 306 layers, 36905341 parameters, 36905341 gradients\n",
      "YOLOR 🚀 d77dc7c torch 1.13.0+cu117 CPU\n",
      "\n"
     ]
    },
    {
     "name": "stdout",
     "output_type": "stream",
     "text": [
      "83.0 was processed.\n",
      "Fusing layers... \n"
     ]
    },
    {
     "name": "stderr",
     "output_type": "stream",
     "text": [
      "Model Summary: 306 layers, 36905341 parameters, 36905341 gradients\n"
     ]
    },
    {
     "name": "stdout",
     "output_type": "stream",
     "text": [
      "RepConv.fuse_repvgg_block\n",
      "RepConv.fuse_repvgg_block\n",
      "RepConv.fuse_repvgg_block\n"
     ]
    },
    {
     "name": "stderr",
     "output_type": "stream",
     "text": [
      "YOLOR 🚀 d77dc7c torch 1.13.0+cu117 CPU\n",
      "\n"
     ]
    },
    {
     "name": "stdout",
     "output_type": "stream",
     "text": [
      "84.0 was processed.\n",
      "Fusing layers... \n"
     ]
    },
    {
     "name": "stderr",
     "output_type": "stream",
     "text": [
      "Model Summary: 306 layers, 36905341 parameters, 36905341 gradients\n"
     ]
    },
    {
     "name": "stdout",
     "output_type": "stream",
     "text": [
      "RepConv.fuse_repvgg_block\n",
      "RepConv.fuse_repvgg_block\n",
      "RepConv.fuse_repvgg_block\n"
     ]
    },
    {
     "name": "stderr",
     "output_type": "stream",
     "text": [
      "YOLOR 🚀 d77dc7c torch 1.13.0+cu117 CPU\n",
      "\n"
     ]
    },
    {
     "name": "stdout",
     "output_type": "stream",
     "text": [
      "85.0 was processed.\n",
      "Fusing layers... \n"
     ]
    },
    {
     "name": "stderr",
     "output_type": "stream",
     "text": [
      "Model Summary: 306 layers, 36905341 parameters, 36905341 gradients\n"
     ]
    },
    {
     "name": "stdout",
     "output_type": "stream",
     "text": [
      "RepConv.fuse_repvgg_block\n",
      "RepConv.fuse_repvgg_block\n",
      "RepConv.fuse_repvgg_block\n"
     ]
    },
    {
     "name": "stderr",
     "output_type": "stream",
     "text": [
      "YOLOR 🚀 d77dc7c torch 1.13.0+cu117 CPU\n",
      "\n"
     ]
    },
    {
     "name": "stdout",
     "output_type": "stream",
     "text": [
      "86.0 was processed.\n",
      "Fusing layers... \n"
     ]
    },
    {
     "name": "stderr",
     "output_type": "stream",
     "text": [
      "Model Summary: 306 layers, 36905341 parameters, 36905341 gradients\n"
     ]
    },
    {
     "name": "stdout",
     "output_type": "stream",
     "text": [
      "RepConv.fuse_repvgg_block\n",
      "RepConv.fuse_repvgg_block\n",
      "RepConv.fuse_repvgg_block\n"
     ]
    },
    {
     "name": "stderr",
     "output_type": "stream",
     "text": [
      "YOLOR 🚀 d77dc7c torch 1.13.0+cu117 CPU\n",
      "\n"
     ]
    },
    {
     "name": "stdout",
     "output_type": "stream",
     "text": [
      "87.0 was processed.\n",
      "Fusing layers... \n"
     ]
    },
    {
     "name": "stderr",
     "output_type": "stream",
     "text": [
      "Model Summary: 306 layers, 36905341 parameters, 36905341 gradients\n"
     ]
    },
    {
     "name": "stdout",
     "output_type": "stream",
     "text": [
      "RepConv.fuse_repvgg_block\n",
      "RepConv.fuse_repvgg_block\n",
      "RepConv.fuse_repvgg_block\n"
     ]
    },
    {
     "name": "stderr",
     "output_type": "stream",
     "text": [
      "YOLOR 🚀 d77dc7c torch 1.13.0+cu117 CPU\n",
      "\n"
     ]
    },
    {
     "name": "stdout",
     "output_type": "stream",
     "text": [
      "88.0 was processed.\n",
      "Fusing layers... \n"
     ]
    },
    {
     "name": "stderr",
     "output_type": "stream",
     "text": [
      "Model Summary: 306 layers, 36905341 parameters, 36905341 gradients\n"
     ]
    },
    {
     "name": "stdout",
     "output_type": "stream",
     "text": [
      "RepConv.fuse_repvgg_block\n",
      "RepConv.fuse_repvgg_block\n",
      "RepConv.fuse_repvgg_block\n"
     ]
    },
    {
     "name": "stderr",
     "output_type": "stream",
     "text": [
      "YOLOR 🚀 d77dc7c torch 1.13.0+cu117 CPU\n",
      "\n"
     ]
    },
    {
     "name": "stdout",
     "output_type": "stream",
     "text": [
      "89.0 was processed.\n",
      "Fusing layers... \n"
     ]
    },
    {
     "name": "stderr",
     "output_type": "stream",
     "text": [
      "Model Summary: 306 layers, 36905341 parameters, 36905341 gradients\n"
     ]
    },
    {
     "name": "stdout",
     "output_type": "stream",
     "text": [
      "RepConv.fuse_repvgg_block\n",
      "RepConv.fuse_repvgg_block\n",
      "RepConv.fuse_repvgg_block\n"
     ]
    },
    {
     "name": "stderr",
     "output_type": "stream",
     "text": [
      "YOLOR 🚀 d77dc7c torch 1.13.0+cu117 CPU\n",
      "\n"
     ]
    },
    {
     "name": "stdout",
     "output_type": "stream",
     "text": [
      "90.0 was processed.\n",
      "Fusing layers... \n"
     ]
    },
    {
     "name": "stderr",
     "output_type": "stream",
     "text": [
      "Model Summary: 306 layers, 36905341 parameters, 36905341 gradients\n"
     ]
    },
    {
     "name": "stdout",
     "output_type": "stream",
     "text": [
      "RepConv.fuse_repvgg_block\n",
      "RepConv.fuse_repvgg_block\n",
      "RepConv.fuse_repvgg_block\n"
     ]
    },
    {
     "name": "stderr",
     "output_type": "stream",
     "text": [
      "YOLOR 🚀 d77dc7c torch 1.13.0+cu117 CPU\n",
      "\n"
     ]
    },
    {
     "name": "stdout",
     "output_type": "stream",
     "text": [
      "91.0 was processed.\n",
      "Fusing layers... \n",
      "RepConv.fuse_repvgg_block\n",
      "RepConv.fuse_repvgg_block\n",
      "RepConv.fuse_repvgg_block\n"
     ]
    },
    {
     "name": "stderr",
     "output_type": "stream",
     "text": [
      "Model Summary: 306 layers, 36905341 parameters, 36905341 gradients\n",
      "YOLOR 🚀 d77dc7c torch 1.13.0+cu117 CPU\n",
      "\n"
     ]
    },
    {
     "name": "stdout",
     "output_type": "stream",
     "text": [
      "92.0 was processed.\n",
      "Fusing layers... \n"
     ]
    },
    {
     "name": "stderr",
     "output_type": "stream",
     "text": [
      "Model Summary: 306 layers, 36905341 parameters, 36905341 gradients\n"
     ]
    },
    {
     "name": "stdout",
     "output_type": "stream",
     "text": [
      "RepConv.fuse_repvgg_block\n",
      "RepConv.fuse_repvgg_block\n",
      "RepConv.fuse_repvgg_block\n"
     ]
    },
    {
     "name": "stderr",
     "output_type": "stream",
     "text": [
      "YOLOR 🚀 d77dc7c torch 1.13.0+cu117 CPU\n",
      "\n"
     ]
    },
    {
     "name": "stdout",
     "output_type": "stream",
     "text": [
      "93.0 was processed.\n",
      "Fusing layers... \n"
     ]
    },
    {
     "name": "stderr",
     "output_type": "stream",
     "text": [
      "Model Summary: 306 layers, 36905341 parameters, 36905341 gradients\n"
     ]
    },
    {
     "name": "stdout",
     "output_type": "stream",
     "text": [
      "RepConv.fuse_repvgg_block\n",
      "RepConv.fuse_repvgg_block\n",
      "RepConv.fuse_repvgg_block\n"
     ]
    },
    {
     "name": "stderr",
     "output_type": "stream",
     "text": [
      "YOLOR 🚀 d77dc7c torch 1.13.0+cu117 CPU\n",
      "\n"
     ]
    },
    {
     "name": "stdout",
     "output_type": "stream",
     "text": [
      "94.0 was processed.\n",
      "Fusing layers... \n"
     ]
    },
    {
     "name": "stderr",
     "output_type": "stream",
     "text": [
      "Model Summary: 306 layers, 36905341 parameters, 36905341 gradients\n"
     ]
    },
    {
     "name": "stdout",
     "output_type": "stream",
     "text": [
      "RepConv.fuse_repvgg_block\n",
      "RepConv.fuse_repvgg_block\n",
      "RepConv.fuse_repvgg_block\n"
     ]
    },
    {
     "name": "stderr",
     "output_type": "stream",
     "text": [
      "YOLOR 🚀 d77dc7c torch 1.13.0+cu117 CPU\n",
      "\n"
     ]
    },
    {
     "name": "stdout",
     "output_type": "stream",
     "text": [
      "95.0 was processed.\n",
      "Fusing layers... \n"
     ]
    },
    {
     "name": "stderr",
     "output_type": "stream",
     "text": [
      "Model Summary: 306 layers, 36905341 parameters, 36905341 gradients\n"
     ]
    },
    {
     "name": "stdout",
     "output_type": "stream",
     "text": [
      "RepConv.fuse_repvgg_block\n",
      "RepConv.fuse_repvgg_block\n",
      "RepConv.fuse_repvgg_block\n"
     ]
    },
    {
     "name": "stderr",
     "output_type": "stream",
     "text": [
      "YOLOR 🚀 d77dc7c torch 1.13.0+cu117 CPU\n",
      "\n"
     ]
    },
    {
     "name": "stdout",
     "output_type": "stream",
     "text": [
      "96.0 was processed.\n",
      "Fusing layers... \n"
     ]
    },
    {
     "name": "stderr",
     "output_type": "stream",
     "text": [
      "Model Summary: 306 layers, 36905341 parameters, 36905341 gradients\n"
     ]
    },
    {
     "name": "stdout",
     "output_type": "stream",
     "text": [
      "RepConv.fuse_repvgg_block\n",
      "RepConv.fuse_repvgg_block\n",
      "RepConv.fuse_repvgg_block\n"
     ]
    },
    {
     "name": "stderr",
     "output_type": "stream",
     "text": [
      "YOLOR 🚀 d77dc7c torch 1.13.0+cu117 CPU\n",
      "\n"
     ]
    },
    {
     "name": "stdout",
     "output_type": "stream",
     "text": [
      "97.0 was processed.\n",
      "Fusing layers... \n",
      "RepConv.fuse_repvgg_block\n",
      "RepConv.fuse_repvgg_block\n",
      "RepConv.fuse_repvgg_block\n"
     ]
    },
    {
     "name": "stderr",
     "output_type": "stream",
     "text": [
      "Model Summary: 306 layers, 36905341 parameters, 36905341 gradients\n",
      "YOLOR 🚀 d77dc7c torch 1.13.0+cu117 CPU\n",
      "\n"
     ]
    },
    {
     "name": "stdout",
     "output_type": "stream",
     "text": [
      "98.0 was processed.\n",
      "Fusing layers... \n",
      "RepConv.fuse_repvgg_block\n",
      "RepConv.fuse_repvgg_block\n",
      "RepConv.fuse_repvgg_block\n"
     ]
    },
    {
     "name": "stderr",
     "output_type": "stream",
     "text": [
      "Model Summary: 306 layers, 36905341 parameters, 36905341 gradients\n",
      "YOLOR 🚀 d77dc7c torch 1.13.0+cu117 CPU\n",
      "\n"
     ]
    },
    {
     "name": "stdout",
     "output_type": "stream",
     "text": [
      "99.0 was processed.\n",
      "Fusing layers... \n"
     ]
    },
    {
     "name": "stderr",
     "output_type": "stream",
     "text": [
      "Model Summary: 306 layers, 36905341 parameters, 36905341 gradients\n"
     ]
    },
    {
     "name": "stdout",
     "output_type": "stream",
     "text": [
      "RepConv.fuse_repvgg_block\n",
      "RepConv.fuse_repvgg_block\n",
      "RepConv.fuse_repvgg_block\n"
     ]
    },
    {
     "name": "stderr",
     "output_type": "stream",
     "text": [
      "YOLOR 🚀 d77dc7c torch 1.13.0+cu117 CPU\n",
      "\n"
     ]
    },
    {
     "name": "stdout",
     "output_type": "stream",
     "text": [
      "100.0 was processed.\n",
      "Fusing layers... \n"
     ]
    },
    {
     "name": "stderr",
     "output_type": "stream",
     "text": [
      "Model Summary: 306 layers, 36905341 parameters, 36905341 gradients\n"
     ]
    },
    {
     "name": "stdout",
     "output_type": "stream",
     "text": [
      "RepConv.fuse_repvgg_block\n",
      "RepConv.fuse_repvgg_block\n",
      "RepConv.fuse_repvgg_block\n"
     ]
    },
    {
     "name": "stderr",
     "output_type": "stream",
     "text": [
      "YOLOR 🚀 d77dc7c torch 1.13.0+cu117 CPU\n",
      "\n"
     ]
    },
    {
     "name": "stdout",
     "output_type": "stream",
     "text": [
      "101.0 was processed.\n",
      "Fusing layers... \n"
     ]
    },
    {
     "name": "stderr",
     "output_type": "stream",
     "text": [
      "Model Summary: 306 layers, 36905341 parameters, 36905341 gradients\n"
     ]
    },
    {
     "name": "stdout",
     "output_type": "stream",
     "text": [
      "RepConv.fuse_repvgg_block\n",
      "RepConv.fuse_repvgg_block\n",
      "RepConv.fuse_repvgg_block\n"
     ]
    },
    {
     "name": "stderr",
     "output_type": "stream",
     "text": [
      "YOLOR 🚀 d77dc7c torch 1.13.0+cu117 CPU\n",
      "\n"
     ]
    },
    {
     "name": "stdout",
     "output_type": "stream",
     "text": [
      "102.0 was processed.\n",
      "Fusing layers... \n"
     ]
    },
    {
     "name": "stderr",
     "output_type": "stream",
     "text": [
      "Model Summary: 306 layers, 36905341 parameters, 36905341 gradients\n"
     ]
    },
    {
     "name": "stdout",
     "output_type": "stream",
     "text": [
      "RepConv.fuse_repvgg_block\n",
      "RepConv.fuse_repvgg_block\n",
      "RepConv.fuse_repvgg_block\n"
     ]
    },
    {
     "name": "stderr",
     "output_type": "stream",
     "text": [
      "YOLOR 🚀 d77dc7c torch 1.13.0+cu117 CPU\n",
      "\n"
     ]
    },
    {
     "name": "stdout",
     "output_type": "stream",
     "text": [
      "103.0 was processed.\n",
      "Fusing layers... \n",
      "RepConv.fuse_repvgg_block\n",
      "RepConv.fuse_repvgg_block\n",
      "RepConv.fuse_repvgg_block\n"
     ]
    },
    {
     "name": "stderr",
     "output_type": "stream",
     "text": [
      "Model Summary: 306 layers, 36905341 parameters, 36905341 gradients\n",
      "YOLOR 🚀 d77dc7c torch 1.13.0+cu117 CPU\n",
      "\n"
     ]
    },
    {
     "name": "stdout",
     "output_type": "stream",
     "text": [
      "104.0 was processed.\n",
      "Fusing layers... \n",
      "RepConv.fuse_repvgg_block\n",
      "RepConv.fuse_repvgg_block\n",
      "RepConv.fuse_repvgg_block\n"
     ]
    },
    {
     "name": "stderr",
     "output_type": "stream",
     "text": [
      "Model Summary: 306 layers, 36905341 parameters, 36905341 gradients\n",
      "YOLOR 🚀 d77dc7c torch 1.13.0+cu117 CPU\n",
      "\n"
     ]
    },
    {
     "name": "stdout",
     "output_type": "stream",
     "text": [
      "105.0 was processed.\n",
      "Fusing layers... \n",
      "RepConv.fuse_repvgg_block\n",
      "RepConv.fuse_repvgg_block\n",
      "RepConv.fuse_repvgg_block\n"
     ]
    },
    {
     "name": "stderr",
     "output_type": "stream",
     "text": [
      "Model Summary: 306 layers, 36905341 parameters, 36905341 gradients\n",
      "YOLOR 🚀 d77dc7c torch 1.13.0+cu117 CPU\n",
      "\n"
     ]
    },
    {
     "name": "stdout",
     "output_type": "stream",
     "text": [
      "106.0 was processed.\n",
      "Fusing layers... \n",
      "RepConv.fuse_repvgg_block\n",
      "RepConv.fuse_repvgg_block\n",
      "RepConv.fuse_repvgg_block\n"
     ]
    },
    {
     "name": "stderr",
     "output_type": "stream",
     "text": [
      "Model Summary: 306 layers, 36905341 parameters, 36905341 gradients\n",
      "YOLOR 🚀 d77dc7c torch 1.13.0+cu117 CPU\n",
      "\n"
     ]
    },
    {
     "name": "stdout",
     "output_type": "stream",
     "text": [
      "107.0 was processed.\n",
      "Fusing layers... \n",
      "RepConv.fuse_repvgg_block\n",
      "RepConv.fuse_repvgg_block\n",
      "RepConv.fuse_repvgg_block\n"
     ]
    },
    {
     "name": "stderr",
     "output_type": "stream",
     "text": [
      "Model Summary: 306 layers, 36905341 parameters, 36905341 gradients\n",
      "YOLOR 🚀 d77dc7c torch 1.13.0+cu117 CPU\n",
      "\n"
     ]
    },
    {
     "name": "stdout",
     "output_type": "stream",
     "text": [
      "108.0 was processed.\n",
      "Fusing layers... \n",
      "RepConv.fuse_repvgg_block\n",
      "RepConv.fuse_repvgg_block\n",
      "RepConv.fuse_repvgg_block\n"
     ]
    },
    {
     "name": "stderr",
     "output_type": "stream",
     "text": [
      "Model Summary: 306 layers, 36905341 parameters, 36905341 gradients\n",
      "YOLOR 🚀 d77dc7c torch 1.13.0+cu117 CPU\n",
      "\n"
     ]
    },
    {
     "name": "stdout",
     "output_type": "stream",
     "text": [
      "109.0 was processed.\n",
      "Fusing layers... \n",
      "RepConv.fuse_repvgg_block\n",
      "RepConv.fuse_repvgg_block\n",
      "RepConv.fuse_repvgg_block\n"
     ]
    },
    {
     "name": "stderr",
     "output_type": "stream",
     "text": [
      "Model Summary: 306 layers, 36905341 parameters, 36905341 gradients\n",
      "YOLOR 🚀 d77dc7c torch 1.13.0+cu117 CPU\n",
      "\n"
     ]
    },
    {
     "name": "stdout",
     "output_type": "stream",
     "text": [
      "110.0 was processed.\n",
      "Fusing layers... \n",
      "RepConv.fuse_repvgg_block\n",
      "RepConv.fuse_repvgg_block\n",
      "RepConv.fuse_repvgg_block\n"
     ]
    },
    {
     "name": "stderr",
     "output_type": "stream",
     "text": [
      "Model Summary: 306 layers, 36905341 parameters, 36905341 gradients\n",
      "YOLOR 🚀 d77dc7c torch 1.13.0+cu117 CPU\n",
      "\n"
     ]
    },
    {
     "name": "stdout",
     "output_type": "stream",
     "text": [
      "111.0 was processed.\n",
      "Fusing layers... \n",
      "RepConv.fuse_repvgg_block\n",
      "RepConv.fuse_repvgg_block\n",
      "RepConv.fuse_repvgg_block\n"
     ]
    },
    {
     "name": "stderr",
     "output_type": "stream",
     "text": [
      "Model Summary: 306 layers, 36905341 parameters, 36905341 gradients\n",
      "YOLOR 🚀 d77dc7c torch 1.13.0+cu117 CPU\n",
      "\n"
     ]
    },
    {
     "name": "stdout",
     "output_type": "stream",
     "text": [
      "112.0 was processed.\n",
      "Fusing layers... \n",
      "RepConv.fuse_repvgg_block\n",
      "RepConv.fuse_repvgg_block\n",
      "RepConv.fuse_repvgg_block\n"
     ]
    },
    {
     "name": "stderr",
     "output_type": "stream",
     "text": [
      "Model Summary: 306 layers, 36905341 parameters, 36905341 gradients\n",
      "YOLOR 🚀 d77dc7c torch 1.13.0+cu117 CPU\n",
      "\n"
     ]
    },
    {
     "name": "stdout",
     "output_type": "stream",
     "text": [
      "113.0 was processed.\n",
      "Fusing layers... \n",
      "RepConv.fuse_repvgg_block\n",
      "RepConv.fuse_repvgg_block\n",
      "RepConv.fuse_repvgg_block\n"
     ]
    },
    {
     "name": "stderr",
     "output_type": "stream",
     "text": [
      "Model Summary: 306 layers, 36905341 parameters, 36905341 gradients\n",
      "YOLOR 🚀 d77dc7c torch 1.13.0+cu117 CPU\n",
      "\n"
     ]
    },
    {
     "name": "stdout",
     "output_type": "stream",
     "text": [
      "114.0 was processed.\n",
      "Fusing layers... \n",
      "RepConv.fuse_repvgg_block\n",
      "RepConv.fuse_repvgg_block\n",
      "RepConv.fuse_repvgg_block\n"
     ]
    },
    {
     "name": "stderr",
     "output_type": "stream",
     "text": [
      "Model Summary: 306 layers, 36905341 parameters, 36905341 gradients\n",
      "YOLOR 🚀 d77dc7c torch 1.13.0+cu117 CPU\n",
      "\n"
     ]
    },
    {
     "name": "stdout",
     "output_type": "stream",
     "text": [
      "115.0 was processed.\n",
      "Fusing layers... \n",
      "RepConv.fuse_repvgg_block\n",
      "RepConv.fuse_repvgg_block\n",
      "RepConv.fuse_repvgg_block\n"
     ]
    },
    {
     "name": "stderr",
     "output_type": "stream",
     "text": [
      "Model Summary: 306 layers, 36905341 parameters, 36905341 gradients\n"
     ]
    },
    {
     "name": "stdout",
     "output_type": "stream",
     "text": [
      "116.0 was processed.\n"
     ]
    }
   ],
   "source": [
    "video_handler.detect_objects()"
   ],
   "metadata": {
    "collapsed": false
   }
  },
  {
   "cell_type": "code",
   "execution_count": 8,
   "outputs": [
    {
     "data": {
      "text/plain": "{60.0: {0: {'class': 'CHAIR',\n   'x_top_left': 934.0,\n   'y_top_left': 553.0,\n   'x_bottom_right': 979.0,\n   'y_bottom_right': 597.0,\n   'confidence': 0.2706216275691986},\n  1: {'class': 'BENCH',\n   'x_top_left': 933.0,\n   'y_top_left': 553.0,\n   'x_bottom_right': 981.0,\n   'y_bottom_right': 597.0,\n   'confidence': 0.279792457818985},\n  2: {'class': 'PERSON',\n   'x_top_left': 893.0,\n   'y_top_left': 630.0,\n   'x_bottom_right': 941.0,\n   'y_bottom_right': 719.0,\n   'confidence': 0.28740260004997253},\n  3: {'class': 'PERSON',\n   'x_top_left': 961.0,\n   'y_top_left': 520.0,\n   'x_bottom_right': 1006.0,\n   'y_bottom_right': 577.0,\n   'confidence': 0.30410853028297424},\n  4: {'class': 'PERSON',\n   'x_top_left': 1220.0,\n   'y_top_left': 392.0,\n   'x_bottom_right': 1256.0,\n   'y_bottom_right': 451.0,\n   'confidence': 0.36931782960891724},\n  5: {'class': 'PERSON',\n   'x_top_left': 1139.0,\n   'y_top_left': 403.0,\n   'x_bottom_right': 1173.0,\n   'y_bottom_right': 471.0,\n   'confidence': 0.5072638988494873},\n  6: {'class': 'PERSON',\n   'x_top_left': 512.0,\n   'y_top_left': 159.0,\n   'x_bottom_right': 530.0,\n   'y_bottom_right': 200.0,\n   'confidence': 0.6009881496429443},\n  7: {'class': 'PERSON',\n   'x_top_left': 1077.0,\n   'y_top_left': 377.0,\n   'x_bottom_right': 1116.0,\n   'y_bottom_right': 461.0,\n   'confidence': 0.6222015619277954},\n  8: {'class': 'PERSON',\n   'x_top_left': 1144.0,\n   'y_top_left': 316.0,\n   'x_bottom_right': 1166.0,\n   'y_bottom_right': 389.0,\n   'confidence': 0.6489729881286621},\n  9: {'class': 'PERSON',\n   'x_top_left': 1061.0,\n   'y_top_left': 459.0,\n   'x_bottom_right': 1092.0,\n   'y_bottom_right': 549.0,\n   'confidence': 0.7514345645904541},\n  10: {'class': 'PERSON',\n   'x_top_left': 946.0,\n   'y_top_left': 288.0,\n   'x_bottom_right': 969.0,\n   'y_bottom_right': 352.0,\n   'confidence': 0.7635787725448608},\n  11: {'class': 'PERSON',\n   'x_top_left': 714.0,\n   'y_top_left': 271.0,\n   'x_bottom_right': 735.0,\n   'y_bottom_right': 338.0,\n   'confidence': 0.783586859703064},\n  12: {'class': 'PERSON',\n   'x_top_left': 480.0,\n   'y_top_left': 219.0,\n   'x_bottom_right': 502.0,\n   'y_bottom_right': 276.0,\n   'confidence': 0.7931416630744934},\n  13: {'class': 'PERSON',\n   'x_top_left': 240.0,\n   'y_top_left': 383.0,\n   'x_bottom_right': 264.0,\n   'y_bottom_right': 464.0,\n   'confidence': 0.7976778149604797},\n  14: {'class': 'PERSON',\n   'x_top_left': 188.0,\n   'y_top_left': 204.0,\n   'x_bottom_right': 217.0,\n   'y_bottom_right': 273.0,\n   'confidence': 0.8095273375511169},\n  15: {'class': 'PERSON',\n   'x_top_left': 12.0,\n   'y_top_left': 293.0,\n   'x_bottom_right': 35.0,\n   'y_bottom_right': 361.0,\n   'confidence': 0.8313944339752197},\n  16: {'class': 'PERSON',\n   'x_top_left': 480.0,\n   'y_top_left': 324.0,\n   'x_bottom_right': 505.0,\n   'y_bottom_right': 388.0,\n   'confidence': 0.8353513479232788},\n  17: {'class': 'PERSON',\n   'x_top_left': 769.0,\n   'y_top_left': 372.0,\n   'x_bottom_right': 798.0,\n   'y_bottom_right': 450.0,\n   'confidence': 0.8370832800865173},\n  18: {'class': 'PERSON',\n   'x_top_left': 360.0,\n   'y_top_left': 302.0,\n   'x_bottom_right': 385.0,\n   'y_bottom_right': 363.0,\n   'confidence': 0.8428219556808472},\n  19: {'class': 'PERSON',\n   'x_top_left': 333.0,\n   'y_top_left': 638.0,\n   'x_bottom_right': 376.0,\n   'y_bottom_right': 719.0,\n   'confidence': 0.8453283905982971},\n  20: {'class': 'PERSON',\n   'x_top_left': 705.0,\n   'y_top_left': 412.0,\n   'x_bottom_right': 741.0,\n   'y_bottom_right': 497.0,\n   'confidence': 0.8637561202049255},\n  21: {'class': 'PERSON',\n   'x_top_left': 820.0,\n   'y_top_left': 430.0,\n   'x_bottom_right': 852.0,\n   'y_bottom_right': 518.0,\n   'confidence': 0.8784869909286499}},\n 61.0: {0: {'class': 'PERSON',\n   'x_top_left': 965.0,\n   'y_top_left': 524.0,\n   'x_bottom_right': 1001.0,\n   'y_bottom_right': 576.0,\n   'confidence': 0.27875271439552307},\n  1: {'class': 'CHAIR',\n   'x_top_left': 927.0,\n   'y_top_left': 552.0,\n   'x_bottom_right': 955.0,\n   'y_bottom_right': 593.0,\n   'confidence': 0.2906835377216339},\n  2: {'class': 'PERSON',\n   'x_top_left': 1209.0,\n   'y_top_left': 389.0,\n   'x_bottom_right': 1244.0,\n   'y_bottom_right': 446.0,\n   'confidence': 0.3023007810115814},\n  3: {'class': 'BENCH',\n   'x_top_left': 1172.0,\n   'y_top_left': 448.0,\n   'x_bottom_right': 1207.0,\n   'y_bottom_right': 489.0,\n   'confidence': 0.37852907180786133},\n  4: {'class': 'CHAIR',\n   'x_top_left': 1172.0,\n   'y_top_left': 448.0,\n   'x_bottom_right': 1207.0,\n   'y_bottom_right': 489.0,\n   'confidence': 0.39010724425315857},\n  5: {'class': 'PERSON',\n   'x_top_left': 1099.0,\n   'y_top_left': 388.0,\n   'x_bottom_right': 1129.0,\n   'y_bottom_right': 474.0,\n   'confidence': 0.5430183410644531},\n  6: {'class': 'PERSON',\n   'x_top_left': 946.0,\n   'y_top_left': 604.0,\n   'x_bottom_right': 1001.0,\n   'y_bottom_right': 720.0,\n   'confidence': 0.5609075427055359},\n  7: {'class': 'PERSON',\n   'x_top_left': 1151.0,\n   'y_top_left': 318.0,\n   'x_bottom_right': 1176.0,\n   'y_bottom_right': 395.0,\n   'confidence': 0.6002552509307861},\n  8: {'class': 'PERSON',\n   'x_top_left': 1135.0,\n   'y_top_left': 400.0,\n   'x_bottom_right': 1164.0,\n   'y_bottom_right': 478.0,\n   'confidence': 0.6338094472885132},\n  9: {'class': 'PERSON',\n   'x_top_left': 0.0,\n   'y_top_left': 268.0,\n   'x_bottom_right': 19.0,\n   'y_bottom_right': 334.0,\n   'confidence': 0.6452885270118713},\n  10: {'class': 'PERSON',\n   'x_top_left': 467.0,\n   'y_top_left': 217.0,\n   'x_bottom_right': 490.0,\n   'y_bottom_right': 274.0,\n   'confidence': 0.7297744750976562},\n  11: {'class': 'PERSON',\n   'x_top_left': 940.0,\n   'y_top_left': 289.0,\n   'x_bottom_right': 965.0,\n   'y_bottom_right': 352.0,\n   'confidence': 0.7517077326774597},\n  12: {'class': 'PERSON',\n   'x_top_left': 814.0,\n   'y_top_left': 351.0,\n   'x_bottom_right': 838.0,\n   'y_bottom_right': 426.0,\n   'confidence': 0.7544241547584534},\n  13: {'class': 'PERSON',\n   'x_top_left': 684.0,\n   'y_top_left': 273.0,\n   'x_bottom_right': 709.0,\n   'y_bottom_right': 338.0,\n   'confidence': 0.7800799012184143},\n  14: {'class': 'PERSON',\n   'x_top_left': 319.0,\n   'y_top_left': 297.0,\n   'x_bottom_right': 343.0,\n   'y_bottom_right': 360.0,\n   'confidence': 0.7890031337738037},\n  15: {'class': 'PERSON',\n   'x_top_left': 1055.0,\n   'y_top_left': 457.0,\n   'x_bottom_right': 1086.0,\n   'y_bottom_right': 548.0,\n   'confidence': 0.7976506352424622},\n  16: {'class': 'PERSON',\n   'x_top_left': 874.0,\n   'y_top_left': 409.0,\n   'x_bottom_right': 901.0,\n   'y_bottom_right': 495.0,\n   'confidence': 0.8120039105415344},\n  17: {'class': 'PERSON',\n   'x_top_left': 220.0,\n   'y_top_left': 201.0,\n   'x_bottom_right': 246.0,\n   'y_bottom_right': 269.0,\n   'confidence': 0.8130408525466919},\n  18: {'class': 'PERSON',\n   'x_top_left': 282.0,\n   'y_top_left': 369.0,\n   'x_bottom_right': 306.0,\n   'y_bottom_right': 447.0,\n   'confidence': 0.8351775407791138},\n  19: {'class': 'PERSON',\n   'x_top_left': 356.0,\n   'y_top_left': 629.0,\n   'x_bottom_right': 394.0,\n   'y_bottom_right': 716.0,\n   'confidence': 0.8440939784049988},\n  20: {'class': 'PERSON',\n   'x_top_left': 40.0,\n   'y_top_left': 285.0,\n   'x_bottom_right': 64.0,\n   'y_bottom_right': 352.0,\n   'confidence': 0.8485235571861267},\n  21: {'class': 'PERSON',\n   'x_top_left': 493.0,\n   'y_top_left': 324.0,\n   'x_bottom_right': 521.0,\n   'y_bottom_right': 387.0,\n   'confidence': 0.8669875264167786},\n  22: {'class': 'PERSON',\n   'x_top_left': 666.0,\n   'y_top_left': 417.0,\n   'x_bottom_right': 700.0,\n   'y_bottom_right': 506.0,\n   'confidence': 0.8719152808189392}},\n 62.0: {0: {'class': 'CHAIR',\n   'x_top_left': 927.0,\n   'y_top_left': 550.0,\n   'x_bottom_right': 973.0,\n   'y_bottom_right': 595.0,\n   'confidence': 0.298866331577301},\n  1: {'class': 'PERSON',\n   'x_top_left': 1212.0,\n   'y_top_left': 388.0,\n   'x_bottom_right': 1243.0,\n   'y_bottom_right': 447.0,\n   'confidence': 0.3727583587169647},\n  2: {'class': 'PERSON',\n   'x_top_left': 1170.0,\n   'y_top_left': 398.0,\n   'x_bottom_right': 1203.0,\n   'y_bottom_right': 485.0,\n   'confidence': 0.4475877583026886},\n  3: {'class': 'PERSON',\n   'x_top_left': 240.0,\n   'y_top_left': 201.0,\n   'x_bottom_right': 262.0,\n   'y_bottom_right': 250.0,\n   'confidence': 0.5620018839836121},\n  4: {'class': 'PERSON',\n   'x_top_left': 537.0,\n   'y_top_left': 155.0,\n   'x_bottom_right': 552.0,\n   'y_bottom_right': 200.0,\n   'confidence': 0.5673463344573975},\n  5: {'class': 'PERSON',\n   'x_top_left': 1001.0,\n   'y_top_left': 571.0,\n   'x_bottom_right': 1041.0,\n   'y_bottom_right': 706.0,\n   'confidence': 0.6277966499328613},\n  6: {'class': 'PERSON',\n   'x_top_left': 256.0,\n   'y_top_left': 215.0,\n   'x_bottom_right': 276.0,\n   'y_bottom_right': 269.0,\n   'confidence': 0.6583138704299927},\n  7: {'class': 'PERSON',\n   'x_top_left': 1150.0,\n   'y_top_left': 323.0,\n   'x_bottom_right': 1171.0,\n   'y_bottom_right': 401.0,\n   'confidence': 0.6952458024024963},\n  8: {'class': 'PERSON',\n   'x_top_left': 1054.0,\n   'y_top_left': 457.0,\n   'x_bottom_right': 1085.0,\n   'y_bottom_right': 549.0,\n   'confidence': 0.7634352445602417},\n  9: {'class': 'PERSON',\n   'x_top_left': 1066.0,\n   'y_top_left': 387.0,\n   'x_bottom_right': 1113.0,\n   'y_bottom_right': 473.0,\n   'confidence': 0.7659239172935486},\n  10: {'class': 'PERSON',\n   'x_top_left': 461.0,\n   'y_top_left': 217.0,\n   'x_bottom_right': 481.0,\n   'y_bottom_right': 273.0,\n   'confidence': 0.7867127060890198},\n  11: {'class': 'PERSON',\n   'x_top_left': 71.0,\n   'y_top_left': 278.0,\n   'x_bottom_right': 98.0,\n   'y_bottom_right': 343.0,\n   'confidence': 0.8052740693092346},\n  12: {'class': 'PERSON',\n   'x_top_left': 814.0,\n   'y_top_left': 343.0,\n   'x_bottom_right': 837.0,\n   'y_bottom_right': 416.0,\n   'confidence': 0.8060973286628723},\n  13: {'class': 'PERSON',\n   'x_top_left': 493.0,\n   'y_top_left': 327.0,\n   'x_bottom_right': 525.0,\n   'y_bottom_right': 393.0,\n   'confidence': 0.8063644766807556},\n  14: {'class': 'PERSON',\n   'x_top_left': 325.0,\n   'y_top_left': 358.0,\n   'x_bottom_right': 349.0,\n   'y_bottom_right': 431.0,\n   'confidence': 0.8075628876686096},\n  15: {'class': 'PERSON',\n   'x_top_left': 914.0,\n   'y_top_left': 396.0,\n   'x_bottom_right': 943.0,\n   'y_bottom_right': 478.0,\n   'confidence': 0.8097838759422302},\n  16: {'class': 'PERSON',\n   'x_top_left': 648.0,\n   'y_top_left': 275.0,\n   'x_bottom_right': 679.0,\n   'y_bottom_right': 344.0,\n   'confidence': 0.824506938457489},\n  17: {'class': 'PERSON',\n   'x_top_left': 289.0,\n   'y_top_left': 299.0,\n   'x_bottom_right': 319.0,\n   'y_bottom_right': 360.0,\n   'confidence': 0.8327767252922058},\n  18: {'class': 'PERSON',\n   'x_top_left': 920.0,\n   'y_top_left': 293.0,\n   'x_bottom_right': 949.0,\n   'y_bottom_right': 358.0,\n   'confidence': 0.8417355418205261},\n  19: {'class': 'PERSON',\n   'x_top_left': 3.0,\n   'y_top_left': 453.0,\n   'x_bottom_right': 34.0,\n   'y_bottom_right': 538.0,\n   'confidence': 0.8543472290039062},\n  20: {'class': 'PERSON',\n   'x_top_left': 355.0,\n   'y_top_left': 620.0,\n   'x_bottom_right': 401.0,\n   'y_bottom_right': 716.0,\n   'confidence': 0.8630431890487671},\n  21: {'class': 'PERSON',\n   'x_top_left': 28.0,\n   'y_top_left': 260.0,\n   'x_bottom_right': 57.0,\n   'y_bottom_right': 325.0,\n   'confidence': 0.8644651174545288},\n  22: {'class': 'PERSON',\n   'x_top_left': 649.0,\n   'y_top_left': 429.0,\n   'x_bottom_right': 688.0,\n   'y_bottom_right': 521.0,\n   'confidence': 0.8957762718200684}},\n 63.0: {0: {'class': 'CHAIR',\n   'x_top_left': 928.0,\n   'y_top_left': 555.0,\n   'x_bottom_right': 974.0,\n   'y_bottom_right': 600.0,\n   'confidence': 0.26383331418037415},\n  1: {'class': 'CHAIR',\n   'x_top_left': 993.0,\n   'y_top_left': 528.0,\n   'x_bottom_right': 1034.0,\n   'y_bottom_right': 589.0,\n   'confidence': 0.2656113803386688},\n  2: {'class': 'CHAIR',\n   'x_top_left': 965.0,\n   'y_top_left': 537.0,\n   'x_bottom_right': 1001.0,\n   'y_bottom_right': 595.0,\n   'confidence': 0.2849068343639374},\n  3: {'class': 'PERSON',\n   'x_top_left': 545.0,\n   'y_top_left': 161.0,\n   'x_bottom_right': 567.0,\n   'y_bottom_right': 203.0,\n   'confidence': 0.4527268409729004},\n  4: {'class': 'CHAIR',\n   'x_top_left': 1172.0,\n   'y_top_left': 455.0,\n   'x_bottom_right': 1208.0,\n   'y_bottom_right': 495.0,\n   'confidence': 0.5102209448814392},\n  5: {'class': 'PERSON',\n   'x_top_left': 1229.0,\n   'y_top_left': 399.0,\n   'x_bottom_right': 1256.0,\n   'y_bottom_right': 477.0,\n   'confidence': 0.5184654593467712},\n  6: {'class': 'PERSON',\n   'x_top_left': 1134.0,\n   'y_top_left': 335.0,\n   'x_bottom_right': 1156.0,\n   'y_bottom_right': 407.0,\n   'confidence': 0.6176181435585022},\n  7: {'class': 'PERSON',\n   'x_top_left': 336.0,\n   'y_top_left': 222.0,\n   'x_bottom_right': 361.0,\n   'y_bottom_right': 267.0,\n   'confidence': 0.6251056790351868},\n  8: {'class': 'PERSON',\n   'x_top_left': 1052.0,\n   'y_top_left': 563.0,\n   'x_bottom_right': 1098.0,\n   'y_bottom_right': 675.0,\n   'confidence': 0.6421955227851868},\n  9: {'class': 'PERSON',\n   'x_top_left': 282.0,\n   'y_top_left': 213.0,\n   'x_bottom_right': 315.0,\n   'y_bottom_right': 253.0,\n   'confidence': 0.666890561580658},\n  10: {'class': 'PERSON',\n   'x_top_left': 882.0,\n   'y_top_left': 300.0,\n   'x_bottom_right': 921.0,\n   'y_bottom_right': 360.0,\n   'confidence': 0.7369735240936279},\n  11: {'class': 'PERSON',\n   'x_top_left': 946.0,\n   'y_top_left': 388.0,\n   'x_bottom_right': 976.0,\n   'y_bottom_right': 468.0,\n   'confidence': 0.7421202659606934},\n  12: {'class': 'PERSON',\n   'x_top_left': 990.0,\n   'y_top_left': 360.0,\n   'x_bottom_right': 1042.0,\n   'y_bottom_right': 446.0,\n   'confidence': 0.7460495829582214},\n  13: {'class': 'PERSON',\n   'x_top_left': 457.0,\n   'y_top_left': 225.0,\n   'x_bottom_right': 479.0,\n   'y_bottom_right': 274.0,\n   'confidence': 0.7483135461807251},\n  14: {'class': 'PERSON',\n   'x_top_left': 1056.0,\n   'y_top_left': 463.0,\n   'x_bottom_right': 1086.0,\n   'y_bottom_right': 553.0,\n   'confidence': 0.7749059796333313},\n  15: {'class': 'PERSON',\n   'x_top_left': 103.0,\n   'y_top_left': 274.0,\n   'x_bottom_right': 124.0,\n   'y_bottom_right': 338.0,\n   'confidence': 0.7775527834892273},\n  16: {'class': 'PERSON',\n   'x_top_left': 815.0,\n   'y_top_left': 338.0,\n   'x_bottom_right': 835.0,\n   'y_bottom_right': 409.0,\n   'confidence': 0.801649272441864},\n  17: {'class': 'PERSON',\n   'x_top_left': 44.0,\n   'y_top_left': 255.0,\n   'x_bottom_right': 65.0,\n   'y_bottom_right': 318.0,\n   'confidence': 0.8174619078636169},\n  18: {'class': 'PERSON',\n   'x_top_left': 359.0,\n   'y_top_left': 350.0,\n   'x_bottom_right': 384.0,\n   'y_bottom_right': 423.0,\n   'confidence': 0.8215176463127136},\n  19: {'class': 'PERSON',\n   'x_top_left': 388.0,\n   'y_top_left': 623.0,\n   'x_bottom_right': 425.0,\n   'y_bottom_right': 708.0,\n   'confidence': 0.8374738693237305},\n  20: {'class': 'PERSON',\n   'x_top_left': 283.0,\n   'y_top_left': 299.0,\n   'x_bottom_right': 304.0,\n   'y_bottom_right': 363.0,\n   'confidence': 0.854099690914154},\n  21: {'class': 'PERSON',\n   'x_top_left': 648.0,\n   'y_top_left': 273.0,\n   'x_bottom_right': 672.0,\n   'y_bottom_right': 340.0,\n   'confidence': 0.8560069799423218},\n  22: {'class': 'PERSON',\n   'x_top_left': 63.0,\n   'y_top_left': 445.0,\n   'x_bottom_right': 93.0,\n   'y_bottom_right': 539.0,\n   'confidence': 0.8690220713615417},\n  23: {'class': 'PERSON',\n   'x_top_left': 490.0,\n   'y_top_left': 331.0,\n   'x_bottom_right': 530.0,\n   'y_bottom_right': 397.0,\n   'confidence': 0.8799749612808228},\n  24: {'class': 'PERSON',\n   'x_top_left': 632.0,\n   'y_top_left': 426.0,\n   'x_bottom_right': 666.0,\n   'y_bottom_right': 521.0,\n   'confidence': 0.8841162323951721},\n  25: {'class': 'PERSON',\n   'x_top_left': 3.0,\n   'y_top_left': 456.0,\n   'x_bottom_right': 41.0,\n   'y_bottom_right': 556.0,\n   'confidence': 0.905195951461792}},\n 64.0: {0: {'class': 'PERSON',\n   'x_top_left': 1023.0,\n   'y_top_left': 575.0,\n   'x_bottom_right': 1073.0,\n   'y_bottom_right': 639.0,\n   'confidence': 0.29268431663513184},\n  1: {'class': 'PERSON',\n   'x_top_left': 1254.0,\n   'y_top_left': 348.0,\n   'x_bottom_right': 1280.0,\n   'y_bottom_right': 411.0,\n   'confidence': 0.3182099461555481},\n  2: {'class': 'PERSON',\n   'x_top_left': 602.0,\n   'y_top_left': 181.0,\n   'x_bottom_right': 620.0,\n   'y_bottom_right': 222.0,\n   'confidence': 0.36258864402770996},\n  3: {'class': 'PERSON',\n   'x_top_left': 500.0,\n   'y_top_left': 214.0,\n   'x_bottom_right': 530.0,\n   'y_bottom_right': 261.0,\n   'confidence': 0.4416772127151489},\n  4: {'class': 'PERSON',\n   'x_top_left': 1174.0,\n   'y_top_left': 588.0,\n   'x_bottom_right': 1223.0,\n   'y_bottom_right': 714.0,\n   'confidence': 0.5930962562561035},\n  5: {'class': 'PERSON',\n   'x_top_left': 528.0,\n   'y_top_left': 217.0,\n   'x_bottom_right': 557.0,\n   'y_bottom_right': 269.0,\n   'confidence': 0.6303814649581909},\n  6: {'class': 'PERSON',\n   'x_top_left': 431.0,\n   'y_top_left': 209.0,\n   'x_bottom_right': 453.0,\n   'y_bottom_right': 257.0,\n   'confidence': 0.6829428672790527},\n  7: {'class': 'PERSON',\n   'x_top_left': 132.0,\n   'y_top_left': 285.0,\n   'x_bottom_right': 153.0,\n   'y_bottom_right': 348.0,\n   'confidence': 0.6905477046966553},\n  8: {'class': 'PERSON',\n   'x_top_left': 1022.0,\n   'y_top_left': 375.0,\n   'x_bottom_right': 1054.0,\n   'y_bottom_right': 460.0,\n   'confidence': 0.7127068638801575},\n  9: {'class': 'PERSON',\n   'x_top_left': 1008.0,\n   'y_top_left': 407.0,\n   'x_bottom_right': 1036.0,\n   'y_bottom_right': 497.0,\n   'confidence': 0.7272246479988098},\n  10: {'class': 'PERSON',\n   'x_top_left': 1134.0,\n   'y_top_left': 508.0,\n   'x_bottom_right': 1169.0,\n   'y_bottom_right': 609.0,\n   'confidence': 0.7373371720314026},\n  11: {'class': 'PERSON',\n   'x_top_left': 33.0,\n   'y_top_left': 262.0,\n   'x_bottom_right': 52.0,\n   'y_bottom_right': 329.0,\n   'confidence': 0.7484376430511475},\n  12: {'class': 'PERSON',\n   'x_top_left': 721.0,\n   'y_top_left': 279.0,\n   'x_bottom_right': 746.0,\n   'y_bottom_right': 347.0,\n   'confidence': 0.7641042470932007},\n  13: {'class': 'PERSON',\n   'x_top_left': 898.0,\n   'y_top_left': 309.0,\n   'x_bottom_right': 932.0,\n   'y_bottom_right': 378.0,\n   'confidence': 0.779529333114624},\n  14: {'class': 'PERSON',\n   'x_top_left': 396.0,\n   'y_top_left': 669.0,\n   'x_bottom_right': 440.0,\n   'y_bottom_right': 719.0,\n   'confidence': 0.8220913410186768},\n  15: {'class': 'PERSON',\n   'x_top_left': 839.0,\n   'y_top_left': 357.0,\n   'x_bottom_right': 877.0,\n   'y_bottom_right': 435.0,\n   'confidence': 0.8260995745658875},\n  16: {'class': 'PERSON',\n   'x_top_left': 288.0,\n   'y_top_left': 313.0,\n   'x_bottom_right': 317.0,\n   'y_bottom_right': 381.0,\n   'confidence': 0.8632315993309021},\n  17: {'class': 'PERSON',\n   'x_top_left': 646.0,\n   'y_top_left': 437.0,\n   'x_bottom_right': 681.0,\n   'y_bottom_right': 535.0,\n   'confidence': 0.8651178479194641},\n  18: {'class': 'PERSON',\n   'x_top_left': 50.0,\n   'y_top_left': 465.0,\n   'x_bottom_right': 98.0,\n   'y_bottom_right': 566.0,\n   'confidence': 0.8737580180168152},\n  19: {'class': 'PERSON',\n   'x_top_left': 520.0,\n   'y_top_left': 351.0,\n   'x_bottom_right': 549.0,\n   'y_bottom_right': 424.0,\n   'confidence': 0.8866803646087646},\n  20: {'class': 'PERSON',\n   'x_top_left': 377.0,\n   'y_top_left': 366.0,\n   'x_bottom_right': 410.0,\n   'y_bottom_right': 442.0,\n   'confidence': 0.8917034864425659},\n  21: {'class': 'PERSON',\n   'x_top_left': 1.0,\n   'y_top_left': 480.0,\n   'x_bottom_right': 58.0,\n   'y_bottom_right': 591.0,\n   'confidence': 0.9081440567970276}},\n 65.0: {0: {'class': 'PERSON',\n   'x_top_left': 1217.0,\n   'y_top_left': 204.0,\n   'x_bottom_right': 1236.0,\n   'y_bottom_right': 220.0,\n   'confidence': 0.2550491988658905},\n  1: {'class': 'PERSON',\n   'x_top_left': 1060.0,\n   'y_top_left': 168.0,\n   'x_bottom_right': 1079.0,\n   'y_bottom_right': 201.0,\n   'confidence': 0.28993815183639526},\n  2: {'class': 'PERSON',\n   'x_top_left': 1244.0,\n   'y_top_left': 188.0,\n   'x_bottom_right': 1272.0,\n   'y_bottom_right': 221.0,\n   'confidence': 0.326937198638916},\n  3: {'class': 'PERSON',\n   'x_top_left': 646.0,\n   'y_top_left': 193.0,\n   'x_bottom_right': 670.0,\n   'y_bottom_right': 256.0,\n   'confidence': 0.6207681894302368},\n  4: {'class': 'PERSON',\n   'x_top_left': 689.0,\n   'y_top_left': 168.0,\n   'x_bottom_right': 711.0,\n   'y_bottom_right': 229.0,\n   'confidence': 0.6348932385444641},\n  5: {'class': 'PERSON',\n   'x_top_left': 486.0,\n   'y_top_left': 189.0,\n   'x_bottom_right': 515.0,\n   'y_bottom_right': 240.0,\n   'confidence': 0.7367521524429321},\n  6: {'class': 'PERSON',\n   'x_top_left': 1040.0,\n   'y_top_left': 452.0,\n   'x_bottom_right': 1076.0,\n   'y_bottom_right': 546.0,\n   'confidence': 0.8231500387191772},\n  7: {'class': 'PERSON',\n   'x_top_left': 965.0,\n   'y_top_left': 333.0,\n   'x_bottom_right': 989.0,\n   'y_bottom_right': 422.0,\n   'confidence': 0.8361856937408447},\n  8: {'class': 'PERSON',\n   'x_top_left': 854.0,\n   'y_top_left': 396.0,\n   'x_bottom_right': 881.0,\n   'y_bottom_right': 495.0,\n   'confidence': 0.8401108384132385},\n  9: {'class': 'PERSON',\n   'x_top_left': 113.0,\n   'y_top_left': 282.0,\n   'x_bottom_right': 142.0,\n   'y_bottom_right': 358.0,\n   'confidence': 0.8570523858070374},\n  10: {'class': 'PERSON',\n   'x_top_left': 306.0,\n   'y_top_left': 396.0,\n   'x_bottom_right': 341.0,\n   'y_bottom_right': 474.0,\n   'confidence': 0.8617081046104431},\n  11: {'class': 'PERSON',\n   'x_top_left': 759.0,\n   'y_top_left': 273.0,\n   'x_bottom_right': 800.0,\n   'y_bottom_right': 359.0,\n   'confidence': 0.8693233728408813},\n  12: {'class': 'PERSON',\n   'x_top_left': 183.0,\n   'y_top_left': 321.0,\n   'x_bottom_right': 221.0,\n   'y_bottom_right': 401.0,\n   'confidence': 0.873292863368988},\n  13: {'class': 'PERSON',\n   'x_top_left': 488.0,\n   'y_top_left': 373.0,\n   'x_bottom_right': 528.0,\n   'y_bottom_right': 461.0,\n   'confidence': 0.891722559928894},\n  14: {'class': 'PERSON',\n   'x_top_left': 1083.0,\n   'y_top_left': 410.0,\n   'x_bottom_right': 1126.0,\n   'y_bottom_right': 515.0,\n   'confidence': 0.894126296043396},\n  15: {'class': 'PERSON',\n   'x_top_left': 609.0,\n   'y_top_left': 462.0,\n   'x_bottom_right': 648.0,\n   'y_bottom_right': 575.0,\n   'confidence': 0.9025066494941711}},\n 66.0: {0: {'class': 'PERSON',\n   'x_top_left': 1263.0,\n   'y_top_left': 187.0,\n   'x_bottom_right': 1280.0,\n   'y_bottom_right': 204.0,\n   'confidence': 0.2510779798030853},\n  1: {'class': 'PERSON',\n   'x_top_left': 951.0,\n   'y_top_left': 152.0,\n   'x_bottom_right': 971.0,\n   'y_bottom_right': 174.0,\n   'confidence': 0.25801920890808105},\n  2: {'class': 'CHAIR',\n   'x_top_left': 1165.0,\n   'y_top_left': 123.0,\n   'x_bottom_right': 1190.0,\n   'y_bottom_right': 150.0,\n   'confidence': 0.31526458263397217},\n  3: {'class': 'PERSON',\n   'x_top_left': 785.0,\n   'y_top_left': 171.0,\n   'x_bottom_right': 831.0,\n   'y_bottom_right': 226.0,\n   'confidence': 0.3578049838542938},\n  4: {'class': 'PERSON',\n   'x_top_left': 1084.0,\n   'y_top_left': 184.0,\n   'x_bottom_right': 1131.0,\n   'y_bottom_right': 227.0,\n   'confidence': 0.3932856023311615},\n  5: {'class': 'PERSON',\n   'x_top_left': 383.0,\n   'y_top_left': 155.0,\n   'x_bottom_right': 416.0,\n   'y_bottom_right': 210.0,\n   'confidence': 0.4574243426322937},\n  6: {'class': 'PERSON',\n   'x_top_left': 1090.0,\n   'y_top_left': 149.0,\n   'x_bottom_right': 1112.0,\n   'y_bottom_right': 190.0,\n   'confidence': 0.5396885275840759},\n  7: {'class': 'PERSON',\n   'x_top_left': 738.0,\n   'y_top_left': 141.0,\n   'x_bottom_right': 762.0,\n   'y_bottom_right': 209.0,\n   'confidence': 0.6489155888557434},\n  8: {'class': 'PERSON',\n   'x_top_left': 711.0,\n   'y_top_left': 163.0,\n   'x_bottom_right': 740.0,\n   'y_bottom_right': 229.0,\n   'confidence': 0.6946621537208557},\n  9: {'class': 'PERSON',\n   'x_top_left': 517.0,\n   'y_top_left': 440.0,\n   'x_bottom_right': 558.0,\n   'y_bottom_right': 503.0,\n   'confidence': 0.7160833477973938},\n  10: {'class': 'PERSON',\n   'x_top_left': 893.0,\n   'y_top_left': 474.0,\n   'x_bottom_right': 949.0,\n   'y_bottom_right': 580.0,\n   'confidence': 0.8170112371444702},\n  11: {'class': 'PERSON',\n   'x_top_left': 96.0,\n   'y_top_left': 263.0,\n   'x_bottom_right': 128.0,\n   'y_bottom_right': 350.0,\n   'confidence': 0.8595532774925232},\n  12: {'class': 'PERSON',\n   'x_top_left': 767.0,\n   'y_top_left': 254.0,\n   'x_bottom_right': 811.0,\n   'y_bottom_right': 346.0,\n   'confidence': 0.8760144114494324},\n  13: {'class': 'PERSON',\n   'x_top_left': 428.0,\n   'y_top_left': 368.0,\n   'x_bottom_right': 469.0,\n   'y_bottom_right': 459.0,\n   'confidence': 0.8812722563743591},\n  14: {'class': 'PERSON',\n   'x_top_left': 213.0,\n   'y_top_left': 391.0,\n   'x_bottom_right': 251.0,\n   'y_bottom_right': 491.0,\n   'confidence': 0.8824140429496765},\n  15: {'class': 'PERSON',\n   'x_top_left': 763.0,\n   'y_top_left': 435.0,\n   'x_bottom_right': 805.0,\n   'y_bottom_right': 528.0,\n   'confidence': 0.8836972117424011},\n  16: {'class': 'PERSON',\n   'x_top_left': 51.0,\n   'y_top_left': 301.0,\n   'x_bottom_right': 92.0,\n   'y_bottom_right': 387.0,\n   'confidence': 0.8862612843513489},\n  17: {'class': 'PERSON',\n   'x_top_left': 1079.0,\n   'y_top_left': 403.0,\n   'x_bottom_right': 1116.0,\n   'y_bottom_right': 523.0,\n   'confidence': 0.9075371623039246},\n  18: {'class': 'PERSON',\n   'x_top_left': 957.0,\n   'y_top_left': 346.0,\n   'x_bottom_right': 999.0,\n   'y_bottom_right': 444.0,\n   'confidence': 0.9146459698677063}},\n 67.0: {0: {'class': 'PERSON',\n   'x_top_left': 1063.0,\n   'y_top_left': 146.0,\n   'x_bottom_right': 1084.0,\n   'y_bottom_right': 186.0,\n   'confidence': 0.3117351233959198},\n  1: {'class': 'CHAIR',\n   'x_top_left': 1165.0,\n   'y_top_left': 122.0,\n   'x_bottom_right': 1188.0,\n   'y_bottom_right': 149.0,\n   'confidence': 0.3205011188983917},\n  2: {'class': 'PERSON',\n   'x_top_left': 986.0,\n   'y_top_left': 96.0,\n   'x_bottom_right': 1008.0,\n   'y_bottom_right': 134.0,\n   'confidence': 0.3457300364971161},\n  3: {'class': 'PERSON',\n   'x_top_left': 952.0,\n   'y_top_left': 148.0,\n   'x_bottom_right': 971.0,\n   'y_bottom_right': 173.0,\n   'confidence': 0.36357104778289795},\n  4: {'class': 'PERSON',\n   'x_top_left': 1087.0,\n   'y_top_left': 184.0,\n   'x_bottom_right': 1132.0,\n   'y_bottom_right': 226.0,\n   'confidence': 0.4488915801048279},\n  5: {'class': 'PERSON',\n   'x_top_left': 700.0,\n   'y_top_left': 156.0,\n   'x_bottom_right': 732.0,\n   'y_bottom_right': 229.0,\n   'confidence': 0.5073672533035278},\n  6: {'class': 'PERSON',\n   'x_top_left': 1089.0,\n   'y_top_left': 149.0,\n   'x_bottom_right': 1110.0,\n   'y_bottom_right': 188.0,\n   'confidence': 0.585023045539856},\n  7: {'class': 'PERSON',\n   'x_top_left': 765.0,\n   'y_top_left': 137.0,\n   'x_bottom_right': 787.0,\n   'y_bottom_right': 201.0,\n   'confidence': 0.6623582243919373},\n  8: {'class': 'PERSON',\n   'x_top_left': 245.0,\n   'y_top_left': 147.0,\n   'x_bottom_right': 270.0,\n   'y_bottom_right': 206.0,\n   'confidence': 0.6829440593719482},\n  9: {'class': 'PERSON',\n   'x_top_left': 685.0,\n   'y_top_left': 499.0,\n   'x_bottom_right': 733.0,\n   'y_bottom_right': 607.0,\n   'confidence': 0.768415629863739},\n  10: {'class': 'PERSON',\n   'x_top_left': 606.0,\n   'y_top_left': 465.0,\n   'x_bottom_right': 653.0,\n   'y_bottom_right': 570.0,\n   'confidence': 0.8386766910552979},\n  11: {'class': 'PERSON',\n   'x_top_left': 465.0,\n   'y_top_left': 407.0,\n   'x_bottom_right': 504.0,\n   'y_bottom_right': 475.0,\n   'confidence': 0.8707636594772339},\n  12: {'class': 'PERSON',\n   'x_top_left': 134.0,\n   'y_top_left': 256.0,\n   'x_bottom_right': 161.0,\n   'y_bottom_right': 340.0,\n   'confidence': 0.872180163860321},\n  13: {'class': 'PERSON',\n   'x_top_left': 780.0,\n   'y_top_left': 243.0,\n   'x_bottom_right': 816.0,\n   'y_bottom_right': 331.0,\n   'confidence': 0.8729594945907593},\n  14: {'class': 'PERSON',\n   'x_top_left': 1018.0,\n   'y_top_left': 385.0,\n   'x_bottom_right': 1054.0,\n   'y_bottom_right': 498.0,\n   'confidence': 0.8772826194763184},\n  15: {'class': 'PERSON',\n   'x_top_left': 355.0,\n   'y_top_left': 359.0,\n   'x_bottom_right': 404.0,\n   'y_bottom_right': 448.0,\n   'confidence': 0.8798726797103882},\n  16: {'class': 'PERSON',\n   'x_top_left': 166.0,\n   'y_top_left': 379.0,\n   'x_bottom_right': 198.0,\n   'y_bottom_right': 480.0,\n   'confidence': 0.8978152275085449},\n  17: {'class': 'PERSON',\n   'x_top_left': 930.0,\n   'y_top_left': 361.0,\n   'x_bottom_right': 968.0,\n   'y_bottom_right': 464.0,\n   'confidence': 0.9194413423538208}},\n 68.0: {0: {'class': 'CHAIR',\n   'x_top_left': 1167.0,\n   'y_top_left': 122.0,\n   'x_bottom_right': 1192.0,\n   'y_bottom_right': 149.0,\n   'confidence': 0.42108824849128723},\n  1: {'class': 'PERSON',\n   'x_top_left': 1087.0,\n   'y_top_left': 183.0,\n   'x_bottom_right': 1133.0,\n   'y_bottom_right': 225.0,\n   'confidence': 0.4474063217639923},\n  2: {'class': 'PERSON',\n   'x_top_left': 988.0,\n   'y_top_left': 96.0,\n   'x_bottom_right': 1010.0,\n   'y_bottom_right': 134.0,\n   'confidence': 0.45643627643585205},\n  3: {'class': 'PERSON',\n   'x_top_left': 1064.0,\n   'y_top_left': 146.0,\n   'x_bottom_right': 1087.0,\n   'y_bottom_right': 185.0,\n   'confidence': 0.46767428517341614},\n  4: {'class': 'PERSON',\n   'x_top_left': 783.0,\n   'y_top_left': 160.0,\n   'x_bottom_right': 819.0,\n   'y_bottom_right': 208.0,\n   'confidence': 0.5509738922119141},\n  5: {'class': 'PERSON',\n   'x_top_left': 953.0,\n   'y_top_left': 148.0,\n   'x_bottom_right': 970.0,\n   'y_bottom_right': 173.0,\n   'confidence': 0.5599862337112427},\n  6: {'class': 'PERSON',\n   'x_top_left': 535.0,\n   'y_top_left': 160.0,\n   'x_bottom_right': 567.0,\n   'y_bottom_right': 225.0,\n   'confidence': 0.5651231408119202},\n  7: {'class': 'PERSON',\n   'x_top_left': 640.0,\n   'y_top_left': 158.0,\n   'x_bottom_right': 679.0,\n   'y_bottom_right': 223.0,\n   'confidence': 0.5802319049835205},\n  8: {'class': 'PERSON',\n   'x_top_left': 1091.0,\n   'y_top_left': 149.0,\n   'x_bottom_right': 1113.0,\n   'y_bottom_right': 187.0,\n   'confidence': 0.6189702749252319},\n  9: {'class': 'PERSON',\n   'x_top_left': 105.0,\n   'y_top_left': 141.0,\n   'x_bottom_right': 132.0,\n   'y_bottom_right': 201.0,\n   'confidence': 0.6930185556411743},\n  10: {'class': 'PERSON',\n   'x_top_left': 275.0,\n   'y_top_left': 353.0,\n   'x_bottom_right': 319.0,\n   'y_bottom_right': 443.0,\n   'confidence': 0.8675265312194824},\n  11: {'class': 'PERSON',\n   'x_top_left': 409.0,\n   'y_top_left': 376.0,\n   'x_bottom_right': 450.0,\n   'y_bottom_right': 475.0,\n   'confidence': 0.8822255730628967},\n  12: {'class': 'PERSON',\n   'x_top_left': 99.0,\n   'y_top_left': 262.0,\n   'x_bottom_right': 142.0,\n   'y_bottom_right': 345.0,\n   'confidence': 0.8874009251594543},\n  13: {'class': 'PERSON',\n   'x_top_left': 784.0,\n   'y_top_left': 233.0,\n   'x_bottom_right': 824.0,\n   'y_bottom_right': 321.0,\n   'confidence': 0.8891012668609619},\n  14: {'class': 'PERSON',\n   'x_top_left': 98.0,\n   'y_top_left': 375.0,\n   'x_bottom_right': 135.0,\n   'y_bottom_right': 475.0,\n   'confidence': 0.9077814817428589},\n  15: {'class': 'PERSON',\n   'x_top_left': 892.0,\n   'y_top_left': 380.0,\n   'x_bottom_right': 934.0,\n   'y_bottom_right': 489.0,\n   'confidence': 0.9164736866950989},\n  16: {'class': 'PERSON',\n   'x_top_left': 952.0,\n   'y_top_left': 368.0,\n   'x_bottom_right': 989.0,\n   'y_bottom_right': 480.0,\n   'confidence': 0.9192124605178833}},\n 69.0: {0: {'class': 'CHAIR',\n   'x_top_left': 1202.0,\n   'y_top_left': 125.0,\n   'x_bottom_right': 1224.0,\n   'y_bottom_right': 152.0,\n   'confidence': 0.2559147775173187},\n  1: {'class': 'PERSON',\n   'x_top_left': 1021.0,\n   'y_top_left': 98.0,\n   'x_bottom_right': 1043.0,\n   'y_bottom_right': 137.0,\n   'confidence': 0.33075615763664246},\n  2: {'class': 'PERSON',\n   'x_top_left': 1120.0,\n   'y_top_left': 186.0,\n   'x_bottom_right': 1166.0,\n   'y_bottom_right': 230.0,\n   'confidence': 0.40552714467048645},\n  3: {'class': 'PERSON',\n   'x_top_left': 979.0,\n   'y_top_left': 154.0,\n   'x_bottom_right': 999.0,\n   'y_bottom_right': 175.0,\n   'confidence': 0.455891877412796},\n  4: {'class': 'PERSON',\n   'x_top_left': 1097.0,\n   'y_top_left': 149.0,\n   'x_bottom_right': 1121.0,\n   'y_bottom_right': 188.0,\n   'confidence': 0.4752216339111328},\n  5: {'class': 'PERSON',\n   'x_top_left': 1125.0,\n   'y_top_left': 151.0,\n   'x_bottom_right': 1147.0,\n   'y_bottom_right': 190.0,\n   'confidence': 0.5001624226570129},\n  6: {'class': 'PERSON',\n   'x_top_left': 0.0,\n   'y_top_left': 135.0,\n   'x_bottom_right': 19.0,\n   'y_bottom_right': 199.0,\n   'confidence': 0.5303649306297302},\n  7: {'class': 'PERSON',\n   'x_top_left': 808.0,\n   'y_top_left': 159.0,\n   'x_bottom_right': 834.0,\n   'y_bottom_right': 206.0,\n   'confidence': 0.6065731644630432},\n  8: {'class': 'PERSON',\n   'x_top_left': 253.0,\n   'y_top_left': 645.0,\n   'x_bottom_right': 282.0,\n   'y_bottom_right': 697.0,\n   'confidence': 0.6382735371589661},\n  9: {'class': 'PERSON',\n   'x_top_left': 395.0,\n   'y_top_left': 159.0,\n   'x_bottom_right': 432.0,\n   'y_bottom_right': 216.0,\n   'confidence': 0.6712703704833984},\n  10: {'class': 'PERSON',\n   'x_top_left': 565.0,\n   'y_top_left': 158.0,\n   'x_bottom_right': 602.0,\n   'y_bottom_right': 225.0,\n   'confidence': 0.6887417435646057},\n  11: {'class': 'PERSON',\n   'x_top_left': 210.0,\n   'y_top_left': 354.0,\n   'x_bottom_right': 242.0,\n   'y_bottom_right': 444.0,\n   'confidence': 0.8634110689163208},\n  12: {'class': 'PERSON',\n   'x_top_left': 920.0,\n   'y_top_left': 356.0,\n   'x_bottom_right': 954.0,\n   'y_bottom_right': 463.0,\n   'confidence': 0.8762247562408447},\n  13: {'class': 'PERSON',\n   'x_top_left': 817.0,\n   'y_top_left': 227.0,\n   'x_bottom_right': 853.0,\n   'y_bottom_right': 311.0,\n   'confidence': 0.8787240386009216},\n  14: {'class': 'PERSON',\n   'x_top_left': 883.0,\n   'y_top_left': 406.0,\n   'x_bottom_right': 932.0,\n   'y_bottom_right': 517.0,\n   'confidence': 0.8856779336929321},\n  15: {'class': 'PERSON',\n   'x_top_left': 32.0,\n   'y_top_left': 274.0,\n   'x_bottom_right': 74.0,\n   'y_bottom_right': 364.0,\n   'confidence': 0.8861313462257385},\n  16: {'class': 'PERSON',\n   'x_top_left': 142.0,\n   'y_top_left': 594.0,\n   'x_bottom_right': 223.0,\n   'y_bottom_right': 720.0,\n   'confidence': 0.8867103457450867},\n  17: {'class': 'PERSON',\n   'x_top_left': 50.0,\n   'y_top_left': 374.0,\n   'x_bottom_right': 96.0,\n   'y_bottom_right': 472.0,\n   'confidence': 0.9021180868148804},\n  18: {'class': 'PERSON',\n   'x_top_left': 388.0,\n   'y_top_left': 343.0,\n   'x_bottom_right': 424.0,\n   'y_bottom_right': 443.0,\n   'confidence': 0.9124858975410461}},\n 70.0: {0: {'class': 'PERSON',\n   'x_top_left': 1060.0,\n   'y_top_left': 461.0,\n   'x_bottom_right': 1279.0,\n   'y_bottom_right': 687.0,\n   'confidence': 0.36661985516548157},\n  1: {'class': 'PERSON',\n   'x_top_left': 1158.0,\n   'y_top_left': 567.0,\n   'x_bottom_right': 1279.0,\n   'y_bottom_right': 718.0,\n   'confidence': 0.4071020483970642},\n  2: {'class': 'PERSON',\n   'x_top_left': 767.0,\n   'y_top_left': 96.0,\n   'x_bottom_right': 957.0,\n   'y_bottom_right': 319.0,\n   'confidence': 0.4950447976589203},\n  3: {'class': 'PERSON',\n   'x_top_left': 842.0,\n   'y_top_left': 233.0,\n   'x_bottom_right': 1075.0,\n   'y_bottom_right': 491.0,\n   'confidence': 0.7148914337158203},\n  4: {'class': 'PERSON',\n   'x_top_left': 461.0,\n   'y_top_left': 104.0,\n   'x_bottom_right': 959.0,\n   'y_bottom_right': 712.0,\n   'confidence': 0.9415183663368225}},\n 71.0: {0: {'class': 'PERSON',\n   'x_top_left': 879.0,\n   'y_top_left': 308.0,\n   'x_bottom_right': 969.0,\n   'y_bottom_right': 439.0,\n   'confidence': 0.2576393485069275},\n  1: {'class': 'PERSON',\n   'x_top_left': 150.0,\n   'y_top_left': 316.0,\n   'x_bottom_right': 353.0,\n   'y_bottom_right': 499.0,\n   'confidence': 0.269858717918396},\n  2: {'class': 'PERSON',\n   'x_top_left': 965.0,\n   'y_top_left': 225.0,\n   'x_bottom_right': 1157.0,\n   'y_bottom_right': 451.0,\n   'confidence': 0.285803884267807},\n  3: {'class': 'PERSON',\n   'x_top_left': 862.0,\n   'y_top_left': 130.0,\n   'x_bottom_right': 1051.0,\n   'y_bottom_right': 338.0,\n   'confidence': 0.2932625412940979},\n  4: {'class': 'PERSON',\n   'x_top_left': 509.0,\n   'y_top_left': 572.0,\n   'x_bottom_right': 666.0,\n   'y_bottom_right': 720.0,\n   'confidence': 0.3078385591506958},\n  5: {'class': 'PERSON',\n   'x_top_left': 1074.0,\n   'y_top_left': 439.0,\n   'x_bottom_right': 1277.0,\n   'y_bottom_right': 717.0,\n   'confidence': 0.330513596534729},\n  6: {'class': 'PERSON',\n   'x_top_left': 1032.0,\n   'y_top_left': 323.0,\n   'x_bottom_right': 1278.0,\n   'y_bottom_right': 579.0,\n   'confidence': 0.3676244020462036},\n  7: {'class': 'PERSON',\n   'x_top_left': 1134.0,\n   'y_top_left': 586.0,\n   'x_bottom_right': 1280.0,\n   'y_bottom_right': 719.0,\n   'confidence': 0.37467607855796814},\n  8: {'class': 'PERSON',\n   'x_top_left': 2.0,\n   'y_top_left': 87.0,\n   'x_bottom_right': 204.0,\n   'y_bottom_right': 322.0,\n   'confidence': 0.40348073840141296},\n  9: {'class': 'PERSON',\n   'x_top_left': 366.0,\n   'y_top_left': 287.0,\n   'x_bottom_right': 561.0,\n   'y_bottom_right': 474.0,\n   'confidence': 0.43212440609931946},\n  10: {'class': 'PERSON',\n   'x_top_left': 445.0,\n   'y_top_left': 90.0,\n   'x_bottom_right': 658.0,\n   'y_bottom_right': 336.0,\n   'confidence': 0.5351219773292542},\n  11: {'class': 'PERSON',\n   'x_top_left': 870.0,\n   'y_top_left': 419.0,\n   'x_bottom_right': 1090.0,\n   'y_bottom_right': 693.0,\n   'confidence': 0.5697426795959473},\n  12: {'class': 'PERSON',\n   'x_top_left': 204.0,\n   'y_top_left': 79.0,\n   'x_bottom_right': 456.0,\n   'y_bottom_right': 421.0,\n   'confidence': 0.6805782318115234},\n  13: {'class': 'PERSON',\n   'x_top_left': 573.0,\n   'y_top_left': 105.0,\n   'x_bottom_right': 929.0,\n   'y_bottom_right': 712.0,\n   'confidence': 0.8711785674095154}},\n 72.0: {0: {'class': 'SPORTS_BALL',\n   'x_top_left': 689.0,\n   'y_top_left': 354.0,\n   'x_bottom_right': 747.0,\n   'y_bottom_right': 414.0,\n   'confidence': 0.2797352969646454},\n  1: {'class': 'PERSON',\n   'x_top_left': 389.0,\n   'y_top_left': 221.0,\n   'x_bottom_right': 547.0,\n   'y_bottom_right': 467.0,\n   'confidence': 0.3431367874145508},\n  2: {'class': 'PERSON',\n   'x_top_left': 1.0,\n   'y_top_left': 590.0,\n   'x_bottom_right': 182.0,\n   'y_bottom_right': 720.0,\n   'confidence': 0.3816130757331848},\n  3: {'class': 'PERSON',\n   'x_top_left': 732.0,\n   'y_top_left': 610.0,\n   'x_bottom_right': 895.0,\n   'y_bottom_right': 719.0,\n   'confidence': 0.42486873269081116},\n  4: {'class': 'PERSON',\n   'x_top_left': 872.0,\n   'y_top_left': 376.0,\n   'x_bottom_right': 1042.0,\n   'y_bottom_right': 633.0,\n   'confidence': 0.436540812253952},\n  5: {'class': 'PERSON',\n   'x_top_left': 169.0,\n   'y_top_left': 218.0,\n   'x_bottom_right': 390.0,\n   'y_bottom_right': 457.0,\n   'confidence': 0.44025251269340515},\n  6: {'class': 'PERSON',\n   'x_top_left': 1083.0,\n   'y_top_left': 112.0,\n   'x_bottom_right': 1279.0,\n   'y_bottom_right': 360.0,\n   'confidence': 0.5275585055351257},\n  7: {'class': 'PERSON',\n   'x_top_left': 385.0,\n   'y_top_left': 65.0,\n   'x_bottom_right': 612.0,\n   'y_bottom_right': 299.0,\n   'confidence': 0.5492435097694397},\n  8: {'class': 'PERSON',\n   'x_top_left': 0.0,\n   'y_top_left': 80.0,\n   'x_bottom_right': 167.0,\n   'y_bottom_right': 363.0,\n   'confidence': 0.6295171976089478},\n  9: {'class': 'PERSON',\n   'x_top_left': 167.0,\n   'y_top_left': 82.0,\n   'x_bottom_right': 411.0,\n   'y_bottom_right': 358.0,\n   'confidence': 0.6484258770942688},\n  10: {'class': 'PERSON',\n   'x_top_left': 911.0,\n   'y_top_left': 470.0,\n   'x_bottom_right': 1120.0,\n   'y_bottom_right': 718.0,\n   'confidence': 0.6846836805343628},\n  11: {'class': 'PERSON',\n   'x_top_left': 415.0,\n   'y_top_left': 72.0,\n   'x_bottom_right': 838.0,\n   'y_bottom_right': 716.0,\n   'confidence': 0.9274083971977234}},\n 73.0: {0: {'class': 'PERSON',\n   'x_top_left': 410.0,\n   'y_top_left': 166.0,\n   'x_bottom_right': 427.0,\n   'y_bottom_right': 192.0,\n   'confidence': 0.5312680006027222},\n  1: {'class': 'PERSON',\n   'x_top_left': 507.0,\n   'y_top_left': 290.0,\n   'x_bottom_right': 526.0,\n   'y_bottom_right': 352.0,\n   'confidence': 0.5919516086578369},\n  2: {'class': 'PERSON',\n   'x_top_left': 583.0,\n   'y_top_left': 176.0,\n   'x_bottom_right': 597.0,\n   'y_bottom_right': 215.0,\n   'confidence': 0.6739549040794373},\n  3: {'class': 'PERSON',\n   'x_top_left': 584.0,\n   'y_top_left': 689.0,\n   'x_bottom_right': 621.0,\n   'y_bottom_right': 719.0,\n   'confidence': 0.7191517353057861},\n  4: {'class': 'PERSON',\n   'x_top_left': 1189.0,\n   'y_top_left': 226.0,\n   'x_bottom_right': 1210.0,\n   'y_bottom_right': 280.0,\n   'confidence': 0.7554347515106201},\n  5: {'class': 'PERSON',\n   'x_top_left': 782.0,\n   'y_top_left': 169.0,\n   'x_bottom_right': 796.0,\n   'y_bottom_right': 209.0,\n   'confidence': 0.7598525285720825},\n  6: {'class': 'PERSON',\n   'x_top_left': 513.0,\n   'y_top_left': 301.0,\n   'x_bottom_right': 541.0,\n   'y_bottom_right': 361.0,\n   'confidence': 0.771083414554596},\n  7: {'class': 'PERSON',\n   'x_top_left': 1020.0,\n   'y_top_left': 190.0,\n   'x_bottom_right': 1039.0,\n   'y_bottom_right': 232.0,\n   'confidence': 0.7848548889160156},\n  8: {'class': 'PERSON',\n   'x_top_left': 60.0,\n   'y_top_left': 543.0,\n   'x_bottom_right': 111.0,\n   'y_bottom_right': 643.0,\n   'confidence': 0.7941336631774902},\n  9: {'class': 'PERSON',\n   'x_top_left': 453.0,\n   'y_top_left': 229.0,\n   'x_bottom_right': 470.0,\n   'y_bottom_right': 276.0,\n   'confidence': 0.8260524868965149},\n  10: {'class': 'PERSON',\n   'x_top_left': 267.0,\n   'y_top_left': 227.0,\n   'x_bottom_right': 283.0,\n   'y_bottom_right': 277.0,\n   'confidence': 0.8292961716651917},\n  11: {'class': 'PERSON',\n   'x_top_left': 826.0,\n   'y_top_left': 262.0,\n   'x_bottom_right': 846.0,\n   'y_bottom_right': 320.0,\n   'confidence': 0.8357582688331604},\n  12: {'class': 'PERSON',\n   'x_top_left': 1070.0,\n   'y_top_left': 313.0,\n   'x_bottom_right': 1095.0,\n   'y_bottom_right': 381.0,\n   'confidence': 0.839587390422821},\n  13: {'class': 'PERSON',\n   'x_top_left': 380.0,\n   'y_top_left': 271.0,\n   'x_bottom_right': 401.0,\n   'y_bottom_right': 327.0,\n   'confidence': 0.8439755439758301},\n  14: {'class': 'PERSON',\n   'x_top_left': 0.0,\n   'y_top_left': 543.0,\n   'x_bottom_right': 36.0,\n   'y_bottom_right': 649.0,\n   'confidence': 0.852310299873352},\n  15: {'class': 'PERSON',\n   'x_top_left': 1127.0,\n   'y_top_left': 423.0,\n   'x_bottom_right': 1160.0,\n   'y_bottom_right': 507.0,\n   'confidence': 0.8795372843742371}},\n 74.0: {0: {'class': 'PERSON',\n   'x_top_left': 786.0,\n   'y_top_left': 170.0,\n   'x_bottom_right': 801.0,\n   'y_bottom_right': 207.0,\n   'confidence': 0.5645594596862793},\n  1: {'class': 'PERSON',\n   'x_top_left': 359.0,\n   'y_top_left': 157.0,\n   'x_bottom_right': 382.0,\n   'y_bottom_right': 194.0,\n   'confidence': 0.6352709531784058},\n  2: {'class': 'PERSON',\n   'x_top_left': 588.0,\n   'y_top_left': 692.0,\n   'x_bottom_right': 626.0,\n   'y_bottom_right': 720.0,\n   'confidence': 0.6431266665458679},\n  3: {'class': 'PERSON',\n   'x_top_left': 1190.0,\n   'y_top_left': 225.0,\n   'x_bottom_right': 1211.0,\n   'y_bottom_right': 280.0,\n   'confidence': 0.6699346303939819},\n  4: {'class': 'PERSON',\n   'x_top_left': 565.0,\n   'y_top_left': 178.0,\n   'x_bottom_right': 579.0,\n   'y_bottom_right': 216.0,\n   'confidence': 0.6813730597496033},\n  5: {'class': 'PERSON',\n   'x_top_left': 469.0,\n   'y_top_left': 284.0,\n   'x_bottom_right': 489.0,\n   'y_bottom_right': 338.0,\n   'confidence': 0.7237353324890137},\n  6: {'class': 'PERSON',\n   'x_top_left': 998.0,\n   'y_top_left': 191.0,\n   'x_bottom_right': 1015.0,\n   'y_bottom_right': 234.0,\n   'confidence': 0.7605032920837402},\n  7: {'class': 'PERSON',\n   'x_top_left': 467.0,\n   'y_top_left': 225.0,\n   'x_bottom_right': 483.0,\n   'y_bottom_right': 272.0,\n   'confidence': 0.7763400673866272},\n  8: {'class': 'PERSON',\n   'x_top_left': 489.0,\n   'y_top_left': 300.0,\n   'x_bottom_right': 515.0,\n   'y_bottom_right': 359.0,\n   'confidence': 0.792800784111023},\n  9: {'class': 'PERSON',\n   'x_top_left': 355.0,\n   'y_top_left': 269.0,\n   'x_bottom_right': 376.0,\n   'y_bottom_right': 322.0,\n   'confidence': 0.8293466567993164},\n  10: {'class': 'PERSON',\n   'x_top_left': 1061.0,\n   'y_top_left': 319.0,\n   'x_bottom_right': 1084.0,\n   'y_bottom_right': 389.0,\n   'confidence': 0.8314493298530579},\n  11: {'class': 'PERSON',\n   'x_top_left': 827.0,\n   'y_top_left': 258.0,\n   'x_bottom_right': 846.0,\n   'y_bottom_right': 315.0,\n   'confidence': 0.8463079929351807},\n  12: {'class': 'PERSON',\n   'x_top_left': 285.0,\n   'y_top_left': 223.0,\n   'x_bottom_right': 303.0,\n   'y_bottom_right': 274.0,\n   'confidence': 0.8489629030227661},\n  13: {'class': 'PERSON',\n   'x_top_left': 1165.0,\n   'y_top_left': 441.0,\n   'x_bottom_right': 1197.0,\n   'y_bottom_right': 528.0,\n   'confidence': 0.8943575620651245},\n  14: {'class': 'PERSON',\n   'x_top_left': 0.0,\n   'y_top_left': 545.0,\n   'x_bottom_right': 56.0,\n   'y_bottom_right': 650.0,\n   'confidence': 0.9444050788879395}},\n 75.0: {0: {'class': 'PERSON',\n   'x_top_left': 969.0,\n   'y_top_left': 192.0,\n   'x_bottom_right': 984.0,\n   'y_bottom_right': 234.0,\n   'confidence': 0.5195617079734802},\n  1: {'class': 'PERSON',\n   'x_top_left': 1191.0,\n   'y_top_left': 226.0,\n   'x_bottom_right': 1214.0,\n   'y_bottom_right': 282.0,\n   'confidence': 0.5466300249099731},\n  2: {'class': 'PERSON',\n   'x_top_left': 322.0,\n   'y_top_left': 155.0,\n   'x_bottom_right': 341.0,\n   'y_bottom_right': 194.0,\n   'confidence': 0.588814914226532},\n  3: {'class': 'PERSON',\n   'x_top_left': 589.0,\n   'y_top_left': 693.0,\n   'x_bottom_right': 627.0,\n   'y_bottom_right': 719.0,\n   'confidence': 0.6387878656387329},\n  4: {'class': 'PERSON',\n   'x_top_left': 790.0,\n   'y_top_left': 170.0,\n   'x_bottom_right': 805.0,\n   'y_bottom_right': 208.0,\n   'confidence': 0.6753429174423218},\n  5: {'class': 'PERSON',\n   'x_top_left': 486.0,\n   'y_top_left': 222.0,\n   'x_bottom_right': 499.0,\n   'y_bottom_right': 267.0,\n   'confidence': 0.7271258234977722},\n  6: {'class': 'PERSON',\n   'x_top_left': 544.0,\n   'y_top_left': 179.0,\n   'x_bottom_right': 559.0,\n   'y_bottom_right': 217.0,\n   'confidence': 0.7376375198364258},\n  7: {'class': 'PERSON',\n   'x_top_left': 307.0,\n   'y_top_left': 221.0,\n   'x_bottom_right': 321.0,\n   'y_bottom_right': 270.0,\n   'confidence': 0.7842423319816589},\n  8: {'class': 'PERSON',\n   'x_top_left': 463.0,\n   'y_top_left': 295.0,\n   'x_bottom_right': 484.0,\n   'y_bottom_right': 354.0,\n   'confidence': 0.7922987937927246},\n  9: {'class': 'PERSON',\n   'x_top_left': 818.0,\n   'y_top_left': 252.0,\n   'x_bottom_right': 839.0,\n   'y_bottom_right': 308.0,\n   'confidence': 0.8134075999259949},\n  10: {'class': 'PERSON',\n   'x_top_left': 324.0,\n   'y_top_left': 265.0,\n   'x_bottom_right': 347.0,\n   'y_bottom_right': 320.0,\n   'confidence': 0.842268168926239},\n  11: {'class': 'PERSON',\n   'x_top_left': 441.0,\n   'y_top_left': 280.0,\n   'x_bottom_right': 462.0,\n   'y_bottom_right': 334.0,\n   'confidence': 0.8433113694190979},\n  12: {'class': 'PERSON',\n   'x_top_left': 1050.0,\n   'y_top_left': 325.0,\n   'x_bottom_right': 1075.0,\n   'y_bottom_right': 393.0,\n   'confidence': 0.8601362705230713},\n  13: {'class': 'PERSON',\n   'x_top_left': 1196.0,\n   'y_top_left': 457.0,\n   'x_bottom_right': 1232.0,\n   'y_bottom_right': 547.0,\n   'confidence': 0.8722960352897644},\n  14: {'class': 'PERSON',\n   'x_top_left': 82.0,\n   'y_top_left': 537.0,\n   'x_bottom_right': 136.0,\n   'y_bottom_right': 635.0,\n   'confidence': 0.8976512551307678}},\n 76.0: {0: {'class': 'PERSON',\n   'x_top_left': 760.0,\n   'y_top_left': 170.0,\n   'x_bottom_right': 773.0,\n   'y_bottom_right': 205.0,\n   'confidence': 0.39320170879364014},\n  1: {'class': 'PERSON',\n   'x_top_left': 556.0,\n   'y_top_left': 694.0,\n   'x_bottom_right': 594.0,\n   'y_bottom_right': 719.0,\n   'confidence': 0.5336381793022156},\n  2: {'class': 'PERSON',\n   'x_top_left': 502.0,\n   'y_top_left': 178.0,\n   'x_bottom_right': 513.0,\n   'y_bottom_right': 216.0,\n   'confidence': 0.5883743762969971},\n  3: {'class': 'PERSON',\n   'x_top_left': 1151.0,\n   'y_top_left': 225.0,\n   'x_bottom_right': 1174.0,\n   'y_bottom_right': 278.0,\n   'confidence': 0.6119657158851624},\n  4: {'class': 'PERSON',\n   'x_top_left': 305.0,\n   'y_top_left': 219.0,\n   'x_bottom_right': 321.0,\n   'y_bottom_right': 268.0,\n   'confidence': 0.7340390086174011},\n  5: {'class': 'PERSON',\n   'x_top_left': 907.0,\n   'y_top_left': 192.0,\n   'x_bottom_right': 927.0,\n   'y_bottom_right': 231.0,\n   'confidence': 0.7551493048667908},\n  6: {'class': 'PERSON',\n   'x_top_left': 260.0,\n   'y_top_left': 267.0,\n   'x_bottom_right': 276.0,\n   'y_bottom_right': 322.0,\n   'confidence': 0.7670143842697144},\n  7: {'class': 'PERSON',\n   'x_top_left': 410.0,\n   'y_top_left': 291.0,\n   'x_bottom_right': 429.0,\n   'y_bottom_right': 348.0,\n   'confidence': 0.7785354852676392},\n  8: {'class': 'PERSON',\n   'x_top_left': 476.0,\n   'y_top_left': 218.0,\n   'x_bottom_right': 492.0,\n   'y_bottom_right': 261.0,\n   'confidence': 0.8129076361656189},\n  9: {'class': 'PERSON',\n   'x_top_left': 390.0,\n   'y_top_left': 274.0,\n   'x_bottom_right': 410.0,\n   'y_bottom_right': 327.0,\n   'confidence': 0.8191949725151062},\n  10: {'class': 'PERSON',\n   'x_top_left': 774.0,\n   'y_top_left': 248.0,\n   'x_bottom_right': 795.0,\n   'y_bottom_right': 302.0,\n   'confidence': 0.8269371390342712},\n  11: {'class': 'PERSON',\n   'x_top_left': 1004.0,\n   'y_top_left': 327.0,\n   'x_bottom_right': 1031.0,\n   'y_bottom_right': 397.0,\n   'confidence': 0.8337754607200623},\n  12: {'class': 'PERSON',\n   'x_top_left': 1185.0,\n   'y_top_left': 463.0,\n   'x_bottom_right': 1217.0,\n   'y_bottom_right': 554.0,\n   'confidence': 0.8895034790039062},\n  13: {'class': 'PERSON',\n   'x_top_left': 141.0,\n   'y_top_left': 538.0,\n   'x_bottom_right': 197.0,\n   'y_bottom_right': 634.0,\n   'confidence': 0.9183641076087952}},\n 77.0: {0: {'class': 'SPORTS_BALL',\n   'x_top_left': 1257.0,\n   'y_top_left': 304.0,\n   'x_bottom_right': 1279.0,\n   'y_bottom_right': 323.0,\n   'confidence': 0.3178180158138275},\n  1: {'class': 'PERSON',\n   'x_top_left': 1246.0,\n   'y_top_left': 144.0,\n   'x_bottom_right': 1280.0,\n   'y_bottom_right': 244.0,\n   'confidence': 0.3561495244503021},\n  2: {'class': 'PERSON',\n   'x_top_left': 1.0,\n   'y_top_left': 171.0,\n   'x_bottom_right': 130.0,\n   'y_bottom_right': 656.0,\n   'confidence': 0.3712743818759918},\n  3: {'class': 'PERSON',\n   'x_top_left': 1114.0,\n   'y_top_left': 262.0,\n   'x_bottom_right': 1176.0,\n   'y_bottom_right': 309.0,\n   'confidence': 0.38263776898384094},\n  4: {'class': 'PERSON',\n   'x_top_left': 229.0,\n   'y_top_left': 162.0,\n   'x_bottom_right': 425.0,\n   'y_bottom_right': 655.0,\n   'confidence': 0.40502023696899414},\n  5: {'class': 'PERSON',\n   'x_top_left': 236.0,\n   'y_top_left': 165.0,\n   'x_bottom_right': 430.0,\n   'y_bottom_right': 344.0,\n   'confidence': 0.4467228353023529},\n  6: {'class': 'PERSON',\n   'x_top_left': 1137.0,\n   'y_top_left': 120.0,\n   'x_bottom_right': 1223.0,\n   'y_bottom_right': 263.0,\n   'confidence': 0.49828141927719116},\n  7: {'class': 'PERSON',\n   'x_top_left': 304.0,\n   'y_top_left': 115.0,\n   'x_bottom_right': 406.0,\n   'y_bottom_right': 235.0,\n   'confidence': 0.5181569457054138},\n  8: {'class': 'PERSON',\n   'x_top_left': 1060.0,\n   'y_top_left': 190.0,\n   'x_bottom_right': 1147.0,\n   'y_bottom_right': 307.0,\n   'confidence': 0.5335783958435059},\n  9: {'class': 'PERSON',\n   'x_top_left': 196.0,\n   'y_top_left': 131.0,\n   'x_bottom_right': 279.0,\n   'y_bottom_right': 232.0,\n   'confidence': 0.5717523694038391},\n  10: {'class': 'SPORTS_BALL',\n   'x_top_left': 537.0,\n   'y_top_left': 527.0,\n   'x_bottom_right': 651.0,\n   'y_bottom_right': 630.0,\n   'confidence': 0.6979284286499023},\n  11: {'class': 'PERSON',\n   'x_top_left': 106.0,\n   'y_top_left': 158.0,\n   'x_bottom_right': 239.0,\n   'y_bottom_right': 347.0,\n   'confidence': 0.7018926739692688},\n  12: {'class': 'SPORTS_BALL',\n   'x_top_left': 434.0,\n   'y_top_left': 529.0,\n   'x_bottom_right': 521.0,\n   'y_bottom_right': 649.0,\n   'confidence': 0.720354437828064},\n  13: {'class': 'PERSON',\n   'x_top_left': 408.0,\n   'y_top_left': 142.0,\n   'x_bottom_right': 560.0,\n   'y_bottom_right': 340.0,\n   'confidence': 0.7450379133224487},\n  14: {'class': 'PERSON',\n   'x_top_left': 1171.0,\n   'y_top_left': 189.0,\n   'x_bottom_right': 1271.0,\n   'y_bottom_right': 320.0,\n   'confidence': 0.7765408754348755},\n  15: {'class': 'PERSON',\n   'x_top_left': 0.0,\n   'y_top_left': 180.0,\n   'x_bottom_right': 110.0,\n   'y_bottom_right': 346.0,\n   'confidence': 0.7899507284164429},\n  16: {'class': 'PERSON',\n   'x_top_left': 576.0,\n   'y_top_left': 72.0,\n   'x_bottom_right': 802.0,\n   'y_bottom_right': 663.0,\n   'confidence': 0.8724654316902161},\n  17: {'class': 'SPORTS_BALL',\n   'x_top_left': 549.0,\n   'y_top_left': 584.0,\n   'x_bottom_right': 635.0,\n   'y_bottom_right': 663.0,\n   'confidence': 0.935477614402771},\n  18: {'class': 'PERSON',\n   'x_top_left': 765.0,\n   'y_top_left': 0.0,\n   'x_bottom_right': 1086.0,\n   'y_bottom_right': 719.0,\n   'confidence': 0.9553341269493103}},\n 78.0: {0: {'class': 'PERSON',\n   'x_top_left': 969.0,\n   'y_top_left': 193.0,\n   'x_bottom_right': 1040.0,\n   'y_bottom_right': 323.0,\n   'confidence': 0.2959336042404175},\n  1: {'class': 'PERSON',\n   'x_top_left': 291.0,\n   'y_top_left': 207.0,\n   'x_bottom_right': 402.0,\n   'y_bottom_right': 306.0,\n   'confidence': 0.29868197441101074},\n  2: {'class': 'PERSON',\n   'x_top_left': 100.0,\n   'y_top_left': 229.0,\n   'x_bottom_right': 155.0,\n   'y_bottom_right': 322.0,\n   'confidence': 0.32962408661842346},\n  3: {'class': 'PERSON',\n   'x_top_left': 1177.0,\n   'y_top_left': 187.0,\n   'x_bottom_right': 1279.0,\n   'y_bottom_right': 342.0,\n   'confidence': 0.34060952067375183},\n  4: {'class': 'PERSON',\n   'x_top_left': 941.0,\n   'y_top_left': 325.0,\n   'x_bottom_right': 995.0,\n   'y_bottom_right': 365.0,\n   'confidence': 0.35840651392936707},\n  5: {'class': 'PERSON',\n   'x_top_left': 895.0,\n   'y_top_left': 262.0,\n   'x_bottom_right': 974.0,\n   'y_bottom_right': 361.0,\n   'confidence': 0.43117865920066833},\n  6: {'class': 'PERSON',\n   'x_top_left': 856.0,\n   'y_top_left': 226.0,\n   'x_bottom_right': 922.0,\n   'y_bottom_right': 321.0,\n   'confidence': 0.45327475666999817},\n  7: {'class': 'PERSON',\n   'x_top_left': 116.0,\n   'y_top_left': 333.0,\n   'x_bottom_right': 178.0,\n   'y_bottom_right': 395.0,\n   'confidence': 0.45674359798431396},\n  8: {'class': 'PERSON',\n   'x_top_left': 142.0,\n   'y_top_left': 233.0,\n   'x_bottom_right': 259.0,\n   'y_bottom_right': 361.0,\n   'confidence': 0.4581057131290436},\n  9: {'class': 'PERSON',\n   'x_top_left': 171.0,\n   'y_top_left': 304.0,\n   'x_bottom_right': 260.0,\n   'y_bottom_right': 390.0,\n   'confidence': 0.5240811705589294},\n  10: {'class': 'PERSON',\n   'x_top_left': 1062.0,\n   'y_top_left': 185.0,\n   'x_bottom_right': 1181.0,\n   'y_bottom_right': 323.0,\n   'confidence': 0.535504162311554},\n  11: {'class': 'PERSON',\n   'x_top_left': 193.0,\n   'y_top_left': 190.0,\n   'x_bottom_right': 279.0,\n   'y_bottom_right': 295.0,\n   'confidence': 0.5419149994850159},\n  12: {'class': 'PERSON',\n   'x_top_left': 1129.0,\n   'y_top_left': 280.0,\n   'x_bottom_right': 1199.0,\n   'y_bottom_right': 381.0,\n   'confidence': 0.55237877368927},\n  13: {'class': 'PERSON',\n   'x_top_left': 255.0,\n   'y_top_left': 205.0,\n   'x_bottom_right': 405.0,\n   'y_bottom_right': 394.0,\n   'confidence': 0.580706000328064},\n  14: {'class': 'PERSON',\n   'x_top_left': 815.0,\n   'y_top_left': 274.0,\n   'x_bottom_right': 937.0,\n   'y_bottom_right': 363.0,\n   'confidence': 0.6399096250534058},\n  15: {'class': 'PERSON',\n   'x_top_left': 1045.0,\n   'y_top_left': 281.0,\n   'x_bottom_right': 1161.0,\n   'y_bottom_right': 381.0,\n   'confidence': 0.6532289981842041},\n  16: {'class': 'PERSON',\n   'x_top_left': 764.0,\n   'y_top_left': 196.0,\n   'x_bottom_right': 854.0,\n   'y_bottom_right': 349.0,\n   'confidence': 0.6813649535179138},\n  17: {'class': 'SPORTS_BALL',\n   'x_top_left': 407.0,\n   'y_top_left': 562.0,\n   'x_bottom_right': 528.0,\n   'y_bottom_right': 672.0,\n   'confidence': 0.7438105344772339},\n  18: {'class': 'PERSON',\n   'x_top_left': 988.0,\n   'y_top_left': 250.0,\n   'x_bottom_right': 1074.0,\n   'y_bottom_right': 371.0,\n   'confidence': 0.7582146525382996},\n  19: {'class': 'PERSON',\n   'x_top_left': 1197.0,\n   'y_top_left': 248.0,\n   'x_bottom_right': 1280.0,\n   'y_bottom_right': 382.0,\n   'confidence': 0.8052263855934143},\n  20: {'class': 'PERSON',\n   'x_top_left': 11.0,\n   'y_top_left': 222.0,\n   'x_bottom_right': 132.0,\n   'y_bottom_right': 395.0,\n   'confidence': 0.8536620140075684},\n  21: {'class': 'PERSON',\n   'x_top_left': 497.0,\n   'y_top_left': 1.0,\n   'x_bottom_right': 804.0,\n   'y_bottom_right': 715.0,\n   'confidence': 0.9498172402381897},\n  22: {'class': 'SPORTS_BALL',\n   'x_top_left': 421.0,\n   'y_top_left': 616.0,\n   'x_bottom_right': 499.0,\n   'y_bottom_right': 690.0,\n   'confidence': 0.9568914771080017}},\n 79.0: {0: {'class': 'PERSON',\n   'x_top_left': 1182.0,\n   'y_top_left': 335.0,\n   'x_bottom_right': 1232.0,\n   'y_bottom_right': 390.0,\n   'confidence': 0.3524186909198761},\n  1: {'class': 'PERSON',\n   'x_top_left': 1152.0,\n   'y_top_left': 193.0,\n   'x_bottom_right': 1269.0,\n   'y_bottom_right': 306.0,\n   'confidence': 0.5110506415367126},\n  2: {'class': 'PERSON',\n   'x_top_left': 261.0,\n   'y_top_left': 216.0,\n   'x_bottom_right': 359.0,\n   'y_bottom_right': 334.0,\n   'confidence': 0.5161546468734741},\n  3: {'class': 'PERSON',\n   'x_top_left': 1.0,\n   'y_top_left': 247.0,\n   'x_bottom_right': 99.0,\n   'y_bottom_right': 397.0,\n   'confidence': 0.5215076804161072},\n  4: {'class': 'PERSON',\n   'x_top_left': 353.0,\n   'y_top_left': 250.0,\n   'x_bottom_right': 442.0,\n   'y_bottom_right': 402.0,\n   'confidence': 0.557682454586029},\n  5: {'class': 'PERSON',\n   'x_top_left': 154.0,\n   'y_top_left': 189.0,\n   'x_bottom_right': 250.0,\n   'y_bottom_right': 311.0,\n   'confidence': 0.5670211315155029},\n  6: {'class': 'PERSON',\n   'x_top_left': 1112.0,\n   'y_top_left': 295.0,\n   'x_bottom_right': 1172.0,\n   'y_bottom_right': 388.0,\n   'confidence': 0.5881355404853821},\n  7: {'class': 'SPORTS_BALL',\n   'x_top_left': 371.0,\n   'y_top_left': 570.0,\n   'x_bottom_right': 492.0,\n   'y_bottom_right': 678.0,\n   'confidence': 0.6130046844482422},\n  8: {'class': 'PERSON',\n   'x_top_left': 182.0,\n   'y_top_left': 295.0,\n   'x_bottom_right': 276.0,\n   'y_bottom_right': 400.0,\n   'confidence': 0.629496157169342},\n  9: {'class': 'PERSON',\n   'x_top_left': 255.0,\n   'y_top_left': 284.0,\n   'x_bottom_right': 394.0,\n   'y_bottom_right': 402.0,\n   'confidence': 0.6581184267997742},\n  10: {'class': 'SPORTS_BALL',\n   'x_top_left': 1074.0,\n   'y_top_left': 585.0,\n   'x_bottom_right': 1122.0,\n   'y_bottom_right': 636.0,\n   'confidence': 0.6724082827568054},\n  11: {'class': 'PERSON',\n   'x_top_left': 1011.0,\n   'y_top_left': 292.0,\n   'x_bottom_right': 1128.0,\n   'y_bottom_right': 389.0,\n   'confidence': 0.6852172017097473},\n  12: {'class': 'PERSON',\n   'x_top_left': 775.0,\n   'y_top_left': 274.0,\n   'x_bottom_right': 911.0,\n   'y_bottom_right': 377.0,\n   'confidence': 0.722846269607544},\n  13: {'class': 'PERSON',\n   'x_top_left': 104.0,\n   'y_top_left': 238.0,\n   'x_bottom_right': 221.0,\n   'y_bottom_right': 402.0,\n   'confidence': 0.7484743595123291},\n  14: {'class': 'PERSON',\n   'x_top_left': 957.0,\n   'y_top_left': 257.0,\n   'x_bottom_right': 1042.0,\n   'y_bottom_right': 386.0,\n   'confidence': 0.7578747272491455},\n  15: {'class': 'PERSON',\n   'x_top_left': 1165.0,\n   'y_top_left': 257.0,\n   'x_bottom_right': 1277.0,\n   'y_bottom_right': 387.0,\n   'confidence': 0.7753955721855164},\n  16: {'class': 'PERSON',\n   'x_top_left': 441.0,\n   'y_top_left': 3.0,\n   'x_bottom_right': 804.0,\n   'y_bottom_right': 716.0,\n   'confidence': 0.8209570646286011},\n  17: {'class': 'SPORTS_BALL',\n   'x_top_left': 383.0,\n   'y_top_left': 622.0,\n   'x_bottom_right': 464.0,\n   'y_bottom_right': 697.0,\n   'confidence': 0.9391170144081116}},\n 80.0: {0: {'class': 'PERSON',\n   'x_top_left': 1065.0,\n   'y_top_left': 177.0,\n   'x_bottom_right': 1080.0,\n   'y_bottom_right': 203.0,\n   'confidence': 0.29582470655441284},\n  1: {'class': 'PERSON',\n   'x_top_left': 1239.0,\n   'y_top_left': 212.0,\n   'x_bottom_right': 1253.0,\n   'y_bottom_right': 225.0,\n   'confidence': 0.30942556262016296},\n  2: {'class': 'PERSON',\n   'x_top_left': 1093.0,\n   'y_top_left': 228.0,\n   'x_bottom_right': 1106.0,\n   'y_bottom_right': 281.0,\n   'confidence': 0.49990591406822205},\n  3: {'class': 'PERSON',\n   'x_top_left': 910.0,\n   'y_top_left': 197.0,\n   'x_bottom_right': 927.0,\n   'y_bottom_right': 239.0,\n   'confidence': 0.6998381614685059},\n  4: {'class': 'PERSON',\n   'x_top_left': 467.0,\n   'y_top_left': 189.0,\n   'x_bottom_right': 480.0,\n   'y_bottom_right': 228.0,\n   'confidence': 0.7532889246940613},\n  5: {'class': 'PERSON',\n   'x_top_left': 734.0,\n   'y_top_left': 178.0,\n   'x_bottom_right': 750.0,\n   'y_bottom_right': 215.0,\n   'confidence': 0.7673466801643372},\n  6: {'class': 'PERSON',\n   'x_top_left': 500.0,\n   'y_top_left': 231.0,\n   'x_bottom_right': 516.0,\n   'y_bottom_right': 277.0,\n   'confidence': 0.7785680294036865},\n  7: {'class': 'PERSON',\n   'x_top_left': 361.0,\n   'y_top_left': 226.0,\n   'x_bottom_right': 377.0,\n   'y_bottom_right': 273.0,\n   'confidence': 0.8051096796989441},\n  8: {'class': 'PERSON',\n   'x_top_left': 266.0,\n   'y_top_left': 291.0,\n   'x_bottom_right': 289.0,\n   'y_bottom_right': 345.0,\n   'confidence': 0.8296014666557312},\n  9: {'class': 'PERSON',\n   'x_top_left': 1136.0,\n   'y_top_left': 475.0,\n   'x_bottom_right': 1157.0,\n   'y_bottom_right': 561.0,\n   'confidence': 0.8331770896911621},\n  10: {'class': 'PERSON',\n   'x_top_left': 714.0,\n   'y_top_left': 242.0,\n   'x_bottom_right': 733.0,\n   'y_bottom_right': 294.0,\n   'confidence': 0.836344838142395},\n  11: {'class': 'PERSON',\n   'x_top_left': 317.0,\n   'y_top_left': 301.0,\n   'x_bottom_right': 338.0,\n   'y_bottom_right': 359.0,\n   'confidence': 0.8389973044395447},\n  12: {'class': 'PERSON',\n   'x_top_left': 187.0,\n   'y_top_left': 278.0,\n   'x_bottom_right': 210.0,\n   'y_bottom_right': 336.0,\n   'confidence': 0.882620632648468},\n  13: {'class': 'PERSON',\n   'x_top_left': 868.0,\n   'y_top_left': 353.0,\n   'x_bottom_right': 900.0,\n   'y_bottom_right': 423.0,\n   'confidence': 0.8953308463096619}},\n 81.0: {0: {'class': 'PERSON',\n   'x_top_left': 1241.0,\n   'y_top_left': 211.0,\n   'x_bottom_right': 1253.0,\n   'y_bottom_right': 225.0,\n   'confidence': 0.26043814420700073},\n  1: {'class': 'PERSON',\n   'x_top_left': 1089.0,\n   'y_top_left': 181.0,\n   'x_bottom_right': 1105.0,\n   'y_bottom_right': 206.0,\n   'confidence': 0.388449490070343},\n  2: {'class': 'PERSON',\n   'x_top_left': 1070.0,\n   'y_top_left': 233.0,\n   'x_bottom_right': 1088.0,\n   'y_bottom_right': 281.0,\n   'confidence': 0.6931861042976379},\n  3: {'class': 'PERSON',\n   'x_top_left': 474.0,\n   'y_top_left': 238.0,\n   'x_bottom_right': 494.0,\n   'y_bottom_right': 280.0,\n   'confidence': 0.7144384384155273},\n  4: {'class': 'PERSON',\n   'x_top_left': 927.0,\n   'y_top_left': 196.0,\n   'x_bottom_right': 944.0,\n   'y_bottom_right': 236.0,\n   'confidence': 0.7260544300079346},\n  5: {'class': 'PERSON',\n   'x_top_left': 460.0,\n   'y_top_left': 191.0,\n   'x_bottom_right': 477.0,\n   'y_bottom_right': 228.0,\n   'confidence': 0.7514004707336426},\n  6: {'class': 'PERSON',\n   'x_top_left': 734.0,\n   'y_top_left': 178.0,\n   'x_bottom_right': 749.0,\n   'y_bottom_right': 215.0,\n   'confidence': 0.7583628296852112},\n  7: {'class': 'PERSON',\n   'x_top_left': 239.0,\n   'y_top_left': 296.0,\n   'x_bottom_right': 263.0,\n   'y_bottom_right': 352.0,\n   'confidence': 0.7919597625732422},\n  8: {'class': 'PERSON',\n   'x_top_left': 834.0,\n   'y_top_left': 362.0,\n   'x_bottom_right': 855.0,\n   'y_bottom_right': 436.0,\n   'confidence': 0.8208639025688171},\n  9: {'class': 'PERSON',\n   'x_top_left': 208.0,\n   'y_top_left': 269.0,\n   'x_bottom_right': 228.0,\n   'y_bottom_right': 324.0,\n   'confidence': 0.824910581111908},\n  10: {'class': 'PERSON',\n   'x_top_left': 345.0,\n   'y_top_left': 228.0,\n   'x_bottom_right': 361.0,\n   'y_bottom_right': 276.0,\n   'confidence': 0.8279013633728027},\n  11: {'class': 'PERSON',\n   'x_top_left': 702.0,\n   'y_top_left': 244.0,\n   'x_bottom_right': 717.0,\n   'y_bottom_right': 294.0,\n   'confidence': 0.834467887878418},\n  12: {'class': 'PERSON',\n   'x_top_left': 292.0,\n   'y_top_left': 302.0,\n   'x_bottom_right': 319.0,\n   'y_bottom_right': 359.0,\n   'confidence': 0.8630169034004211},\n  13: {'class': 'PERSON',\n   'x_top_left': 1103.0,\n   'y_top_left': 470.0,\n   'x_bottom_right': 1133.0,\n   'y_bottom_right': 561.0,\n   'confidence': 0.9090176224708557}},\n 82.0: {0: {'class': 'PERSON',\n   'x_top_left': 1129.0,\n   'y_top_left': 182.0,\n   'x_bottom_right': 1147.0,\n   'y_bottom_right': 209.0,\n   'confidence': 0.33026939630508423},\n  1: {'class': 'PERSON',\n   'x_top_left': 957.0,\n   'y_top_left': 194.0,\n   'x_bottom_right': 971.0,\n   'y_bottom_right': 237.0,\n   'confidence': 0.6386010646820068},\n  2: {'class': 'PERSON',\n   'x_top_left': 425.0,\n   'y_top_left': 241.0,\n   'x_bottom_right': 442.0,\n   'y_bottom_right': 282.0,\n   'confidence': 0.6850807666778564},\n  3: {'class': 'PERSON',\n   'x_top_left': 444.0,\n   'y_top_left': 194.0,\n   'x_bottom_right': 461.0,\n   'y_bottom_right': 230.0,\n   'confidence': 0.6884756088256836},\n  4: {'class': 'PERSON',\n   'x_top_left': 225.0,\n   'y_top_left': 265.0,\n   'x_bottom_right': 247.0,\n   'y_bottom_right': 313.0,\n   'confidence': 0.6887559294700623},\n  5: {'class': 'PERSON',\n   'x_top_left': 1016.0,\n   'y_top_left': 239.0,\n   'x_bottom_right': 1041.0,\n   'y_bottom_right': 286.0,\n   'confidence': 0.7382979989051819},\n  6: {'class': 'PERSON',\n   'x_top_left': 718.0,\n   'y_top_left': 179.0,\n   'x_bottom_right': 739.0,\n   'y_bottom_right': 216.0,\n   'confidence': 0.7420396208763123},\n  7: {'class': 'PERSON',\n   'x_top_left': 224.0,\n   'y_top_left': 299.0,\n   'x_bottom_right': 248.0,\n   'y_bottom_right': 358.0,\n   'confidence': 0.7765328288078308},\n  8: {'class': 'PERSON',\n   'x_top_left': 685.0,\n   'y_top_left': 244.0,\n   'x_bottom_right': 699.0,\n   'y_bottom_right': 293.0,\n   'confidence': 0.8217460513114929},\n  9: {'class': 'PERSON',\n   'x_top_left': 330.0,\n   'y_top_left': 228.0,\n   'x_bottom_right': 351.0,\n   'y_bottom_right': 277.0,\n   'confidence': 0.8313401937484741},\n  10: {'class': 'PERSON',\n   'x_top_left': 260.0,\n   'y_top_left': 304.0,\n   'x_bottom_right': 292.0,\n   'y_bottom_right': 360.0,\n   'confidence': 0.8775972127914429},\n  11: {'class': 'PERSON',\n   'x_top_left': 781.0,\n   'y_top_left': 369.0,\n   'x_bottom_right': 811.0,\n   'y_bottom_right': 444.0,\n   'confidence': 0.878221869468689},\n  12: {'class': 'PERSON',\n   'x_top_left': 1100.0,\n   'y_top_left': 473.0,\n   'x_bottom_right': 1132.0,\n   'y_bottom_right': 562.0,\n   'confidence': 0.8903937935829163}},\n 83.0: {0: {'class': 'PERSON',\n   'x_top_left': 1264.0,\n   'y_top_left': 214.0,\n   'x_bottom_right': 1277.0,\n   'y_bottom_right': 228.0,\n   'confidence': 0.3110862374305725},\n  1: {'class': 'PERSON',\n   'x_top_left': 1167.0,\n   'y_top_left': 190.0,\n   'x_bottom_right': 1182.0,\n   'y_bottom_right': 216.0,\n   'confidence': 0.4026643931865692},\n  2: {'class': 'PERSON',\n   'x_top_left': 403.0,\n   'y_top_left': 198.0,\n   'x_bottom_right': 418.0,\n   'y_bottom_right': 236.0,\n   'confidence': 0.6333549618721008},\n  3: {'class': 'PERSON',\n   'x_top_left': 971.0,\n   'y_top_left': 196.0,\n   'x_bottom_right': 987.0,\n   'y_bottom_right': 238.0,\n   'confidence': 0.6610040664672852},\n  4: {'class': 'PERSON',\n   'x_top_left': 938.0,\n   'y_top_left': 243.0,\n   'x_bottom_right': 958.0,\n   'y_bottom_right': 291.0,\n   'confidence': 0.6962242722511292},\n  5: {'class': 'PERSON',\n   'x_top_left': 202.0,\n   'y_top_left': 270.0,\n   'x_bottom_right': 223.0,\n   'y_bottom_right': 317.0,\n   'confidence': 0.706115186214447},\n  6: {'class': 'PERSON',\n   'x_top_left': 358.0,\n   'y_top_left': 244.0,\n   'x_bottom_right': 375.0,\n   'y_bottom_right': 288.0,\n   'confidence': 0.7337735891342163},\n  7: {'class': 'PERSON',\n   'x_top_left': 657.0,\n   'y_top_left': 246.0,\n   'x_bottom_right': 675.0,\n   'y_bottom_right': 295.0,\n   'confidence': 0.754807710647583},\n  8: {'class': 'PERSON',\n   'x_top_left': 212.0,\n   'y_top_left': 303.0,\n   'x_bottom_right': 240.0,\n   'y_bottom_right': 361.0,\n   'confidence': 0.7615295052528381},\n  9: {'class': 'PERSON',\n   'x_top_left': 662.0,\n   'y_top_left': 187.0,\n   'x_bottom_right': 678.0,\n   'y_bottom_right': 227.0,\n   'confidence': 0.7661299109458923},\n  10: {'class': 'PERSON',\n   'x_top_left': 238.0,\n   'y_top_left': 307.0,\n   'x_bottom_right': 270.0,\n   'y_bottom_right': 364.0,\n   'confidence': 0.8094690442085266},\n  11: {'class': 'PERSON',\n   'x_top_left': 303.0,\n   'y_top_left': 237.0,\n   'x_bottom_right': 334.0,\n   'y_bottom_right': 280.0,\n   'confidence': 0.8615134954452515},\n  12: {'class': 'PERSON',\n   'x_top_left': 746.0,\n   'y_top_left': 373.0,\n   'x_bottom_right': 772.0,\n   'y_bottom_right': 449.0,\n   'confidence': 0.9014819860458374},\n  13: {'class': 'PERSON',\n   'x_top_left': 1145.0,\n   'y_top_left': 462.0,\n   'x_bottom_right': 1184.0,\n   'y_bottom_right': 546.0,\n   'confidence': 0.9066301584243774}},\n 84.0: {0: {'class': 'PERSON',\n   'x_top_left': 1246.0,\n   'y_top_left': 184.0,\n   'x_bottom_right': 1264.0,\n   'y_bottom_right': 211.0,\n   'confidence': 0.28343436121940613},\n  1: {'class': 'PERSON',\n   'x_top_left': 1214.0,\n   'y_top_left': 216.0,\n   'x_bottom_right': 1233.0,\n   'y_bottom_right': 252.0,\n   'confidence': 0.28363415598869324},\n  2: {'class': 'PERSON',\n   'x_top_left': 1148.0,\n   'y_top_left': 200.0,\n   'x_bottom_right': 1165.0,\n   'y_bottom_right': 241.0,\n   'confidence': 0.41424834728240967},\n  3: {'class': 'PERSON',\n   'x_top_left': 1218.0,\n   'y_top_left': 216.0,\n   'x_bottom_right': 1233.0,\n   'y_bottom_right': 235.0,\n   'confidence': 0.4356130361557007},\n  4: {'class': 'PERSON',\n   'x_top_left': 176.0,\n   'y_top_left': 312.0,\n   'x_bottom_right': 192.0,\n   'y_bottom_right': 368.0,\n   'confidence': 0.45122256875038147},\n  5: {'class': 'PERSON',\n   'x_top_left': 562.0,\n   'y_top_left': 202.0,\n   'x_bottom_right': 578.0,\n   'y_bottom_right': 241.0,\n   'confidence': 0.577431857585907},\n  6: {'class': 'PERSON',\n   'x_top_left': 940.0,\n   'y_top_left': 205.0,\n   'x_bottom_right': 957.0,\n   'y_bottom_right': 242.0,\n   'confidence': 0.6696141362190247},\n  7: {'class': 'PERSON',\n   'x_top_left': 321.0,\n   'y_top_left': 212.0,\n   'x_bottom_right': 334.0,\n   'y_bottom_right': 248.0,\n   'confidence': 0.6710460782051086},\n  8: {'class': 'PERSON',\n   'x_top_left': 262.0,\n   'y_top_left': 257.0,\n   'x_bottom_right': 280.0,\n   'y_bottom_right': 303.0,\n   'confidence': 0.7259654998779297},\n  9: {'class': 'PERSON',\n   'x_top_left': 826.0,\n   'y_top_left': 257.0,\n   'x_bottom_right': 845.0,\n   'y_bottom_right': 305.0,\n   'confidence': 0.7628815174102783},\n  10: {'class': 'PERSON',\n   'x_top_left': 221.0,\n   'y_top_left': 246.0,\n   'x_bottom_right': 239.0,\n   'y_bottom_right': 292.0,\n   'confidence': 0.7980989217758179},\n  11: {'class': 'PERSON',\n   'x_top_left': 179.0,\n   'y_top_left': 312.0,\n   'x_bottom_right': 216.0,\n   'y_bottom_right': 371.0,\n   'confidence': 0.8118100166320801},\n  12: {'class': 'PERSON',\n   'x_top_left': 585.0,\n   'y_top_left': 249.0,\n   'x_bottom_right': 603.0,\n   'y_bottom_right': 300.0,\n   'confidence': 0.8243231177330017},\n  13: {'class': 'PERSON',\n   'x_top_left': 128.0,\n   'y_top_left': 286.0,\n   'x_bottom_right': 154.0,\n   'y_bottom_right': 341.0,\n   'confidence': 0.8381494879722595},\n  14: {'class': 'PERSON',\n   'x_top_left': 740.0,\n   'y_top_left': 374.0,\n   'x_bottom_right': 768.0,\n   'y_bottom_right': 446.0,\n   'confidence': 0.8514391183853149},\n  15: {'class': 'PERSON',\n   'x_top_left': 1207.0,\n   'y_top_left': 436.0,\n   'x_bottom_right': 1240.0,\n   'y_bottom_right': 513.0,\n   'confidence': 0.880424439907074}},\n 85.0: {0: {'class': 'PERSON',\n   'x_top_left': 1153.0,\n   'y_top_left': 221.0,\n   'x_bottom_right': 1166.0,\n   'y_bottom_right': 257.0,\n   'confidence': 0.2516993582248688},\n  1: {'class': 'PERSON',\n   'x_top_left': 1177.0,\n   'y_top_left': 190.0,\n   'x_bottom_right': 1193.0,\n   'y_bottom_right': 216.0,\n   'confidence': 0.2549687325954437},\n  2: {'class': 'PERSON',\n   'x_top_left': 1246.0,\n   'y_top_left': 225.0,\n   'x_bottom_right': 1260.0,\n   'y_bottom_right': 250.0,\n   'confidence': 0.335799902677536},\n  3: {'class': 'PERSON',\n   'x_top_left': 1224.0,\n   'y_top_left': 223.0,\n   'x_bottom_right': 1240.0,\n   'y_bottom_right': 247.0,\n   'confidence': 0.3422645032405853},\n  4: {'class': 'PERSON',\n   'x_top_left': 94.0,\n   'y_top_left': 324.0,\n   'x_bottom_right': 107.0,\n   'y_bottom_right': 384.0,\n   'confidence': 0.3535744249820709},\n  5: {'class': 'PERSON',\n   'x_top_left': 1115.0,\n   'y_top_left': 208.0,\n   'x_bottom_right': 1129.0,\n   'y_bottom_right': 237.0,\n   'confidence': 0.3683190643787384},\n  6: {'class': 'PERSON',\n   'x_top_left': 885.0,\n   'y_top_left': 208.0,\n   'x_bottom_right': 898.0,\n   'y_bottom_right': 247.0,\n   'confidence': 0.5311599969863892},\n  7: {'class': 'PERSON',\n   'x_top_left': 97.0,\n   'y_top_left': 262.0,\n   'x_bottom_right': 116.0,\n   'y_bottom_right': 309.0,\n   'confidence': 0.5702636241912842},\n  8: {'class': 'PERSON',\n   'x_top_left': 136.0,\n   'y_top_left': 274.0,\n   'x_bottom_right': 152.0,\n   'y_bottom_right': 319.0,\n   'confidence': 0.5780445337295532},\n  9: {'class': 'PERSON',\n   'x_top_left': 205.0,\n   'y_top_left': 223.0,\n   'x_bottom_right': 220.0,\n   'y_bottom_right': 260.0,\n   'confidence': 0.5874508619308472},\n  10: {'class': 'PERSON',\n   'x_top_left': 700.0,\n   'y_top_left': 269.0,\n   'x_bottom_right': 715.0,\n   'y_bottom_right': 319.0,\n   'confidence': 0.7087475061416626},\n  11: {'class': 'PERSON',\n   'x_top_left': 497.0,\n   'y_top_left': 264.0,\n   'x_bottom_right': 514.0,\n   'y_bottom_right': 309.0,\n   'confidence': 0.7530302405357361},\n  12: {'class': 'PERSON',\n   'x_top_left': 444.0,\n   'y_top_left': 215.0,\n   'x_bottom_right': 456.0,\n   'y_bottom_right': 256.0,\n   'confidence': 0.7880670428276062},\n  13: {'class': 'PERSON',\n   'x_top_left': 97.0,\n   'y_top_left': 325.0,\n   'x_bottom_right': 128.0,\n   'y_bottom_right': 384.0,\n   'confidence': 0.799540102481842},\n  14: {'class': 'PERSON',\n   'x_top_left': 7.0,\n   'y_top_left': 308.0,\n   'x_bottom_right': 37.0,\n   'y_bottom_right': 365.0,\n   'confidence': 0.8441784977912903},\n  15: {'class': 'PERSON',\n   'x_top_left': 1180.0,\n   'y_top_left': 426.0,\n   'x_bottom_right': 1221.0,\n   'y_bottom_right': 493.0,\n   'confidence': 0.8460882306098938},\n  16: {'class': 'PERSON',\n   'x_top_left': 707.0,\n   'y_top_left': 377.0,\n   'x_bottom_right': 733.0,\n   'y_bottom_right': 448.0,\n   'confidence': 0.8688132762908936}},\n 86.0: {0: {'class': 'PERSON',\n   'x_top_left': 1245.0,\n   'y_top_left': 223.0,\n   'x_bottom_right': 1262.0,\n   'y_bottom_right': 247.0,\n   'confidence': 0.25266167521476746},\n  1: {'class': 'PERSON',\n   'x_top_left': 1197.0,\n   'y_top_left': 190.0,\n   'x_bottom_right': 1214.0,\n   'y_bottom_right': 216.0,\n   'confidence': 0.3724578619003296},\n  2: {'class': 'PERSON',\n   'x_top_left': 1165.0,\n   'y_top_left': 213.0,\n   'x_bottom_right': 1184.0,\n   'y_bottom_right': 237.0,\n   'confidence': 0.3748554587364197},\n  3: {'class': 'PERSON',\n   'x_top_left': 63.0,\n   'y_top_left': 328.0,\n   'x_bottom_right': 79.0,\n   'y_bottom_right': 384.0,\n   'confidence': 0.39121779799461365},\n  4: {'class': 'PERSON',\n   'x_top_left': 905.0,\n   'y_top_left': 206.0,\n   'x_bottom_right': 920.0,\n   'y_bottom_right': 249.0,\n   'confidence': 0.6414514183998108},\n  5: {'class': 'PERSON',\n   'x_top_left': 149.0,\n   'y_top_left': 226.0,\n   'x_bottom_right': 165.0,\n   'y_bottom_right': 264.0,\n   'confidence': 0.6632243394851685},\n  6: {'class': 'PERSON',\n   'x_top_left': 55.0,\n   'y_top_left': 280.0,\n   'x_bottom_right': 86.0,\n   'y_bottom_right': 326.0,\n   'confidence': 0.7637989521026611},\n  7: {'class': 'PERSON',\n   'x_top_left': 397.0,\n   'y_top_left': 222.0,\n   'x_bottom_right': 417.0,\n   'y_bottom_right': 263.0,\n   'confidence': 0.7743818759918213},\n  8: {'class': 'PERSON',\n   'x_top_left': 640.0,\n   'y_top_left': 277.0,\n   'x_bottom_right': 655.0,\n   'y_bottom_right': 327.0,\n   'confidence': 0.7987473607063293},\n  9: {'class': 'PERSON',\n   'x_top_left': 483.0,\n   'y_top_left': 263.0,\n   'x_bottom_right': 499.0,\n   'y_bottom_right': 313.0,\n   'confidence': 0.8107276558876038},\n  10: {'class': 'PERSON',\n   'x_top_left': 66.0,\n   'y_top_left': 329.0,\n   'x_bottom_right': 98.0,\n   'y_bottom_right': 387.0,\n   'confidence': 0.8209158778190613},\n  11: {'class': 'PERSON',\n   'x_top_left': 17.0,\n   'y_top_left': 265.0,\n   'x_bottom_right': 49.0,\n   'y_bottom_right': 317.0,\n   'confidence': 0.8298202157020569},\n  12: {'class': 'PERSON',\n   'x_top_left': 701.0,\n   'y_top_left': 380.0,\n   'x_bottom_right': 725.0,\n   'y_bottom_right': 450.0,\n   'confidence': 0.8644102215766907},\n  13: {'class': 'PERSON',\n   'x_top_left': 1085.0,\n   'y_top_left': 411.0,\n   'x_bottom_right': 1126.0,\n   'y_bottom_right': 481.0,\n   'confidence': 0.8732678294181824}},\n 87.0: {0: {'class': 'PERSON',\n   'x_top_left': 1247.0,\n   'y_top_left': 222.0,\n   'x_bottom_right': 1263.0,\n   'y_bottom_right': 238.0,\n   'confidence': 0.2878475785255432},\n  1: {'class': 'PERSON',\n   'x_top_left': 974.0,\n   'y_top_left': 206.0,\n   'x_bottom_right': 990.0,\n   'y_bottom_right': 247.0,\n   'confidence': 0.5384012460708618},\n  2: {'class': 'PERSON',\n   'x_top_left': 147.0,\n   'y_top_left': 224.0,\n   'x_bottom_right': 162.0,\n   'y_bottom_right': 262.0,\n   'confidence': 0.5828728675842285},\n  3: {'class': 'PERSON',\n   'x_top_left': 0.0,\n   'y_top_left': 267.0,\n   'x_bottom_right': 19.0,\n   'y_bottom_right': 313.0,\n   'confidence': 0.6320341229438782},\n  4: {'class': 'PERSON',\n   'x_top_left': 56.0,\n   'y_top_left': 319.0,\n   'x_bottom_right': 85.0,\n   'y_bottom_right': 368.0,\n   'confidence': 0.6794211864471436},\n  5: {'class': 'PERSON',\n   'x_top_left': 616.0,\n   'y_top_left': 280.0,\n   'x_bottom_right': 631.0,\n   'y_bottom_right': 333.0,\n   'confidence': 0.7614129185676575},\n  6: {'class': 'PERSON',\n   'x_top_left': 28.0,\n   'y_top_left': 272.0,\n   'x_bottom_right': 54.0,\n   'y_bottom_right': 322.0,\n   'confidence': 0.7967925071716309},\n  7: {'class': 'PERSON',\n   'x_top_left': 87.0,\n   'y_top_left': 327.0,\n   'x_bottom_right': 116.0,\n   'y_bottom_right': 383.0,\n   'confidence': 0.8001740574836731},\n  8: {'class': 'PERSON',\n   'x_top_left': 711.0,\n   'y_top_left': 387.0,\n   'x_bottom_right': 742.0,\n   'y_bottom_right': 451.0,\n   'confidence': 0.8048587441444397},\n  9: {'class': 'PERSON',\n   'x_top_left': 516.0,\n   'y_top_left': 263.0,\n   'x_bottom_right': 532.0,\n   'y_bottom_right': 313.0,\n   'confidence': 0.8217650055885315},\n  10: {'class': 'PERSON',\n   'x_top_left': 410.0,\n   'y_top_left': 224.0,\n   'x_bottom_right': 427.0,\n   'y_bottom_right': 266.0,\n   'confidence': 0.8316614627838135},\n  11: {'class': 'PERSON',\n   'x_top_left': 1006.0,\n   'y_top_left': 405.0,\n   'x_bottom_right': 1049.0,\n   'y_bottom_right': 478.0,\n   'confidence': 0.8739537596702576}},\n 88.0: {0: {'class': 'PERSON',\n   'x_top_left': 854.0,\n   'y_top_left': 258.0,\n   'x_bottom_right': 978.0,\n   'y_bottom_right': 449.0,\n   'confidence': 0.30219247937202454},\n  1: {'class': 'PERSON',\n   'x_top_left': 292.0,\n   'y_top_left': 586.0,\n   'x_bottom_right': 350.0,\n   'y_bottom_right': 700.0,\n   'confidence': 0.36050286889076233},\n  2: {'class': 'PERSON',\n   'x_top_left': 879.0,\n   'y_top_left': 360.0,\n   'x_bottom_right': 1011.0,\n   'y_bottom_right': 554.0,\n   'confidence': 0.3632781207561493},\n  3: {'class': 'PERSON',\n   'x_top_left': 939.0,\n   'y_top_left': 623.0,\n   'x_bottom_right': 1067.0,\n   'y_bottom_right': 719.0,\n   'confidence': 0.4014974534511566},\n  4: {'class': 'PERSON',\n   'x_top_left': 1056.0,\n   'y_top_left': 604.0,\n   'x_bottom_right': 1172.0,\n   'y_bottom_right': 720.0,\n   'confidence': 0.48643431067466736},\n  5: {'class': 'PERSON',\n   'x_top_left': 137.0,\n   'y_top_left': 618.0,\n   'x_bottom_right': 291.0,\n   'y_bottom_right': 720.0,\n   'confidence': 0.5298486948013306},\n  6: {'class': 'PERSON',\n   'x_top_left': 257.0,\n   'y_top_left': 654.0,\n   'x_bottom_right': 353.0,\n   'y_bottom_right': 720.0,\n   'confidence': 0.5429791212081909},\n  7: {'class': 'PERSON',\n   'x_top_left': 351.0,\n   'y_top_left': 623.0,\n   'x_bottom_right': 440.0,\n   'y_bottom_right': 719.0,\n   'confidence': 0.5879628658294678},\n  8: {'class': 'PERSON',\n   'x_top_left': 902.0,\n   'y_top_left': 49.0,\n   'x_bottom_right': 1043.0,\n   'y_bottom_right': 348.0,\n   'confidence': 0.6132072806358337},\n  9: {'class': 'PERSON',\n   'x_top_left': 623.0,\n   'y_top_left': 152.0,\n   'x_bottom_right': 910.0,\n   'y_bottom_right': 716.0,\n   'confidence': 0.8930847644805908},\n  10: {'class': 'PERSON',\n   'x_top_left': 375.0,\n   'y_top_left': 54.0,\n   'x_bottom_right': 687.0,\n   'y_bottom_right': 714.0,\n   'confidence': 0.9374715685844421}},\n 89.0: {0: {'class': 'PERSON',\n   'x_top_left': 1104.0,\n   'y_top_left': 218.0,\n   'x_bottom_right': 1120.0,\n   'y_bottom_right': 261.0,\n   'confidence': 0.4673486053943634},\n  1: {'class': 'PERSON',\n   'x_top_left': 596.0,\n   'y_top_left': 272.0,\n   'x_bottom_right': 609.0,\n   'y_bottom_right': 317.0,\n   'confidence': 0.6400899887084961},\n  2: {'class': 'PERSON',\n   'x_top_left': 93.0,\n   'y_top_left': 265.0,\n   'x_bottom_right': 114.0,\n   'y_bottom_right': 310.0,\n   'confidence': 0.6567729115486145},\n  3: {'class': 'PERSON',\n   'x_top_left': 95.0,\n   'y_top_left': 304.0,\n   'x_bottom_right': 118.0,\n   'y_bottom_right': 350.0,\n   'confidence': 0.6690636277198792},\n  4: {'class': 'PERSON',\n   'x_top_left': 178.0,\n   'y_top_left': 218.0,\n   'x_bottom_right': 199.0,\n   'y_bottom_right': 271.0,\n   'confidence': 0.7297689318656921},\n  5: {'class': 'PERSON',\n   'x_top_left': 129.0,\n   'y_top_left': 316.0,\n   'x_bottom_right': 154.0,\n   'y_bottom_right': 369.0,\n   'confidence': 0.7836154103279114},\n  6: {'class': 'PERSON',\n   'x_top_left': 578.0,\n   'y_top_left': 283.0,\n   'x_bottom_right': 601.0,\n   'y_bottom_right': 337.0,\n   'confidence': 0.8005794882774353},\n  7: {'class': 'PERSON',\n   'x_top_left': 31.0,\n   'y_top_left': 264.0,\n   'x_bottom_right': 52.0,\n   'y_bottom_right': 311.0,\n   'confidence': 0.8146461844444275},\n  8: {'class': 'PERSON',\n   'x_top_left': 454.0,\n   'y_top_left': 234.0,\n   'x_bottom_right': 471.0,\n   'y_bottom_right': 277.0,\n   'confidence': 0.8430806398391724},\n  9: {'class': 'PERSON',\n   'x_top_left': 1212.0,\n   'y_top_left': 517.0,\n   'x_bottom_right': 1262.0,\n   'y_bottom_right': 614.0,\n   'confidence': 0.855059027671814},\n  10: {'class': 'PERSON',\n   'x_top_left': 834.0,\n   'y_top_left': 399.0,\n   'x_bottom_right': 877.0,\n   'y_bottom_right': 467.0,\n   'confidence': 0.887897253036499},\n  11: {'class': 'PERSON',\n   'x_top_left': 651.0,\n   'y_top_left': 384.0,\n   'x_bottom_right': 682.0,\n   'y_bottom_right': 453.0,\n   'confidence': 0.8933970332145691}},\n 90.0: {0: {'class': 'TENNIS_RACKET',\n   'x_top_left': 1168.0,\n   'y_top_left': 575.0,\n   'x_bottom_right': 1190.0,\n   'y_bottom_right': 595.0,\n   'confidence': 0.3549005091190338},\n  1: {'class': 'PERSON',\n   'x_top_left': 59.0,\n   'y_top_left': 265.0,\n   'x_bottom_right': 75.0,\n   'y_bottom_right': 308.0,\n   'confidence': 0.5291686058044434},\n  2: {'class': 'PERSON',\n   'x_top_left': 122.0,\n   'y_top_left': 266.0,\n   'x_bottom_right': 143.0,\n   'y_bottom_right': 303.0,\n   'confidence': 0.5325064063072205},\n  3: {'class': 'PERSON',\n   'x_top_left': 722.0,\n   'y_top_left': 694.0,\n   'x_bottom_right': 759.0,\n   'y_bottom_right': 719.0,\n   'confidence': 0.6522218585014343},\n  4: {'class': 'PERSON',\n   'x_top_left': 195.0,\n   'y_top_left': 232.0,\n   'x_bottom_right': 216.0,\n   'y_bottom_right': 273.0,\n   'confidence': 0.6676816344261169},\n  5: {'class': 'PERSON',\n   'x_top_left': 453.0,\n   'y_top_left': 241.0,\n   'x_bottom_right': 470.0,\n   'y_bottom_right': 280.0,\n   'confidence': 0.6922025680541992},\n  6: {'class': 'PERSON',\n   'x_top_left': 125.0,\n   'y_top_left': 299.0,\n   'x_bottom_right': 154.0,\n   'y_bottom_right': 361.0,\n   'confidence': 0.7371276617050171},\n  7: {'class': 'PERSON',\n   'x_top_left': 9.0,\n   'y_top_left': 332.0,\n   'x_bottom_right': 36.0,\n   'y_bottom_right': 388.0,\n   'confidence': 0.7960708141326904},\n  8: {'class': 'PERSON',\n   'x_top_left': 597.0,\n   'y_top_left': 382.0,\n   'x_bottom_right': 621.0,\n   'y_bottom_right': 446.0,\n   'confidence': 0.8142039775848389},\n  9: {'class': 'PERSON',\n   'x_top_left': 566.0,\n   'y_top_left': 284.0,\n   'x_bottom_right': 590.0,\n   'y_bottom_right': 337.0,\n   'confidence': 0.8236362338066101},\n  10: {'class': 'PERSON',\n   'x_top_left': 618.0,\n   'y_top_left': 276.0,\n   'x_bottom_right': 632.0,\n   'y_bottom_right': 322.0,\n   'confidence': 0.851546049118042},\n  11: {'class': 'PERSON',\n   'x_top_left': 755.0,\n   'y_top_left': 389.0,\n   'x_bottom_right': 794.0,\n   'y_bottom_right': 455.0,\n   'confidence': 0.8847616910934448},\n  12: {'class': 'PERSON',\n   'x_top_left': 1184.0,\n   'y_top_left': 528.0,\n   'x_bottom_right': 1220.0,\n   'y_bottom_right': 629.0,\n   'confidence': 0.894891083240509}},\n 91.0: {0: {'class': 'TENNIS_RACKET',\n   'x_top_left': 1163.0,\n   'y_top_left': 598.0,\n   'x_bottom_right': 1187.0,\n   'y_bottom_right': 619.0,\n   'confidence': 0.2571882903575897},\n  1: {'class': 'PERSON',\n   'x_top_left': 241.0,\n   'y_top_left': 224.0,\n   'x_bottom_right': 256.0,\n   'y_bottom_right': 255.0,\n   'confidence': 0.3116108179092407},\n  2: {'class': 'PERSON',\n   'x_top_left': 166.0,\n   'y_top_left': 259.0,\n   'x_bottom_right': 187.0,\n   'y_bottom_right': 304.0,\n   'confidence': 0.3538341820240021},\n  3: {'class': 'PERSON',\n   'x_top_left': 167.0,\n   'y_top_left': 291.0,\n   'x_bottom_right': 189.0,\n   'y_bottom_right': 334.0,\n   'confidence': 0.4685951769351959},\n  4: {'class': 'PERSON',\n   'x_top_left': 94.0,\n   'y_top_left': 260.0,\n   'x_bottom_right': 108.0,\n   'y_bottom_right': 306.0,\n   'confidence': 0.5963035225868225},\n  5: {'class': 'PERSON',\n   'x_top_left': 229.0,\n   'y_top_left': 235.0,\n   'x_bottom_right': 244.0,\n   'y_bottom_right': 272.0,\n   'confidence': 0.6591504216194153},\n  6: {'class': 'PERSON',\n   'x_top_left': 576.0,\n   'y_top_left': 287.0,\n   'x_bottom_right': 600.0,\n   'y_bottom_right': 332.0,\n   'confidence': 0.6975625157356262},\n  7: {'class': 'PERSON',\n   'x_top_left': 459.0,\n   'y_top_left': 242.0,\n   'x_bottom_right': 472.0,\n   'y_bottom_right': 283.0,\n   'confidence': 0.767713725566864},\n  8: {'class': 'PERSON',\n   'x_top_left': 151.0,\n   'y_top_left': 307.0,\n   'x_bottom_right': 173.0,\n   'y_bottom_right': 354.0,\n   'confidence': 0.7868938446044922},\n  9: {'class': 'PERSON',\n   'x_top_left': 1181.0,\n   'y_top_left': 554.0,\n   'x_bottom_right': 1211.0,\n   'y_bottom_right': 657.0,\n   'confidence': 0.8054640293121338},\n  10: {'class': 'PERSON',\n   'x_top_left': 641.0,\n   'y_top_left': 280.0,\n   'x_bottom_right': 660.0,\n   'y_bottom_right': 326.0,\n   'confidence': 0.8315876126289368},\n  11: {'class': 'PERSON',\n   'x_top_left': 568.0,\n   'y_top_left': 375.0,\n   'x_bottom_right': 592.0,\n   'y_bottom_right': 437.0,\n   'confidence': 0.8334203958511353},\n  12: {'class': 'PERSON',\n   'x_top_left': 46.0,\n   'y_top_left': 326.0,\n   'x_bottom_right': 73.0,\n   'y_bottom_right': 380.0,\n   'confidence': 0.8543012738227844},\n  13: {'class': 'PERSON',\n   'x_top_left': 717.0,\n   'y_top_left': 382.0,\n   'x_bottom_right': 752.0,\n   'y_bottom_right': 446.0,\n   'confidence': 0.9067457914352417}},\n 92.0: {0: {'class': 'PERSON',\n   'x_top_left': 223.0,\n   'y_top_left': 247.0,\n   'x_bottom_right': 239.0,\n   'y_bottom_right': 292.0,\n   'confidence': 0.36191216111183167},\n  1: {'class': 'PERSON',\n   'x_top_left': 300.0,\n   'y_top_left': 272.0,\n   'x_bottom_right': 322.0,\n   'y_bottom_right': 322.0,\n   'confidence': 0.4547789990901947},\n  2: {'class': 'PERSON',\n   'x_top_left': 367.0,\n   'y_top_left': 222.0,\n   'x_bottom_right': 393.0,\n   'y_bottom_right': 259.0,\n   'confidence': 0.49625200033187866},\n  3: {'class': 'PERSON',\n   'x_top_left': 74.0,\n   'y_top_left': 212.0,\n   'x_bottom_right': 94.0,\n   'y_bottom_right': 258.0,\n   'confidence': 0.6084098219871521},\n  4: {'class': 'PERSON',\n   'x_top_left': 590.0,\n   'y_top_left': 235.0,\n   'x_bottom_right': 607.0,\n   'y_bottom_right': 280.0,\n   'confidence': 0.7319158315658569},\n  5: {'class': 'PERSON',\n   'x_top_left': 765.0,\n   'y_top_left': 284.0,\n   'x_bottom_right': 791.0,\n   'y_bottom_right': 334.0,\n   'confidence': 0.7405415177345276},\n  6: {'class': 'PERSON',\n   'x_top_left': 665.0,\n   'y_top_left': 281.0,\n   'x_bottom_right': 687.0,\n   'y_bottom_right': 332.0,\n   'confidence': 0.7554798126220703},\n  7: {'class': 'PERSON',\n   'x_top_left': 272.0,\n   'y_top_left': 295.0,\n   'x_bottom_right': 292.0,\n   'y_bottom_right': 347.0,\n   'confidence': 0.7825766801834106},\n  8: {'class': 'PERSON',\n   'x_top_left': 169.0,\n   'y_top_left': 311.0,\n   'x_bottom_right': 194.0,\n   'y_bottom_right': 367.0,\n   'confidence': 0.8135948777198792},\n  9: {'class': 'PERSON',\n   'x_top_left': 659.0,\n   'y_top_left': 375.0,\n   'x_bottom_right': 698.0,\n   'y_bottom_right': 444.0,\n   'confidence': 0.8316327929496765},\n  10: {'class': 'PERSON',\n   'x_top_left': 84.0,\n   'y_top_left': 371.0,\n   'x_bottom_right': 109.0,\n   'y_bottom_right': 438.0,\n   'confidence': 0.8394713997840881},\n  11: {'class': 'PERSON',\n   'x_top_left': 827.0,\n   'y_top_left': 385.0,\n   'x_bottom_right': 853.0,\n   'y_bottom_right': 457.0,\n   'confidence': 0.8834092020988464}},\n 93.0: {0: {'class': 'PERSON',\n   'x_top_left': 484.0,\n   'y_top_left': 246.0,\n   'x_bottom_right': 504.0,\n   'y_bottom_right': 290.0,\n   'confidence': 0.37112510204315186},\n  1: {'class': 'PERSON',\n   'x_top_left': 233.0,\n   'y_top_left': 215.0,\n   'x_bottom_right': 249.0,\n   'y_bottom_right': 254.0,\n   'confidence': 0.40919169783592224},\n  2: {'class': 'PERSON',\n   'x_top_left': 85.0,\n   'y_top_left': 227.0,\n   'x_bottom_right': 102.0,\n   'y_bottom_right': 271.0,\n   'confidence': 0.479310542345047},\n  3: {'class': 'PERSON',\n   'x_top_left': 63.0,\n   'y_top_left': 254.0,\n   'x_bottom_right': 85.0,\n   'y_bottom_right': 319.0,\n   'confidence': 0.5643422603607178},\n  4: {'class': 'PERSON',\n   'x_top_left': 489.0,\n   'y_top_left': 275.0,\n   'x_bottom_right': 510.0,\n   'y_bottom_right': 327.0,\n   'confidence': 0.6602024435997009},\n  5: {'class': 'PERSON',\n   'x_top_left': 534.0,\n   'y_top_left': 223.0,\n   'x_bottom_right': 548.0,\n   'y_bottom_right': 264.0,\n   'confidence': 0.6676968932151794},\n  6: {'class': 'PERSON',\n   'x_top_left': 371.0,\n   'y_top_left': 241.0,\n   'x_bottom_right': 389.0,\n   'y_bottom_right': 293.0,\n   'confidence': 0.6855010390281677},\n  7: {'class': 'PERSON',\n   'x_top_left': 799.0,\n   'y_top_left': 240.0,\n   'x_bottom_right': 819.0,\n   'y_bottom_right': 291.0,\n   'confidence': 0.7465487122535706},\n  8: {'class': 'PERSON',\n   'x_top_left': 926.0,\n   'y_top_left': 298.0,\n   'x_bottom_right': 945.0,\n   'y_bottom_right': 352.0,\n   'confidence': 0.7604819536209106},\n  9: {'class': 'PERSON',\n   'x_top_left': 429.0,\n   'y_top_left': 297.0,\n   'x_bottom_right': 450.0,\n   'y_bottom_right': 357.0,\n   'confidence': 0.7861922383308411},\n  10: {'class': 'PERSON',\n   'x_top_left': 321.0,\n   'y_top_left': 305.0,\n   'x_bottom_right': 347.0,\n   'y_bottom_right': 367.0,\n   'confidence': 0.801127552986145},\n  11: {'class': 'PERSON',\n   'x_top_left': 811.0,\n   'y_top_left': 288.0,\n   'x_bottom_right': 840.0,\n   'y_bottom_right': 344.0,\n   'confidence': 0.8261505365371704},\n  12: {'class': 'PERSON',\n   'x_top_left': 818.0,\n   'y_top_left': 399.0,\n   'x_bottom_right': 848.0,\n   'y_bottom_right': 479.0,\n   'confidence': 0.8584684729576111},\n  13: {'class': 'PERSON',\n   'x_top_left': 229.0,\n   'y_top_left': 376.0,\n   'x_bottom_right': 259.0,\n   'y_bottom_right': 449.0,\n   'confidence': 0.85869300365448},\n  14: {'class': 'PERSON',\n   'x_top_left': 1042.0,\n   'y_top_left': 406.0,\n   'x_bottom_right': 1069.0,\n   'y_bottom_right': 486.0,\n   'confidence': 0.8797073364257812},\n  15: {'class': 'PERSON',\n   'x_top_left': 9.0,\n   'y_top_left': 371.0,\n   'x_bottom_right': 40.0,\n   'y_bottom_right': 444.0,\n   'confidence': 0.9022637605667114}},\n 94.0: {0: {'class': 'PERSON',\n   'x_top_left': 52.0,\n   'y_top_left': 186.0,\n   'x_bottom_right': 71.0,\n   'y_bottom_right': 227.0,\n   'confidence': 0.2706155776977539},\n  1: {'class': 'PERSON',\n   'x_top_left': 924.0,\n   'y_top_left': 289.0,\n   'x_bottom_right': 949.0,\n   'y_bottom_right': 333.0,\n   'confidence': 0.4830944836139679},\n  2: {'class': 'PERSON',\n   'x_top_left': 546.0,\n   'y_top_left': 217.0,\n   'x_bottom_right': 563.0,\n   'y_bottom_right': 261.0,\n   'confidence': 0.5547753572463989},\n  3: {'class': 'PERSON',\n   'x_top_left': 373.0,\n   'y_top_left': 242.0,\n   'x_bottom_right': 391.0,\n   'y_bottom_right': 294.0,\n   'confidence': 0.6851330995559692},\n  4: {'class': 'PERSON',\n   'x_top_left': 558.0,\n   'y_top_left': 243.0,\n   'x_bottom_right': 578.0,\n   'y_bottom_right': 294.0,\n   'confidence': 0.6894002556800842},\n  5: {'class': 'PERSON',\n   'x_top_left': 77.0,\n   'y_top_left': 222.0,\n   'x_bottom_right': 94.0,\n   'y_bottom_right': 276.0,\n   'confidence': 0.7458745241165161},\n  6: {'class': 'PERSON',\n   'x_top_left': 912.0,\n   'y_top_left': 314.0,\n   'x_bottom_right': 952.0,\n   'y_bottom_right': 382.0,\n   'confidence': 0.7535727024078369},\n  7: {'class': 'PERSON',\n   'x_top_left': 246.0,\n   'y_top_left': 206.0,\n   'x_bottom_right': 277.0,\n   'y_bottom_right': 257.0,\n   'confidence': 0.7840953469276428},\n  8: {'class': 'PERSON',\n   'x_top_left': 96.0,\n   'y_top_left': 249.0,\n   'x_bottom_right': 117.0,\n   'y_bottom_right': 314.0,\n   'confidence': 0.7954012155532837},\n  9: {'class': 'PERSON',\n   'x_top_left': 622.0,\n   'y_top_left': 213.0,\n   'x_bottom_right': 648.0,\n   'y_bottom_right': 257.0,\n   'confidence': 0.8062191009521484},\n  10: {'class': 'PERSON',\n   'x_top_left': 439.0,\n   'y_top_left': 308.0,\n   'x_bottom_right': 462.0,\n   'y_bottom_right': 375.0,\n   'confidence': 0.8200838565826416},\n  11: {'class': 'PERSON',\n   'x_top_left': 42.0,\n   'y_top_left': 249.0,\n   'x_bottom_right': 66.0,\n   'y_bottom_right': 312.0,\n   'confidence': 0.8349083065986633},\n  12: {'class': 'PERSON',\n   'x_top_left': 902.0,\n   'y_top_left': 242.0,\n   'x_bottom_right': 921.0,\n   'y_bottom_right': 301.0,\n   'confidence': 0.844832718372345},\n  13: {'class': 'PERSON',\n   'x_top_left': 362.0,\n   'y_top_left': 299.0,\n   'x_bottom_right': 385.0,\n   'y_bottom_right': 367.0,\n   'confidence': 0.8503090739250183},\n  14: {'class': 'PERSON',\n   'x_top_left': 543.0,\n   'y_top_left': 283.0,\n   'x_bottom_right': 569.0,\n   'y_bottom_right': 340.0,\n   'confidence': 0.8527379631996155},\n  15: {'class': 'PERSON',\n   'x_top_left': 223.0,\n   'y_top_left': 394.0,\n   'x_bottom_right': 256.0,\n   'y_bottom_right': 480.0,\n   'confidence': 0.8767078518867493},\n  16: {'class': 'PERSON',\n   'x_top_left': 1153.0,\n   'y_top_left': 421.0,\n   'x_bottom_right': 1184.0,\n   'y_bottom_right': 512.0,\n   'confidence': 0.915606677532196},\n  17: {'class': 'PERSON',\n   'x_top_left': 883.0,\n   'y_top_left': 425.0,\n   'x_bottom_right': 919.0,\n   'y_bottom_right': 518.0,\n   'confidence': 0.9166298508644104}},\n 95.0: {0: {'class': 'PERSON',\n   'x_top_left': 352.0,\n   'y_top_left': 208.0,\n   'x_bottom_right': 374.0,\n   'y_bottom_right': 259.0,\n   'confidence': 0.5460878610610962},\n  1: {'class': 'PERSON',\n   'x_top_left': 479.0,\n   'y_top_left': 204.0,\n   'x_bottom_right': 502.0,\n   'y_bottom_right': 255.0,\n   'confidence': 0.5956881642341614},\n  2: {'class': 'PERSON',\n   'x_top_left': 3.0,\n   'y_top_left': 245.0,\n   'x_bottom_right': 27.0,\n   'y_bottom_right': 311.0,\n   'confidence': 0.6115065217018127},\n  3: {'class': 'PERSON',\n   'x_top_left': 11.0,\n   'y_top_left': 220.0,\n   'x_bottom_right': 37.0,\n   'y_bottom_right': 275.0,\n   'confidence': 0.6350107789039612},\n  4: {'class': 'PERSON',\n   'x_top_left': 608.0,\n   'y_top_left': 201.0,\n   'x_bottom_right': 632.0,\n   'y_bottom_right': 260.0,\n   'confidence': 0.6708250641822815},\n  5: {'class': 'PERSON',\n   'x_top_left': 261.0,\n   'y_top_left': 204.0,\n   'x_bottom_right': 291.0,\n   'y_bottom_right': 258.0,\n   'confidence': 0.6880488991737366},\n  6: {'class': 'PERSON',\n   'x_top_left': 340.0,\n   'y_top_left': 242.0,\n   'x_bottom_right': 375.0,\n   'y_bottom_right': 291.0,\n   'confidence': 0.791517436504364},\n  7: {'class': 'PERSON',\n   'x_top_left': 557.0,\n   'y_top_left': 235.0,\n   'x_bottom_right': 585.0,\n   'y_bottom_right': 294.0,\n   'confidence': 0.8086994290351868},\n  8: {'class': 'PERSON',\n   'x_top_left': 85.0,\n   'y_top_left': 234.0,\n   'x_bottom_right': 114.0,\n   'y_bottom_right': 301.0,\n   'confidence': 0.8175927400588989},\n  9: {'class': 'PERSON',\n   'x_top_left': 368.0,\n   'y_top_left': 291.0,\n   'x_bottom_right': 395.0,\n   'y_bottom_right': 368.0,\n   'confidence': 0.8200768828392029},\n  10: {'class': 'PERSON',\n   'x_top_left': 410.0,\n   'y_top_left': 314.0,\n   'x_bottom_right': 434.0,\n   'y_bottom_right': 389.0,\n   'confidence': 0.8422894477844238},\n  11: {'class': 'PERSON',\n   'x_top_left': 1256.0,\n   'y_top_left': 438.0,\n   'x_bottom_right': 1280.0,\n   'y_bottom_right': 543.0,\n   'confidence': 0.844777524471283},\n  12: {'class': 'PERSON',\n   'x_top_left': 541.0,\n   'y_top_left': 284.0,\n   'x_bottom_right': 568.0,\n   'y_bottom_right': 348.0,\n   'confidence': 0.8684998750686646},\n  13: {'class': 'PERSON',\n   'x_top_left': 972.0,\n   'y_top_left': 236.0,\n   'x_bottom_right': 997.0,\n   'y_bottom_right': 302.0,\n   'confidence': 0.8701735138893127},\n  14: {'class': 'PERSON',\n   'x_top_left': 936.0,\n   'y_top_left': 451.0,\n   'x_bottom_right': 974.0,\n   'y_bottom_right': 559.0,\n   'confidence': 0.881883978843689},\n  15: {'class': 'PERSON',\n   'x_top_left': 896.0,\n   'y_top_left': 318.0,\n   'x_bottom_right': 930.0,\n   'y_bottom_right': 400.0,\n   'confidence': 0.885538637638092},\n  16: {'class': 'PERSON',\n   'x_top_left': 1051.0,\n   'y_top_left': 289.0,\n   'x_bottom_right': 1087.0,\n   'y_bottom_right': 371.0,\n   'confidence': 0.8930954337120056},\n  17: {'class': 'PERSON',\n   'x_top_left': 180.0,\n   'y_top_left': 411.0,\n   'x_bottom_right': 219.0,\n   'y_bottom_right': 512.0,\n   'confidence': 0.8993102312088013}},\n 96.0: {0: {'class': 'BASEBALL_GLOVE',\n   'x_top_left': 1017.0,\n   'y_top_left': 331.0,\n   'x_bottom_right': 1033.0,\n   'y_bottom_right': 352.0,\n   'confidence': 0.26734694838523865},\n  1: {'class': 'PERSON',\n   'x_top_left': 41.0,\n   'y_top_left': 153.0,\n   'x_bottom_right': 68.0,\n   'y_bottom_right': 214.0,\n   'confidence': 0.34598031640052795},\n  2: {'class': 'PERSON',\n   'x_top_left': 349.0,\n   'y_top_left': 185.0,\n   'x_bottom_right': 371.0,\n   'y_bottom_right': 244.0,\n   'confidence': 0.4340762197971344},\n  3: {'class': 'PERSON',\n   'x_top_left': 647.0,\n   'y_top_left': 185.0,\n   'x_bottom_right': 664.0,\n   'y_bottom_right': 252.0,\n   'confidence': 0.4357658326625824},\n  4: {'class': 'PERSON',\n   'x_top_left': 547.0,\n   'y_top_left': 183.0,\n   'x_bottom_right': 565.0,\n   'y_bottom_right': 245.0,\n   'confidence': 0.5093548893928528},\n  5: {'class': 'PERSON',\n   'x_top_left': 366.0,\n   'y_top_left': 195.0,\n   'x_bottom_right': 391.0,\n   'y_bottom_right': 269.0,\n   'confidence': 0.6812248826026917},\n  6: {'class': 'PERSON',\n   'x_top_left': 206.0,\n   'y_top_left': 221.0,\n   'x_bottom_right': 237.0,\n   'y_bottom_right': 281.0,\n   'confidence': 0.7113939523696899},\n  7: {'class': 'PERSON',\n   'x_top_left': 0.0,\n   'y_top_left': 199.0,\n   'x_bottom_right': 26.0,\n   'y_bottom_right': 267.0,\n   'confidence': 0.7557607889175415},\n  8: {'class': 'PERSON',\n   'x_top_left': 635.0,\n   'y_top_left': 219.0,\n   'x_bottom_right': 657.0,\n   'y_bottom_right': 285.0,\n   'confidence': 0.7564367651939392},\n  9: {'class': 'PERSON',\n   'x_top_left': 573.0,\n   'y_top_left': 272.0,\n   'x_bottom_right': 602.0,\n   'y_bottom_right': 334.0,\n   'confidence': 0.7849962711334229},\n  10: {'class': 'PERSON',\n   'x_top_left': 1104.0,\n   'y_top_left': 227.0,\n   'x_bottom_right': 1128.0,\n   'y_bottom_right': 303.0,\n   'confidence': 0.7951439619064331},\n  11: {'class': 'PERSON',\n   'x_top_left': 55.0,\n   'y_top_left': 234.0,\n   'x_bottom_right': 81.0,\n   'y_bottom_right': 300.0,\n   'confidence': 0.8066149950027466},\n  12: {'class': 'PERSON',\n   'x_top_left': 1251.0,\n   'y_top_left': 287.0,\n   'x_bottom_right': 1280.0,\n   'y_bottom_right': 378.0,\n   'confidence': 0.8426414132118225},\n  13: {'class': 'PERSON',\n   'x_top_left': 464.0,\n   'y_top_left': 307.0,\n   'x_bottom_right': 497.0,\n   'y_bottom_right': 392.0,\n   'confidence': 0.8635672330856323},\n  14: {'class': 'PERSON',\n   'x_top_left': 993.0,\n   'y_top_left': 316.0,\n   'x_bottom_right': 1033.0,\n   'y_bottom_right': 404.0,\n   'confidence': 0.8761548399925232},\n  15: {'class': 'PERSON',\n   'x_top_left': 426.0,\n   'y_top_left': 283.0,\n   'x_bottom_right': 461.0,\n   'y_bottom_right': 362.0,\n   'confidence': 0.8762504458427429},\n  16: {'class': 'PERSON',\n   'x_top_left': 217.0,\n   'y_top_left': 415.0,\n   'x_bottom_right': 256.0,\n   'y_bottom_right': 525.0,\n   'confidence': 0.8803313970565796},\n  17: {'class': 'PERSON',\n   'x_top_left': 321.0,\n   'y_top_left': 216.0,\n   'x_bottom_right': 361.0,\n   'y_bottom_right': 276.0,\n   'confidence': 0.880639374256134},\n  18: {'class': 'PERSON',\n   'x_top_left': 1105.0,\n   'y_top_left': 478.0,\n   'x_bottom_right': 1165.0,\n   'y_bottom_right': 605.0,\n   'confidence': 0.9218090772628784}},\n 97.0: {0: {'class': 'PERSON',\n   'x_top_left': 462.0,\n   'y_top_left': 172.0,\n   'x_bottom_right': 486.0,\n   'y_bottom_right': 231.0,\n   'confidence': 0.29642823338508606},\n  1: {'class': 'PERSON',\n   'x_top_left': 84.0,\n   'y_top_left': 143.0,\n   'x_bottom_right': 118.0,\n   'y_bottom_right': 206.0,\n   'confidence': 0.3809681534767151},\n  2: {'class': 'PERSON',\n   'x_top_left': 712.0,\n   'y_top_left': 177.0,\n   'x_bottom_right': 735.0,\n   'y_bottom_right': 239.0,\n   'confidence': 0.4681980013847351},\n  3: {'class': 'PERSON',\n   'x_top_left': 747.0,\n   'y_top_left': 179.0,\n   'x_bottom_right': 770.0,\n   'y_bottom_right': 228.0,\n   'confidence': 0.4923006296157837},\n  4: {'class': 'PERSON',\n   'x_top_left': 211.0,\n   'y_top_left': 240.0,\n   'x_bottom_right': 257.0,\n   'y_bottom_right': 310.0,\n   'confidence': 0.6683804392814636},\n  5: {'class': 'PERSON',\n   'x_top_left': 738.0,\n   'y_top_left': 215.0,\n   'x_bottom_right': 764.0,\n   'y_bottom_right': 285.0,\n   'confidence': 0.7248541712760925},\n  6: {'class': 'PERSON',\n   'x_top_left': 578.0,\n   'y_top_left': 270.0,\n   'x_bottom_right': 604.0,\n   'y_bottom_right': 342.0,\n   'confidence': 0.7263725399971008},\n  7: {'class': 'PERSON',\n   'x_top_left': 349.0,\n   'y_top_left': 205.0,\n   'x_bottom_right': 378.0,\n   'y_bottom_right': 277.0,\n   'confidence': 0.7298318147659302},\n  8: {'class': 'PERSON',\n   'x_top_left': 320.0,\n   'y_top_left': 215.0,\n   'x_bottom_right': 355.0,\n   'y_bottom_right': 293.0,\n   'confidence': 0.7717559337615967},\n  9: {'class': 'PERSON',\n   'x_top_left': 495.0,\n   'y_top_left': 300.0,\n   'x_bottom_right': 532.0,\n   'y_bottom_right': 384.0,\n   'confidence': 0.7770614624023438},\n  10: {'class': 'PERSON',\n   'x_top_left': 0.0,\n   'y_top_left': 263.0,\n   'x_bottom_right': 37.0,\n   'y_bottom_right': 353.0,\n   'confidence': 0.7863985300064087},\n  11: {'class': 'PERSON',\n   'x_top_left': 1245.0,\n   'y_top_left': 235.0,\n   'x_bottom_right': 1278.0,\n   'y_bottom_right': 314.0,\n   'confidence': 0.8151283264160156},\n  12: {'class': 'PERSON',\n   'x_top_left': 447.0,\n   'y_top_left': 211.0,\n   'x_bottom_right': 482.0,\n   'y_bottom_right': 294.0,\n   'confidence': 0.8354276418685913},\n  13: {'class': 'PERSON',\n   'x_top_left': 554.0,\n   'y_top_left': 282.0,\n   'x_bottom_right': 588.0,\n   'y_bottom_right': 371.0,\n   'confidence': 0.843486487865448},\n  14: {'class': 'PERSON',\n   'x_top_left': 265.0,\n   'y_top_left': 419.0,\n   'x_bottom_right': 307.0,\n   'y_bottom_right': 532.0,\n   'confidence': 0.8572901487350464},\n  15: {'class': 'PERSON',\n   'x_top_left': 17.0,\n   'y_top_left': 193.0,\n   'x_bottom_right': 51.0,\n   'y_bottom_right': 266.0,\n   'confidence': 0.862995445728302},\n  16: {'class': 'PERSON',\n   'x_top_left': 1141.0,\n   'y_top_left': 312.0,\n   'x_bottom_right': 1182.0,\n   'y_bottom_right': 414.0,\n   'confidence': 0.8941593170166016}},\n 98.0: {0: {'class': 'PERSON',\n   'x_top_left': 341.0,\n   'y_top_left': 207.0,\n   'x_bottom_right': 367.0,\n   'y_bottom_right': 268.0,\n   'confidence': 0.5043766498565674},\n  1: {'class': 'PERSON',\n   'x_top_left': 143.0,\n   'y_top_left': 144.0,\n   'x_bottom_right': 174.0,\n   'y_bottom_right': 208.0,\n   'confidence': 0.5804494023323059},\n  2: {'class': 'PERSON',\n   'x_top_left': 497.0,\n   'y_top_left': 171.0,\n   'x_bottom_right': 522.0,\n   'y_bottom_right': 236.0,\n   'confidence': 0.6695838570594788},\n  3: {'class': 'PERSON',\n   'x_top_left': 874.0,\n   'y_top_left': 181.0,\n   'x_bottom_right': 902.0,\n   'y_bottom_right': 248.0,\n   'confidence': 0.6964455246925354},\n  4: {'class': 'PERSON',\n   'x_top_left': 837.0,\n   'y_top_left': 200.0,\n   'x_bottom_right': 868.0,\n   'y_bottom_right': 258.0,\n   'confidence': 0.7545828819274902},\n  5: {'class': 'PERSON',\n   'x_top_left': 375.0,\n   'y_top_left': 213.0,\n   'x_bottom_right': 403.0,\n   'y_bottom_right': 303.0,\n   'confidence': 0.8061695098876953},\n  6: {'class': 'PERSON',\n   'x_top_left': 329.0,\n   'y_top_left': 227.0,\n   'x_bottom_right': 362.0,\n   'y_bottom_right': 317.0,\n   'confidence': 0.8104355335235596},\n  7: {'class': 'PERSON',\n   'x_top_left': 48.0,\n   'y_top_left': 254.0,\n   'x_bottom_right': 77.0,\n   'y_bottom_right': 344.0,\n   'confidence': 0.826549232006073},\n  8: {'class': 'PERSON',\n   'x_top_left': 498.0,\n   'y_top_left': 227.0,\n   'x_bottom_right': 532.0,\n   'y_bottom_right': 307.0,\n   'confidence': 0.8354700207710266},\n  9: {'class': 'PERSON',\n   'x_top_left': 27.0,\n   'y_top_left': 204.0,\n   'x_bottom_right': 59.0,\n   'y_bottom_right': 283.0,\n   'confidence': 0.8360504508018494},\n  10: {'class': 'PERSON',\n   'x_top_left': 1.0,\n   'y_top_left': 263.0,\n   'x_bottom_right': 44.0,\n   'y_bottom_right': 362.0,\n   'confidence': 0.83717942237854},\n  11: {'class': 'PERSON',\n   'x_top_left': 641.0,\n   'y_top_left': 277.0,\n   'x_bottom_right': 677.0,\n   'y_bottom_right': 349.0,\n   'confidence': 0.8705449104309082},\n  12: {'class': 'PERSON',\n   'x_top_left': 797.0,\n   'y_top_left': 220.0,\n   'x_bottom_right': 828.0,\n   'y_bottom_right': 299.0,\n   'confidence': 0.8796935677528381},\n  13: {'class': 'PERSON',\n   'x_top_left': 477.0,\n   'y_top_left': 291.0,\n   'x_bottom_right': 509.0,\n   'y_bottom_right': 382.0,\n   'confidence': 0.8833974003791809},\n  14: {'class': 'PERSON',\n   'x_top_left': 1228.0,\n   'y_top_left': 248.0,\n   'x_bottom_right': 1270.0,\n   'y_bottom_right': 337.0,\n   'confidence': 0.8858776688575745},\n  15: {'class': 'PERSON',\n   'x_top_left': 611.0,\n   'y_top_left': 291.0,\n   'x_bottom_right': 642.0,\n   'y_bottom_right': 387.0,\n   'confidence': 0.8882300853729248},\n  16: {'class': 'PERSON',\n   'x_top_left': 1094.0,\n   'y_top_left': 300.0,\n   'x_bottom_right': 1134.0,\n   'y_bottom_right': 400.0,\n   'confidence': 0.900372326374054},\n  17: {'class': 'PERSON',\n   'x_top_left': 234.0,\n   'y_top_left': 420.0,\n   'x_bottom_right': 285.0,\n   'y_bottom_right': 540.0,\n   'confidence': 0.9136550426483154}},\n 99.0: {0: {'class': 'PERSON',\n   'x_top_left': 111.0,\n   'y_top_left': 140.0,\n   'x_bottom_right': 142.0,\n   'y_bottom_right': 205.0,\n   'confidence': 0.6294588446617126},\n  1: {'class': 'PERSON',\n   'x_top_left': 438.0,\n   'y_top_left': 173.0,\n   'x_bottom_right': 468.0,\n   'y_bottom_right': 239.0,\n   'confidence': 0.7253134250640869},\n  2: {'class': 'PERSON',\n   'x_top_left': 951.0,\n   'y_top_left': 201.0,\n   'x_bottom_right': 978.0,\n   'y_bottom_right': 267.0,\n   'confidence': 0.7763782739639282},\n  3: {'class': 'PERSON',\n   'x_top_left': 993.0,\n   'y_top_left': 193.0,\n   'x_bottom_right': 1029.0,\n   'y_bottom_right': 257.0,\n   'confidence': 0.817511260509491},\n  4: {'class': 'PERSON',\n   'x_top_left': 714.0,\n   'y_top_left': 272.0,\n   'x_bottom_right': 752.0,\n   'y_bottom_right': 345.0,\n   'confidence': 0.8523346185684204},\n  5: {'class': 'PERSON',\n   'x_top_left': 1243.0,\n   'y_top_left': 296.0,\n   'x_bottom_right': 1280.0,\n   'y_bottom_right': 380.0,\n   'confidence': 0.8615338802337646},\n  6: {'class': 'PERSON',\n   'x_top_left': 371.0,\n   'y_top_left': 239.0,\n   'x_bottom_right': 415.0,\n   'y_bottom_right': 326.0,\n   'confidence': 0.8673278093338013},\n  7: {'class': 'PERSON',\n   'x_top_left': 419.0,\n   'y_top_left': 290.0,\n   'x_bottom_right': 454.0,\n   'y_bottom_right': 381.0,\n   'confidence': 0.8681469559669495},\n  8: {'class': 'PERSON',\n   'x_top_left': 312.0,\n   'y_top_left': 223.0,\n   'x_bottom_right': 364.0,\n   'y_bottom_right': 296.0,\n   'confidence': 0.8697532415390015},\n  9: {'class': 'PERSON',\n   'x_top_left': 958.0,\n   'y_top_left': 281.0,\n   'x_bottom_right': 1004.0,\n   'y_bottom_right': 368.0,\n   'confidence': 0.8810601830482483},\n  10: {'class': 'PERSON',\n   'x_top_left': 14.0,\n   'y_top_left': 249.0,\n   'x_bottom_right': 54.0,\n   'y_bottom_right': 336.0,\n   'confidence': 0.8819604516029358},\n  11: {'class': 'PERSON',\n   'x_top_left': 808.0,\n   'y_top_left': 226.0,\n   'x_bottom_right': 855.0,\n   'y_bottom_right': 298.0,\n   'confidence': 0.8999956846237183},\n  12: {'class': 'PERSON',\n   'x_top_left': 503.0,\n   'y_top_left': 217.0,\n   'x_bottom_right': 551.0,\n   'y_bottom_right': 296.0,\n   'confidence': 0.9033606648445129},\n  13: {'class': 'PERSON',\n   'x_top_left': 1188.0,\n   'y_top_left': 248.0,\n   'x_bottom_right': 1239.0,\n   'y_bottom_right': 332.0,\n   'confidence': 0.9040066003799438},\n  14: {'class': 'PERSON',\n   'x_top_left': 176.0,\n   'y_top_left': 431.0,\n   'x_bottom_right': 232.0,\n   'y_bottom_right': 551.0,\n   'confidence': 0.9050945043563843},\n  15: {'class': 'PERSON',\n   'x_top_left': 608.0,\n   'y_top_left': 303.0,\n   'x_bottom_right': 667.0,\n   'y_bottom_right': 388.0,\n   'confidence': 0.912956178188324},\n  16: {'class': 'PERSON',\n   'x_top_left': 227.0,\n   'y_top_left': 239.0,\n   'x_bottom_right': 283.0,\n   'y_bottom_right': 324.0,\n   'confidence': 0.9247034192085266}},\n 100.0: {0: {'class': 'PERSON',\n   'x_top_left': 294.0,\n   'y_top_left': 219.0,\n   'x_bottom_right': 319.0,\n   'y_bottom_right': 288.0,\n   'confidence': 0.6543341279029846},\n  1: {'class': 'PERSON',\n   'x_top_left': 317.0,\n   'y_top_left': 175.0,\n   'x_bottom_right': 343.0,\n   'y_bottom_right': 239.0,\n   'confidence': 0.7594074010848999},\n  2: {'class': 'PERSON',\n   'x_top_left': 727.0,\n   'y_top_left': 233.0,\n   'x_bottom_right': 756.0,\n   'y_bottom_right': 296.0,\n   'confidence': 0.7725032567977905},\n  3: {'class': 'PERSON',\n   'x_top_left': 1011.0,\n   'y_top_left': 202.0,\n   'x_bottom_right': 1051.0,\n   'y_bottom_right': 267.0,\n   'confidence': 0.8178680539131165},\n  4: {'class': 'PERSON',\n   'x_top_left': 474.0,\n   'y_top_left': 211.0,\n   'x_bottom_right': 497.0,\n   'y_bottom_right': 288.0,\n   'confidence': 0.8409513831138611},\n  5: {'class': 'PERSON',\n   'x_top_left': 950.0,\n   'y_top_left': 205.0,\n   'x_bottom_right': 994.0,\n   'y_bottom_right': 267.0,\n   'confidence': 0.8561810851097107},\n  6: {'class': 'PERSON',\n   'x_top_left': 54.0,\n   'y_top_left': 433.0,\n   'x_bottom_right': 101.0,\n   'y_bottom_right': 550.0,\n   'confidence': 0.8612560033798218},\n  7: {'class': 'PERSON',\n   'x_top_left': 710.0,\n   'y_top_left': 258.0,\n   'x_bottom_right': 745.0,\n   'y_bottom_right': 330.0,\n   'confidence': 0.8629791736602783},\n  8: {'class': 'PERSON',\n   'x_top_left': 253.0,\n   'y_top_left': 244.0,\n   'x_bottom_right': 295.0,\n   'y_bottom_right': 327.0,\n   'confidence': 0.8667678236961365},\n  9: {'class': 'PERSON',\n   'x_top_left': 1127.0,\n   'y_top_left': 226.0,\n   'x_bottom_right': 1161.0,\n   'y_bottom_right': 308.0,\n   'confidence': 0.8784227967262268},\n  10: {'class': 'PERSON',\n   'x_top_left': 280.0,\n   'y_top_left': 290.0,\n   'x_bottom_right': 327.0,\n   'y_bottom_right': 377.0,\n   'confidence': 0.8846096396446228},\n  11: {'class': 'PERSON',\n   'x_top_left': 1164.0,\n   'y_top_left': 270.0,\n   'x_bottom_right': 1213.0,\n   'y_bottom_right': 362.0,\n   'confidence': 0.8948700428009033},\n  12: {'class': 'PERSON',\n   'x_top_left': 859.0,\n   'y_top_left': 253.0,\n   'x_bottom_right': 897.0,\n   'y_bottom_right': 338.0,\n   'confidence': 0.9034860730171204},\n  13: {'class': 'PERSON',\n   'x_top_left': 612.0,\n   'y_top_left': 289.0,\n   'x_bottom_right': 652.0,\n   'y_bottom_right': 380.0,\n   'confidence': 0.9091343283653259},\n  14: {'class': 'PERSON',\n   'x_top_left': 114.0,\n   'y_top_left': 239.0,\n   'x_bottom_right': 165.0,\n   'y_bottom_right': 324.0,\n   'confidence': 0.93876713514328},\n  15: {'class': 'PERSON',\n   'x_top_left': 1219.0,\n   'y_top_left': 529.0,\n   'x_bottom_right': 1272.0,\n   'y_bottom_right': 675.0,\n   'confidence': 0.9567613005638123}},\n 101.0: {0: {'class': 'PERSON',\n   'x_top_left': 358.0,\n   'y_top_left': 192.0,\n   'x_bottom_right': 387.0,\n   'y_bottom_right': 253.0,\n   'confidence': 0.777987003326416},\n  1: {'class': 'PERSON',\n   'x_top_left': 1204.0,\n   'y_top_left': 238.0,\n   'x_bottom_right': 1231.0,\n   'y_bottom_right': 319.0,\n   'confidence': 0.7966943979263306},\n  2: {'class': 'PERSON',\n   'x_top_left': 444.0,\n   'y_top_left': 229.0,\n   'x_bottom_right': 492.0,\n   'y_bottom_right': 298.0,\n   'confidence': 0.8094838261604309},\n  3: {'class': 'PERSON',\n   'x_top_left': 741.0,\n   'y_top_left': 268.0,\n   'x_bottom_right': 775.0,\n   'y_bottom_right': 341.0,\n   'confidence': 0.8097900152206421},\n  4: {'class': 'PERSON',\n   'x_top_left': 945.0,\n   'y_top_left': 212.0,\n   'x_bottom_right': 985.0,\n   'y_bottom_right': 268.0,\n   'confidence': 0.8404321670532227},\n  5: {'class': 'PERSON',\n   'x_top_left': 487.0,\n   'y_top_left': 214.0,\n   'x_bottom_right': 522.0,\n   'y_bottom_right': 287.0,\n   'confidence': 0.8522555828094482},\n  6: {'class': 'PERSON',\n   'x_top_left': 705.0,\n   'y_top_left': 226.0,\n   'x_bottom_right': 739.0,\n   'y_bottom_right': 290.0,\n   'confidence': 0.8542121052742004},\n  7: {'class': 'PERSON',\n   'x_top_left': 236.0,\n   'y_top_left': 254.0,\n   'x_bottom_right': 268.0,\n   'y_bottom_right': 336.0,\n   'confidence': 0.86064612865448},\n  8: {'class': 'PERSON',\n   'x_top_left': 1045.0,\n   'y_top_left': 218.0,\n   'x_bottom_right': 1076.0,\n   'y_bottom_right': 289.0,\n   'confidence': 0.8683456778526306},\n  9: {'class': 'PERSON',\n   'x_top_left': 1248.0,\n   'y_top_left': 278.0,\n   'x_bottom_right': 1280.0,\n   'y_bottom_right': 372.0,\n   'confidence': 0.8843740820884705},\n  10: {'class': 'PERSON',\n   'x_top_left': 136.0,\n   'y_top_left': 250.0,\n   'x_bottom_right': 175.0,\n   'y_bottom_right': 335.0,\n   'confidence': 0.890434205532074},\n  11: {'class': 'PERSON',\n   'x_top_left': 906.0,\n   'y_top_left': 251.0,\n   'x_bottom_right': 934.0,\n   'y_bottom_right': 333.0,\n   'confidence': 0.8916488289833069},\n  12: {'class': 'PERSON',\n   'x_top_left': 89.0,\n   'y_top_left': 450.0,\n   'x_bottom_right': 135.0,\n   'y_bottom_right': 565.0,\n   'confidence': 0.9067172408103943},\n  13: {'class': 'PERSON',\n   'x_top_left': 626.0,\n   'y_top_left': 299.0,\n   'x_bottom_right': 659.0,\n   'y_bottom_right': 388.0,\n   'confidence': 0.9157314300537109},\n  14: {'class': 'PERSON',\n   'x_top_left': 300.0,\n   'y_top_left': 301.0,\n   'x_bottom_right': 347.0,\n   'y_bottom_right': 384.0,\n   'confidence': 0.9297255873680115},\n  15: {'class': 'PERSON',\n   'x_top_left': 1198.0,\n   'y_top_left': 521.0,\n   'x_bottom_right': 1249.0,\n   'y_bottom_right': 659.0,\n   'confidence': 0.9402257800102234}},\n 102.0: {0: {'class': 'PERSON',\n   'x_top_left': 839.0,\n   'y_top_left': 193.0,\n   'x_bottom_right': 862.0,\n   'y_bottom_right': 252.0,\n   'confidence': 0.6885247826576233},\n  1: {'class': 'PERSON',\n   'x_top_left': 369.0,\n   'y_top_left': 195.0,\n   'x_bottom_right': 389.0,\n   'y_bottom_right': 262.0,\n   'confidence': 0.7381346821784973},\n  2: {'class': 'PERSON',\n   'x_top_left': 610.0,\n   'y_top_left': 220.0,\n   'x_bottom_right': 641.0,\n   'y_bottom_right': 282.0,\n   'confidence': 0.7446122169494629},\n  3: {'class': 'PERSON',\n   'x_top_left': 960.0,\n   'y_top_left': 216.0,\n   'x_bottom_right': 984.0,\n   'y_bottom_right': 279.0,\n   'confidence': 0.7611779570579529},\n  4: {'class': 'PERSON',\n   'x_top_left': 718.0,\n   'y_top_left': 264.0,\n   'x_bottom_right': 749.0,\n   'y_bottom_right': 342.0,\n   'confidence': 0.8100637793540955},\n  5: {'class': 'PERSON',\n   'x_top_left': 719.0,\n   'y_top_left': 211.0,\n   'x_bottom_right': 747.0,\n   'y_bottom_right': 277.0,\n   'confidence': 0.8239818215370178},\n  6: {'class': 'PERSON',\n   'x_top_left': 944.0,\n   'y_top_left': 250.0,\n   'x_bottom_right': 975.0,\n   'y_bottom_right': 324.0,\n   'confidence': 0.8317180871963501},\n  7: {'class': 'PERSON',\n   'x_top_left': 388.0,\n   'y_top_left': 211.0,\n   'x_bottom_right': 419.0,\n   'y_bottom_right': 281.0,\n   'confidence': 0.8548017740249634},\n  8: {'class': 'PERSON',\n   'x_top_left': 197.0,\n   'y_top_left': 247.0,\n   'x_bottom_right': 226.0,\n   'y_bottom_right': 332.0,\n   'confidence': 0.8817362189292908},\n  9: {'class': 'PERSON',\n   'x_top_left': 337.0,\n   'y_top_left': 299.0,\n   'x_bottom_right': 369.0,\n   'y_bottom_right': 382.0,\n   'confidence': 0.8869808316230774},\n  10: {'class': 'PERSON',\n   'x_top_left': 148.0,\n   'y_top_left': 455.0,\n   'x_bottom_right': 200.0,\n   'y_bottom_right': 575.0,\n   'confidence': 0.9078008532524109},\n  11: {'class': 'PERSON',\n   'x_top_left': 130.0,\n   'y_top_left': 250.0,\n   'x_bottom_right': 169.0,\n   'y_bottom_right': 334.0,\n   'confidence': 0.9095973968505859},\n  12: {'class': 'PERSON',\n   'x_top_left': 535.0,\n   'y_top_left': 306.0,\n   'x_bottom_right': 561.0,\n   'y_bottom_right': 395.0,\n   'confidence': 0.9097368121147156},\n  13: {'class': 'PERSON',\n   'x_top_left': 1161.0,\n   'y_top_left': 511.0,\n   'x_bottom_right': 1207.0,\n   'y_bottom_right': 646.0,\n   'confidence': 0.9314125776290894}},\n 103.0: {0: {'class': 'PERSON',\n   'x_top_left': 714.0,\n   'y_top_left': 192.0,\n   'x_bottom_right': 741.0,\n   'y_bottom_right': 241.0,\n   'confidence': 0.4841785728931427},\n  1: {'class': 'PERSON',\n   'x_top_left': 643.0,\n   'y_top_left': 208.0,\n   'x_bottom_right': 683.0,\n   'y_bottom_right': 267.0,\n   'confidence': 0.7273341417312622},\n  2: {'class': 'PERSON',\n   'x_top_left': 397.0,\n   'y_top_left': 213.0,\n   'x_bottom_right': 422.0,\n   'y_bottom_right': 282.0,\n   'confidence': 0.752919614315033},\n  3: {'class': 'PERSON',\n   'x_top_left': 737.0,\n   'y_top_left': 268.0,\n   'x_bottom_right': 761.0,\n   'y_bottom_right': 338.0,\n   'confidence': 0.7900454998016357},\n  4: {'class': 'PERSON',\n   'x_top_left': 836.0,\n   'y_top_left': 206.0,\n   'x_bottom_right': 868.0,\n   'y_bottom_right': 267.0,\n   'confidence': 0.7980112433433533},\n  5: {'class': 'PERSON',\n   'x_top_left': 734.0,\n   'y_top_left': 217.0,\n   'x_bottom_right': 773.0,\n   'y_bottom_right': 278.0,\n   'confidence': 0.8029370307922363},\n  6: {'class': 'PERSON',\n   'x_top_left': 364.0,\n   'y_top_left': 209.0,\n   'x_bottom_right': 396.0,\n   'y_bottom_right': 262.0,\n   'confidence': 0.8051586747169495},\n  7: {'class': 'PERSON',\n   'x_top_left': 384.0,\n   'y_top_left': 293.0,\n   'x_bottom_right': 414.0,\n   'y_bottom_right': 375.0,\n   'confidence': 0.8543569445610046},\n  8: {'class': 'PERSON',\n   'x_top_left': 996.0,\n   'y_top_left': 241.0,\n   'x_bottom_right': 1025.0,\n   'y_bottom_right': 321.0,\n   'confidence': 0.8900874257087708},\n  9: {'class': 'PERSON',\n   'x_top_left': 217.0,\n   'y_top_left': 241.0,\n   'x_bottom_right': 250.0,\n   'y_bottom_right': 322.0,\n   'confidence': 0.9051910042762756},\n  10: {'class': 'PERSON',\n   'x_top_left': 154.0,\n   'y_top_left': 250.0,\n   'x_bottom_right': 185.0,\n   'y_bottom_right': 331.0,\n   'confidence': 0.9081084728240967},\n  11: {'class': 'PERSON',\n   'x_top_left': 465.0,\n   'y_top_left': 309.0,\n   'x_bottom_right': 503.0,\n   'y_bottom_right': 395.0,\n   'confidence': 0.9142050743103027},\n  12: {'class': 'PERSON',\n   'x_top_left': 239.0,\n   'y_top_left': 443.0,\n   'x_bottom_right': 296.0,\n   'y_bottom_right': 559.0,\n   'confidence': 0.9332122206687927},\n  13: {'class': 'PERSON',\n   'x_top_left': 1109.0,\n   'y_top_left': 498.0,\n   'x_bottom_right': 1153.0,\n   'y_bottom_right': 630.0,\n   'confidence': 0.9464037418365479}},\n 104.0: {0: {'class': 'PERSON',\n   'x_top_left': 680.0,\n   'y_top_left': 188.0,\n   'x_bottom_right': 705.0,\n   'y_bottom_right': 223.0,\n   'confidence': 0.3663186728954315},\n  1: {'class': 'PERSON',\n   'x_top_left': 659.0,\n   'y_top_left': 184.0,\n   'x_bottom_right': 684.0,\n   'y_bottom_right': 228.0,\n   'confidence': 0.42245352268218994},\n  2: {'class': 'PERSON',\n   'x_top_left': 0.0,\n   'y_top_left': 242.0,\n   'x_bottom_right': 11.0,\n   'y_bottom_right': 306.0,\n   'confidence': 0.5077860951423645},\n  3: {'class': 'PERSON',\n   'x_top_left': 472.0,\n   'y_top_left': 198.0,\n   'x_bottom_right': 493.0,\n   'y_bottom_right': 253.0,\n   'confidence': 0.6007013320922852},\n  4: {'class': 'PERSON',\n   'x_top_left': 452.0,\n   'y_top_left': 205.0,\n   'x_bottom_right': 489.0,\n   'y_bottom_right': 268.0,\n   'confidence': 0.7466089129447937},\n  5: {'class': 'PERSON',\n   'x_top_left': 768.0,\n   'y_top_left': 212.0,\n   'x_bottom_right': 804.0,\n   'y_bottom_right': 276.0,\n   'confidence': 0.7520390152931213},\n  6: {'class': 'PERSON',\n   'x_top_left': 804.0,\n   'y_top_left': 272.0,\n   'x_bottom_right': 834.0,\n   'y_bottom_right': 337.0,\n   'confidence': 0.7672366499900818},\n  7: {'class': 'PERSON',\n   'x_top_left': 508.0,\n   'y_top_left': 278.0,\n   'x_bottom_right': 540.0,\n   'y_bottom_right': 358.0,\n   'confidence': 0.8596510291099548},\n  8: {'class': 'PERSON',\n   'x_top_left': 793.0,\n   'y_top_left': 193.0,\n   'x_bottom_right': 823.0,\n   'y_bottom_right': 254.0,\n   'confidence': 0.8639861941337585},\n  9: {'class': 'PERSON',\n   'x_top_left': 337.0,\n   'y_top_left': 226.0,\n   'x_bottom_right': 380.0,\n   'y_bottom_right': 296.0,\n   'confidence': 0.8642095923423767},\n  10: {'class': 'PERSON',\n   'x_top_left': 391.0,\n   'y_top_left': 414.0,\n   'x_bottom_right': 440.0,\n   'y_bottom_right': 529.0,\n   'confidence': 0.8745625019073486},\n  11: {'class': 'PERSON',\n   'x_top_left': 447.0,\n   'y_top_left': 297.0,\n   'x_bottom_right': 491.0,\n   'y_bottom_right': 382.0,\n   'confidence': 0.8914564251899719},\n  12: {'class': 'PERSON',\n   'x_top_left': 253.0,\n   'y_top_left': 247.0,\n   'x_bottom_right': 286.0,\n   'y_bottom_right': 329.0,\n   'confidence': 0.9016801714897156},\n  13: {'class': 'PERSON',\n   'x_top_left': 1103.0,\n   'y_top_left': 231.0,\n   'x_bottom_right': 1132.0,\n   'y_bottom_right': 310.0,\n   'confidence': 0.9093436598777771},\n  14: {'class': 'PERSON',\n   'x_top_left': 1145.0,\n   'y_top_left': 489.0,\n   'x_bottom_right': 1201.0,\n   'y_bottom_right': 617.0,\n   'confidence': 0.9295794367790222}},\n 105.0: {0: {'class': 'PERSON',\n   'x_top_left': 740.0,\n   'y_top_left': 158.0,\n   'x_bottom_right': 771.0,\n   'y_bottom_right': 210.0,\n   'confidence': 0.5187535881996155},\n  1: {'class': 'PERSON',\n   'x_top_left': 0.0,\n   'y_top_left': 415.0,\n   'x_bottom_right': 13.0,\n   'y_bottom_right': 511.0,\n   'confidence': 0.6627616286277771},\n  2: {'class': 'PERSON',\n   'x_top_left': 821.0,\n   'y_top_left': 168.0,\n   'x_bottom_right': 852.0,\n   'y_bottom_right': 224.0,\n   'confidence': 0.6698269844055176},\n  3: {'class': 'PERSON',\n   'x_top_left': 893.0,\n   'y_top_left': 175.0,\n   'x_bottom_right': 922.0,\n   'y_bottom_right': 243.0,\n   'confidence': 0.7244512438774109},\n  4: {'class': 'PERSON',\n   'x_top_left': 38.0,\n   'y_top_left': 139.0,\n   'x_bottom_right': 64.0,\n   'y_bottom_right': 206.0,\n   'confidence': 0.7397193312644958},\n  5: {'class': 'PERSON',\n   'x_top_left': 594.0,\n   'y_top_left': 172.0,\n   'x_bottom_right': 635.0,\n   'y_bottom_right': 233.0,\n   'confidence': 0.8232024908065796},\n  6: {'class': 'PERSON',\n   'x_top_left': 475.0,\n   'y_top_left': 173.0,\n   'x_bottom_right': 518.0,\n   'y_bottom_right': 244.0,\n   'confidence': 0.8274829983711243},\n  7: {'class': 'PERSON',\n   'x_top_left': 403.0,\n   'y_top_left': 196.0,\n   'x_bottom_right': 443.0,\n   'y_bottom_right': 278.0,\n   'confidence': 0.8384945392608643},\n  8: {'class': 'PERSON',\n   'x_top_left': 662.0,\n   'y_top_left': 264.0,\n   'x_bottom_right': 702.0,\n   'y_bottom_right': 347.0,\n   'confidence': 0.8545246720314026},\n  9: {'class': 'PERSON',\n   'x_top_left': 868.0,\n   'y_top_left': 199.0,\n   'x_bottom_right': 913.0,\n   'y_bottom_right': 268.0,\n   'confidence': 0.8694913387298584},\n  10: {'class': 'PERSON',\n   'x_top_left': 73.0,\n   'y_top_left': 190.0,\n   'x_bottom_right': 106.0,\n   'y_bottom_right': 262.0,\n   'confidence': 0.8787764310836792},\n  11: {'class': 'PERSON',\n   'x_top_left': 943.0,\n   'y_top_left': 262.0,\n   'x_bottom_right': 986.0,\n   'y_bottom_right': 341.0,\n   'confidence': 0.8838228583335876},\n  12: {'class': 'PERSON',\n   'x_top_left': 546.0,\n   'y_top_left': 398.0,\n   'x_bottom_right': 586.0,\n   'y_bottom_right': 509.0,\n   'confidence': 0.8957114219665527},\n  13: {'class': 'PERSON',\n   'x_top_left': 476.0,\n   'y_top_left': 276.0,\n   'x_bottom_right': 508.0,\n   'y_bottom_right': 371.0,\n   'confidence': 0.8957422971725464},\n  14: {'class': 'PERSON',\n   'x_top_left': 340.0,\n   'y_top_left': 233.0,\n   'x_bottom_right': 389.0,\n   'y_bottom_right': 322.0,\n   'confidence': 0.9109667539596558}},\n 106.0: {0: {'class': 'PERSON',\n   'x_top_left': 866.0,\n   'y_top_left': 141.0,\n   'x_bottom_right': 887.0,\n   'y_bottom_right': 213.0,\n   'confidence': 0.5727522969245911},\n  1: {'class': 'PERSON',\n   'x_top_left': 14.0,\n   'y_top_left': 125.0,\n   'x_bottom_right': 41.0,\n   'y_bottom_right': 195.0,\n   'confidence': 0.5731344819068909},\n  2: {'class': 'PERSON',\n   'x_top_left': 513.0,\n   'y_top_left': 152.0,\n   'x_bottom_right': 559.0,\n   'y_bottom_right': 218.0,\n   'confidence': 0.6818062663078308},\n  3: {'class': 'PERSON',\n   'x_top_left': 899.0,\n   'y_top_left': 159.0,\n   'x_bottom_right': 919.0,\n   'y_bottom_right': 229.0,\n   'confidence': 0.7181403040885925},\n  4: {'class': 'PERSON',\n   'x_top_left': 37.0,\n   'y_top_left': 172.0,\n   'x_bottom_right': 73.0,\n   'y_bottom_right': 239.0,\n   'confidence': 0.8140459656715393},\n  5: {'class': 'PERSON',\n   'x_top_left': 308.0,\n   'y_top_left': 186.0,\n   'x_bottom_right': 343.0,\n   'y_bottom_right': 268.0,\n   'confidence': 0.8303441405296326},\n  6: {'class': 'PERSON',\n   'x_top_left': 393.0,\n   'y_top_left': 158.0,\n   'x_bottom_right': 437.0,\n   'y_bottom_right': 225.0,\n   'confidence': 0.840672492980957},\n  7: {'class': 'PERSON',\n   'x_top_left': 964.0,\n   'y_top_left': 261.0,\n   'x_bottom_right': 1001.0,\n   'y_bottom_right': 350.0,\n   'confidence': 0.8533531427383423},\n  8: {'class': 'PERSON',\n   'x_top_left': 801.0,\n   'y_top_left': 186.0,\n   'x_bottom_right': 847.0,\n   'y_bottom_right': 261.0,\n   'confidence': 0.8631442785263062},\n  9: {'class': 'PERSON',\n   'x_top_left': 521.0,\n   'y_top_left': 386.0,\n   'x_bottom_right': 561.0,\n   'y_bottom_right': 501.0,\n   'confidence': 0.8637008666992188},\n  10: {'class': 'PERSON',\n   'x_top_left': 648.0,\n   'y_top_left': 257.0,\n   'x_bottom_right': 698.0,\n   'y_bottom_right': 345.0,\n   'confidence': 0.8973425626754761},\n  11: {'class': 'PERSON',\n   'x_top_left': 232.0,\n   'y_top_left': 219.0,\n   'x_bottom_right': 282.0,\n   'y_bottom_right': 311.0,\n   'confidence': 0.9068435430526733},\n  12: {'class': 'PERSON',\n   'x_top_left': 403.0,\n   'y_top_left': 268.0,\n   'x_bottom_right': 458.0,\n   'y_bottom_right': 364.0,\n   'confidence': 0.9194773435592651}},\n 107.0: {0: {'class': 'PERSON',\n   'x_top_left': 868.0,\n   'y_top_left': 139.0,\n   'x_bottom_right': 890.0,\n   'y_bottom_right': 210.0,\n   'confidence': 0.5795006155967712},\n  1: {'class': 'PERSON',\n   'x_top_left': 643.0,\n   'y_top_left': 142.0,\n   'x_bottom_right': 669.0,\n   'y_bottom_right': 208.0,\n   'confidence': 0.5841942429542542},\n  2: {'class': 'PERSON',\n   'x_top_left': 890.0,\n   'y_top_left': 157.0,\n   'x_bottom_right': 912.0,\n   'y_bottom_right': 225.0,\n   'confidence': 0.6928923726081848},\n  3: {'class': 'PERSON',\n   'x_top_left': 17.0,\n   'y_top_left': 157.0,\n   'x_bottom_right': 49.0,\n   'y_bottom_right': 237.0,\n   'confidence': 0.6962180733680725},\n  4: {'class': 'PERSON',\n   'x_top_left': 404.0,\n   'y_top_left': 157.0,\n   'x_bottom_right': 454.0,\n   'y_bottom_right': 219.0,\n   'confidence': 0.7987731695175171},\n  5: {'class': 'PERSON',\n   'x_top_left': 340.0,\n   'y_top_left': 143.0,\n   'x_bottom_right': 374.0,\n   'y_bottom_right': 219.0,\n   'confidence': 0.8340485095977783},\n  6: {'class': 'PERSON',\n   'x_top_left': 238.0,\n   'y_top_left': 182.0,\n   'x_bottom_right': 271.0,\n   'y_bottom_right': 263.0,\n   'confidence': 0.8380951285362244},\n  7: {'class': 'PERSON',\n   'x_top_left': 740.0,\n   'y_top_left': 185.0,\n   'x_bottom_right': 777.0,\n   'y_bottom_right': 262.0,\n   'confidence': 0.8500261902809143},\n  8: {'class': 'PERSON',\n   'x_top_left': 489.0,\n   'y_top_left': 375.0,\n   'x_bottom_right': 530.0,\n   'y_bottom_right': 491.0,\n   'confidence': 0.8627768158912659},\n  9: {'class': 'PERSON',\n   'x_top_left': 964.0,\n   'y_top_left': 267.0,\n   'x_bottom_right': 1000.0,\n   'y_bottom_right': 357.0,\n   'confidence': 0.8887765407562256},\n  10: {'class': 'PERSON',\n   'x_top_left': 412.0,\n   'y_top_left': 260.0,\n   'x_bottom_right': 456.0,\n   'y_bottom_right': 355.0,\n   'confidence': 0.902758777141571},\n  11: {'class': 'PERSON',\n   'x_top_left': 625.0,\n   'y_top_left': 257.0,\n   'x_bottom_right': 673.0,\n   'y_bottom_right': 345.0,\n   'confidence': 0.9050416946411133},\n  12: {'class': 'PERSON',\n   'x_top_left': 149.0,\n   'y_top_left': 207.0,\n   'x_bottom_right': 193.0,\n   'y_bottom_right': 297.0,\n   'confidence': 0.9119638204574585},\n  13: {'class': 'PERSON',\n   'x_top_left': 1129.0,\n   'y_top_left': 467.0,\n   'x_bottom_right': 1200.0,\n   'y_bottom_right': 618.0,\n   'confidence': 0.9229263663291931}},\n 108.0: {0: {'class': 'PERSON',\n   'x_top_left': 399.0,\n   'y_top_left': 21.0,\n   'x_bottom_right': 745.0,\n   'y_bottom_right': 717.0,\n   'confidence': 0.3969564735889435},\n  1: {'class': 'PERSON',\n   'x_top_left': 555.0,\n   'y_top_left': 20.0,\n   'x_bottom_right': 1136.0,\n   'y_bottom_right': 713.0,\n   'confidence': 0.7698904871940613}},\n 109.0: {0: {'class': 'PERSON',\n   'x_top_left': 744.0,\n   'y_top_left': 3.0,\n   'x_bottom_right': 1267.0,\n   'y_bottom_right': 596.0,\n   'confidence': 0.565471351146698},\n  1: {'class': 'PERSON',\n   'x_top_left': 0.0,\n   'y_top_left': 138.0,\n   'x_bottom_right': 300.0,\n   'y_bottom_right': 715.0,\n   'confidence': 0.7086436152458191},\n  2: {'class': 'CHAIR',\n   'x_top_left': 1049.0,\n   'y_top_left': 610.0,\n   'x_bottom_right': 1279.0,\n   'y_bottom_right': 719.0,\n   'confidence': 0.7175606489181519},\n  3: {'class': 'PERSON',\n   'x_top_left': 277.0,\n   'y_top_left': 429.0,\n   'x_bottom_right': 531.0,\n   'y_bottom_right': 719.0,\n   'confidence': 0.7804527282714844},\n  4: {'class': 'PERSON',\n   'x_top_left': 401.0,\n   'y_top_left': 35.0,\n   'x_bottom_right': 1070.0,\n   'y_bottom_right': 712.0,\n   'confidence': 0.9536446332931519}},\n 110.0: {0: {'class': 'PERSON',\n   'x_top_left': 769.0,\n   'y_top_left': 203.0,\n   'x_bottom_right': 989.0,\n   'y_bottom_right': 468.0,\n   'confidence': 0.294882595539093},\n  1: {'class': 'PERSON',\n   'x_top_left': 1.0,\n   'y_top_left': 598.0,\n   'x_bottom_right': 124.0,\n   'y_bottom_right': 719.0,\n   'confidence': 0.41106167435646057},\n  2: {'class': 'PERSON',\n   'x_top_left': 1120.0,\n   'y_top_left': 492.0,\n   'x_bottom_right': 1280.0,\n   'y_bottom_right': 718.0,\n   'confidence': 0.6081496477127075},\n  3: {'class': 'PERSON',\n   'x_top_left': 982.0,\n   'y_top_left': 3.0,\n   'x_bottom_right': 1279.0,\n   'y_bottom_right': 713.0,\n   'confidence': 0.7968283891677856},\n  4: {'class': 'PERSON',\n   'x_top_left': 1.0,\n   'y_top_left': 107.0,\n   'x_bottom_right': 549.0,\n   'y_bottom_right': 715.0,\n   'confidence': 0.898620069026947},\n  5: {'class': 'PERSON',\n   'x_top_left': 447.0,\n   'y_top_left': 59.0,\n   'x_bottom_right': 1090.0,\n   'y_bottom_right': 712.0,\n   'confidence': 0.9475923180580139}},\n 111.0: {0: {'class': 'PERSON',\n   'x_top_left': 338.0,\n   'y_top_left': 354.0,\n   'x_bottom_right': 628.0,\n   'y_bottom_right': 716.0,\n   'confidence': 0.4882253110408783},\n  1: {'class': 'PERSON',\n   'x_top_left': 63.0,\n   'y_top_left': 25.0,\n   'x_bottom_right': 493.0,\n   'y_bottom_right': 577.0,\n   'confidence': 0.5484286546707153},\n  2: {'class': 'PERSON',\n   'x_top_left': 779.0,\n   'y_top_left': 3.0,\n   'x_bottom_right': 1093.0,\n   'y_bottom_right': 493.0,\n   'confidence': 0.7546996474266052},\n  3: {'class': 'PERSON',\n   'x_top_left': 933.0,\n   'y_top_left': 149.0,\n   'x_bottom_right': 1279.0,\n   'y_bottom_right': 716.0,\n   'confidence': 0.8474454879760742},\n  4: {'class': 'PERSON',\n   'x_top_left': 499.0,\n   'y_top_left': 73.0,\n   'x_bottom_right': 972.0,\n   'y_bottom_right': 711.0,\n   'confidence': 0.9261844754219055}},\n 112.0: {0: {'class': 'PERSON',\n   'x_top_left': 394.0,\n   'y_top_left': 616.0,\n   'x_bottom_right': 632.0,\n   'y_bottom_right': 720.0,\n   'confidence': 0.3777560293674469},\n  1: {'class': 'PERSON',\n   'x_top_left': 1.0,\n   'y_top_left': 298.0,\n   'x_bottom_right': 446.0,\n   'y_bottom_right': 717.0,\n   'confidence': 0.5184130668640137},\n  2: {'class': 'PERSON',\n   'x_top_left': 619.0,\n   'y_top_left': 329.0,\n   'x_bottom_right': 908.0,\n   'y_bottom_right': 716.0,\n   'confidence': 0.7928521633148193},\n  3: {'class': 'PERSON',\n   'x_top_left': 432.0,\n   'y_top_left': 3.0,\n   'x_bottom_right': 895.0,\n   'y_bottom_right': 632.0,\n   'confidence': 0.8472867608070374},\n  4: {'class': 'PERSON',\n   'x_top_left': 762.0,\n   'y_top_left': 36.0,\n   'x_bottom_right': 1279.0,\n   'y_bottom_right': 712.0,\n   'confidence': 0.9478061199188232}},\n 113.0: {0: {'class': 'PERSON',\n   'x_top_left': 814.0,\n   'y_top_left': 224.0,\n   'x_bottom_right': 832.0,\n   'y_bottom_right': 264.0,\n   'confidence': 0.38933801651000977},\n  1: {'class': 'PERSON',\n   'x_top_left': 451.0,\n   'y_top_left': 219.0,\n   'x_bottom_right': 468.0,\n   'y_bottom_right': 257.0,\n   'confidence': 0.4924614429473877},\n  2: {'class': 'PERSON',\n   'x_top_left': 187.0,\n   'y_top_left': 204.0,\n   'x_bottom_right': 212.0,\n   'y_bottom_right': 265.0,\n   'confidence': 0.518800675868988},\n  3: {'class': 'PERSON',\n   'x_top_left': 371.0,\n   'y_top_left': 217.0,\n   'x_bottom_right': 390.0,\n   'y_bottom_right': 256.0,\n   'confidence': 0.5339242219924927},\n  4: {'class': 'PERSON',\n   'x_top_left': 174.0,\n   'y_top_left': 234.0,\n   'x_bottom_right': 190.0,\n   'y_bottom_right': 282.0,\n   'confidence': 0.563300609588623},\n  5: {'class': 'PERSON',\n   'x_top_left': 676.0,\n   'y_top_left': 241.0,\n   'x_bottom_right': 692.0,\n   'y_bottom_right': 293.0,\n   'confidence': 0.7199661135673523},\n  6: {'class': 'PERSON',\n   'x_top_left': 1251.0,\n   'y_top_left': 250.0,\n   'x_bottom_right': 1279.0,\n   'y_bottom_right': 310.0,\n   'confidence': 0.7515214681625366},\n  7: {'class': 'PERSON',\n   'x_top_left': 725.0,\n   'y_top_left': 247.0,\n   'x_bottom_right': 746.0,\n   'y_bottom_right': 298.0,\n   'confidence': 0.7556421160697937},\n  8: {'class': 'PERSON',\n   'x_top_left': 9.0,\n   'y_top_left': 239.0,\n   'x_bottom_right': 25.0,\n   'y_bottom_right': 301.0,\n   'confidence': 0.7938271164894104},\n  9: {'class': 'PERSON',\n   'x_top_left': 1107.0,\n   'y_top_left': 260.0,\n   'x_bottom_right': 1124.0,\n   'y_bottom_right': 322.0,\n   'confidence': 0.8071922659873962},\n  10: {'class': 'PERSON',\n   'x_top_left': 126.0,\n   'y_top_left': 233.0,\n   'x_bottom_right': 147.0,\n   'y_bottom_right': 293.0,\n   'confidence': 0.8162792921066284},\n  11: {'class': 'PERSON',\n   'x_top_left': 590.0,\n   'y_top_left': 288.0,\n   'x_bottom_right': 612.0,\n   'y_bottom_right': 351.0,\n   'confidence': 0.8285324573516846},\n  12: {'class': 'PERSON',\n   'x_top_left': 295.0,\n   'y_top_left': 231.0,\n   'x_bottom_right': 320.0,\n   'y_bottom_right': 285.0,\n   'confidence': 0.8297229409217834},\n  13: {'class': 'PERSON',\n   'x_top_left': 645.0,\n   'y_top_left': 287.0,\n   'x_bottom_right': 668.0,\n   'y_bottom_right': 349.0,\n   'confidence': 0.8340535759925842},\n  14: {'class': 'PERSON',\n   'x_top_left': 897.0,\n   'y_top_left': 293.0,\n   'x_bottom_right': 919.0,\n   'y_bottom_right': 352.0,\n   'confidence': 0.8359581828117371},\n  15: {'class': 'PERSON',\n   'x_top_left': 523.0,\n   'y_top_left': 330.0,\n   'x_bottom_right': 545.0,\n   'y_bottom_right': 401.0,\n   'confidence': 0.8769710063934326},\n  16: {'class': 'PERSON',\n   'x_top_left': 611.0,\n   'y_top_left': 366.0,\n   'x_bottom_right': 644.0,\n   'y_bottom_right': 448.0,\n   'confidence': 0.8794997930526733}},\n 114.0: {0: {'class': 'PERSON',\n   'x_top_left': 778.0,\n   'y_top_left': 214.0,\n   'x_bottom_right': 799.0,\n   'y_bottom_right': 263.0,\n   'confidence': 0.5326080918312073},\n  1: {'class': 'PERSON',\n   'x_top_left': 408.0,\n   'y_top_left': 210.0,\n   'x_bottom_right': 430.0,\n   'y_bottom_right': 258.0,\n   'confidence': 0.5619444847106934},\n  2: {'class': 'PERSON',\n   'x_top_left': 167.0,\n   'y_top_left': 204.0,\n   'x_bottom_right': 192.0,\n   'y_bottom_right': 289.0,\n   'confidence': 0.5630334615707397},\n  3: {'class': 'PERSON',\n   'x_top_left': 340.0,\n   'y_top_left': 218.0,\n   'x_bottom_right': 359.0,\n   'y_bottom_right': 257.0,\n   'confidence': 0.5793795585632324},\n  4: {'class': 'PERSON',\n   'x_top_left': 136.0,\n   'y_top_left': 221.0,\n   'x_bottom_right': 159.0,\n   'y_bottom_right': 271.0,\n   'confidence': 0.7643735408782959},\n  5: {'class': 'PERSON',\n   'x_top_left': 665.0,\n   'y_top_left': 248.0,\n   'x_bottom_right': 686.0,\n   'y_bottom_right': 296.0,\n   'confidence': 0.7910642027854919},\n  6: {'class': 'PERSON',\n   'x_top_left': 710.0,\n   'y_top_left': 247.0,\n   'x_bottom_right': 728.0,\n   'y_bottom_right': 300.0,\n   'confidence': 0.7912408709526062},\n  7: {'class': 'PERSON',\n   'x_top_left': 15.0,\n   'y_top_left': 241.0,\n   'x_bottom_right': 34.0,\n   'y_bottom_right': 302.0,\n   'confidence': 0.8125526905059814},\n  8: {'class': 'PERSON',\n   'x_top_left': 1231.0,\n   'y_top_left': 245.0,\n   'x_bottom_right': 1265.0,\n   'y_bottom_right': 305.0,\n   'confidence': 0.8271698951721191},\n  9: {'class': 'PERSON',\n   'x_top_left': 562.0,\n   'y_top_left': 287.0,\n   'x_bottom_right': 585.0,\n   'y_bottom_right': 348.0,\n   'confidence': 0.8538219332695007},\n  10: {'class': 'PERSON',\n   'x_top_left': 634.0,\n   'y_top_left': 288.0,\n   'x_bottom_right': 659.0,\n   'y_bottom_right': 349.0,\n   'confidence': 0.856359601020813},\n  11: {'class': 'PERSON',\n   'x_top_left': 578.0,\n   'y_top_left': 361.0,\n   'x_bottom_right': 605.0,\n   'y_bottom_right': 442.0,\n   'confidence': 0.8592969179153442},\n  12: {'class': 'PERSON',\n   'x_top_left': 1071.0,\n   'y_top_left': 261.0,\n   'x_bottom_right': 1097.0,\n   'y_bottom_right': 321.0,\n   'confidence': 0.8620384335517883},\n  13: {'class': 'PERSON',\n   'x_top_left': 274.0,\n   'y_top_left': 230.0,\n   'x_bottom_right': 301.0,\n   'y_bottom_right': 286.0,\n   'confidence': 0.8740218877792358},\n  14: {'class': 'PERSON',\n   'x_top_left': 893.0,\n   'y_top_left': 290.0,\n   'x_bottom_right': 916.0,\n   'y_bottom_right': 351.0,\n   'confidence': 0.8756688833236694},\n  15: {'class': 'PERSON',\n   'x_top_left': 77.0,\n   'y_top_left': 232.0,\n   'x_bottom_right': 106.0,\n   'y_bottom_right': 290.0,\n   'confidence': 0.8844388723373413},\n  16: {'class': 'PERSON',\n   'x_top_left': 492.0,\n   'y_top_left': 324.0,\n   'x_bottom_right': 521.0,\n   'y_bottom_right': 396.0,\n   'confidence': 0.8921571373939514}},\n 115.0: {0: {'class': 'PERSON',\n   'x_top_left': 842.0,\n   'y_top_left': 218.0,\n   'x_bottom_right': 856.0,\n   'y_bottom_right': 257.0,\n   'confidence': 0.3496112525463104},\n  1: {'class': 'PERSON',\n   'x_top_left': 661.0,\n   'y_top_left': 244.0,\n   'x_bottom_right': 677.0,\n   'y_bottom_right': 294.0,\n   'confidence': 0.38258346915245056},\n  2: {'class': 'PERSON',\n   'x_top_left': 360.0,\n   'y_top_left': 217.0,\n   'x_bottom_right': 384.0,\n   'y_bottom_right': 258.0,\n   'confidence': 0.48655739426612854},\n  3: {'class': 'PERSON',\n   'x_top_left': 309.0,\n   'y_top_left': 218.0,\n   'x_bottom_right': 325.0,\n   'y_bottom_right': 259.0,\n   'confidence': 0.5175350904464722},\n  4: {'class': 'PERSON',\n   'x_top_left': 735.0,\n   'y_top_left': 216.0,\n   'x_bottom_right': 761.0,\n   'y_bottom_right': 262.0,\n   'confidence': 0.7006914019584656},\n  5: {'class': 'PERSON',\n   'x_top_left': 662.0,\n   'y_top_left': 287.0,\n   'x_bottom_right': 681.0,\n   'y_bottom_right': 345.0,\n   'confidence': 0.7208521962165833},\n  6: {'class': 'PERSON',\n   'x_top_left': 193.0,\n   'y_top_left': 236.0,\n   'x_bottom_right': 217.0,\n   'y_bottom_right': 292.0,\n   'confidence': 0.7394102215766907},\n  7: {'class': 'PERSON',\n   'x_top_left': 1260.0,\n   'y_top_left': 232.0,\n   'x_bottom_right': 1280.0,\n   'y_bottom_right': 294.0,\n   'confidence': 0.7614646553993225},\n  8: {'class': 'PERSON',\n   'x_top_left': 261.0,\n   'y_top_left': 235.0,\n   'x_bottom_right': 281.0,\n   'y_bottom_right': 286.0,\n   'confidence': 0.7832902073860168},\n  9: {'class': 'PERSON',\n   'x_top_left': 693.0,\n   'y_top_left': 249.0,\n   'x_bottom_right': 715.0,\n   'y_bottom_right': 302.0,\n   'confidence': 0.7955197691917419},\n  10: {'class': 'PERSON',\n   'x_top_left': 56.0,\n   'y_top_left': 226.0,\n   'x_bottom_right': 81.0,\n   'y_bottom_right': 284.0,\n   'confidence': 0.7971866130828857},\n  11: {'class': 'PERSON',\n   'x_top_left': 527.0,\n   'y_top_left': 282.0,\n   'x_bottom_right': 545.0,\n   'y_bottom_right': 345.0,\n   'confidence': 0.8333691954612732},\n  12: {'class': 'PERSON',\n   'x_top_left': 21.0,\n   'y_top_left': 242.0,\n   'x_bottom_right': 48.0,\n   'y_bottom_right': 304.0,\n   'confidence': 0.8423675298690796},\n  13: {'class': 'PERSON',\n   'x_top_left': 95.0,\n   'y_top_left': 223.0,\n   'x_bottom_right': 122.0,\n   'y_bottom_right': 272.0,\n   'confidence': 0.8478078246116638},\n  14: {'class': 'PERSON',\n   'x_top_left': 535.0,\n   'y_top_left': 360.0,\n   'x_bottom_right': 564.0,\n   'y_bottom_right': 442.0,\n   'confidence': 0.8621004819869995},\n  15: {'class': 'PERSON',\n   'x_top_left': 890.0,\n   'y_top_left': 289.0,\n   'x_bottom_right': 915.0,\n   'y_bottom_right': 343.0,\n   'confidence': 0.8822687864303589},\n  16: {'class': 'PERSON',\n   'x_top_left': 1045.0,\n   'y_top_left': 256.0,\n   'x_bottom_right': 1070.0,\n   'y_bottom_right': 319.0,\n   'confidence': 0.8906881213188171},\n  17: {'class': 'PERSON',\n   'x_top_left': 473.0,\n   'y_top_left': 318.0,\n   'x_bottom_right': 503.0,\n   'y_bottom_right': 388.0,\n   'confidence': 0.8950091004371643}},\n 116.0: {0: {'class': 'PERSON',\n   'x_top_left': 263.0,\n   'y_top_left': 214.0,\n   'x_bottom_right': 278.0,\n   'y_bottom_right': 259.0,\n   'confidence': 0.43739446997642517},\n  1: {'class': 'PERSON',\n   'x_top_left': 288.0,\n   'y_top_left': 216.0,\n   'x_bottom_right': 314.0,\n   'y_bottom_right': 259.0,\n   'confidence': 0.4690752625465393},\n  2: {'class': 'PERSON',\n   'x_top_left': 466.0,\n   'y_top_left': 284.0,\n   'x_bottom_right': 494.0,\n   'y_bottom_right': 343.0,\n   'confidence': 0.6747887134552002},\n  3: {'class': 'PERSON',\n   'x_top_left': 627.0,\n   'y_top_left': 248.0,\n   'x_bottom_right': 654.0,\n   'y_bottom_right': 305.0,\n   'confidence': 0.7510731816291809},\n  4: {'class': 'PERSON',\n   'x_top_left': 455.0,\n   'y_top_left': 311.0,\n   'x_bottom_right': 488.0,\n   'y_bottom_right': 380.0,\n   'confidence': 0.7754967212677002},\n  5: {'class': 'PERSON',\n   'x_top_left': 242.0,\n   'y_top_left': 234.0,\n   'x_bottom_right': 260.0,\n   'y_bottom_right': 289.0,\n   'confidence': 0.7766333222389221},\n  6: {'class': 'PERSON',\n   'x_top_left': 42.0,\n   'y_top_left': 221.0,\n   'x_bottom_right': 65.0,\n   'y_bottom_right': 272.0,\n   'confidence': 0.7884520888328552},\n  7: {'class': 'PERSON',\n   'x_top_left': 18.0,\n   'y_top_left': 221.0,\n   'x_bottom_right': 37.0,\n   'y_bottom_right': 279.0,\n   'confidence': 0.7954490780830383},\n  8: {'class': 'PERSON',\n   'x_top_left': 196.0,\n   'y_top_left': 238.0,\n   'x_bottom_right': 224.0,\n   'y_bottom_right': 295.0,\n   'confidence': 0.8264904618263245},\n  9: {'class': 'PERSON',\n   'x_top_left': 678.0,\n   'y_top_left': 278.0,\n   'x_bottom_right': 700.0,\n   'y_bottom_right': 338.0,\n   'confidence': 0.8436220288276672},\n  10: {'class': 'PERSON',\n   'x_top_left': 1015.0,\n   'y_top_left': 253.0,\n   'x_bottom_right': 1035.0,\n   'y_bottom_right': 316.0,\n   'confidence': 0.8490085601806641},\n  11: {'class': 'PERSON',\n   'x_top_left': 871.0,\n   'y_top_left': 269.0,\n   'x_bottom_right': 898.0,\n   'y_bottom_right': 322.0,\n   'confidence': 0.8533216118812561},\n  12: {'class': 'PERSON',\n   'x_top_left': 485.0,\n   'y_top_left': 355.0,\n   'x_bottom_right': 517.0,\n   'y_bottom_right': 434.0,\n   'confidence': 0.8748095631599426}}}"
     },
     "execution_count": 8,
     "metadata": {},
     "output_type": "execute_result"
    }
   ],
   "source": [
    "video_handler.results['objects']"
   ],
   "metadata": {
    "collapsed": false
   }
  },
  {
   "cell_type": "code",
   "execution_count": 9,
   "outputs": [],
   "source": [
    "import json\n",
    "with open('../matches/2019-08-17_celtavigo_realmadrid/objects.json', 'w') as f:\n",
    "    json.dump(video_handler.results['objects'], f)"
   ],
   "metadata": {
    "collapsed": false
   }
  },
  {
   "cell_type": "code",
   "execution_count": 3,
   "outputs": [
    {
     "name": "stdout",
     "output_type": "stream",
     "text": [
      "---------------------- NOTIFICATION ----------------------\n",
      "\n",
      "Resnet backbone config for loss_surface\n",
      "Spectral norm for resnet: True\n",
      "Using BN for resnet\n",
      "Imagenet pretrain weights for resnet: False\n",
      "\n",
      "-------------------------- END --------------------------\n",
      "---------------------- NOTIFICATION ----------------------\n",
      "\n",
      "Weights loaded for loss_surface\n",
      "From: /home/skocznapanda/programming/BSc-soccer-annotator/automatic_models/lines_and_field_detection/out/pretrained_loss_surface/checkpoint.pth.tar\n",
      "\n",
      "-------------------------- END --------------------------\n",
      "---------------------- NOTIFICATION ----------------------\n",
      "\n",
      "Resnet backbone config for init_guess\n",
      "Spectral norm for resnet: False\n",
      "Using BN for resnet\n",
      "Imagenet pretrain weights for resnet: False\n",
      "\n",
      "-------------------------- END --------------------------\n",
      "---------------------- NOTIFICATION ----------------------\n",
      "\n",
      "Weights loaded for init_guess\n",
      "From: /home/skocznapanda/programming/BSc-soccer-annotator/automatic_models/lines_and_field_detection/out/pretrained_init_guess/checkpoint.pth.tar\n",
      "\n",
      "-------------------------- END --------------------------\n",
      "---------------------- NOTIFICATION ----------------------\n",
      "\n",
      "Weights loaded for init_guess\n",
      "From: /home/skocznapanda/programming/BSc-soccer-annotator/automatic_models/lines_and_field_detection/out/pretrained_init_guess/checkpoint.pth.tar\n",
      "\n",
      "-------------------------- END --------------------------\n"
     ]
    },
    {
     "name": "stderr",
     "output_type": "stream",
     "text": [
      "  0%|          | 0/1 [00:00<?, ?it/s]/home/skocznapanda/programming/BSc-soccer-annotator/venv/lib/python3.9/site-packages/torch/functional.py:504: UserWarning: torch.meshgrid: in an upcoming release, it will be required to pass the indexing argument. (Triggered internally at ../aten/src/ATen/native/TensorShape.cpp:3190.)\n",
      "  return _VF.meshgrid(tensors, **kwargs)  # type: ignore[attr-defined]\n",
      "/home/skocznapanda/programming/BSc-soccer-annotator/venv/lib/python3.9/site-packages/torch/nn/functional.py:4227: UserWarning: Default grid_sample and affine_grid behavior has changed to align_corners=False since 1.3.0. Please specify align_corners=True if the old behavior is desired. See the documentation of grid_sample for details.\n",
      "  warnings.warn(\n",
      "100%|██████████| 1/1 [00:09<00:00,  9.08s/it]\n"
     ]
    },
    {
     "name": "stdout",
     "output_type": "stream",
     "text": [
      "0 was processed.\n",
      "---------------------- NOTIFICATION ----------------------\n",
      "\n",
      "Resnet backbone config for loss_surface\n",
      "Spectral norm for resnet: True\n",
      "Using BN for resnet\n",
      "Imagenet pretrain weights for resnet: False\n",
      "\n",
      "-------------------------- END --------------------------\n",
      "---------------------- NOTIFICATION ----------------------\n",
      "\n",
      "Weights loaded for loss_surface\n",
      "From: /home/skocznapanda/programming/BSc-soccer-annotator/automatic_models/lines_and_field_detection/out/pretrained_loss_surface/checkpoint.pth.tar\n",
      "\n",
      "-------------------------- END --------------------------\n",
      "---------------------- NOTIFICATION ----------------------\n",
      "\n",
      "Resnet backbone config for init_guess\n",
      "Spectral norm for resnet: False\n",
      "Using BN for resnet\n",
      "Imagenet pretrain weights for resnet: False\n",
      "\n",
      "-------------------------- END --------------------------\n",
      "---------------------- NOTIFICATION ----------------------\n",
      "\n",
      "Weights loaded for init_guess\n",
      "From: /home/skocznapanda/programming/BSc-soccer-annotator/automatic_models/lines_and_field_detection/out/pretrained_init_guess/checkpoint.pth.tar\n",
      "\n",
      "-------------------------- END --------------------------\n",
      "---------------------- NOTIFICATION ----------------------\n",
      "\n",
      "Weights loaded for init_guess\n",
      "From: /home/skocznapanda/programming/BSc-soccer-annotator/automatic_models/lines_and_field_detection/out/pretrained_init_guess/checkpoint.pth.tar\n",
      "\n",
      "-------------------------- END --------------------------\n"
     ]
    },
    {
     "name": "stderr",
     "output_type": "stream",
     "text": [
      "100%|██████████| 1/1 [00:07<00:00,  7.99s/it]\n"
     ]
    },
    {
     "name": "stdout",
     "output_type": "stream",
     "text": [
      "1 was processed.\n",
      "---------------------- NOTIFICATION ----------------------\n",
      "\n",
      "Resnet backbone config for loss_surface\n",
      "Spectral norm for resnet: True\n",
      "Using BN for resnet\n",
      "Imagenet pretrain weights for resnet: False\n",
      "\n",
      "-------------------------- END --------------------------\n",
      "---------------------- NOTIFICATION ----------------------\n",
      "\n",
      "Weights loaded for loss_surface\n",
      "From: /home/skocznapanda/programming/BSc-soccer-annotator/automatic_models/lines_and_field_detection/out/pretrained_loss_surface/checkpoint.pth.tar\n",
      "\n",
      "-------------------------- END --------------------------\n",
      "---------------------- NOTIFICATION ----------------------\n",
      "\n",
      "Resnet backbone config for init_guess\n",
      "Spectral norm for resnet: False\n",
      "Using BN for resnet\n",
      "Imagenet pretrain weights for resnet: False\n",
      "\n",
      "-------------------------- END --------------------------\n",
      "---------------------- NOTIFICATION ----------------------\n",
      "\n",
      "Weights loaded for init_guess\n",
      "From: /home/skocznapanda/programming/BSc-soccer-annotator/automatic_models/lines_and_field_detection/out/pretrained_init_guess/checkpoint.pth.tar\n",
      "\n",
      "-------------------------- END --------------------------\n",
      "---------------------- NOTIFICATION ----------------------\n",
      "\n",
      "Weights loaded for init_guess\n",
      "From: /home/skocznapanda/programming/BSc-soccer-annotator/automatic_models/lines_and_field_detection/out/pretrained_init_guess/checkpoint.pth.tar\n",
      "\n",
      "-------------------------- END --------------------------\n"
     ]
    },
    {
     "name": "stderr",
     "output_type": "stream",
     "text": [
      "100%|██████████| 1/1 [00:13<00:00, 13.26s/it]\n"
     ]
    },
    {
     "name": "stdout",
     "output_type": "stream",
     "text": [
      "2 was processed.\n",
      "---------------------- NOTIFICATION ----------------------\n",
      "\n",
      "Resnet backbone config for loss_surface\n",
      "Spectral norm for resnet: True\n",
      "Using BN for resnet\n",
      "Imagenet pretrain weights for resnet: False\n",
      "\n",
      "-------------------------- END --------------------------\n",
      "---------------------- NOTIFICATION ----------------------\n",
      "\n",
      "Weights loaded for loss_surface\n",
      "From: /home/skocznapanda/programming/BSc-soccer-annotator/automatic_models/lines_and_field_detection/out/pretrained_loss_surface/checkpoint.pth.tar\n",
      "\n",
      "-------------------------- END --------------------------\n",
      "---------------------- NOTIFICATION ----------------------\n",
      "\n",
      "Resnet backbone config for init_guess\n",
      "Spectral norm for resnet: False\n",
      "Using BN for resnet\n",
      "Imagenet pretrain weights for resnet: False\n",
      "\n",
      "-------------------------- END --------------------------\n",
      "---------------------- NOTIFICATION ----------------------\n",
      "\n",
      "Weights loaded for init_guess\n",
      "From: /home/skocznapanda/programming/BSc-soccer-annotator/automatic_models/lines_and_field_detection/out/pretrained_init_guess/checkpoint.pth.tar\n",
      "\n",
      "-------------------------- END --------------------------\n",
      "---------------------- NOTIFICATION ----------------------\n",
      "\n",
      "Weights loaded for init_guess\n",
      "From: /home/skocznapanda/programming/BSc-soccer-annotator/automatic_models/lines_and_field_detection/out/pretrained_init_guess/checkpoint.pth.tar\n",
      "\n",
      "-------------------------- END --------------------------\n"
     ]
    },
    {
     "name": "stderr",
     "output_type": "stream",
     "text": [
      "100%|██████████| 1/1 [00:15<00:00, 15.24s/it]\n"
     ]
    },
    {
     "name": "stdout",
     "output_type": "stream",
     "text": [
      "3 was processed.\n",
      "---------------------- NOTIFICATION ----------------------\n",
      "\n",
      "Resnet backbone config for loss_surface\n",
      "Spectral norm for resnet: True\n",
      "Using BN for resnet\n",
      "Imagenet pretrain weights for resnet: False\n",
      "\n",
      "-------------------------- END --------------------------\n",
      "---------------------- NOTIFICATION ----------------------\n",
      "\n",
      "Weights loaded for loss_surface\n",
      "From: /home/skocznapanda/programming/BSc-soccer-annotator/automatic_models/lines_and_field_detection/out/pretrained_loss_surface/checkpoint.pth.tar\n",
      "\n",
      "-------------------------- END --------------------------\n",
      "---------------------- NOTIFICATION ----------------------\n",
      "\n",
      "Resnet backbone config for init_guess\n",
      "Spectral norm for resnet: False\n",
      "Using BN for resnet\n",
      "Imagenet pretrain weights for resnet: False\n",
      "\n",
      "-------------------------- END --------------------------\n",
      "---------------------- NOTIFICATION ----------------------\n",
      "\n",
      "Weights loaded for init_guess\n",
      "From: /home/skocznapanda/programming/BSc-soccer-annotator/automatic_models/lines_and_field_detection/out/pretrained_init_guess/checkpoint.pth.tar\n",
      "\n",
      "-------------------------- END --------------------------\n",
      "---------------------- NOTIFICATION ----------------------\n",
      "\n",
      "Weights loaded for init_guess\n",
      "From: /home/skocznapanda/programming/BSc-soccer-annotator/automatic_models/lines_and_field_detection/out/pretrained_init_guess/checkpoint.pth.tar\n",
      "\n",
      "-------------------------- END --------------------------\n"
     ]
    },
    {
     "name": "stderr",
     "output_type": "stream",
     "text": [
      "100%|██████████| 1/1 [00:16<00:00, 16.66s/it]\n"
     ]
    },
    {
     "name": "stdout",
     "output_type": "stream",
     "text": [
      "4 was processed.\n"
     ]
    }
   ],
   "source": [
    "video_handler.detect_lines_and_fields()"
   ],
   "metadata": {
    "collapsed": false
   }
  },
  {
   "cell_type": "code",
   "execution_count": 5,
   "outputs": [],
   "source": [
    "import json\n",
    "for key, value in video_handler.results['lines'].items():\n",
    "    video_handler.results['lines'][key] = value.tolist()\n",
    "with open('lines.json', 'w') as f:\n",
    "    json.dump(video_handler.results['lines'], f)"
   ],
   "metadata": {
    "collapsed": false
   }
  },
  {
   "cell_type": "code",
   "execution_count": 6,
   "outputs": [],
   "source": [
    "import json\n",
    "with open('result.json', 'w') as f:\n",
    "    json.dump(video_handler.results['objects'], f)"
   ],
   "metadata": {
    "collapsed": false
   }
  },
  {
   "cell_type": "code",
   "execution_count": 8,
   "outputs": [],
   "source": [],
   "metadata": {
    "collapsed": false
   }
  },
  {
   "cell_type": "code",
   "execution_count": null,
   "outputs": [],
   "source": [],
   "metadata": {
    "collapsed": false
   }
  }
 ],
 "metadata": {
  "kernelspec": {
   "display_name": "Python 3",
   "language": "python",
   "name": "python3"
  },
  "language_info": {
   "codemirror_mode": {
    "name": "ipython",
    "version": 2
   },
   "file_extension": ".py",
   "mimetype": "text/x-python",
   "name": "python",
   "nbconvert_exporter": "python",
   "pygments_lexer": "ipython2",
   "version": "2.7.6"
  }
 },
 "nbformat": 4,
 "nbformat_minor": 0
}
