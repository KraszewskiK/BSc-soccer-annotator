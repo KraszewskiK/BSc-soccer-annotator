{
 "cells": [
  {
   "cell_type": "markdown",
   "source": [
    "NOTEBOOK FOR GENERAL USAGE OF AUTOMATIC MODELS"
   ],
   "metadata": {
    "collapsed": false
   }
  },
  {
   "cell_type": "code",
   "execution_count": 3,
   "outputs": [],
   "source": [
    "from handlers import VideoHandler"
   ],
   "metadata": {
    "collapsed": false
   }
  },
  {
   "cell_type": "code",
   "execution_count": 4,
   "outputs": [
    {
     "name": "stdout",
     "output_type": "stream",
     "text": [
      "---------------------- NOTIFICATION ----------------------\n",
      "\n",
      "Resnet backbone config for loss_surface\n",
      "Spectral norm for resnet: True\n",
      "Using BN for resnet\n",
      "Imagenet pretrain weights for resnet: False\n",
      "\n",
      "-------------------------- END --------------------------\n",
      "---------------------- NOTIFICATION ----------------------\n",
      "\n",
      "Weights loaded for loss_surface\n",
      "From: /home/skocznapanda/programming/BSc-soccer-annotator/automatic_models/lines_and_field_detection/out/pretrained_loss_surface/checkpoint.pth.tar\n",
      "\n",
      "-------------------------- END --------------------------\n",
      "---------------------- NOTIFICATION ----------------------\n",
      "\n",
      "Resnet backbone config for init_guess\n",
      "Spectral norm for resnet: False\n",
      "Using BN for resnet\n",
      "Imagenet pretrain weights for resnet: False\n",
      "\n",
      "-------------------------- END --------------------------\n",
      "---------------------- NOTIFICATION ----------------------\n",
      "\n",
      "Weights loaded for init_guess\n",
      "From: /home/skocznapanda/programming/BSc-soccer-annotator/automatic_models/lines_and_field_detection/out/pretrained_init_guess/checkpoint.pth.tar\n",
      "\n",
      "-------------------------- END --------------------------\n",
      "---------------------- NOTIFICATION ----------------------\n",
      "\n",
      "Weights loaded for init_guess\n",
      "From: /home/skocznapanda/programming/BSc-soccer-annotator/automatic_models/lines_and_field_detection/out/pretrained_init_guess/checkpoint.pth.tar\n",
      "\n",
      "-------------------------- END --------------------------\n"
     ]
    },
    {
     "name": "stderr",
     "output_type": "stream",
     "text": [
      "100%|██████████| 200/200 [06:41<00:00,  2.01s/it]\n"
     ]
    },
    {
     "name": "stdout",
     "output_type": "stream",
     "text": [
      "0.0 was processed.\n",
      "---------------------- NOTIFICATION ----------------------\n",
      "\n",
      "Resnet backbone config for loss_surface\n",
      "Spectral norm for resnet: True\n",
      "Using BN for resnet\n",
      "Imagenet pretrain weights for resnet: False\n",
      "\n",
      "-------------------------- END --------------------------\n",
      "---------------------- NOTIFICATION ----------------------\n",
      "\n",
      "Weights loaded for loss_surface\n",
      "From: /home/skocznapanda/programming/BSc-soccer-annotator/automatic_models/lines_and_field_detection/out/pretrained_loss_surface/checkpoint.pth.tar\n",
      "\n",
      "-------------------------- END --------------------------\n",
      "---------------------- NOTIFICATION ----------------------\n",
      "\n",
      "Resnet backbone config for init_guess\n",
      "Spectral norm for resnet: False\n",
      "Using BN for resnet\n",
      "Imagenet pretrain weights for resnet: False\n",
      "\n",
      "-------------------------- END --------------------------\n",
      "---------------------- NOTIFICATION ----------------------\n",
      "\n",
      "Weights loaded for init_guess\n",
      "From: /home/skocznapanda/programming/BSc-soccer-annotator/automatic_models/lines_and_field_detection/out/pretrained_init_guess/checkpoint.pth.tar\n",
      "\n",
      "-------------------------- END --------------------------\n",
      "---------------------- NOTIFICATION ----------------------\n",
      "\n",
      "Weights loaded for init_guess\n",
      "From: /home/skocznapanda/programming/BSc-soccer-annotator/automatic_models/lines_and_field_detection/out/pretrained_init_guess/checkpoint.pth.tar\n",
      "\n",
      "-------------------------- END --------------------------\n"
     ]
    },
    {
     "name": "stderr",
     "output_type": "stream",
     "text": [
      "100%|██████████| 200/200 [01:02<00:00,  3.19it/s]\n"
     ]
    },
    {
     "name": "stdout",
     "output_type": "stream",
     "text": [
      "1.0 was processed.\n",
      "---------------------- NOTIFICATION ----------------------\n",
      "\n",
      "Resnet backbone config for loss_surface\n",
      "Spectral norm for resnet: True\n",
      "Using BN for resnet\n",
      "Imagenet pretrain weights for resnet: False\n",
      "\n",
      "-------------------------- END --------------------------\n",
      "---------------------- NOTIFICATION ----------------------\n",
      "\n",
      "Weights loaded for loss_surface\n",
      "From: /home/skocznapanda/programming/BSc-soccer-annotator/automatic_models/lines_and_field_detection/out/pretrained_loss_surface/checkpoint.pth.tar\n",
      "\n",
      "-------------------------- END --------------------------\n",
      "---------------------- NOTIFICATION ----------------------\n",
      "\n",
      "Resnet backbone config for init_guess\n",
      "Spectral norm for resnet: False\n",
      "Using BN for resnet\n",
      "Imagenet pretrain weights for resnet: False\n",
      "\n",
      "-------------------------- END --------------------------\n",
      "---------------------- NOTIFICATION ----------------------\n",
      "\n",
      "Weights loaded for init_guess\n",
      "From: /home/skocznapanda/programming/BSc-soccer-annotator/automatic_models/lines_and_field_detection/out/pretrained_init_guess/checkpoint.pth.tar\n",
      "\n",
      "-------------------------- END --------------------------\n",
      "---------------------- NOTIFICATION ----------------------\n",
      "\n",
      "Weights loaded for init_guess\n",
      "From: /home/skocznapanda/programming/BSc-soccer-annotator/automatic_models/lines_and_field_detection/out/pretrained_init_guess/checkpoint.pth.tar\n",
      "\n",
      "-------------------------- END --------------------------\n"
     ]
    },
    {
     "name": "stderr",
     "output_type": "stream",
     "text": [
      "100%|██████████| 200/200 [01:03<00:00,  3.13it/s]\n"
     ]
    },
    {
     "name": "stdout",
     "output_type": "stream",
     "text": [
      "2.0 was processed.\n",
      "---------------------- NOTIFICATION ----------------------\n",
      "\n",
      "Resnet backbone config for loss_surface\n",
      "Spectral norm for resnet: True\n",
      "Using BN for resnet\n",
      "Imagenet pretrain weights for resnet: False\n",
      "\n",
      "-------------------------- END --------------------------\n",
      "---------------------- NOTIFICATION ----------------------\n",
      "\n",
      "Weights loaded for loss_surface\n",
      "From: /home/skocznapanda/programming/BSc-soccer-annotator/automatic_models/lines_and_field_detection/out/pretrained_loss_surface/checkpoint.pth.tar\n",
      "\n",
      "-------------------------- END --------------------------\n",
      "---------------------- NOTIFICATION ----------------------\n",
      "\n",
      "Resnet backbone config for init_guess\n",
      "Spectral norm for resnet: False\n",
      "Using BN for resnet\n",
      "Imagenet pretrain weights for resnet: False\n",
      "\n",
      "-------------------------- END --------------------------\n",
      "---------------------- NOTIFICATION ----------------------\n",
      "\n",
      "Weights loaded for init_guess\n",
      "From: /home/skocznapanda/programming/BSc-soccer-annotator/automatic_models/lines_and_field_detection/out/pretrained_init_guess/checkpoint.pth.tar\n",
      "\n",
      "-------------------------- END --------------------------\n",
      "---------------------- NOTIFICATION ----------------------\n",
      "\n",
      "Weights loaded for init_guess\n",
      "From: /home/skocznapanda/programming/BSc-soccer-annotator/automatic_models/lines_and_field_detection/out/pretrained_init_guess/checkpoint.pth.tar\n",
      "\n",
      "-------------------------- END --------------------------\n"
     ]
    },
    {
     "name": "stderr",
     "output_type": "stream",
     "text": [
      "100%|██████████| 200/200 [01:02<00:00,  3.22it/s]\n"
     ]
    },
    {
     "name": "stdout",
     "output_type": "stream",
     "text": [
      "3.0 was processed.\n",
      "---------------------- NOTIFICATION ----------------------\n",
      "\n",
      "Resnet backbone config for loss_surface\n",
      "Spectral norm for resnet: True\n",
      "Using BN for resnet\n",
      "Imagenet pretrain weights for resnet: False\n",
      "\n",
      "-------------------------- END --------------------------\n",
      "---------------------- NOTIFICATION ----------------------\n",
      "\n",
      "Weights loaded for loss_surface\n",
      "From: /home/skocznapanda/programming/BSc-soccer-annotator/automatic_models/lines_and_field_detection/out/pretrained_loss_surface/checkpoint.pth.tar\n",
      "\n",
      "-------------------------- END --------------------------\n",
      "---------------------- NOTIFICATION ----------------------\n",
      "\n",
      "Resnet backbone config for init_guess\n",
      "Spectral norm for resnet: False\n",
      "Using BN for resnet\n",
      "Imagenet pretrain weights for resnet: False\n",
      "\n",
      "-------------------------- END --------------------------\n",
      "---------------------- NOTIFICATION ----------------------\n",
      "\n",
      "Weights loaded for init_guess\n",
      "From: /home/skocznapanda/programming/BSc-soccer-annotator/automatic_models/lines_and_field_detection/out/pretrained_init_guess/checkpoint.pth.tar\n",
      "\n",
      "-------------------------- END --------------------------\n",
      "---------------------- NOTIFICATION ----------------------\n",
      "\n",
      "Weights loaded for init_guess\n",
      "From: /home/skocznapanda/programming/BSc-soccer-annotator/automatic_models/lines_and_field_detection/out/pretrained_init_guess/checkpoint.pth.tar\n",
      "\n",
      "-------------------------- END --------------------------\n"
     ]
    },
    {
     "name": "stderr",
     "output_type": "stream",
     "text": [
      "100%|██████████| 200/200 [01:02<00:00,  3.20it/s]\n"
     ]
    },
    {
     "name": "stdout",
     "output_type": "stream",
     "text": [
      "4.0 was processed.\n",
      "---------------------- NOTIFICATION ----------------------\n",
      "\n",
      "Resnet backbone config for loss_surface\n",
      "Spectral norm for resnet: True\n",
      "Using BN for resnet\n",
      "Imagenet pretrain weights for resnet: False\n",
      "\n",
      "-------------------------- END --------------------------\n",
      "---------------------- NOTIFICATION ----------------------\n",
      "\n",
      "Weights loaded for loss_surface\n",
      "From: /home/skocznapanda/programming/BSc-soccer-annotator/automatic_models/lines_and_field_detection/out/pretrained_loss_surface/checkpoint.pth.tar\n",
      "\n",
      "-------------------------- END --------------------------\n",
      "---------------------- NOTIFICATION ----------------------\n",
      "\n",
      "Resnet backbone config for init_guess\n",
      "Spectral norm for resnet: False\n",
      "Using BN for resnet\n",
      "Imagenet pretrain weights for resnet: False\n",
      "\n",
      "-------------------------- END --------------------------\n",
      "---------------------- NOTIFICATION ----------------------\n",
      "\n",
      "Weights loaded for init_guess\n",
      "From: /home/skocznapanda/programming/BSc-soccer-annotator/automatic_models/lines_and_field_detection/out/pretrained_init_guess/checkpoint.pth.tar\n",
      "\n",
      "-------------------------- END --------------------------\n",
      "---------------------- NOTIFICATION ----------------------\n",
      "\n",
      "Weights loaded for init_guess\n",
      "From: /home/skocznapanda/programming/BSc-soccer-annotator/automatic_models/lines_and_field_detection/out/pretrained_init_guess/checkpoint.pth.tar\n",
      "\n",
      "-------------------------- END --------------------------\n"
     ]
    },
    {
     "name": "stderr",
     "output_type": "stream",
     "text": [
      "100%|██████████| 200/200 [01:02<00:00,  3.19it/s]\n"
     ]
    },
    {
     "name": "stdout",
     "output_type": "stream",
     "text": [
      "5.0 was processed.\n",
      "---------------------- NOTIFICATION ----------------------\n",
      "\n",
      "Resnet backbone config for loss_surface\n",
      "Spectral norm for resnet: True\n",
      "Using BN for resnet\n",
      "Imagenet pretrain weights for resnet: False\n",
      "\n",
      "-------------------------- END --------------------------\n",
      "---------------------- NOTIFICATION ----------------------\n",
      "\n",
      "Weights loaded for loss_surface\n",
      "From: /home/skocznapanda/programming/BSc-soccer-annotator/automatic_models/lines_and_field_detection/out/pretrained_loss_surface/checkpoint.pth.tar\n",
      "\n",
      "-------------------------- END --------------------------\n",
      "---------------------- NOTIFICATION ----------------------\n",
      "\n",
      "Resnet backbone config for init_guess\n",
      "Spectral norm for resnet: False\n",
      "Using BN for resnet\n",
      "Imagenet pretrain weights for resnet: False\n",
      "\n",
      "-------------------------- END --------------------------\n",
      "---------------------- NOTIFICATION ----------------------\n",
      "\n",
      "Weights loaded for init_guess\n",
      "From: /home/skocznapanda/programming/BSc-soccer-annotator/automatic_models/lines_and_field_detection/out/pretrained_init_guess/checkpoint.pth.tar\n",
      "\n",
      "-------------------------- END --------------------------\n",
      "---------------------- NOTIFICATION ----------------------\n",
      "\n",
      "Weights loaded for init_guess\n",
      "From: /home/skocznapanda/programming/BSc-soccer-annotator/automatic_models/lines_and_field_detection/out/pretrained_init_guess/checkpoint.pth.tar\n",
      "\n",
      "-------------------------- END --------------------------\n"
     ]
    },
    {
     "name": "stderr",
     "output_type": "stream",
     "text": [
      "100%|██████████| 200/200 [01:04<00:00,  3.09it/s]\n"
     ]
    },
    {
     "name": "stdout",
     "output_type": "stream",
     "text": [
      "6.0 was processed.\n",
      "---------------------- NOTIFICATION ----------------------\n",
      "\n",
      "Resnet backbone config for loss_surface\n",
      "Spectral norm for resnet: True\n",
      "Using BN for resnet\n",
      "Imagenet pretrain weights for resnet: False\n",
      "\n",
      "-------------------------- END --------------------------\n",
      "---------------------- NOTIFICATION ----------------------\n",
      "\n",
      "Weights loaded for loss_surface\n",
      "From: /home/skocznapanda/programming/BSc-soccer-annotator/automatic_models/lines_and_field_detection/out/pretrained_loss_surface/checkpoint.pth.tar\n",
      "\n",
      "-------------------------- END --------------------------\n",
      "---------------------- NOTIFICATION ----------------------\n",
      "\n",
      "Resnet backbone config for init_guess\n",
      "Spectral norm for resnet: False\n",
      "Using BN for resnet\n",
      "Imagenet pretrain weights for resnet: False\n",
      "\n",
      "-------------------------- END --------------------------\n",
      "---------------------- NOTIFICATION ----------------------\n",
      "\n",
      "Weights loaded for init_guess\n",
      "From: /home/skocznapanda/programming/BSc-soccer-annotator/automatic_models/lines_and_field_detection/out/pretrained_init_guess/checkpoint.pth.tar\n",
      "\n",
      "-------------------------- END --------------------------\n",
      "---------------------- NOTIFICATION ----------------------\n",
      "\n",
      "Weights loaded for init_guess\n",
      "From: /home/skocznapanda/programming/BSc-soccer-annotator/automatic_models/lines_and_field_detection/out/pretrained_init_guess/checkpoint.pth.tar\n",
      "\n",
      "-------------------------- END --------------------------\n"
     ]
    },
    {
     "name": "stderr",
     "output_type": "stream",
     "text": [
      "100%|██████████| 200/200 [01:04<00:00,  3.12it/s]\n"
     ]
    },
    {
     "name": "stdout",
     "output_type": "stream",
     "text": [
      "7.0 was processed.\n",
      "---------------------- NOTIFICATION ----------------------\n",
      "\n",
      "Resnet backbone config for loss_surface\n",
      "Spectral norm for resnet: True\n",
      "Using BN for resnet\n",
      "Imagenet pretrain weights for resnet: False\n",
      "\n",
      "-------------------------- END --------------------------\n",
      "---------------------- NOTIFICATION ----------------------\n",
      "\n",
      "Weights loaded for loss_surface\n",
      "From: /home/skocznapanda/programming/BSc-soccer-annotator/automatic_models/lines_and_field_detection/out/pretrained_loss_surface/checkpoint.pth.tar\n",
      "\n",
      "-------------------------- END --------------------------\n",
      "---------------------- NOTIFICATION ----------------------\n",
      "\n",
      "Resnet backbone config for init_guess\n",
      "Spectral norm for resnet: False\n",
      "Using BN for resnet\n",
      "Imagenet pretrain weights for resnet: False\n",
      "\n",
      "-------------------------- END --------------------------\n",
      "---------------------- NOTIFICATION ----------------------\n",
      "\n",
      "Weights loaded for init_guess\n",
      "From: /home/skocznapanda/programming/BSc-soccer-annotator/automatic_models/lines_and_field_detection/out/pretrained_init_guess/checkpoint.pth.tar\n",
      "\n",
      "-------------------------- END --------------------------\n",
      "---------------------- NOTIFICATION ----------------------\n",
      "\n",
      "Weights loaded for init_guess\n",
      "From: /home/skocznapanda/programming/BSc-soccer-annotator/automatic_models/lines_and_field_detection/out/pretrained_init_guess/checkpoint.pth.tar\n",
      "\n",
      "-------------------------- END --------------------------\n"
     ]
    },
    {
     "name": "stderr",
     "output_type": "stream",
     "text": [
      "100%|██████████| 200/200 [01:04<00:00,  3.10it/s]\n"
     ]
    },
    {
     "name": "stdout",
     "output_type": "stream",
     "text": [
      "8.0 was processed.\n",
      "---------------------- NOTIFICATION ----------------------\n",
      "\n",
      "Resnet backbone config for loss_surface\n",
      "Spectral norm for resnet: True\n",
      "Using BN for resnet\n",
      "Imagenet pretrain weights for resnet: False\n",
      "\n",
      "-------------------------- END --------------------------\n",
      "---------------------- NOTIFICATION ----------------------\n",
      "\n",
      "Weights loaded for loss_surface\n",
      "From: /home/skocznapanda/programming/BSc-soccer-annotator/automatic_models/lines_and_field_detection/out/pretrained_loss_surface/checkpoint.pth.tar\n",
      "\n",
      "-------------------------- END --------------------------\n",
      "---------------------- NOTIFICATION ----------------------\n",
      "\n",
      "Resnet backbone config for init_guess\n",
      "Spectral norm for resnet: False\n",
      "Using BN for resnet\n",
      "Imagenet pretrain weights for resnet: False\n",
      "\n",
      "-------------------------- END --------------------------\n",
      "---------------------- NOTIFICATION ----------------------\n",
      "\n",
      "Weights loaded for init_guess\n",
      "From: /home/skocznapanda/programming/BSc-soccer-annotator/automatic_models/lines_and_field_detection/out/pretrained_init_guess/checkpoint.pth.tar\n",
      "\n",
      "-------------------------- END --------------------------\n",
      "---------------------- NOTIFICATION ----------------------\n",
      "\n",
      "Weights loaded for init_guess\n",
      "From: /home/skocznapanda/programming/BSc-soccer-annotator/automatic_models/lines_and_field_detection/out/pretrained_init_guess/checkpoint.pth.tar\n",
      "\n",
      "-------------------------- END --------------------------\n"
     ]
    },
    {
     "name": "stderr",
     "output_type": "stream",
     "text": [
      "100%|██████████| 200/200 [01:05<00:00,  3.07it/s]\n"
     ]
    },
    {
     "name": "stdout",
     "output_type": "stream",
     "text": [
      "9.0 was processed.\n",
      "---------------------- NOTIFICATION ----------------------\n",
      "\n",
      "Resnet backbone config for loss_surface\n",
      "Spectral norm for resnet: True\n",
      "Using BN for resnet\n",
      "Imagenet pretrain weights for resnet: False\n",
      "\n",
      "-------------------------- END --------------------------\n",
      "---------------------- NOTIFICATION ----------------------\n",
      "\n",
      "Weights loaded for loss_surface\n",
      "From: /home/skocznapanda/programming/BSc-soccer-annotator/automatic_models/lines_and_field_detection/out/pretrained_loss_surface/checkpoint.pth.tar\n",
      "\n",
      "-------------------------- END --------------------------\n",
      "---------------------- NOTIFICATION ----------------------\n",
      "\n",
      "Resnet backbone config for init_guess\n",
      "Spectral norm for resnet: False\n",
      "Using BN for resnet\n",
      "Imagenet pretrain weights for resnet: False\n",
      "\n",
      "-------------------------- END --------------------------\n",
      "---------------------- NOTIFICATION ----------------------\n",
      "\n",
      "Weights loaded for init_guess\n",
      "From: /home/skocznapanda/programming/BSc-soccer-annotator/automatic_models/lines_and_field_detection/out/pretrained_init_guess/checkpoint.pth.tar\n",
      "\n",
      "-------------------------- END --------------------------\n",
      "---------------------- NOTIFICATION ----------------------\n",
      "\n",
      "Weights loaded for init_guess\n",
      "From: /home/skocznapanda/programming/BSc-soccer-annotator/automatic_models/lines_and_field_detection/out/pretrained_init_guess/checkpoint.pth.tar\n",
      "\n",
      "-------------------------- END --------------------------\n"
     ]
    },
    {
     "name": "stderr",
     "output_type": "stream",
     "text": [
      "100%|██████████| 200/200 [01:04<00:00,  3.11it/s]\n"
     ]
    },
    {
     "name": "stdout",
     "output_type": "stream",
     "text": [
      "10.0 was processed.\n",
      "---------------------- NOTIFICATION ----------------------\n",
      "\n",
      "Resnet backbone config for loss_surface\n",
      "Spectral norm for resnet: True\n",
      "Using BN for resnet\n",
      "Imagenet pretrain weights for resnet: False\n",
      "\n",
      "-------------------------- END --------------------------\n",
      "---------------------- NOTIFICATION ----------------------\n",
      "\n",
      "Weights loaded for loss_surface\n",
      "From: /home/skocznapanda/programming/BSc-soccer-annotator/automatic_models/lines_and_field_detection/out/pretrained_loss_surface/checkpoint.pth.tar\n",
      "\n",
      "-------------------------- END --------------------------\n",
      "---------------------- NOTIFICATION ----------------------\n",
      "\n",
      "Resnet backbone config for init_guess\n",
      "Spectral norm for resnet: False\n",
      "Using BN for resnet\n",
      "Imagenet pretrain weights for resnet: False\n",
      "\n",
      "-------------------------- END --------------------------\n",
      "---------------------- NOTIFICATION ----------------------\n",
      "\n",
      "Weights loaded for init_guess\n",
      "From: /home/skocznapanda/programming/BSc-soccer-annotator/automatic_models/lines_and_field_detection/out/pretrained_init_guess/checkpoint.pth.tar\n",
      "\n",
      "-------------------------- END --------------------------\n",
      "---------------------- NOTIFICATION ----------------------\n",
      "\n",
      "Weights loaded for init_guess\n",
      "From: /home/skocznapanda/programming/BSc-soccer-annotator/automatic_models/lines_and_field_detection/out/pretrained_init_guess/checkpoint.pth.tar\n",
      "\n",
      "-------------------------- END --------------------------\n"
     ]
    },
    {
     "name": "stderr",
     "output_type": "stream",
     "text": [
      "100%|██████████| 200/200 [01:03<00:00,  3.14it/s]\n"
     ]
    },
    {
     "name": "stdout",
     "output_type": "stream",
     "text": [
      "11.0 was processed.\n",
      "---------------------- NOTIFICATION ----------------------\n",
      "\n",
      "Resnet backbone config for loss_surface\n",
      "Spectral norm for resnet: True\n",
      "Using BN for resnet\n",
      "Imagenet pretrain weights for resnet: False\n",
      "\n",
      "-------------------------- END --------------------------\n",
      "---------------------- NOTIFICATION ----------------------\n",
      "\n",
      "Weights loaded for loss_surface\n",
      "From: /home/skocznapanda/programming/BSc-soccer-annotator/automatic_models/lines_and_field_detection/out/pretrained_loss_surface/checkpoint.pth.tar\n",
      "\n",
      "-------------------------- END --------------------------\n",
      "---------------------- NOTIFICATION ----------------------\n",
      "\n",
      "Resnet backbone config for init_guess\n",
      "Spectral norm for resnet: False\n",
      "Using BN for resnet\n",
      "Imagenet pretrain weights for resnet: False\n",
      "\n",
      "-------------------------- END --------------------------\n",
      "---------------------- NOTIFICATION ----------------------\n",
      "\n",
      "Weights loaded for init_guess\n",
      "From: /home/skocznapanda/programming/BSc-soccer-annotator/automatic_models/lines_and_field_detection/out/pretrained_init_guess/checkpoint.pth.tar\n",
      "\n",
      "-------------------------- END --------------------------\n",
      "---------------------- NOTIFICATION ----------------------\n",
      "\n",
      "Weights loaded for init_guess\n",
      "From: /home/skocznapanda/programming/BSc-soccer-annotator/automatic_models/lines_and_field_detection/out/pretrained_init_guess/checkpoint.pth.tar\n",
      "\n",
      "-------------------------- END --------------------------\n"
     ]
    },
    {
     "name": "stderr",
     "output_type": "stream",
     "text": [
      "100%|██████████| 200/200 [01:04<00:00,  3.09it/s]\n"
     ]
    },
    {
     "name": "stdout",
     "output_type": "stream",
     "text": [
      "12.0 was processed.\n",
      "---------------------- NOTIFICATION ----------------------\n",
      "\n",
      "Resnet backbone config for loss_surface\n",
      "Spectral norm for resnet: True\n",
      "Using BN for resnet\n",
      "Imagenet pretrain weights for resnet: False\n",
      "\n",
      "-------------------------- END --------------------------\n",
      "---------------------- NOTIFICATION ----------------------\n",
      "\n",
      "Weights loaded for loss_surface\n",
      "From: /home/skocznapanda/programming/BSc-soccer-annotator/automatic_models/lines_and_field_detection/out/pretrained_loss_surface/checkpoint.pth.tar\n",
      "\n",
      "-------------------------- END --------------------------\n",
      "---------------------- NOTIFICATION ----------------------\n",
      "\n",
      "Resnet backbone config for init_guess\n",
      "Spectral norm for resnet: False\n",
      "Using BN for resnet\n",
      "Imagenet pretrain weights for resnet: False\n",
      "\n",
      "-------------------------- END --------------------------\n",
      "---------------------- NOTIFICATION ----------------------\n",
      "\n",
      "Weights loaded for init_guess\n",
      "From: /home/skocznapanda/programming/BSc-soccer-annotator/automatic_models/lines_and_field_detection/out/pretrained_init_guess/checkpoint.pth.tar\n",
      "\n",
      "-------------------------- END --------------------------\n",
      "---------------------- NOTIFICATION ----------------------\n",
      "\n",
      "Weights loaded for init_guess\n",
      "From: /home/skocznapanda/programming/BSc-soccer-annotator/automatic_models/lines_and_field_detection/out/pretrained_init_guess/checkpoint.pth.tar\n",
      "\n",
      "-------------------------- END --------------------------\n"
     ]
    },
    {
     "name": "stderr",
     "output_type": "stream",
     "text": [
      "100%|██████████| 200/200 [01:03<00:00,  3.13it/s]\n"
     ]
    },
    {
     "name": "stdout",
     "output_type": "stream",
     "text": [
      "13.0 was processed.\n",
      "---------------------- NOTIFICATION ----------------------\n",
      "\n",
      "Resnet backbone config for loss_surface\n",
      "Spectral norm for resnet: True\n",
      "Using BN for resnet\n",
      "Imagenet pretrain weights for resnet: False\n",
      "\n",
      "-------------------------- END --------------------------\n",
      "---------------------- NOTIFICATION ----------------------\n",
      "\n",
      "Weights loaded for loss_surface\n",
      "From: /home/skocznapanda/programming/BSc-soccer-annotator/automatic_models/lines_and_field_detection/out/pretrained_loss_surface/checkpoint.pth.tar\n",
      "\n",
      "-------------------------- END --------------------------\n",
      "---------------------- NOTIFICATION ----------------------\n",
      "\n",
      "Resnet backbone config for init_guess\n",
      "Spectral norm for resnet: False\n",
      "Using BN for resnet\n",
      "Imagenet pretrain weights for resnet: False\n",
      "\n",
      "-------------------------- END --------------------------\n",
      "---------------------- NOTIFICATION ----------------------\n",
      "\n",
      "Weights loaded for init_guess\n",
      "From: /home/skocznapanda/programming/BSc-soccer-annotator/automatic_models/lines_and_field_detection/out/pretrained_init_guess/checkpoint.pth.tar\n",
      "\n",
      "-------------------------- END --------------------------\n",
      "---------------------- NOTIFICATION ----------------------\n",
      "\n",
      "Weights loaded for init_guess\n",
      "From: /home/skocznapanda/programming/BSc-soccer-annotator/automatic_models/lines_and_field_detection/out/pretrained_init_guess/checkpoint.pth.tar\n",
      "\n",
      "-------------------------- END --------------------------\n"
     ]
    },
    {
     "name": "stderr",
     "output_type": "stream",
     "text": [
      "100%|██████████| 200/200 [01:04<00:00,  3.12it/s]\n"
     ]
    },
    {
     "name": "stdout",
     "output_type": "stream",
     "text": [
      "14.0 was processed.\n",
      "---------------------- NOTIFICATION ----------------------\n",
      "\n",
      "Resnet backbone config for loss_surface\n",
      "Spectral norm for resnet: True\n",
      "Using BN for resnet\n",
      "Imagenet pretrain weights for resnet: False\n",
      "\n",
      "-------------------------- END --------------------------\n",
      "---------------------- NOTIFICATION ----------------------\n",
      "\n",
      "Weights loaded for loss_surface\n",
      "From: /home/skocznapanda/programming/BSc-soccer-annotator/automatic_models/lines_and_field_detection/out/pretrained_loss_surface/checkpoint.pth.tar\n",
      "\n",
      "-------------------------- END --------------------------\n",
      "---------------------- NOTIFICATION ----------------------\n",
      "\n",
      "Resnet backbone config for init_guess\n",
      "Spectral norm for resnet: False\n",
      "Using BN for resnet\n",
      "Imagenet pretrain weights for resnet: False\n",
      "\n",
      "-------------------------- END --------------------------\n",
      "---------------------- NOTIFICATION ----------------------\n",
      "\n",
      "Weights loaded for init_guess\n",
      "From: /home/skocznapanda/programming/BSc-soccer-annotator/automatic_models/lines_and_field_detection/out/pretrained_init_guess/checkpoint.pth.tar\n",
      "\n",
      "-------------------------- END --------------------------\n",
      "---------------------- NOTIFICATION ----------------------\n",
      "\n",
      "Weights loaded for init_guess\n",
      "From: /home/skocznapanda/programming/BSc-soccer-annotator/automatic_models/lines_and_field_detection/out/pretrained_init_guess/checkpoint.pth.tar\n",
      "\n",
      "-------------------------- END --------------------------\n"
     ]
    },
    {
     "name": "stderr",
     "output_type": "stream",
     "text": [
      "100%|██████████| 200/200 [01:05<00:00,  3.04it/s]\n"
     ]
    },
    {
     "name": "stdout",
     "output_type": "stream",
     "text": [
      "15.0 was processed.\n",
      "---------------------- NOTIFICATION ----------------------\n",
      "\n",
      "Resnet backbone config for loss_surface\n",
      "Spectral norm for resnet: True\n",
      "Using BN for resnet\n",
      "Imagenet pretrain weights for resnet: False\n",
      "\n",
      "-------------------------- END --------------------------\n",
      "---------------------- NOTIFICATION ----------------------\n",
      "\n",
      "Weights loaded for loss_surface\n",
      "From: /home/skocznapanda/programming/BSc-soccer-annotator/automatic_models/lines_and_field_detection/out/pretrained_loss_surface/checkpoint.pth.tar\n",
      "\n",
      "-------------------------- END --------------------------\n",
      "---------------------- NOTIFICATION ----------------------\n",
      "\n",
      "Resnet backbone config for init_guess\n",
      "Spectral norm for resnet: False\n",
      "Using BN for resnet\n",
      "Imagenet pretrain weights for resnet: False\n",
      "\n",
      "-------------------------- END --------------------------\n",
      "---------------------- NOTIFICATION ----------------------\n",
      "\n",
      "Weights loaded for init_guess\n",
      "From: /home/skocznapanda/programming/BSc-soccer-annotator/automatic_models/lines_and_field_detection/out/pretrained_init_guess/checkpoint.pth.tar\n",
      "\n",
      "-------------------------- END --------------------------\n",
      "---------------------- NOTIFICATION ----------------------\n",
      "\n",
      "Weights loaded for init_guess\n",
      "From: /home/skocznapanda/programming/BSc-soccer-annotator/automatic_models/lines_and_field_detection/out/pretrained_init_guess/checkpoint.pth.tar\n",
      "\n",
      "-------------------------- END --------------------------\n"
     ]
    },
    {
     "name": "stderr",
     "output_type": "stream",
     "text": [
      "100%|██████████| 200/200 [01:05<00:00,  3.07it/s]\n"
     ]
    },
    {
     "name": "stdout",
     "output_type": "stream",
     "text": [
      "16.0 was processed.\n",
      "---------------------- NOTIFICATION ----------------------\n",
      "\n",
      "Resnet backbone config for loss_surface\n",
      "Spectral norm for resnet: True\n",
      "Using BN for resnet\n",
      "Imagenet pretrain weights for resnet: False\n",
      "\n",
      "-------------------------- END --------------------------\n",
      "---------------------- NOTIFICATION ----------------------\n",
      "\n",
      "Weights loaded for loss_surface\n",
      "From: /home/skocznapanda/programming/BSc-soccer-annotator/automatic_models/lines_and_field_detection/out/pretrained_loss_surface/checkpoint.pth.tar\n",
      "\n",
      "-------------------------- END --------------------------\n",
      "---------------------- NOTIFICATION ----------------------\n",
      "\n",
      "Resnet backbone config for init_guess\n",
      "Spectral norm for resnet: False\n",
      "Using BN for resnet\n",
      "Imagenet pretrain weights for resnet: False\n",
      "\n",
      "-------------------------- END --------------------------\n",
      "---------------------- NOTIFICATION ----------------------\n",
      "\n",
      "Weights loaded for init_guess\n",
      "From: /home/skocznapanda/programming/BSc-soccer-annotator/automatic_models/lines_and_field_detection/out/pretrained_init_guess/checkpoint.pth.tar\n",
      "\n",
      "-------------------------- END --------------------------\n",
      "---------------------- NOTIFICATION ----------------------\n",
      "\n",
      "Weights loaded for init_guess\n",
      "From: /home/skocznapanda/programming/BSc-soccer-annotator/automatic_models/lines_and_field_detection/out/pretrained_init_guess/checkpoint.pth.tar\n",
      "\n",
      "-------------------------- END --------------------------\n"
     ]
    },
    {
     "name": "stderr",
     "output_type": "stream",
     "text": [
      "100%|██████████| 200/200 [01:04<00:00,  3.08it/s]\n"
     ]
    },
    {
     "name": "stdout",
     "output_type": "stream",
     "text": [
      "17.0 was processed.\n",
      "---------------------- NOTIFICATION ----------------------\n",
      "\n",
      "Resnet backbone config for loss_surface\n",
      "Spectral norm for resnet: True\n",
      "Using BN for resnet\n",
      "Imagenet pretrain weights for resnet: False\n",
      "\n",
      "-------------------------- END --------------------------\n",
      "---------------------- NOTIFICATION ----------------------\n",
      "\n",
      "Weights loaded for loss_surface\n",
      "From: /home/skocznapanda/programming/BSc-soccer-annotator/automatic_models/lines_and_field_detection/out/pretrained_loss_surface/checkpoint.pth.tar\n",
      "\n",
      "-------------------------- END --------------------------\n",
      "---------------------- NOTIFICATION ----------------------\n",
      "\n",
      "Resnet backbone config for init_guess\n",
      "Spectral norm for resnet: False\n",
      "Using BN for resnet\n",
      "Imagenet pretrain weights for resnet: False\n",
      "\n",
      "-------------------------- END --------------------------\n",
      "---------------------- NOTIFICATION ----------------------\n",
      "\n",
      "Weights loaded for init_guess\n",
      "From: /home/skocznapanda/programming/BSc-soccer-annotator/automatic_models/lines_and_field_detection/out/pretrained_init_guess/checkpoint.pth.tar\n",
      "\n",
      "-------------------------- END --------------------------\n",
      "---------------------- NOTIFICATION ----------------------\n",
      "\n",
      "Weights loaded for init_guess\n",
      "From: /home/skocznapanda/programming/BSc-soccer-annotator/automatic_models/lines_and_field_detection/out/pretrained_init_guess/checkpoint.pth.tar\n",
      "\n",
      "-------------------------- END --------------------------\n"
     ]
    },
    {
     "name": "stderr",
     "output_type": "stream",
     "text": [
      "100%|██████████| 200/200 [01:05<00:00,  3.05it/s]\n"
     ]
    },
    {
     "name": "stdout",
     "output_type": "stream",
     "text": [
      "18.0 was processed.\n",
      "---------------------- NOTIFICATION ----------------------\n",
      "\n",
      "Resnet backbone config for loss_surface\n",
      "Spectral norm for resnet: True\n",
      "Using BN for resnet\n",
      "Imagenet pretrain weights for resnet: False\n",
      "\n",
      "-------------------------- END --------------------------\n",
      "---------------------- NOTIFICATION ----------------------\n",
      "\n",
      "Weights loaded for loss_surface\n",
      "From: /home/skocznapanda/programming/BSc-soccer-annotator/automatic_models/lines_and_field_detection/out/pretrained_loss_surface/checkpoint.pth.tar\n",
      "\n",
      "-------------------------- END --------------------------\n",
      "---------------------- NOTIFICATION ----------------------\n",
      "\n",
      "Resnet backbone config for init_guess\n",
      "Spectral norm for resnet: False\n",
      "Using BN for resnet\n",
      "Imagenet pretrain weights for resnet: False\n",
      "\n",
      "-------------------------- END --------------------------\n",
      "---------------------- NOTIFICATION ----------------------\n",
      "\n",
      "Weights loaded for init_guess\n",
      "From: /home/skocznapanda/programming/BSc-soccer-annotator/automatic_models/lines_and_field_detection/out/pretrained_init_guess/checkpoint.pth.tar\n",
      "\n",
      "-------------------------- END --------------------------\n",
      "---------------------- NOTIFICATION ----------------------\n",
      "\n",
      "Weights loaded for init_guess\n",
      "From: /home/skocznapanda/programming/BSc-soccer-annotator/automatic_models/lines_and_field_detection/out/pretrained_init_guess/checkpoint.pth.tar\n",
      "\n",
      "-------------------------- END --------------------------\n"
     ]
    },
    {
     "name": "stderr",
     "output_type": "stream",
     "text": [
      "100%|██████████| 200/200 [01:05<00:00,  3.06it/s]\n"
     ]
    },
    {
     "name": "stdout",
     "output_type": "stream",
     "text": [
      "19.0 was processed.\n",
      "---------------------- NOTIFICATION ----------------------\n",
      "\n",
      "Resnet backbone config for loss_surface\n",
      "Spectral norm for resnet: True\n",
      "Using BN for resnet\n",
      "Imagenet pretrain weights for resnet: False\n",
      "\n",
      "-------------------------- END --------------------------\n",
      "---------------------- NOTIFICATION ----------------------\n",
      "\n",
      "Weights loaded for loss_surface\n",
      "From: /home/skocznapanda/programming/BSc-soccer-annotator/automatic_models/lines_and_field_detection/out/pretrained_loss_surface/checkpoint.pth.tar\n",
      "\n",
      "-------------------------- END --------------------------\n",
      "---------------------- NOTIFICATION ----------------------\n",
      "\n",
      "Resnet backbone config for init_guess\n",
      "Spectral norm for resnet: False\n",
      "Using BN for resnet\n",
      "Imagenet pretrain weights for resnet: False\n",
      "\n",
      "-------------------------- END --------------------------\n",
      "---------------------- NOTIFICATION ----------------------\n",
      "\n",
      "Weights loaded for init_guess\n",
      "From: /home/skocznapanda/programming/BSc-soccer-annotator/automatic_models/lines_and_field_detection/out/pretrained_init_guess/checkpoint.pth.tar\n",
      "\n",
      "-------------------------- END --------------------------\n",
      "---------------------- NOTIFICATION ----------------------\n",
      "\n",
      "Weights loaded for init_guess\n",
      "From: /home/skocznapanda/programming/BSc-soccer-annotator/automatic_models/lines_and_field_detection/out/pretrained_init_guess/checkpoint.pth.tar\n",
      "\n",
      "-------------------------- END --------------------------\n"
     ]
    },
    {
     "name": "stderr",
     "output_type": "stream",
     "text": [
      "100%|██████████| 200/200 [01:05<00:00,  3.07it/s]\n"
     ]
    },
    {
     "name": "stdout",
     "output_type": "stream",
     "text": [
      "20.0 was processed.\n",
      "---------------------- NOTIFICATION ----------------------\n",
      "\n",
      "Resnet backbone config for loss_surface\n",
      "Spectral norm for resnet: True\n",
      "Using BN for resnet\n",
      "Imagenet pretrain weights for resnet: False\n",
      "\n",
      "-------------------------- END --------------------------\n",
      "---------------------- NOTIFICATION ----------------------\n",
      "\n",
      "Weights loaded for loss_surface\n",
      "From: /home/skocznapanda/programming/BSc-soccer-annotator/automatic_models/lines_and_field_detection/out/pretrained_loss_surface/checkpoint.pth.tar\n",
      "\n",
      "-------------------------- END --------------------------\n",
      "---------------------- NOTIFICATION ----------------------\n",
      "\n",
      "Resnet backbone config for init_guess\n",
      "Spectral norm for resnet: False\n",
      "Using BN for resnet\n",
      "Imagenet pretrain weights for resnet: False\n",
      "\n",
      "-------------------------- END --------------------------\n",
      "---------------------- NOTIFICATION ----------------------\n",
      "\n",
      "Weights loaded for init_guess\n",
      "From: /home/skocznapanda/programming/BSc-soccer-annotator/automatic_models/lines_and_field_detection/out/pretrained_init_guess/checkpoint.pth.tar\n",
      "\n",
      "-------------------------- END --------------------------\n",
      "---------------------- NOTIFICATION ----------------------\n",
      "\n",
      "Weights loaded for init_guess\n",
      "From: /home/skocznapanda/programming/BSc-soccer-annotator/automatic_models/lines_and_field_detection/out/pretrained_init_guess/checkpoint.pth.tar\n",
      "\n",
      "-------------------------- END --------------------------\n"
     ]
    },
    {
     "name": "stderr",
     "output_type": "stream",
     "text": [
      "100%|██████████| 200/200 [01:04<00:00,  3.10it/s]\n"
     ]
    },
    {
     "name": "stdout",
     "output_type": "stream",
     "text": [
      "21.0 was processed.\n",
      "---------------------- NOTIFICATION ----------------------\n",
      "\n",
      "Resnet backbone config for loss_surface\n",
      "Spectral norm for resnet: True\n",
      "Using BN for resnet\n",
      "Imagenet pretrain weights for resnet: False\n",
      "\n",
      "-------------------------- END --------------------------\n",
      "---------------------- NOTIFICATION ----------------------\n",
      "\n",
      "Weights loaded for loss_surface\n",
      "From: /home/skocznapanda/programming/BSc-soccer-annotator/automatic_models/lines_and_field_detection/out/pretrained_loss_surface/checkpoint.pth.tar\n",
      "\n",
      "-------------------------- END --------------------------\n",
      "---------------------- NOTIFICATION ----------------------\n",
      "\n",
      "Resnet backbone config for init_guess\n",
      "Spectral norm for resnet: False\n",
      "Using BN for resnet\n",
      "Imagenet pretrain weights for resnet: False\n",
      "\n",
      "-------------------------- END --------------------------\n",
      "---------------------- NOTIFICATION ----------------------\n",
      "\n",
      "Weights loaded for init_guess\n",
      "From: /home/skocznapanda/programming/BSc-soccer-annotator/automatic_models/lines_and_field_detection/out/pretrained_init_guess/checkpoint.pth.tar\n",
      "\n",
      "-------------------------- END --------------------------\n",
      "---------------------- NOTIFICATION ----------------------\n",
      "\n",
      "Weights loaded for init_guess\n",
      "From: /home/skocznapanda/programming/BSc-soccer-annotator/automatic_models/lines_and_field_detection/out/pretrained_init_guess/checkpoint.pth.tar\n",
      "\n",
      "-------------------------- END --------------------------\n"
     ]
    },
    {
     "name": "stderr",
     "output_type": "stream",
     "text": [
      "100%|██████████| 200/200 [01:06<00:00,  3.02it/s]\n"
     ]
    },
    {
     "name": "stdout",
     "output_type": "stream",
     "text": [
      "22.0 was processed.\n",
      "---------------------- NOTIFICATION ----------------------\n",
      "\n",
      "Resnet backbone config for loss_surface\n",
      "Spectral norm for resnet: True\n",
      "Using BN for resnet\n",
      "Imagenet pretrain weights for resnet: False\n",
      "\n",
      "-------------------------- END --------------------------\n",
      "---------------------- NOTIFICATION ----------------------\n",
      "\n",
      "Weights loaded for loss_surface\n",
      "From: /home/skocznapanda/programming/BSc-soccer-annotator/automatic_models/lines_and_field_detection/out/pretrained_loss_surface/checkpoint.pth.tar\n",
      "\n",
      "-------------------------- END --------------------------\n",
      "---------------------- NOTIFICATION ----------------------\n",
      "\n",
      "Resnet backbone config for init_guess\n",
      "Spectral norm for resnet: False\n",
      "Using BN for resnet\n",
      "Imagenet pretrain weights for resnet: False\n",
      "\n",
      "-------------------------- END --------------------------\n",
      "---------------------- NOTIFICATION ----------------------\n",
      "\n",
      "Weights loaded for init_guess\n",
      "From: /home/skocznapanda/programming/BSc-soccer-annotator/automatic_models/lines_and_field_detection/out/pretrained_init_guess/checkpoint.pth.tar\n",
      "\n",
      "-------------------------- END --------------------------\n",
      "---------------------- NOTIFICATION ----------------------\n",
      "\n",
      "Weights loaded for init_guess\n",
      "From: /home/skocznapanda/programming/BSc-soccer-annotator/automatic_models/lines_and_field_detection/out/pretrained_init_guess/checkpoint.pth.tar\n",
      "\n",
      "-------------------------- END --------------------------\n"
     ]
    },
    {
     "name": "stderr",
     "output_type": "stream",
     "text": [
      "100%|██████████| 200/200 [01:05<00:00,  3.06it/s]\n"
     ]
    },
    {
     "name": "stdout",
     "output_type": "stream",
     "text": [
      "23.0 was processed.\n",
      "---------------------- NOTIFICATION ----------------------\n",
      "\n",
      "Resnet backbone config for loss_surface\n",
      "Spectral norm for resnet: True\n",
      "Using BN for resnet\n",
      "Imagenet pretrain weights for resnet: False\n",
      "\n",
      "-------------------------- END --------------------------\n",
      "---------------------- NOTIFICATION ----------------------\n",
      "\n",
      "Weights loaded for loss_surface\n",
      "From: /home/skocznapanda/programming/BSc-soccer-annotator/automatic_models/lines_and_field_detection/out/pretrained_loss_surface/checkpoint.pth.tar\n",
      "\n",
      "-------------------------- END --------------------------\n",
      "---------------------- NOTIFICATION ----------------------\n",
      "\n",
      "Resnet backbone config for init_guess\n",
      "Spectral norm for resnet: False\n",
      "Using BN for resnet\n",
      "Imagenet pretrain weights for resnet: False\n",
      "\n",
      "-------------------------- END --------------------------\n",
      "---------------------- NOTIFICATION ----------------------\n",
      "\n",
      "Weights loaded for init_guess\n",
      "From: /home/skocznapanda/programming/BSc-soccer-annotator/automatic_models/lines_and_field_detection/out/pretrained_init_guess/checkpoint.pth.tar\n",
      "\n",
      "-------------------------- END --------------------------\n",
      "---------------------- NOTIFICATION ----------------------\n",
      "\n",
      "Weights loaded for init_guess\n",
      "From: /home/skocznapanda/programming/BSc-soccer-annotator/automatic_models/lines_and_field_detection/out/pretrained_init_guess/checkpoint.pth.tar\n",
      "\n",
      "-------------------------- END --------------------------\n"
     ]
    },
    {
     "name": "stderr",
     "output_type": "stream",
     "text": [
      "100%|██████████| 200/200 [01:06<00:00,  3.01it/s]\n"
     ]
    },
    {
     "name": "stdout",
     "output_type": "stream",
     "text": [
      "24.0 was processed.\n",
      "---------------------- NOTIFICATION ----------------------\n",
      "\n",
      "Resnet backbone config for loss_surface\n",
      "Spectral norm for resnet: True\n",
      "Using BN for resnet\n",
      "Imagenet pretrain weights for resnet: False\n",
      "\n",
      "-------------------------- END --------------------------\n",
      "---------------------- NOTIFICATION ----------------------\n",
      "\n",
      "Weights loaded for loss_surface\n",
      "From: /home/skocznapanda/programming/BSc-soccer-annotator/automatic_models/lines_and_field_detection/out/pretrained_loss_surface/checkpoint.pth.tar\n",
      "\n",
      "-------------------------- END --------------------------\n",
      "---------------------- NOTIFICATION ----------------------\n",
      "\n",
      "Resnet backbone config for init_guess\n",
      "Spectral norm for resnet: False\n",
      "Using BN for resnet\n",
      "Imagenet pretrain weights for resnet: False\n",
      "\n",
      "-------------------------- END --------------------------\n",
      "---------------------- NOTIFICATION ----------------------\n",
      "\n",
      "Weights loaded for init_guess\n",
      "From: /home/skocznapanda/programming/BSc-soccer-annotator/automatic_models/lines_and_field_detection/out/pretrained_init_guess/checkpoint.pth.tar\n",
      "\n",
      "-------------------------- END --------------------------\n",
      "---------------------- NOTIFICATION ----------------------\n",
      "\n",
      "Weights loaded for init_guess\n",
      "From: /home/skocznapanda/programming/BSc-soccer-annotator/automatic_models/lines_and_field_detection/out/pretrained_init_guess/checkpoint.pth.tar\n",
      "\n",
      "-------------------------- END --------------------------\n"
     ]
    },
    {
     "name": "stderr",
     "output_type": "stream",
     "text": [
      "100%|██████████| 200/200 [01:06<00:00,  2.99it/s]\n"
     ]
    },
    {
     "name": "stdout",
     "output_type": "stream",
     "text": [
      "25.0 was processed.\n",
      "---------------------- NOTIFICATION ----------------------\n",
      "\n",
      "Resnet backbone config for loss_surface\n",
      "Spectral norm for resnet: True\n",
      "Using BN for resnet\n",
      "Imagenet pretrain weights for resnet: False\n",
      "\n",
      "-------------------------- END --------------------------\n",
      "---------------------- NOTIFICATION ----------------------\n",
      "\n",
      "Weights loaded for loss_surface\n",
      "From: /home/skocznapanda/programming/BSc-soccer-annotator/automatic_models/lines_and_field_detection/out/pretrained_loss_surface/checkpoint.pth.tar\n",
      "\n",
      "-------------------------- END --------------------------\n",
      "---------------------- NOTIFICATION ----------------------\n",
      "\n",
      "Resnet backbone config for init_guess\n",
      "Spectral norm for resnet: False\n",
      "Using BN for resnet\n",
      "Imagenet pretrain weights for resnet: False\n",
      "\n",
      "-------------------------- END --------------------------\n",
      "---------------------- NOTIFICATION ----------------------\n",
      "\n",
      "Weights loaded for init_guess\n",
      "From: /home/skocznapanda/programming/BSc-soccer-annotator/automatic_models/lines_and_field_detection/out/pretrained_init_guess/checkpoint.pth.tar\n",
      "\n",
      "-------------------------- END --------------------------\n",
      "---------------------- NOTIFICATION ----------------------\n",
      "\n",
      "Weights loaded for init_guess\n",
      "From: /home/skocznapanda/programming/BSc-soccer-annotator/automatic_models/lines_and_field_detection/out/pretrained_init_guess/checkpoint.pth.tar\n",
      "\n",
      "-------------------------- END --------------------------\n"
     ]
    },
    {
     "name": "stderr",
     "output_type": "stream",
     "text": [
      "100%|██████████| 200/200 [01:06<00:00,  3.01it/s]\n"
     ]
    },
    {
     "name": "stdout",
     "output_type": "stream",
     "text": [
      "26.0 was processed.\n",
      "---------------------- NOTIFICATION ----------------------\n",
      "\n",
      "Resnet backbone config for loss_surface\n",
      "Spectral norm for resnet: True\n",
      "Using BN for resnet\n",
      "Imagenet pretrain weights for resnet: False\n",
      "\n",
      "-------------------------- END --------------------------\n",
      "---------------------- NOTIFICATION ----------------------\n",
      "\n",
      "Weights loaded for loss_surface\n",
      "From: /home/skocznapanda/programming/BSc-soccer-annotator/automatic_models/lines_and_field_detection/out/pretrained_loss_surface/checkpoint.pth.tar\n",
      "\n",
      "-------------------------- END --------------------------\n",
      "---------------------- NOTIFICATION ----------------------\n",
      "\n",
      "Resnet backbone config for init_guess\n",
      "Spectral norm for resnet: False\n",
      "Using BN for resnet\n",
      "Imagenet pretrain weights for resnet: False\n",
      "\n",
      "-------------------------- END --------------------------\n",
      "---------------------- NOTIFICATION ----------------------\n",
      "\n",
      "Weights loaded for init_guess\n",
      "From: /home/skocznapanda/programming/BSc-soccer-annotator/automatic_models/lines_and_field_detection/out/pretrained_init_guess/checkpoint.pth.tar\n",
      "\n",
      "-------------------------- END --------------------------\n",
      "---------------------- NOTIFICATION ----------------------\n",
      "\n",
      "Weights loaded for init_guess\n",
      "From: /home/skocznapanda/programming/BSc-soccer-annotator/automatic_models/lines_and_field_detection/out/pretrained_init_guess/checkpoint.pth.tar\n",
      "\n",
      "-------------------------- END --------------------------\n"
     ]
    },
    {
     "name": "stderr",
     "output_type": "stream",
     "text": [
      "100%|██████████| 200/200 [01:05<00:00,  3.03it/s]\n"
     ]
    },
    {
     "name": "stdout",
     "output_type": "stream",
     "text": [
      "27.0 was processed.\n",
      "---------------------- NOTIFICATION ----------------------\n",
      "\n",
      "Resnet backbone config for loss_surface\n",
      "Spectral norm for resnet: True\n",
      "Using BN for resnet\n",
      "Imagenet pretrain weights for resnet: False\n",
      "\n",
      "-------------------------- END --------------------------\n",
      "---------------------- NOTIFICATION ----------------------\n",
      "\n",
      "Weights loaded for loss_surface\n",
      "From: /home/skocznapanda/programming/BSc-soccer-annotator/automatic_models/lines_and_field_detection/out/pretrained_loss_surface/checkpoint.pth.tar\n",
      "\n",
      "-------------------------- END --------------------------\n",
      "---------------------- NOTIFICATION ----------------------\n",
      "\n",
      "Resnet backbone config for init_guess\n",
      "Spectral norm for resnet: False\n",
      "Using BN for resnet\n",
      "Imagenet pretrain weights for resnet: False\n",
      "\n",
      "-------------------------- END --------------------------\n",
      "---------------------- NOTIFICATION ----------------------\n",
      "\n",
      "Weights loaded for init_guess\n",
      "From: /home/skocznapanda/programming/BSc-soccer-annotator/automatic_models/lines_and_field_detection/out/pretrained_init_guess/checkpoint.pth.tar\n",
      "\n",
      "-------------------------- END --------------------------\n",
      "---------------------- NOTIFICATION ----------------------\n",
      "\n",
      "Weights loaded for init_guess\n",
      "From: /home/skocznapanda/programming/BSc-soccer-annotator/automatic_models/lines_and_field_detection/out/pretrained_init_guess/checkpoint.pth.tar\n",
      "\n",
      "-------------------------- END --------------------------\n"
     ]
    },
    {
     "name": "stderr",
     "output_type": "stream",
     "text": [
      "100%|██████████| 200/200 [01:06<00:00,  3.01it/s]\n"
     ]
    },
    {
     "name": "stdout",
     "output_type": "stream",
     "text": [
      "28.0 was processed.\n",
      "---------------------- NOTIFICATION ----------------------\n",
      "\n",
      "Resnet backbone config for loss_surface\n",
      "Spectral norm for resnet: True\n",
      "Using BN for resnet\n",
      "Imagenet pretrain weights for resnet: False\n",
      "\n",
      "-------------------------- END --------------------------\n",
      "---------------------- NOTIFICATION ----------------------\n",
      "\n",
      "Weights loaded for loss_surface\n",
      "From: /home/skocznapanda/programming/BSc-soccer-annotator/automatic_models/lines_and_field_detection/out/pretrained_loss_surface/checkpoint.pth.tar\n",
      "\n",
      "-------------------------- END --------------------------\n",
      "---------------------- NOTIFICATION ----------------------\n",
      "\n",
      "Resnet backbone config for init_guess\n",
      "Spectral norm for resnet: False\n",
      "Using BN for resnet\n",
      "Imagenet pretrain weights for resnet: False\n",
      "\n",
      "-------------------------- END --------------------------\n",
      "---------------------- NOTIFICATION ----------------------\n",
      "\n",
      "Weights loaded for init_guess\n",
      "From: /home/skocznapanda/programming/BSc-soccer-annotator/automatic_models/lines_and_field_detection/out/pretrained_init_guess/checkpoint.pth.tar\n",
      "\n",
      "-------------------------- END --------------------------\n",
      "---------------------- NOTIFICATION ----------------------\n",
      "\n",
      "Weights loaded for init_guess\n",
      "From: /home/skocznapanda/programming/BSc-soccer-annotator/automatic_models/lines_and_field_detection/out/pretrained_init_guess/checkpoint.pth.tar\n",
      "\n",
      "-------------------------- END --------------------------\n"
     ]
    },
    {
     "name": "stderr",
     "output_type": "stream",
     "text": [
      "100%|██████████| 200/200 [01:06<00:00,  3.02it/s]\n"
     ]
    },
    {
     "name": "stdout",
     "output_type": "stream",
     "text": [
      "29.0 was processed.\n",
      "---------------------- NOTIFICATION ----------------------\n",
      "\n",
      "Resnet backbone config for loss_surface\n",
      "Spectral norm for resnet: True\n",
      "Using BN for resnet\n",
      "Imagenet pretrain weights for resnet: False\n",
      "\n",
      "-------------------------- END --------------------------\n",
      "---------------------- NOTIFICATION ----------------------\n",
      "\n",
      "Weights loaded for loss_surface\n",
      "From: /home/skocznapanda/programming/BSc-soccer-annotator/automatic_models/lines_and_field_detection/out/pretrained_loss_surface/checkpoint.pth.tar\n",
      "\n",
      "-------------------------- END --------------------------\n",
      "---------------------- NOTIFICATION ----------------------\n",
      "\n",
      "Resnet backbone config for init_guess\n",
      "Spectral norm for resnet: False\n",
      "Using BN for resnet\n",
      "Imagenet pretrain weights for resnet: False\n",
      "\n",
      "-------------------------- END --------------------------\n",
      "---------------------- NOTIFICATION ----------------------\n",
      "\n",
      "Weights loaded for init_guess\n",
      "From: /home/skocznapanda/programming/BSc-soccer-annotator/automatic_models/lines_and_field_detection/out/pretrained_init_guess/checkpoint.pth.tar\n",
      "\n",
      "-------------------------- END --------------------------\n",
      "---------------------- NOTIFICATION ----------------------\n",
      "\n",
      "Weights loaded for init_guess\n",
      "From: /home/skocznapanda/programming/BSc-soccer-annotator/automatic_models/lines_and_field_detection/out/pretrained_init_guess/checkpoint.pth.tar\n",
      "\n",
      "-------------------------- END --------------------------\n"
     ]
    },
    {
     "name": "stderr",
     "output_type": "stream",
     "text": [
      "100%|██████████| 200/200 [01:05<00:00,  3.04it/s]\n"
     ]
    },
    {
     "name": "stdout",
     "output_type": "stream",
     "text": [
      "30.0 was processed.\n",
      "---------------------- NOTIFICATION ----------------------\n",
      "\n",
      "Resnet backbone config for loss_surface\n",
      "Spectral norm for resnet: True\n",
      "Using BN for resnet\n",
      "Imagenet pretrain weights for resnet: False\n",
      "\n",
      "-------------------------- END --------------------------\n",
      "---------------------- NOTIFICATION ----------------------\n",
      "\n",
      "Weights loaded for loss_surface\n",
      "From: /home/skocznapanda/programming/BSc-soccer-annotator/automatic_models/lines_and_field_detection/out/pretrained_loss_surface/checkpoint.pth.tar\n",
      "\n",
      "-------------------------- END --------------------------\n",
      "---------------------- NOTIFICATION ----------------------\n",
      "\n",
      "Resnet backbone config for init_guess\n",
      "Spectral norm for resnet: False\n",
      "Using BN for resnet\n",
      "Imagenet pretrain weights for resnet: False\n",
      "\n",
      "-------------------------- END --------------------------\n",
      "---------------------- NOTIFICATION ----------------------\n",
      "\n",
      "Weights loaded for init_guess\n",
      "From: /home/skocznapanda/programming/BSc-soccer-annotator/automatic_models/lines_and_field_detection/out/pretrained_init_guess/checkpoint.pth.tar\n",
      "\n",
      "-------------------------- END --------------------------\n",
      "---------------------- NOTIFICATION ----------------------\n",
      "\n",
      "Weights loaded for init_guess\n",
      "From: /home/skocznapanda/programming/BSc-soccer-annotator/automatic_models/lines_and_field_detection/out/pretrained_init_guess/checkpoint.pth.tar\n",
      "\n",
      "-------------------------- END --------------------------\n"
     ]
    },
    {
     "name": "stderr",
     "output_type": "stream",
     "text": [
      "100%|██████████| 200/200 [01:07<00:00,  2.98it/s]\n"
     ]
    },
    {
     "name": "stdout",
     "output_type": "stream",
     "text": [
      "31.0 was processed.\n",
      "---------------------- NOTIFICATION ----------------------\n",
      "\n",
      "Resnet backbone config for loss_surface\n",
      "Spectral norm for resnet: True\n",
      "Using BN for resnet\n",
      "Imagenet pretrain weights for resnet: False\n",
      "\n",
      "-------------------------- END --------------------------\n",
      "---------------------- NOTIFICATION ----------------------\n",
      "\n",
      "Weights loaded for loss_surface\n",
      "From: /home/skocznapanda/programming/BSc-soccer-annotator/automatic_models/lines_and_field_detection/out/pretrained_loss_surface/checkpoint.pth.tar\n",
      "\n",
      "-------------------------- END --------------------------\n",
      "---------------------- NOTIFICATION ----------------------\n",
      "\n",
      "Resnet backbone config for init_guess\n",
      "Spectral norm for resnet: False\n",
      "Using BN for resnet\n",
      "Imagenet pretrain weights for resnet: False\n",
      "\n",
      "-------------------------- END --------------------------\n",
      "---------------------- NOTIFICATION ----------------------\n",
      "\n",
      "Weights loaded for init_guess\n",
      "From: /home/skocznapanda/programming/BSc-soccer-annotator/automatic_models/lines_and_field_detection/out/pretrained_init_guess/checkpoint.pth.tar\n",
      "\n",
      "-------------------------- END --------------------------\n",
      "---------------------- NOTIFICATION ----------------------\n",
      "\n",
      "Weights loaded for init_guess\n",
      "From: /home/skocznapanda/programming/BSc-soccer-annotator/automatic_models/lines_and_field_detection/out/pretrained_init_guess/checkpoint.pth.tar\n",
      "\n",
      "-------------------------- END --------------------------\n"
     ]
    },
    {
     "name": "stderr",
     "output_type": "stream",
     "text": [
      "100%|██████████| 200/200 [01:06<00:00,  3.02it/s]\n"
     ]
    },
    {
     "name": "stdout",
     "output_type": "stream",
     "text": [
      "32.0 was processed.\n",
      "---------------------- NOTIFICATION ----------------------\n",
      "\n",
      "Resnet backbone config for loss_surface\n",
      "Spectral norm for resnet: True\n",
      "Using BN for resnet\n",
      "Imagenet pretrain weights for resnet: False\n",
      "\n",
      "-------------------------- END --------------------------\n",
      "---------------------- NOTIFICATION ----------------------\n",
      "\n",
      "Weights loaded for loss_surface\n",
      "From: /home/skocznapanda/programming/BSc-soccer-annotator/automatic_models/lines_and_field_detection/out/pretrained_loss_surface/checkpoint.pth.tar\n",
      "\n",
      "-------------------------- END --------------------------\n",
      "---------------------- NOTIFICATION ----------------------\n",
      "\n",
      "Resnet backbone config for init_guess\n",
      "Spectral norm for resnet: False\n",
      "Using BN for resnet\n",
      "Imagenet pretrain weights for resnet: False\n",
      "\n",
      "-------------------------- END --------------------------\n",
      "---------------------- NOTIFICATION ----------------------\n",
      "\n",
      "Weights loaded for init_guess\n",
      "From: /home/skocznapanda/programming/BSc-soccer-annotator/automatic_models/lines_and_field_detection/out/pretrained_init_guess/checkpoint.pth.tar\n",
      "\n",
      "-------------------------- END --------------------------\n",
      "---------------------- NOTIFICATION ----------------------\n",
      "\n",
      "Weights loaded for init_guess\n",
      "From: /home/skocznapanda/programming/BSc-soccer-annotator/automatic_models/lines_and_field_detection/out/pretrained_init_guess/checkpoint.pth.tar\n",
      "\n",
      "-------------------------- END --------------------------\n"
     ]
    },
    {
     "name": "stderr",
     "output_type": "stream",
     "text": [
      "100%|██████████| 200/200 [01:05<00:00,  3.03it/s]\n"
     ]
    },
    {
     "name": "stdout",
     "output_type": "stream",
     "text": [
      "33.0 was processed.\n",
      "---------------------- NOTIFICATION ----------------------\n",
      "\n",
      "Resnet backbone config for loss_surface\n",
      "Spectral norm for resnet: True\n",
      "Using BN for resnet\n",
      "Imagenet pretrain weights for resnet: False\n",
      "\n",
      "-------------------------- END --------------------------\n",
      "---------------------- NOTIFICATION ----------------------\n",
      "\n",
      "Weights loaded for loss_surface\n",
      "From: /home/skocznapanda/programming/BSc-soccer-annotator/automatic_models/lines_and_field_detection/out/pretrained_loss_surface/checkpoint.pth.tar\n",
      "\n",
      "-------------------------- END --------------------------\n",
      "---------------------- NOTIFICATION ----------------------\n",
      "\n",
      "Resnet backbone config for init_guess\n",
      "Spectral norm for resnet: False\n",
      "Using BN for resnet\n",
      "Imagenet pretrain weights for resnet: False\n",
      "\n",
      "-------------------------- END --------------------------\n",
      "---------------------- NOTIFICATION ----------------------\n",
      "\n",
      "Weights loaded for init_guess\n",
      "From: /home/skocznapanda/programming/BSc-soccer-annotator/automatic_models/lines_and_field_detection/out/pretrained_init_guess/checkpoint.pth.tar\n",
      "\n",
      "-------------------------- END --------------------------\n",
      "---------------------- NOTIFICATION ----------------------\n",
      "\n",
      "Weights loaded for init_guess\n",
      "From: /home/skocznapanda/programming/BSc-soccer-annotator/automatic_models/lines_and_field_detection/out/pretrained_init_guess/checkpoint.pth.tar\n",
      "\n",
      "-------------------------- END --------------------------\n"
     ]
    },
    {
     "name": "stderr",
     "output_type": "stream",
     "text": [
      "100%|██████████| 200/200 [01:06<00:00,  3.02it/s]\n"
     ]
    },
    {
     "name": "stdout",
     "output_type": "stream",
     "text": [
      "34.0 was processed.\n",
      "---------------------- NOTIFICATION ----------------------\n",
      "\n",
      "Resnet backbone config for loss_surface\n",
      "Spectral norm for resnet: True\n",
      "Using BN for resnet\n",
      "Imagenet pretrain weights for resnet: False\n",
      "\n",
      "-------------------------- END --------------------------\n",
      "---------------------- NOTIFICATION ----------------------\n",
      "\n",
      "Weights loaded for loss_surface\n",
      "From: /home/skocznapanda/programming/BSc-soccer-annotator/automatic_models/lines_and_field_detection/out/pretrained_loss_surface/checkpoint.pth.tar\n",
      "\n",
      "-------------------------- END --------------------------\n",
      "---------------------- NOTIFICATION ----------------------\n",
      "\n",
      "Resnet backbone config for init_guess\n",
      "Spectral norm for resnet: False\n",
      "Using BN for resnet\n",
      "Imagenet pretrain weights for resnet: False\n",
      "\n",
      "-------------------------- END --------------------------\n",
      "---------------------- NOTIFICATION ----------------------\n",
      "\n",
      "Weights loaded for init_guess\n",
      "From: /home/skocznapanda/programming/BSc-soccer-annotator/automatic_models/lines_and_field_detection/out/pretrained_init_guess/checkpoint.pth.tar\n",
      "\n",
      "-------------------------- END --------------------------\n",
      "---------------------- NOTIFICATION ----------------------\n",
      "\n",
      "Weights loaded for init_guess\n",
      "From: /home/skocznapanda/programming/BSc-soccer-annotator/automatic_models/lines_and_field_detection/out/pretrained_init_guess/checkpoint.pth.tar\n",
      "\n",
      "-------------------------- END --------------------------\n"
     ]
    },
    {
     "name": "stderr",
     "output_type": "stream",
     "text": [
      "100%|██████████| 200/200 [01:06<00:00,  3.01it/s]\n"
     ]
    },
    {
     "name": "stdout",
     "output_type": "stream",
     "text": [
      "35.0 was processed.\n",
      "---------------------- NOTIFICATION ----------------------\n",
      "\n",
      "Resnet backbone config for loss_surface\n",
      "Spectral norm for resnet: True\n",
      "Using BN for resnet\n",
      "Imagenet pretrain weights for resnet: False\n",
      "\n",
      "-------------------------- END --------------------------\n",
      "---------------------- NOTIFICATION ----------------------\n",
      "\n",
      "Weights loaded for loss_surface\n",
      "From: /home/skocznapanda/programming/BSc-soccer-annotator/automatic_models/lines_and_field_detection/out/pretrained_loss_surface/checkpoint.pth.tar\n",
      "\n",
      "-------------------------- END --------------------------\n",
      "---------------------- NOTIFICATION ----------------------\n",
      "\n",
      "Resnet backbone config for init_guess\n",
      "Spectral norm for resnet: False\n",
      "Using BN for resnet\n",
      "Imagenet pretrain weights for resnet: False\n",
      "\n",
      "-------------------------- END --------------------------\n",
      "---------------------- NOTIFICATION ----------------------\n",
      "\n",
      "Weights loaded for init_guess\n",
      "From: /home/skocznapanda/programming/BSc-soccer-annotator/automatic_models/lines_and_field_detection/out/pretrained_init_guess/checkpoint.pth.tar\n",
      "\n",
      "-------------------------- END --------------------------\n",
      "---------------------- NOTIFICATION ----------------------\n",
      "\n",
      "Weights loaded for init_guess\n",
      "From: /home/skocznapanda/programming/BSc-soccer-annotator/automatic_models/lines_and_field_detection/out/pretrained_init_guess/checkpoint.pth.tar\n",
      "\n",
      "-------------------------- END --------------------------\n"
     ]
    },
    {
     "name": "stderr",
     "output_type": "stream",
     "text": [
      "100%|██████████| 200/200 [01:07<00:00,  2.98it/s]\n"
     ]
    },
    {
     "name": "stdout",
     "output_type": "stream",
     "text": [
      "36.0 was processed.\n",
      "---------------------- NOTIFICATION ----------------------\n",
      "\n",
      "Resnet backbone config for loss_surface\n",
      "Spectral norm for resnet: True\n",
      "Using BN for resnet\n",
      "Imagenet pretrain weights for resnet: False\n",
      "\n",
      "-------------------------- END --------------------------\n",
      "---------------------- NOTIFICATION ----------------------\n",
      "\n",
      "Weights loaded for loss_surface\n",
      "From: /home/skocznapanda/programming/BSc-soccer-annotator/automatic_models/lines_and_field_detection/out/pretrained_loss_surface/checkpoint.pth.tar\n",
      "\n",
      "-------------------------- END --------------------------\n",
      "---------------------- NOTIFICATION ----------------------\n",
      "\n",
      "Resnet backbone config for init_guess\n",
      "Spectral norm for resnet: False\n",
      "Using BN for resnet\n",
      "Imagenet pretrain weights for resnet: False\n",
      "\n",
      "-------------------------- END --------------------------\n",
      "---------------------- NOTIFICATION ----------------------\n",
      "\n",
      "Weights loaded for init_guess\n",
      "From: /home/skocznapanda/programming/BSc-soccer-annotator/automatic_models/lines_and_field_detection/out/pretrained_init_guess/checkpoint.pth.tar\n",
      "\n",
      "-------------------------- END --------------------------\n",
      "---------------------- NOTIFICATION ----------------------\n",
      "\n",
      "Weights loaded for init_guess\n",
      "From: /home/skocznapanda/programming/BSc-soccer-annotator/automatic_models/lines_and_field_detection/out/pretrained_init_guess/checkpoint.pth.tar\n",
      "\n",
      "-------------------------- END --------------------------\n"
     ]
    },
    {
     "name": "stderr",
     "output_type": "stream",
     "text": [
      "100%|██████████| 200/200 [01:07<00:00,  2.97it/s]\n"
     ]
    },
    {
     "name": "stdout",
     "output_type": "stream",
     "text": [
      "37.0 was processed.\n",
      "---------------------- NOTIFICATION ----------------------\n",
      "\n",
      "Resnet backbone config for loss_surface\n",
      "Spectral norm for resnet: True\n",
      "Using BN for resnet\n",
      "Imagenet pretrain weights for resnet: False\n",
      "\n",
      "-------------------------- END --------------------------\n",
      "---------------------- NOTIFICATION ----------------------\n",
      "\n",
      "Weights loaded for loss_surface\n",
      "From: /home/skocznapanda/programming/BSc-soccer-annotator/automatic_models/lines_and_field_detection/out/pretrained_loss_surface/checkpoint.pth.tar\n",
      "\n",
      "-------------------------- END --------------------------\n",
      "---------------------- NOTIFICATION ----------------------\n",
      "\n",
      "Resnet backbone config for init_guess\n",
      "Spectral norm for resnet: False\n",
      "Using BN for resnet\n",
      "Imagenet pretrain weights for resnet: False\n",
      "\n",
      "-------------------------- END --------------------------\n",
      "---------------------- NOTIFICATION ----------------------\n",
      "\n",
      "Weights loaded for init_guess\n",
      "From: /home/skocznapanda/programming/BSc-soccer-annotator/automatic_models/lines_and_field_detection/out/pretrained_init_guess/checkpoint.pth.tar\n",
      "\n",
      "-------------------------- END --------------------------\n",
      "---------------------- NOTIFICATION ----------------------\n",
      "\n",
      "Weights loaded for init_guess\n",
      "From: /home/skocznapanda/programming/BSc-soccer-annotator/automatic_models/lines_and_field_detection/out/pretrained_init_guess/checkpoint.pth.tar\n",
      "\n",
      "-------------------------- END --------------------------\n"
     ]
    },
    {
     "name": "stderr",
     "output_type": "stream",
     "text": [
      "100%|██████████| 200/200 [01:06<00:00,  2.99it/s]\n"
     ]
    },
    {
     "name": "stdout",
     "output_type": "stream",
     "text": [
      "38.0 was processed.\n",
      "---------------------- NOTIFICATION ----------------------\n",
      "\n",
      "Resnet backbone config for loss_surface\n",
      "Spectral norm for resnet: True\n",
      "Using BN for resnet\n",
      "Imagenet pretrain weights for resnet: False\n",
      "\n",
      "-------------------------- END --------------------------\n",
      "---------------------- NOTIFICATION ----------------------\n",
      "\n",
      "Weights loaded for loss_surface\n",
      "From: /home/skocznapanda/programming/BSc-soccer-annotator/automatic_models/lines_and_field_detection/out/pretrained_loss_surface/checkpoint.pth.tar\n",
      "\n",
      "-------------------------- END --------------------------\n",
      "---------------------- NOTIFICATION ----------------------\n",
      "\n",
      "Resnet backbone config for init_guess\n",
      "Spectral norm for resnet: False\n",
      "Using BN for resnet\n",
      "Imagenet pretrain weights for resnet: False\n",
      "\n",
      "-------------------------- END --------------------------\n",
      "---------------------- NOTIFICATION ----------------------\n",
      "\n",
      "Weights loaded for init_guess\n",
      "From: /home/skocznapanda/programming/BSc-soccer-annotator/automatic_models/lines_and_field_detection/out/pretrained_init_guess/checkpoint.pth.tar\n",
      "\n",
      "-------------------------- END --------------------------\n",
      "---------------------- NOTIFICATION ----------------------\n",
      "\n",
      "Weights loaded for init_guess\n",
      "From: /home/skocznapanda/programming/BSc-soccer-annotator/automatic_models/lines_and_field_detection/out/pretrained_init_guess/checkpoint.pth.tar\n",
      "\n",
      "-------------------------- END --------------------------\n"
     ]
    },
    {
     "name": "stderr",
     "output_type": "stream",
     "text": [
      "100%|██████████| 200/200 [01:07<00:00,  2.98it/s]\n"
     ]
    },
    {
     "name": "stdout",
     "output_type": "stream",
     "text": [
      "39.0 was processed.\n",
      "---------------------- NOTIFICATION ----------------------\n",
      "\n",
      "Resnet backbone config for loss_surface\n",
      "Spectral norm for resnet: True\n",
      "Using BN for resnet\n",
      "Imagenet pretrain weights for resnet: False\n",
      "\n",
      "-------------------------- END --------------------------\n",
      "---------------------- NOTIFICATION ----------------------\n",
      "\n",
      "Weights loaded for loss_surface\n",
      "From: /home/skocznapanda/programming/BSc-soccer-annotator/automatic_models/lines_and_field_detection/out/pretrained_loss_surface/checkpoint.pth.tar\n",
      "\n",
      "-------------------------- END --------------------------\n",
      "---------------------- NOTIFICATION ----------------------\n",
      "\n",
      "Resnet backbone config for init_guess\n",
      "Spectral norm for resnet: False\n",
      "Using BN for resnet\n",
      "Imagenet pretrain weights for resnet: False\n",
      "\n",
      "-------------------------- END --------------------------\n",
      "---------------------- NOTIFICATION ----------------------\n",
      "\n",
      "Weights loaded for init_guess\n",
      "From: /home/skocznapanda/programming/BSc-soccer-annotator/automatic_models/lines_and_field_detection/out/pretrained_init_guess/checkpoint.pth.tar\n",
      "\n",
      "-------------------------- END --------------------------\n",
      "---------------------- NOTIFICATION ----------------------\n",
      "\n",
      "Weights loaded for init_guess\n",
      "From: /home/skocznapanda/programming/BSc-soccer-annotator/automatic_models/lines_and_field_detection/out/pretrained_init_guess/checkpoint.pth.tar\n",
      "\n",
      "-------------------------- END --------------------------\n"
     ]
    },
    {
     "name": "stderr",
     "output_type": "stream",
     "text": [
      "100%|██████████| 200/200 [01:06<00:00,  2.99it/s]\n"
     ]
    },
    {
     "name": "stdout",
     "output_type": "stream",
     "text": [
      "40.0 was processed.\n",
      "---------------------- NOTIFICATION ----------------------\n",
      "\n",
      "Resnet backbone config for loss_surface\n",
      "Spectral norm for resnet: True\n",
      "Using BN for resnet\n",
      "Imagenet pretrain weights for resnet: False\n",
      "\n",
      "-------------------------- END --------------------------\n",
      "---------------------- NOTIFICATION ----------------------\n",
      "\n",
      "Weights loaded for loss_surface\n",
      "From: /home/skocznapanda/programming/BSc-soccer-annotator/automatic_models/lines_and_field_detection/out/pretrained_loss_surface/checkpoint.pth.tar\n",
      "\n",
      "-------------------------- END --------------------------\n",
      "---------------------- NOTIFICATION ----------------------\n",
      "\n",
      "Resnet backbone config for init_guess\n",
      "Spectral norm for resnet: False\n",
      "Using BN for resnet\n",
      "Imagenet pretrain weights for resnet: False\n",
      "\n",
      "-------------------------- END --------------------------\n",
      "---------------------- NOTIFICATION ----------------------\n",
      "\n",
      "Weights loaded for init_guess\n",
      "From: /home/skocznapanda/programming/BSc-soccer-annotator/automatic_models/lines_and_field_detection/out/pretrained_init_guess/checkpoint.pth.tar\n",
      "\n",
      "-------------------------- END --------------------------\n",
      "---------------------- NOTIFICATION ----------------------\n",
      "\n",
      "Weights loaded for init_guess\n",
      "From: /home/skocznapanda/programming/BSc-soccer-annotator/automatic_models/lines_and_field_detection/out/pretrained_init_guess/checkpoint.pth.tar\n",
      "\n",
      "-------------------------- END --------------------------\n"
     ]
    },
    {
     "name": "stderr",
     "output_type": "stream",
     "text": [
      "100%|██████████| 200/200 [01:07<00:00,  2.96it/s]\n"
     ]
    },
    {
     "name": "stdout",
     "output_type": "stream",
     "text": [
      "41.0 was processed.\n",
      "---------------------- NOTIFICATION ----------------------\n",
      "\n",
      "Resnet backbone config for loss_surface\n",
      "Spectral norm for resnet: True\n",
      "Using BN for resnet\n",
      "Imagenet pretrain weights for resnet: False\n",
      "\n",
      "-------------------------- END --------------------------\n",
      "---------------------- NOTIFICATION ----------------------\n",
      "\n",
      "Weights loaded for loss_surface\n",
      "From: /home/skocznapanda/programming/BSc-soccer-annotator/automatic_models/lines_and_field_detection/out/pretrained_loss_surface/checkpoint.pth.tar\n",
      "\n",
      "-------------------------- END --------------------------\n",
      "---------------------- NOTIFICATION ----------------------\n",
      "\n",
      "Resnet backbone config for init_guess\n",
      "Spectral norm for resnet: False\n",
      "Using BN for resnet\n",
      "Imagenet pretrain weights for resnet: False\n",
      "\n",
      "-------------------------- END --------------------------\n",
      "---------------------- NOTIFICATION ----------------------\n",
      "\n",
      "Weights loaded for init_guess\n",
      "From: /home/skocznapanda/programming/BSc-soccer-annotator/automatic_models/lines_and_field_detection/out/pretrained_init_guess/checkpoint.pth.tar\n",
      "\n",
      "-------------------------- END --------------------------\n",
      "---------------------- NOTIFICATION ----------------------\n",
      "\n",
      "Weights loaded for init_guess\n",
      "From: /home/skocznapanda/programming/BSc-soccer-annotator/automatic_models/lines_and_field_detection/out/pretrained_init_guess/checkpoint.pth.tar\n",
      "\n",
      "-------------------------- END --------------------------\n"
     ]
    },
    {
     "name": "stderr",
     "output_type": "stream",
     "text": [
      "100%|██████████| 200/200 [01:06<00:00,  3.00it/s]\n"
     ]
    },
    {
     "name": "stdout",
     "output_type": "stream",
     "text": [
      "42.0 was processed.\n",
      "---------------------- NOTIFICATION ----------------------\n",
      "\n",
      "Resnet backbone config for loss_surface\n",
      "Spectral norm for resnet: True\n",
      "Using BN for resnet\n",
      "Imagenet pretrain weights for resnet: False\n",
      "\n",
      "-------------------------- END --------------------------\n",
      "---------------------- NOTIFICATION ----------------------\n",
      "\n",
      "Weights loaded for loss_surface\n",
      "From: /home/skocznapanda/programming/BSc-soccer-annotator/automatic_models/lines_and_field_detection/out/pretrained_loss_surface/checkpoint.pth.tar\n",
      "\n",
      "-------------------------- END --------------------------\n",
      "---------------------- NOTIFICATION ----------------------\n",
      "\n",
      "Resnet backbone config for init_guess\n",
      "Spectral norm for resnet: False\n",
      "Using BN for resnet\n",
      "Imagenet pretrain weights for resnet: False\n",
      "\n",
      "-------------------------- END --------------------------\n",
      "---------------------- NOTIFICATION ----------------------\n",
      "\n",
      "Weights loaded for init_guess\n",
      "From: /home/skocznapanda/programming/BSc-soccer-annotator/automatic_models/lines_and_field_detection/out/pretrained_init_guess/checkpoint.pth.tar\n",
      "\n",
      "-------------------------- END --------------------------\n",
      "---------------------- NOTIFICATION ----------------------\n",
      "\n",
      "Weights loaded for init_guess\n",
      "From: /home/skocznapanda/programming/BSc-soccer-annotator/automatic_models/lines_and_field_detection/out/pretrained_init_guess/checkpoint.pth.tar\n",
      "\n",
      "-------------------------- END --------------------------\n"
     ]
    },
    {
     "name": "stderr",
     "output_type": "stream",
     "text": [
      "100%|██████████| 200/200 [01:07<00:00,  2.97it/s]\n"
     ]
    },
    {
     "name": "stdout",
     "output_type": "stream",
     "text": [
      "43.0 was processed.\n",
      "---------------------- NOTIFICATION ----------------------\n",
      "\n",
      "Resnet backbone config for loss_surface\n",
      "Spectral norm for resnet: True\n",
      "Using BN for resnet\n",
      "Imagenet pretrain weights for resnet: False\n",
      "\n",
      "-------------------------- END --------------------------\n",
      "---------------------- NOTIFICATION ----------------------\n",
      "\n",
      "Weights loaded for loss_surface\n",
      "From: /home/skocznapanda/programming/BSc-soccer-annotator/automatic_models/lines_and_field_detection/out/pretrained_loss_surface/checkpoint.pth.tar\n",
      "\n",
      "-------------------------- END --------------------------\n",
      "---------------------- NOTIFICATION ----------------------\n",
      "\n",
      "Resnet backbone config for init_guess\n",
      "Spectral norm for resnet: False\n",
      "Using BN for resnet\n",
      "Imagenet pretrain weights for resnet: False\n",
      "\n",
      "-------------------------- END --------------------------\n",
      "---------------------- NOTIFICATION ----------------------\n",
      "\n",
      "Weights loaded for init_guess\n",
      "From: /home/skocznapanda/programming/BSc-soccer-annotator/automatic_models/lines_and_field_detection/out/pretrained_init_guess/checkpoint.pth.tar\n",
      "\n",
      "-------------------------- END --------------------------\n",
      "---------------------- NOTIFICATION ----------------------\n",
      "\n",
      "Weights loaded for init_guess\n",
      "From: /home/skocznapanda/programming/BSc-soccer-annotator/automatic_models/lines_and_field_detection/out/pretrained_init_guess/checkpoint.pth.tar\n",
      "\n",
      "-------------------------- END --------------------------\n"
     ]
    },
    {
     "name": "stderr",
     "output_type": "stream",
     "text": [
      "100%|██████████| 200/200 [01:06<00:00,  2.99it/s]\n"
     ]
    },
    {
     "name": "stdout",
     "output_type": "stream",
     "text": [
      "44.0 was processed.\n",
      "---------------------- NOTIFICATION ----------------------\n",
      "\n",
      "Resnet backbone config for loss_surface\n",
      "Spectral norm for resnet: True\n",
      "Using BN for resnet\n",
      "Imagenet pretrain weights for resnet: False\n",
      "\n",
      "-------------------------- END --------------------------\n",
      "---------------------- NOTIFICATION ----------------------\n",
      "\n",
      "Weights loaded for loss_surface\n",
      "From: /home/skocznapanda/programming/BSc-soccer-annotator/automatic_models/lines_and_field_detection/out/pretrained_loss_surface/checkpoint.pth.tar\n",
      "\n",
      "-------------------------- END --------------------------\n",
      "---------------------- NOTIFICATION ----------------------\n",
      "\n",
      "Resnet backbone config for init_guess\n",
      "Spectral norm for resnet: False\n",
      "Using BN for resnet\n",
      "Imagenet pretrain weights for resnet: False\n",
      "\n",
      "-------------------------- END --------------------------\n",
      "---------------------- NOTIFICATION ----------------------\n",
      "\n",
      "Weights loaded for init_guess\n",
      "From: /home/skocznapanda/programming/BSc-soccer-annotator/automatic_models/lines_and_field_detection/out/pretrained_init_guess/checkpoint.pth.tar\n",
      "\n",
      "-------------------------- END --------------------------\n",
      "---------------------- NOTIFICATION ----------------------\n",
      "\n",
      "Weights loaded for init_guess\n",
      "From: /home/skocznapanda/programming/BSc-soccer-annotator/automatic_models/lines_and_field_detection/out/pretrained_init_guess/checkpoint.pth.tar\n",
      "\n",
      "-------------------------- END --------------------------\n"
     ]
    },
    {
     "name": "stderr",
     "output_type": "stream",
     "text": [
      "100%|██████████| 200/200 [01:07<00:00,  2.95it/s]\n"
     ]
    },
    {
     "name": "stdout",
     "output_type": "stream",
     "text": [
      "45.0 was processed.\n",
      "---------------------- NOTIFICATION ----------------------\n",
      "\n",
      "Resnet backbone config for loss_surface\n",
      "Spectral norm for resnet: True\n",
      "Using BN for resnet\n",
      "Imagenet pretrain weights for resnet: False\n",
      "\n",
      "-------------------------- END --------------------------\n",
      "---------------------- NOTIFICATION ----------------------\n",
      "\n",
      "Weights loaded for loss_surface\n",
      "From: /home/skocznapanda/programming/BSc-soccer-annotator/automatic_models/lines_and_field_detection/out/pretrained_loss_surface/checkpoint.pth.tar\n",
      "\n",
      "-------------------------- END --------------------------\n",
      "---------------------- NOTIFICATION ----------------------\n",
      "\n",
      "Resnet backbone config for init_guess\n",
      "Spectral norm for resnet: False\n",
      "Using BN for resnet\n",
      "Imagenet pretrain weights for resnet: False\n",
      "\n",
      "-------------------------- END --------------------------\n",
      "---------------------- NOTIFICATION ----------------------\n",
      "\n",
      "Weights loaded for init_guess\n",
      "From: /home/skocznapanda/programming/BSc-soccer-annotator/automatic_models/lines_and_field_detection/out/pretrained_init_guess/checkpoint.pth.tar\n",
      "\n",
      "-------------------------- END --------------------------\n",
      "---------------------- NOTIFICATION ----------------------\n",
      "\n",
      "Weights loaded for init_guess\n",
      "From: /home/skocznapanda/programming/BSc-soccer-annotator/automatic_models/lines_and_field_detection/out/pretrained_init_guess/checkpoint.pth.tar\n",
      "\n",
      "-------------------------- END --------------------------\n"
     ]
    },
    {
     "name": "stderr",
     "output_type": "stream",
     "text": [
      "100%|██████████| 200/200 [01:07<00:00,  2.97it/s]\n"
     ]
    },
    {
     "name": "stdout",
     "output_type": "stream",
     "text": [
      "46.0 was processed.\n",
      "---------------------- NOTIFICATION ----------------------\n",
      "\n",
      "Resnet backbone config for loss_surface\n",
      "Spectral norm for resnet: True\n",
      "Using BN for resnet\n",
      "Imagenet pretrain weights for resnet: False\n",
      "\n",
      "-------------------------- END --------------------------\n",
      "---------------------- NOTIFICATION ----------------------\n",
      "\n",
      "Weights loaded for loss_surface\n",
      "From: /home/skocznapanda/programming/BSc-soccer-annotator/automatic_models/lines_and_field_detection/out/pretrained_loss_surface/checkpoint.pth.tar\n",
      "\n",
      "-------------------------- END --------------------------\n",
      "---------------------- NOTIFICATION ----------------------\n",
      "\n",
      "Resnet backbone config for init_guess\n",
      "Spectral norm for resnet: False\n",
      "Using BN for resnet\n",
      "Imagenet pretrain weights for resnet: False\n",
      "\n",
      "-------------------------- END --------------------------\n",
      "---------------------- NOTIFICATION ----------------------\n",
      "\n",
      "Weights loaded for init_guess\n",
      "From: /home/skocznapanda/programming/BSc-soccer-annotator/automatic_models/lines_and_field_detection/out/pretrained_init_guess/checkpoint.pth.tar\n",
      "\n",
      "-------------------------- END --------------------------\n",
      "---------------------- NOTIFICATION ----------------------\n",
      "\n",
      "Weights loaded for init_guess\n",
      "From: /home/skocznapanda/programming/BSc-soccer-annotator/automatic_models/lines_and_field_detection/out/pretrained_init_guess/checkpoint.pth.tar\n",
      "\n",
      "-------------------------- END --------------------------\n"
     ]
    },
    {
     "name": "stderr",
     "output_type": "stream",
     "text": [
      "100%|██████████| 200/200 [01:07<00:00,  2.96it/s]\n"
     ]
    },
    {
     "name": "stdout",
     "output_type": "stream",
     "text": [
      "47.0 was processed.\n",
      "---------------------- NOTIFICATION ----------------------\n",
      "\n",
      "Resnet backbone config for loss_surface\n",
      "Spectral norm for resnet: True\n",
      "Using BN for resnet\n",
      "Imagenet pretrain weights for resnet: False\n",
      "\n",
      "-------------------------- END --------------------------\n",
      "---------------------- NOTIFICATION ----------------------\n",
      "\n",
      "Weights loaded for loss_surface\n",
      "From: /home/skocznapanda/programming/BSc-soccer-annotator/automatic_models/lines_and_field_detection/out/pretrained_loss_surface/checkpoint.pth.tar\n",
      "\n",
      "-------------------------- END --------------------------\n",
      "---------------------- NOTIFICATION ----------------------\n",
      "\n",
      "Resnet backbone config for init_guess\n",
      "Spectral norm for resnet: False\n",
      "Using BN for resnet\n",
      "Imagenet pretrain weights for resnet: False\n",
      "\n",
      "-------------------------- END --------------------------\n",
      "---------------------- NOTIFICATION ----------------------\n",
      "\n",
      "Weights loaded for init_guess\n",
      "From: /home/skocznapanda/programming/BSc-soccer-annotator/automatic_models/lines_and_field_detection/out/pretrained_init_guess/checkpoint.pth.tar\n",
      "\n",
      "-------------------------- END --------------------------\n",
      "---------------------- NOTIFICATION ----------------------\n",
      "\n",
      "Weights loaded for init_guess\n",
      "From: /home/skocznapanda/programming/BSc-soccer-annotator/automatic_models/lines_and_field_detection/out/pretrained_init_guess/checkpoint.pth.tar\n",
      "\n",
      "-------------------------- END --------------------------\n"
     ]
    },
    {
     "name": "stderr",
     "output_type": "stream",
     "text": [
      "100%|██████████| 200/200 [01:08<00:00,  2.90it/s]\n"
     ]
    },
    {
     "name": "stdout",
     "output_type": "stream",
     "text": [
      "48.0 was processed.\n",
      "---------------------- NOTIFICATION ----------------------\n",
      "\n",
      "Resnet backbone config for loss_surface\n",
      "Spectral norm for resnet: True\n",
      "Using BN for resnet\n",
      "Imagenet pretrain weights for resnet: False\n",
      "\n",
      "-------------------------- END --------------------------\n",
      "---------------------- NOTIFICATION ----------------------\n",
      "\n",
      "Weights loaded for loss_surface\n",
      "From: /home/skocznapanda/programming/BSc-soccer-annotator/automatic_models/lines_and_field_detection/out/pretrained_loss_surface/checkpoint.pth.tar\n",
      "\n",
      "-------------------------- END --------------------------\n",
      "---------------------- NOTIFICATION ----------------------\n",
      "\n",
      "Resnet backbone config for init_guess\n",
      "Spectral norm for resnet: False\n",
      "Using BN for resnet\n",
      "Imagenet pretrain weights for resnet: False\n",
      "\n",
      "-------------------------- END --------------------------\n",
      "---------------------- NOTIFICATION ----------------------\n",
      "\n",
      "Weights loaded for init_guess\n",
      "From: /home/skocznapanda/programming/BSc-soccer-annotator/automatic_models/lines_and_field_detection/out/pretrained_init_guess/checkpoint.pth.tar\n",
      "\n",
      "-------------------------- END --------------------------\n",
      "---------------------- NOTIFICATION ----------------------\n",
      "\n",
      "Weights loaded for init_guess\n",
      "From: /home/skocznapanda/programming/BSc-soccer-annotator/automatic_models/lines_and_field_detection/out/pretrained_init_guess/checkpoint.pth.tar\n",
      "\n",
      "-------------------------- END --------------------------\n"
     ]
    },
    {
     "name": "stderr",
     "output_type": "stream",
     "text": [
      "100%|██████████| 200/200 [01:08<00:00,  2.93it/s]\n"
     ]
    },
    {
     "name": "stdout",
     "output_type": "stream",
     "text": [
      "49.0 was processed.\n",
      "---------------------- NOTIFICATION ----------------------\n",
      "\n",
      "Resnet backbone config for loss_surface\n",
      "Spectral norm for resnet: True\n",
      "Using BN for resnet\n",
      "Imagenet pretrain weights for resnet: False\n",
      "\n",
      "-------------------------- END --------------------------\n",
      "---------------------- NOTIFICATION ----------------------\n",
      "\n",
      "Weights loaded for loss_surface\n",
      "From: /home/skocznapanda/programming/BSc-soccer-annotator/automatic_models/lines_and_field_detection/out/pretrained_loss_surface/checkpoint.pth.tar\n",
      "\n",
      "-------------------------- END --------------------------\n",
      "---------------------- NOTIFICATION ----------------------\n",
      "\n",
      "Resnet backbone config for init_guess\n",
      "Spectral norm for resnet: False\n",
      "Using BN for resnet\n",
      "Imagenet pretrain weights for resnet: False\n",
      "\n",
      "-------------------------- END --------------------------\n",
      "---------------------- NOTIFICATION ----------------------\n",
      "\n",
      "Weights loaded for init_guess\n",
      "From: /home/skocznapanda/programming/BSc-soccer-annotator/automatic_models/lines_and_field_detection/out/pretrained_init_guess/checkpoint.pth.tar\n",
      "\n",
      "-------------------------- END --------------------------\n",
      "---------------------- NOTIFICATION ----------------------\n",
      "\n",
      "Weights loaded for init_guess\n",
      "From: /home/skocznapanda/programming/BSc-soccer-annotator/automatic_models/lines_and_field_detection/out/pretrained_init_guess/checkpoint.pth.tar\n",
      "\n",
      "-------------------------- END --------------------------\n"
     ]
    },
    {
     "name": "stderr",
     "output_type": "stream",
     "text": [
      "100%|██████████| 200/200 [01:09<00:00,  2.89it/s]\n",
      "YOLOR 🚀 1f5d6c1 torch 1.13.0+cu117 CPU\n",
      "\n"
     ]
    },
    {
     "name": "stdout",
     "output_type": "stream",
     "text": [
      "50.0 was processed.\n",
      "Fusing layers... \n"
     ]
    },
    {
     "name": "stderr",
     "output_type": "stream",
     "text": [
      "Model Summary: 306 layers, 36905341 parameters, 36905341 gradients\n"
     ]
    },
    {
     "name": "stdout",
     "output_type": "stream",
     "text": [
      "RepConv.fuse_repvgg_block\n",
      "RepConv.fuse_repvgg_block\n",
      "RepConv.fuse_repvgg_block\n"
     ]
    },
    {
     "name": "stderr",
     "output_type": "stream",
     "text": [
      "YOLOR 🚀 1f5d6c1 torch 1.13.0+cu117 CPU\n",
      "\n"
     ]
    },
    {
     "name": "stdout",
     "output_type": "stream",
     "text": [
      "0.0 was processed.\n",
      "Fusing layers... \n"
     ]
    },
    {
     "name": "stderr",
     "output_type": "stream",
     "text": [
      "Model Summary: 306 layers, 36905341 parameters, 36905341 gradients\n"
     ]
    },
    {
     "name": "stdout",
     "output_type": "stream",
     "text": [
      "RepConv.fuse_repvgg_block\n",
      "RepConv.fuse_repvgg_block\n",
      "RepConv.fuse_repvgg_block\n"
     ]
    },
    {
     "name": "stderr",
     "output_type": "stream",
     "text": [
      "YOLOR 🚀 1f5d6c1 torch 1.13.0+cu117 CPU\n",
      "\n"
     ]
    },
    {
     "name": "stdout",
     "output_type": "stream",
     "text": [
      "1.0 was processed.\n",
      "Fusing layers... \n",
      "RepConv.fuse_repvgg_block\n",
      "RepConv.fuse_repvgg_block\n",
      "RepConv.fuse_repvgg_block\n"
     ]
    },
    {
     "name": "stderr",
     "output_type": "stream",
     "text": [
      "Model Summary: 306 layers, 36905341 parameters, 36905341 gradients\n",
      "YOLOR 🚀 1f5d6c1 torch 1.13.0+cu117 CPU\n",
      "\n"
     ]
    },
    {
     "name": "stdout",
     "output_type": "stream",
     "text": [
      "2.0 was processed.\n",
      "Fusing layers... \n"
     ]
    },
    {
     "name": "stderr",
     "output_type": "stream",
     "text": [
      "Model Summary: 306 layers, 36905341 parameters, 36905341 gradients\n"
     ]
    },
    {
     "name": "stdout",
     "output_type": "stream",
     "text": [
      "RepConv.fuse_repvgg_block\n",
      "RepConv.fuse_repvgg_block\n",
      "RepConv.fuse_repvgg_block\n"
     ]
    },
    {
     "name": "stderr",
     "output_type": "stream",
     "text": [
      "YOLOR 🚀 1f5d6c1 torch 1.13.0+cu117 CPU\n",
      "\n"
     ]
    },
    {
     "name": "stdout",
     "output_type": "stream",
     "text": [
      "3.0 was processed.\n",
      "Fusing layers... \n"
     ]
    },
    {
     "name": "stderr",
     "output_type": "stream",
     "text": [
      "Model Summary: 306 layers, 36905341 parameters, 36905341 gradients\n"
     ]
    },
    {
     "name": "stdout",
     "output_type": "stream",
     "text": [
      "RepConv.fuse_repvgg_block\n",
      "RepConv.fuse_repvgg_block\n",
      "RepConv.fuse_repvgg_block\n"
     ]
    },
    {
     "name": "stderr",
     "output_type": "stream",
     "text": [
      "YOLOR 🚀 1f5d6c1 torch 1.13.0+cu117 CPU\n",
      "\n"
     ]
    },
    {
     "name": "stdout",
     "output_type": "stream",
     "text": [
      "4.0 was processed.\n",
      "Fusing layers... \n"
     ]
    },
    {
     "name": "stderr",
     "output_type": "stream",
     "text": [
      "Model Summary: 306 layers, 36905341 parameters, 36905341 gradients\n"
     ]
    },
    {
     "name": "stdout",
     "output_type": "stream",
     "text": [
      "RepConv.fuse_repvgg_block\n",
      "RepConv.fuse_repvgg_block\n",
      "RepConv.fuse_repvgg_block\n"
     ]
    },
    {
     "name": "stderr",
     "output_type": "stream",
     "text": [
      "YOLOR 🚀 1f5d6c1 torch 1.13.0+cu117 CPU\n",
      "\n"
     ]
    },
    {
     "name": "stdout",
     "output_type": "stream",
     "text": [
      "5.0 was processed.\n",
      "Fusing layers... \n"
     ]
    },
    {
     "name": "stderr",
     "output_type": "stream",
     "text": [
      "Model Summary: 306 layers, 36905341 parameters, 36905341 gradients\n"
     ]
    },
    {
     "name": "stdout",
     "output_type": "stream",
     "text": [
      "RepConv.fuse_repvgg_block\n",
      "RepConv.fuse_repvgg_block\n",
      "RepConv.fuse_repvgg_block\n"
     ]
    },
    {
     "name": "stderr",
     "output_type": "stream",
     "text": [
      "YOLOR 🚀 1f5d6c1 torch 1.13.0+cu117 CPU\n",
      "\n"
     ]
    },
    {
     "name": "stdout",
     "output_type": "stream",
     "text": [
      "6.0 was processed.\n",
      "Fusing layers... \n"
     ]
    },
    {
     "name": "stderr",
     "output_type": "stream",
     "text": [
      "Model Summary: 306 layers, 36905341 parameters, 36905341 gradients\n"
     ]
    },
    {
     "name": "stdout",
     "output_type": "stream",
     "text": [
      "RepConv.fuse_repvgg_block\n",
      "RepConv.fuse_repvgg_block\n",
      "RepConv.fuse_repvgg_block\n"
     ]
    },
    {
     "name": "stderr",
     "output_type": "stream",
     "text": [
      "YOLOR 🚀 1f5d6c1 torch 1.13.0+cu117 CPU\n",
      "\n"
     ]
    },
    {
     "name": "stdout",
     "output_type": "stream",
     "text": [
      "7.0 was processed.\n",
      "Fusing layers... \n"
     ]
    },
    {
     "name": "stderr",
     "output_type": "stream",
     "text": [
      "Model Summary: 306 layers, 36905341 parameters, 36905341 gradients\n"
     ]
    },
    {
     "name": "stdout",
     "output_type": "stream",
     "text": [
      "RepConv.fuse_repvgg_block\n",
      "RepConv.fuse_repvgg_block\n",
      "RepConv.fuse_repvgg_block\n"
     ]
    },
    {
     "name": "stderr",
     "output_type": "stream",
     "text": [
      "YOLOR 🚀 1f5d6c1 torch 1.13.0+cu117 CPU\n",
      "\n"
     ]
    },
    {
     "name": "stdout",
     "output_type": "stream",
     "text": [
      "8.0 was processed.\n",
      "Fusing layers... \n"
     ]
    },
    {
     "name": "stderr",
     "output_type": "stream",
     "text": [
      "Model Summary: 306 layers, 36905341 parameters, 36905341 gradients\n"
     ]
    },
    {
     "name": "stdout",
     "output_type": "stream",
     "text": [
      "RepConv.fuse_repvgg_block\n",
      "RepConv.fuse_repvgg_block\n",
      "RepConv.fuse_repvgg_block\n"
     ]
    },
    {
     "name": "stderr",
     "output_type": "stream",
     "text": [
      "YOLOR 🚀 1f5d6c1 torch 1.13.0+cu117 CPU\n",
      "\n"
     ]
    },
    {
     "name": "stdout",
     "output_type": "stream",
     "text": [
      "9.0 was processed.\n",
      "Fusing layers... \n",
      "RepConv.fuse_repvgg_block\n",
      "RepConv.fuse_repvgg_block\n",
      "RepConv.fuse_repvgg_block\n"
     ]
    },
    {
     "name": "stderr",
     "output_type": "stream",
     "text": [
      "Model Summary: 306 layers, 36905341 parameters, 36905341 gradients\n",
      "YOLOR 🚀 1f5d6c1 torch 1.13.0+cu117 CPU\n",
      "\n"
     ]
    },
    {
     "name": "stdout",
     "output_type": "stream",
     "text": [
      "10.0 was processed.\n",
      "Fusing layers... \n"
     ]
    },
    {
     "name": "stderr",
     "output_type": "stream",
     "text": [
      "Model Summary: 306 layers, 36905341 parameters, 36905341 gradients\n"
     ]
    },
    {
     "name": "stdout",
     "output_type": "stream",
     "text": [
      "RepConv.fuse_repvgg_block\n",
      "RepConv.fuse_repvgg_block\n",
      "RepConv.fuse_repvgg_block\n"
     ]
    },
    {
     "name": "stderr",
     "output_type": "stream",
     "text": [
      "YOLOR 🚀 1f5d6c1 torch 1.13.0+cu117 CPU\n",
      "\n"
     ]
    },
    {
     "name": "stdout",
     "output_type": "stream",
     "text": [
      "11.0 was processed.\n",
      "Fusing layers... \n"
     ]
    },
    {
     "name": "stderr",
     "output_type": "stream",
     "text": [
      "Model Summary: 306 layers, 36905341 parameters, 36905341 gradients\n"
     ]
    },
    {
     "name": "stdout",
     "output_type": "stream",
     "text": [
      "RepConv.fuse_repvgg_block\n",
      "RepConv.fuse_repvgg_block\n",
      "RepConv.fuse_repvgg_block\n"
     ]
    },
    {
     "name": "stderr",
     "output_type": "stream",
     "text": [
      "YOLOR 🚀 1f5d6c1 torch 1.13.0+cu117 CPU\n",
      "\n"
     ]
    },
    {
     "name": "stdout",
     "output_type": "stream",
     "text": [
      "12.0 was processed.\n",
      "Fusing layers... \n"
     ]
    },
    {
     "name": "stderr",
     "output_type": "stream",
     "text": [
      "Model Summary: 306 layers, 36905341 parameters, 36905341 gradients\n"
     ]
    },
    {
     "name": "stdout",
     "output_type": "stream",
     "text": [
      "RepConv.fuse_repvgg_block\n",
      "RepConv.fuse_repvgg_block\n",
      "RepConv.fuse_repvgg_block\n"
     ]
    },
    {
     "name": "stderr",
     "output_type": "stream",
     "text": [
      "YOLOR 🚀 1f5d6c1 torch 1.13.0+cu117 CPU\n",
      "\n"
     ]
    },
    {
     "name": "stdout",
     "output_type": "stream",
     "text": [
      "13.0 was processed.\n",
      "Fusing layers... \n"
     ]
    },
    {
     "name": "stderr",
     "output_type": "stream",
     "text": [
      "Model Summary: 306 layers, 36905341 parameters, 36905341 gradients\n"
     ]
    },
    {
     "name": "stdout",
     "output_type": "stream",
     "text": [
      "RepConv.fuse_repvgg_block\n",
      "RepConv.fuse_repvgg_block\n",
      "RepConv.fuse_repvgg_block\n"
     ]
    },
    {
     "name": "stderr",
     "output_type": "stream",
     "text": [
      "YOLOR 🚀 1f5d6c1 torch 1.13.0+cu117 CPU\n",
      "\n"
     ]
    },
    {
     "name": "stdout",
     "output_type": "stream",
     "text": [
      "14.0 was processed.\n",
      "Fusing layers... \n"
     ]
    },
    {
     "name": "stderr",
     "output_type": "stream",
     "text": [
      "Model Summary: 306 layers, 36905341 parameters, 36905341 gradients\n"
     ]
    },
    {
     "name": "stdout",
     "output_type": "stream",
     "text": [
      "RepConv.fuse_repvgg_block\n",
      "RepConv.fuse_repvgg_block\n",
      "RepConv.fuse_repvgg_block\n"
     ]
    },
    {
     "name": "stderr",
     "output_type": "stream",
     "text": [
      "YOLOR 🚀 1f5d6c1 torch 1.13.0+cu117 CPU\n",
      "\n"
     ]
    },
    {
     "name": "stdout",
     "output_type": "stream",
     "text": [
      "15.0 was processed.\n",
      "Fusing layers... \n",
      "RepConv.fuse_repvgg_block\n",
      "RepConv.fuse_repvgg_block\n",
      "RepConv.fuse_repvgg_block\n"
     ]
    },
    {
     "name": "stderr",
     "output_type": "stream",
     "text": [
      "Model Summary: 306 layers, 36905341 parameters, 36905341 gradients\n",
      "YOLOR 🚀 1f5d6c1 torch 1.13.0+cu117 CPU\n",
      "\n"
     ]
    },
    {
     "name": "stdout",
     "output_type": "stream",
     "text": [
      "16.0 was processed.\n",
      "Fusing layers... \n",
      "RepConv.fuse_repvgg_block\n",
      "RepConv.fuse_repvgg_block\n",
      "RepConv.fuse_repvgg_block\n"
     ]
    },
    {
     "name": "stderr",
     "output_type": "stream",
     "text": [
      "Model Summary: 306 layers, 36905341 parameters, 36905341 gradients\n",
      "YOLOR 🚀 1f5d6c1 torch 1.13.0+cu117 CPU\n",
      "\n"
     ]
    },
    {
     "name": "stdout",
     "output_type": "stream",
     "text": [
      "17.0 was processed.\n",
      "Fusing layers... \n",
      "RepConv.fuse_repvgg_block\n",
      "RepConv.fuse_repvgg_block\n",
      "RepConv.fuse_repvgg_block\n"
     ]
    },
    {
     "name": "stderr",
     "output_type": "stream",
     "text": [
      "Model Summary: 306 layers, 36905341 parameters, 36905341 gradients\n",
      "YOLOR 🚀 1f5d6c1 torch 1.13.0+cu117 CPU\n",
      "\n"
     ]
    },
    {
     "name": "stdout",
     "output_type": "stream",
     "text": [
      "18.0 was processed.\n",
      "Fusing layers... \n"
     ]
    },
    {
     "name": "stderr",
     "output_type": "stream",
     "text": [
      "Model Summary: 306 layers, 36905341 parameters, 36905341 gradients\n"
     ]
    },
    {
     "name": "stdout",
     "output_type": "stream",
     "text": [
      "RepConv.fuse_repvgg_block\n",
      "RepConv.fuse_repvgg_block\n",
      "RepConv.fuse_repvgg_block\n"
     ]
    },
    {
     "name": "stderr",
     "output_type": "stream",
     "text": [
      "YOLOR 🚀 1f5d6c1 torch 1.13.0+cu117 CPU\n",
      "\n"
     ]
    },
    {
     "name": "stdout",
     "output_type": "stream",
     "text": [
      "19.0 was processed.\n",
      "Fusing layers... \n"
     ]
    },
    {
     "name": "stderr",
     "output_type": "stream",
     "text": [
      "Model Summary: 306 layers, 36905341 parameters, 36905341 gradients\n"
     ]
    },
    {
     "name": "stdout",
     "output_type": "stream",
     "text": [
      "RepConv.fuse_repvgg_block\n",
      "RepConv.fuse_repvgg_block\n",
      "RepConv.fuse_repvgg_block\n"
     ]
    },
    {
     "name": "stderr",
     "output_type": "stream",
     "text": [
      "YOLOR 🚀 1f5d6c1 torch 1.13.0+cu117 CPU\n",
      "\n"
     ]
    },
    {
     "name": "stdout",
     "output_type": "stream",
     "text": [
      "20.0 was processed.\n",
      "Fusing layers... \n"
     ]
    },
    {
     "name": "stderr",
     "output_type": "stream",
     "text": [
      "Model Summary: 306 layers, 36905341 parameters, 36905341 gradients\n"
     ]
    },
    {
     "name": "stdout",
     "output_type": "stream",
     "text": [
      "RepConv.fuse_repvgg_block\n",
      "RepConv.fuse_repvgg_block\n",
      "RepConv.fuse_repvgg_block\n"
     ]
    },
    {
     "name": "stderr",
     "output_type": "stream",
     "text": [
      "YOLOR 🚀 1f5d6c1 torch 1.13.0+cu117 CPU\n",
      "\n"
     ]
    },
    {
     "name": "stdout",
     "output_type": "stream",
     "text": [
      "21.0 was processed.\n",
      "Fusing layers... \n"
     ]
    },
    {
     "name": "stderr",
     "output_type": "stream",
     "text": [
      "Model Summary: 306 layers, 36905341 parameters, 36905341 gradients\n"
     ]
    },
    {
     "name": "stdout",
     "output_type": "stream",
     "text": [
      "RepConv.fuse_repvgg_block\n",
      "RepConv.fuse_repvgg_block\n",
      "RepConv.fuse_repvgg_block\n"
     ]
    },
    {
     "name": "stderr",
     "output_type": "stream",
     "text": [
      "YOLOR 🚀 1f5d6c1 torch 1.13.0+cu117 CPU\n",
      "\n"
     ]
    },
    {
     "name": "stdout",
     "output_type": "stream",
     "text": [
      "22.0 was processed.\n",
      "Fusing layers... \n"
     ]
    },
    {
     "name": "stderr",
     "output_type": "stream",
     "text": [
      "Model Summary: 306 layers, 36905341 parameters, 36905341 gradients\n"
     ]
    },
    {
     "name": "stdout",
     "output_type": "stream",
     "text": [
      "RepConv.fuse_repvgg_block\n",
      "RepConv.fuse_repvgg_block\n",
      "RepConv.fuse_repvgg_block\n"
     ]
    },
    {
     "name": "stderr",
     "output_type": "stream",
     "text": [
      "YOLOR 🚀 1f5d6c1 torch 1.13.0+cu117 CPU\n",
      "\n"
     ]
    },
    {
     "name": "stdout",
     "output_type": "stream",
     "text": [
      "23.0 was processed.\n",
      "Fusing layers... \n"
     ]
    },
    {
     "name": "stderr",
     "output_type": "stream",
     "text": [
      "Model Summary: 306 layers, 36905341 parameters, 36905341 gradients\n"
     ]
    },
    {
     "name": "stdout",
     "output_type": "stream",
     "text": [
      "RepConv.fuse_repvgg_block\n",
      "RepConv.fuse_repvgg_block\n",
      "RepConv.fuse_repvgg_block\n"
     ]
    },
    {
     "name": "stderr",
     "output_type": "stream",
     "text": [
      "YOLOR 🚀 1f5d6c1 torch 1.13.0+cu117 CPU\n",
      "\n"
     ]
    },
    {
     "name": "stdout",
     "output_type": "stream",
     "text": [
      "24.0 was processed.\n",
      "Fusing layers... \n",
      "RepConv.fuse_repvgg_block\n",
      "RepConv.fuse_repvgg_block\n",
      "RepConv.fuse_repvgg_block\n"
     ]
    },
    {
     "name": "stderr",
     "output_type": "stream",
     "text": [
      "Model Summary: 306 layers, 36905341 parameters, 36905341 gradients\n",
      "YOLOR 🚀 1f5d6c1 torch 1.13.0+cu117 CPU\n",
      "\n"
     ]
    },
    {
     "name": "stdout",
     "output_type": "stream",
     "text": [
      "25.0 was processed.\n",
      "Fusing layers... \n"
     ]
    },
    {
     "name": "stderr",
     "output_type": "stream",
     "text": [
      "Model Summary: 306 layers, 36905341 parameters, 36905341 gradients\n"
     ]
    },
    {
     "name": "stdout",
     "output_type": "stream",
     "text": [
      "RepConv.fuse_repvgg_block\n",
      "RepConv.fuse_repvgg_block\n",
      "RepConv.fuse_repvgg_block\n"
     ]
    },
    {
     "name": "stderr",
     "output_type": "stream",
     "text": [
      "YOLOR 🚀 1f5d6c1 torch 1.13.0+cu117 CPU\n",
      "\n"
     ]
    },
    {
     "name": "stdout",
     "output_type": "stream",
     "text": [
      "26.0 was processed.\n",
      "Fusing layers... \n"
     ]
    },
    {
     "name": "stderr",
     "output_type": "stream",
     "text": [
      "Model Summary: 306 layers, 36905341 parameters, 36905341 gradients\n"
     ]
    },
    {
     "name": "stdout",
     "output_type": "stream",
     "text": [
      "RepConv.fuse_repvgg_block\n",
      "RepConv.fuse_repvgg_block\n",
      "RepConv.fuse_repvgg_block\n"
     ]
    },
    {
     "name": "stderr",
     "output_type": "stream",
     "text": [
      "YOLOR 🚀 1f5d6c1 torch 1.13.0+cu117 CPU\n",
      "\n"
     ]
    },
    {
     "name": "stdout",
     "output_type": "stream",
     "text": [
      "27.0 was processed.\n",
      "Fusing layers... \n",
      "RepConv.fuse_repvgg_block\n",
      "RepConv.fuse_repvgg_block\n",
      "RepConv.fuse_repvgg_block\n"
     ]
    },
    {
     "name": "stderr",
     "output_type": "stream",
     "text": [
      "Model Summary: 306 layers, 36905341 parameters, 36905341 gradients\n",
      "YOLOR 🚀 1f5d6c1 torch 1.13.0+cu117 CPU\n",
      "\n"
     ]
    },
    {
     "name": "stdout",
     "output_type": "stream",
     "text": [
      "28.0 was processed.\n",
      "Fusing layers... \n",
      "RepConv.fuse_repvgg_block\n",
      "RepConv.fuse_repvgg_block\n",
      "RepConv.fuse_repvgg_block\n"
     ]
    },
    {
     "name": "stderr",
     "output_type": "stream",
     "text": [
      "Model Summary: 306 layers, 36905341 parameters, 36905341 gradients\n",
      "YOLOR 🚀 1f5d6c1 torch 1.13.0+cu117 CPU\n",
      "\n"
     ]
    },
    {
     "name": "stdout",
     "output_type": "stream",
     "text": [
      "29.0 was processed.\n",
      "Fusing layers... \n"
     ]
    },
    {
     "name": "stderr",
     "output_type": "stream",
     "text": [
      "Model Summary: 306 layers, 36905341 parameters, 36905341 gradients\n"
     ]
    },
    {
     "name": "stdout",
     "output_type": "stream",
     "text": [
      "RepConv.fuse_repvgg_block\n",
      "RepConv.fuse_repvgg_block\n",
      "RepConv.fuse_repvgg_block\n"
     ]
    },
    {
     "name": "stderr",
     "output_type": "stream",
     "text": [
      "YOLOR 🚀 1f5d6c1 torch 1.13.0+cu117 CPU\n",
      "\n"
     ]
    },
    {
     "name": "stdout",
     "output_type": "stream",
     "text": [
      "30.0 was processed.\n",
      "Fusing layers... \n"
     ]
    },
    {
     "name": "stderr",
     "output_type": "stream",
     "text": [
      "Model Summary: 306 layers, 36905341 parameters, 36905341 gradients\n"
     ]
    },
    {
     "name": "stdout",
     "output_type": "stream",
     "text": [
      "RepConv.fuse_repvgg_block\n",
      "RepConv.fuse_repvgg_block\n",
      "RepConv.fuse_repvgg_block\n"
     ]
    },
    {
     "name": "stderr",
     "output_type": "stream",
     "text": [
      "YOLOR 🚀 1f5d6c1 torch 1.13.0+cu117 CPU\n",
      "\n"
     ]
    },
    {
     "name": "stdout",
     "output_type": "stream",
     "text": [
      "31.0 was processed.\n",
      "Fusing layers... \n"
     ]
    },
    {
     "name": "stderr",
     "output_type": "stream",
     "text": [
      "Model Summary: 306 layers, 36905341 parameters, 36905341 gradients\n"
     ]
    },
    {
     "name": "stdout",
     "output_type": "stream",
     "text": [
      "RepConv.fuse_repvgg_block\n",
      "RepConv.fuse_repvgg_block\n",
      "RepConv.fuse_repvgg_block\n"
     ]
    },
    {
     "name": "stderr",
     "output_type": "stream",
     "text": [
      "YOLOR 🚀 1f5d6c1 torch 1.13.0+cu117 CPU\n",
      "\n"
     ]
    },
    {
     "name": "stdout",
     "output_type": "stream",
     "text": [
      "32.0 was processed.\n",
      "Fusing layers... \n"
     ]
    },
    {
     "name": "stderr",
     "output_type": "stream",
     "text": [
      "Model Summary: 306 layers, 36905341 parameters, 36905341 gradients\n"
     ]
    },
    {
     "name": "stdout",
     "output_type": "stream",
     "text": [
      "RepConv.fuse_repvgg_block\n",
      "RepConv.fuse_repvgg_block\n",
      "RepConv.fuse_repvgg_block\n"
     ]
    },
    {
     "name": "stderr",
     "output_type": "stream",
     "text": [
      "YOLOR 🚀 1f5d6c1 torch 1.13.0+cu117 CPU\n",
      "\n"
     ]
    },
    {
     "name": "stdout",
     "output_type": "stream",
     "text": [
      "33.0 was processed.\n",
      "Fusing layers... \n"
     ]
    },
    {
     "name": "stderr",
     "output_type": "stream",
     "text": [
      "Model Summary: 306 layers, 36905341 parameters, 36905341 gradients\n"
     ]
    },
    {
     "name": "stdout",
     "output_type": "stream",
     "text": [
      "RepConv.fuse_repvgg_block\n",
      "RepConv.fuse_repvgg_block\n",
      "RepConv.fuse_repvgg_block\n"
     ]
    },
    {
     "name": "stderr",
     "output_type": "stream",
     "text": [
      "YOLOR 🚀 1f5d6c1 torch 1.13.0+cu117 CPU\n",
      "\n"
     ]
    },
    {
     "name": "stdout",
     "output_type": "stream",
     "text": [
      "34.0 was processed.\n",
      "Fusing layers... \n"
     ]
    },
    {
     "name": "stderr",
     "output_type": "stream",
     "text": [
      "Model Summary: 306 layers, 36905341 parameters, 36905341 gradients\n"
     ]
    },
    {
     "name": "stdout",
     "output_type": "stream",
     "text": [
      "RepConv.fuse_repvgg_block\n",
      "RepConv.fuse_repvgg_block\n",
      "RepConv.fuse_repvgg_block\n"
     ]
    },
    {
     "name": "stderr",
     "output_type": "stream",
     "text": [
      "YOLOR 🚀 1f5d6c1 torch 1.13.0+cu117 CPU\n",
      "\n"
     ]
    },
    {
     "name": "stdout",
     "output_type": "stream",
     "text": [
      "35.0 was processed.\n",
      "Fusing layers... \n"
     ]
    },
    {
     "name": "stderr",
     "output_type": "stream",
     "text": [
      "Model Summary: 306 layers, 36905341 parameters, 36905341 gradients\n"
     ]
    },
    {
     "name": "stdout",
     "output_type": "stream",
     "text": [
      "RepConv.fuse_repvgg_block\n",
      "RepConv.fuse_repvgg_block\n",
      "RepConv.fuse_repvgg_block\n"
     ]
    },
    {
     "name": "stderr",
     "output_type": "stream",
     "text": [
      "YOLOR 🚀 1f5d6c1 torch 1.13.0+cu117 CPU\n",
      "\n"
     ]
    },
    {
     "name": "stdout",
     "output_type": "stream",
     "text": [
      "36.0 was processed.\n",
      "Fusing layers... \n"
     ]
    },
    {
     "name": "stderr",
     "output_type": "stream",
     "text": [
      "Model Summary: 306 layers, 36905341 parameters, 36905341 gradients\n"
     ]
    },
    {
     "name": "stdout",
     "output_type": "stream",
     "text": [
      "RepConv.fuse_repvgg_block\n",
      "RepConv.fuse_repvgg_block\n",
      "RepConv.fuse_repvgg_block\n"
     ]
    },
    {
     "name": "stderr",
     "output_type": "stream",
     "text": [
      "YOLOR 🚀 1f5d6c1 torch 1.13.0+cu117 CPU\n",
      "\n"
     ]
    },
    {
     "name": "stdout",
     "output_type": "stream",
     "text": [
      "37.0 was processed.\n",
      "Fusing layers... \n"
     ]
    },
    {
     "name": "stderr",
     "output_type": "stream",
     "text": [
      "Model Summary: 306 layers, 36905341 parameters, 36905341 gradients\n"
     ]
    },
    {
     "name": "stdout",
     "output_type": "stream",
     "text": [
      "RepConv.fuse_repvgg_block\n",
      "RepConv.fuse_repvgg_block\n",
      "RepConv.fuse_repvgg_block\n"
     ]
    },
    {
     "name": "stderr",
     "output_type": "stream",
     "text": [
      "YOLOR 🚀 1f5d6c1 torch 1.13.0+cu117 CPU\n",
      "\n"
     ]
    },
    {
     "name": "stdout",
     "output_type": "stream",
     "text": [
      "38.0 was processed.\n",
      "Fusing layers... \n",
      "RepConv.fuse_repvgg_block\n",
      "RepConv.fuse_repvgg_block\n",
      "RepConv.fuse_repvgg_block\n"
     ]
    },
    {
     "name": "stderr",
     "output_type": "stream",
     "text": [
      "Model Summary: 306 layers, 36905341 parameters, 36905341 gradients\n",
      "YOLOR 🚀 1f5d6c1 torch 1.13.0+cu117 CPU\n",
      "\n"
     ]
    },
    {
     "name": "stdout",
     "output_type": "stream",
     "text": [
      "39.0 was processed.\n",
      "Fusing layers... \n"
     ]
    },
    {
     "name": "stderr",
     "output_type": "stream",
     "text": [
      "Model Summary: 306 layers, 36905341 parameters, 36905341 gradients\n"
     ]
    },
    {
     "name": "stdout",
     "output_type": "stream",
     "text": [
      "RepConv.fuse_repvgg_block\n",
      "RepConv.fuse_repvgg_block\n",
      "RepConv.fuse_repvgg_block\n"
     ]
    },
    {
     "name": "stderr",
     "output_type": "stream",
     "text": [
      "YOLOR 🚀 1f5d6c1 torch 1.13.0+cu117 CPU\n",
      "\n"
     ]
    },
    {
     "name": "stdout",
     "output_type": "stream",
     "text": [
      "40.0 was processed.\n",
      "Fusing layers... \n"
     ]
    },
    {
     "name": "stderr",
     "output_type": "stream",
     "text": [
      "Model Summary: 306 layers, 36905341 parameters, 36905341 gradients\n"
     ]
    },
    {
     "name": "stdout",
     "output_type": "stream",
     "text": [
      "RepConv.fuse_repvgg_block\n",
      "RepConv.fuse_repvgg_block\n",
      "RepConv.fuse_repvgg_block\n"
     ]
    },
    {
     "name": "stderr",
     "output_type": "stream",
     "text": [
      "YOLOR 🚀 1f5d6c1 torch 1.13.0+cu117 CPU\n",
      "\n"
     ]
    },
    {
     "name": "stdout",
     "output_type": "stream",
     "text": [
      "41.0 was processed.\n",
      "Fusing layers... \n"
     ]
    },
    {
     "name": "stderr",
     "output_type": "stream",
     "text": [
      "Model Summary: 306 layers, 36905341 parameters, 36905341 gradients\n"
     ]
    },
    {
     "name": "stdout",
     "output_type": "stream",
     "text": [
      "RepConv.fuse_repvgg_block\n",
      "RepConv.fuse_repvgg_block\n",
      "RepConv.fuse_repvgg_block\n"
     ]
    },
    {
     "name": "stderr",
     "output_type": "stream",
     "text": [
      "YOLOR 🚀 1f5d6c1 torch 1.13.0+cu117 CPU\n",
      "\n"
     ]
    },
    {
     "name": "stdout",
     "output_type": "stream",
     "text": [
      "42.0 was processed.\n",
      "Fusing layers... \n"
     ]
    },
    {
     "name": "stderr",
     "output_type": "stream",
     "text": [
      "Model Summary: 306 layers, 36905341 parameters, 36905341 gradients\n"
     ]
    },
    {
     "name": "stdout",
     "output_type": "stream",
     "text": [
      "RepConv.fuse_repvgg_block\n",
      "RepConv.fuse_repvgg_block\n",
      "RepConv.fuse_repvgg_block\n"
     ]
    },
    {
     "name": "stderr",
     "output_type": "stream",
     "text": [
      "YOLOR 🚀 1f5d6c1 torch 1.13.0+cu117 CPU\n",
      "\n"
     ]
    },
    {
     "name": "stdout",
     "output_type": "stream",
     "text": [
      "43.0 was processed.\n",
      "Fusing layers... \n"
     ]
    },
    {
     "name": "stderr",
     "output_type": "stream",
     "text": [
      "Model Summary: 306 layers, 36905341 parameters, 36905341 gradients\n"
     ]
    },
    {
     "name": "stdout",
     "output_type": "stream",
     "text": [
      "RepConv.fuse_repvgg_block\n",
      "RepConv.fuse_repvgg_block\n",
      "RepConv.fuse_repvgg_block\n"
     ]
    },
    {
     "name": "stderr",
     "output_type": "stream",
     "text": [
      "YOLOR 🚀 1f5d6c1 torch 1.13.0+cu117 CPU\n",
      "\n"
     ]
    },
    {
     "name": "stdout",
     "output_type": "stream",
     "text": [
      "44.0 was processed.\n",
      "Fusing layers... \n"
     ]
    },
    {
     "name": "stderr",
     "output_type": "stream",
     "text": [
      "Model Summary: 306 layers, 36905341 parameters, 36905341 gradients\n"
     ]
    },
    {
     "name": "stdout",
     "output_type": "stream",
     "text": [
      "RepConv.fuse_repvgg_block\n",
      "RepConv.fuse_repvgg_block\n",
      "RepConv.fuse_repvgg_block\n"
     ]
    },
    {
     "name": "stderr",
     "output_type": "stream",
     "text": [
      "YOLOR 🚀 1f5d6c1 torch 1.13.0+cu117 CPU\n",
      "\n"
     ]
    },
    {
     "name": "stdout",
     "output_type": "stream",
     "text": [
      "45.0 was processed.\n",
      "Fusing layers... \n"
     ]
    },
    {
     "name": "stderr",
     "output_type": "stream",
     "text": [
      "Model Summary: 306 layers, 36905341 parameters, 36905341 gradients\n"
     ]
    },
    {
     "name": "stdout",
     "output_type": "stream",
     "text": [
      "RepConv.fuse_repvgg_block\n",
      "RepConv.fuse_repvgg_block\n",
      "RepConv.fuse_repvgg_block\n"
     ]
    },
    {
     "name": "stderr",
     "output_type": "stream",
     "text": [
      "YOLOR 🚀 1f5d6c1 torch 1.13.0+cu117 CPU\n",
      "\n"
     ]
    },
    {
     "name": "stdout",
     "output_type": "stream",
     "text": [
      "46.0 was processed.\n",
      "Fusing layers... \n",
      "RepConv.fuse_repvgg_block\n",
      "RepConv.fuse_repvgg_block\n",
      "RepConv.fuse_repvgg_block\n"
     ]
    },
    {
     "name": "stderr",
     "output_type": "stream",
     "text": [
      "Model Summary: 306 layers, 36905341 parameters, 36905341 gradients\n",
      "YOLOR 🚀 1f5d6c1 torch 1.13.0+cu117 CPU\n",
      "\n"
     ]
    },
    {
     "name": "stdout",
     "output_type": "stream",
     "text": [
      "47.0 was processed.\n",
      "Fusing layers... \n",
      "RepConv.fuse_repvgg_block\n",
      "RepConv.fuse_repvgg_block\n",
      "RepConv.fuse_repvgg_block\n"
     ]
    },
    {
     "name": "stderr",
     "output_type": "stream",
     "text": [
      "Model Summary: 306 layers, 36905341 parameters, 36905341 gradients\n",
      "YOLOR 🚀 1f5d6c1 torch 1.13.0+cu117 CPU\n",
      "\n"
     ]
    },
    {
     "name": "stdout",
     "output_type": "stream",
     "text": [
      "48.0 was processed.\n",
      "Fusing layers... \n",
      "RepConv.fuse_repvgg_block\n",
      "RepConv.fuse_repvgg_block\n",
      "RepConv.fuse_repvgg_block\n"
     ]
    },
    {
     "name": "stderr",
     "output_type": "stream",
     "text": [
      "Model Summary: 306 layers, 36905341 parameters, 36905341 gradients\n",
      "YOLOR 🚀 1f5d6c1 torch 1.13.0+cu117 CPU\n",
      "\n"
     ]
    },
    {
     "name": "stdout",
     "output_type": "stream",
     "text": [
      "49.0 was processed.\n",
      "Fusing layers... \n"
     ]
    },
    {
     "name": "stderr",
     "output_type": "stream",
     "text": [
      "Model Summary: 306 layers, 36905341 parameters, 36905341 gradients\n"
     ]
    },
    {
     "name": "stdout",
     "output_type": "stream",
     "text": [
      "RepConv.fuse_repvgg_block\n",
      "RepConv.fuse_repvgg_block\n",
      "RepConv.fuse_repvgg_block\n",
      "50.0 was processed.\n"
     ]
    }
   ],
   "source": [
    "video_handler = VideoHandler(video_path='./data/test.mp4',\n",
    "                             output_path='./data/test_19_12',\n",
    "                             desired_frequency=1,\n",
    "                             starting_point=0\n",
    "                             )\n",
    "video_handler.divide_video()\n",
    "video_handler.detect_lines_and_fields()\n",
    "video_handler.detect_objects()"
   ],
   "metadata": {
    "collapsed": false
   }
  },
  {
   "cell_type": "markdown",
   "source": [],
   "metadata": {
    "collapsed": false
   }
  },
  {
   "cell_type": "code",
   "execution_count": 5,
   "outputs": [],
   "source": [
    "video_handler.save_results_to_files()\n"
   ],
   "metadata": {
    "collapsed": false
   }
  }
 ],
 "metadata": {
  "kernelspec": {
   "display_name": "Python 3",
   "language": "python",
   "name": "python3"
  },
  "language_info": {
   "codemirror_mode": {
    "name": "ipython",
    "version": 2
   },
   "file_extension": ".py",
   "mimetype": "text/x-python",
   "name": "python",
   "nbconvert_exporter": "python",
   "pygments_lexer": "ipython2",
   "version": "2.7.6"
  }
 },
 "nbformat": 4,
 "nbformat_minor": 0
}
