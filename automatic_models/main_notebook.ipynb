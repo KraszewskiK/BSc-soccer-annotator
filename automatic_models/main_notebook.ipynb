{
 "cells": [
  {
   "cell_type": "markdown",
   "source": [
    "NOTEBOOK FOR GENERAL USAGE OF AUTOMATIC MODELS"
   ],
   "metadata": {
    "collapsed": false
   }
  },
  {
   "cell_type": "code",
   "execution_count": 1,
   "outputs": [
    {
     "name": "stderr",
     "output_type": "stream",
     "text": [
      "/home/skocznapanda/programming/BSc-soccer-annotator/venv/lib/python3.9/site-packages/torch/cuda/__init__.py:88: UserWarning: CUDA initialization: The NVIDIA driver on your system is too old (found version 10010). Please update your GPU driver by downloading and installing a new version from the URL: http://www.nvidia.com/Download/index.aspx Alternatively, go to: https://pytorch.org to install a PyTorch version that has been compiled with your version of the CUDA driver. (Triggered internally at ../c10/cuda/CUDAFunctions.cpp:109.)\n",
      "  return torch._C._cuda_getDeviceCount() > 0\n"
     ]
    }
   ],
   "source": [
    "from handlers import VideoHandler\n",
    "from datetime import datetime"
   ],
   "metadata": {
    "collapsed": false
   }
  },
  {
   "cell_type": "code",
   "execution_count": 2,
   "outputs": [
    {
     "data": {
      "text/plain": "'12_30_2022_21:40:58'"
     },
     "execution_count": 2,
     "metadata": {},
     "output_type": "execute_result"
    }
   ],
   "source": [
    "datetime.now().strftime(\"%m_%d_%Y_%H:%M:%S\")"
   ],
   "metadata": {
    "collapsed": false
   }
  },
  {
   "cell_type": "code",
   "execution_count": 7,
   "outputs": [
    {
     "data": {
      "text/plain": "False"
     },
     "execution_count": 7,
     "metadata": {},
     "output_type": "execute_result"
    }
   ],
   "source": [],
   "metadata": {
    "collapsed": false
   }
  },
  {
   "cell_type": "code",
   "execution_count": 3,
   "outputs": [],
   "source": [
    "video_handler = VideoHandler(video_path='./data/test.mp4',\n",
    "                             output_path='./data/results_30_12',\n",
    "                             desired_frequency=1/20,\n",
    "                             starting_point=0,\n",
    "                             models_config_path='data/models_config.json',\n",
    "                             saving_strategy='add')"
   ],
   "metadata": {
    "collapsed": false
   }
  },
  {
   "cell_type": "code",
   "execution_count": 4,
   "outputs": [
    {
     "name": "stderr",
     "output_type": "stream",
     "text": [
      "YOLOR 🚀 edba459 torch 1.13.0+cu117 CPU\n",
      "\n"
     ]
    },
    {
     "name": "stdout",
     "output_type": "stream",
     "text": [
      "ObjectDetectorConfig(name='yolov7', objects_labels=('PERSON', 'SPORTS_BALL'), device='cpu', conf_threshold=0.4)\n",
      "Fusing layers... \n"
     ]
    },
    {
     "name": "stderr",
     "output_type": "stream",
     "text": [
      "Model Summary: 306 layers, 36905341 parameters, 36905341 gradients\n"
     ]
    },
    {
     "name": "stdout",
     "output_type": "stream",
     "text": [
      "RepConv.fuse_repvgg_block\n",
      "RepConv.fuse_repvgg_block\n",
      "RepConv.fuse_repvgg_block\n"
     ]
    },
    {
     "name": "stderr",
     "output_type": "stream",
     "text": [
      "/home/skocznapanda/programming/BSc-soccer-annotator/venv/lib/python3.9/site-packages/torch/functional.py:504: UserWarning: torch.meshgrid: in an upcoming release, it will be required to pass the indexing argument. (Triggered internally at ../aten/src/ATen/native/TensorShape.cpp:3190.)\n",
      "  return _VF.meshgrid(tensors, **kwargs)  # type: ignore[attr-defined]\n",
      "YOLOR 🚀 edba459 torch 1.13.0+cu117 CPU\n",
      "\n"
     ]
    },
    {
     "name": "stdout",
     "output_type": "stream",
     "text": [
      "0.0 was processed.\n",
      "ObjectDetectorConfig(name='yolov7', objects_labels=('PERSON', 'SPORTS_BALL'), device='cpu', conf_threshold=0.4)\n",
      "Fusing layers... \n"
     ]
    },
    {
     "name": "stderr",
     "output_type": "stream",
     "text": [
      "Model Summary: 306 layers, 36905341 parameters, 36905341 gradients\n"
     ]
    },
    {
     "name": "stdout",
     "output_type": "stream",
     "text": [
      "RepConv.fuse_repvgg_block\n",
      "RepConv.fuse_repvgg_block\n",
      "RepConv.fuse_repvgg_block\n"
     ]
    },
    {
     "name": "stderr",
     "output_type": "stream",
     "text": [
      "YOLOR 🚀 edba459 torch 1.13.0+cu117 CPU\n",
      "\n"
     ]
    },
    {
     "name": "stdout",
     "output_type": "stream",
     "text": [
      "20.0 was processed.\n",
      "ObjectDetectorConfig(name='yolov7', objects_labels=('PERSON', 'SPORTS_BALL'), device='cpu', conf_threshold=0.4)\n",
      "Fusing layers... \n"
     ]
    },
    {
     "name": "stderr",
     "output_type": "stream",
     "text": [
      "Model Summary: 306 layers, 36905341 parameters, 36905341 gradients\n"
     ]
    },
    {
     "name": "stdout",
     "output_type": "stream",
     "text": [
      "RepConv.fuse_repvgg_block\n",
      "RepConv.fuse_repvgg_block\n",
      "RepConv.fuse_repvgg_block\n",
      "40.0 was processed.\n",
      "LineDetectorConfig(name='Optimization Based Image Registration', template_path='/home/skocznapanda/programming/BSc-soccer-annotator/automatic_models/lines_and_field_detection/data/template.png', out_dir='/home/skocznapanda/programming/BSc-soccer-annotator/automatic_models/lines_and_field_detection/out', batch_size=1, coord_conv_template=True, error_model='loss_surface', error_target='iou_whole', guess_model='init_guess', homo_param_method='deep_homography', load_weights_error_model='pretrained_loss_surface', load_weights_upstream='pretrained_init_guess', lr_optim=1e-05, need_single_image_normalization=True, need_spectral_norm_error_model=True, need_spectral_norm_upstream=False, optim_criterion='l1loss', optim_iters=2, optim_method='stn', optim_type='adam', prevent_neg='sigmoid', warp_dim=8, warp_type='homography', constant_var_use_cuda=False, torch_backends_cudnn_enabled=False, desired_homography='optim')\n",
      "---------------------- NOTIFICATION ----------------------\n",
      "\n",
      "Resnet backbone config for loss_surface\n",
      "Spectral norm for resnet: True\n",
      "Using BN for resnet\n",
      "Imagenet pretrain weights for resnet: False\n",
      "\n",
      "-------------------------- END --------------------------\n",
      "---------------------- NOTIFICATION ----------------------\n",
      "\n",
      "Weights loaded for loss_surface\n",
      "From: /home/skocznapanda/programming/BSc-soccer-annotator/automatic_models/lines_and_field_detection/out/pretrained_loss_surface/checkpoint.pth.tar\n",
      "\n",
      "-------------------------- END --------------------------\n",
      "---------------------- NOTIFICATION ----------------------\n",
      "\n",
      "Resnet backbone config for init_guess\n",
      "Spectral norm for resnet: False\n",
      "Using BN for resnet\n",
      "Imagenet pretrain weights for resnet: False\n",
      "\n",
      "-------------------------- END --------------------------\n",
      "---------------------- NOTIFICATION ----------------------\n",
      "\n",
      "Weights loaded for init_guess\n",
      "From: /home/skocznapanda/programming/BSc-soccer-annotator/automatic_models/lines_and_field_detection/out/pretrained_init_guess/checkpoint.pth.tar\n",
      "\n",
      "-------------------------- END --------------------------\n",
      "---------------------- NOTIFICATION ----------------------\n",
      "\n",
      "Weights loaded for init_guess\n",
      "From: /home/skocznapanda/programming/BSc-soccer-annotator/automatic_models/lines_and_field_detection/out/pretrained_init_guess/checkpoint.pth.tar\n",
      "\n",
      "-------------------------- END --------------------------\n"
     ]
    },
    {
     "name": "stderr",
     "output_type": "stream",
     "text": [
      "  0%|          | 0/2 [00:00<?, ?it/s]/home/skocznapanda/programming/BSc-soccer-annotator/venv/lib/python3.9/site-packages/torch/nn/functional.py:4227: UserWarning: Default grid_sample and affine_grid behavior has changed to align_corners=False since 1.3.0. Please specify align_corners=True if the old behavior is desired. See the documentation of grid_sample for details.\n",
      "  warnings.warn(\n",
      "100%|██████████| 2/2 [00:00<00:00,  3.04it/s]\n"
     ]
    },
    {
     "name": "stdout",
     "output_type": "stream",
     "text": [
      "0.0 was processed.\n",
      "LineDetectorConfig(name='Optimization Based Image Registration', template_path='/home/skocznapanda/programming/BSc-soccer-annotator/automatic_models/lines_and_field_detection/data/template.png', out_dir='/home/skocznapanda/programming/BSc-soccer-annotator/automatic_models/lines_and_field_detection/out', batch_size=1, coord_conv_template=True, error_model='loss_surface', error_target='iou_whole', guess_model='init_guess', homo_param_method='deep_homography', load_weights_error_model='pretrained_loss_surface', load_weights_upstream='pretrained_init_guess', lr_optim=1e-05, need_single_image_normalization=True, need_spectral_norm_error_model=True, need_spectral_norm_upstream=False, optim_criterion='l1loss', optim_iters=2, optim_method='stn', optim_type='adam', prevent_neg='sigmoid', warp_dim=8, warp_type='homography', constant_var_use_cuda=False, torch_backends_cudnn_enabled=False, desired_homography='optim')\n",
      "---------------------- NOTIFICATION ----------------------\n",
      "\n",
      "Resnet backbone config for loss_surface\n",
      "Spectral norm for resnet: True\n",
      "Using BN for resnet\n",
      "Imagenet pretrain weights for resnet: False\n",
      "\n",
      "-------------------------- END --------------------------\n",
      "---------------------- NOTIFICATION ----------------------\n",
      "\n",
      "Weights loaded for loss_surface\n",
      "From: /home/skocznapanda/programming/BSc-soccer-annotator/automatic_models/lines_and_field_detection/out/pretrained_loss_surface/checkpoint.pth.tar\n",
      "\n",
      "-------------------------- END --------------------------\n",
      "---------------------- NOTIFICATION ----------------------\n",
      "\n",
      "Resnet backbone config for init_guess\n",
      "Spectral norm for resnet: False\n",
      "Using BN for resnet\n",
      "Imagenet pretrain weights for resnet: False\n",
      "\n",
      "-------------------------- END --------------------------\n",
      "---------------------- NOTIFICATION ----------------------\n",
      "\n",
      "Weights loaded for init_guess\n",
      "From: /home/skocznapanda/programming/BSc-soccer-annotator/automatic_models/lines_and_field_detection/out/pretrained_init_guess/checkpoint.pth.tar\n",
      "\n",
      "-------------------------- END --------------------------\n",
      "---------------------- NOTIFICATION ----------------------\n",
      "\n",
      "Weights loaded for init_guess\n",
      "From: /home/skocznapanda/programming/BSc-soccer-annotator/automatic_models/lines_and_field_detection/out/pretrained_init_guess/checkpoint.pth.tar\n",
      "\n",
      "-------------------------- END --------------------------\n"
     ]
    },
    {
     "name": "stderr",
     "output_type": "stream",
     "text": [
      "100%|██████████| 2/2 [00:00<00:00,  3.34it/s]\n"
     ]
    },
    {
     "name": "stdout",
     "output_type": "stream",
     "text": [
      "20.0 was processed.\n",
      "LineDetectorConfig(name='Optimization Based Image Registration', template_path='/home/skocznapanda/programming/BSc-soccer-annotator/automatic_models/lines_and_field_detection/data/template.png', out_dir='/home/skocznapanda/programming/BSc-soccer-annotator/automatic_models/lines_and_field_detection/out', batch_size=1, coord_conv_template=True, error_model='loss_surface', error_target='iou_whole', guess_model='init_guess', homo_param_method='deep_homography', load_weights_error_model='pretrained_loss_surface', load_weights_upstream='pretrained_init_guess', lr_optim=1e-05, need_single_image_normalization=True, need_spectral_norm_error_model=True, need_spectral_norm_upstream=False, optim_criterion='l1loss', optim_iters=2, optim_method='stn', optim_type='adam', prevent_neg='sigmoid', warp_dim=8, warp_type='homography', constant_var_use_cuda=False, torch_backends_cudnn_enabled=False, desired_homography='optim')\n",
      "---------------------- NOTIFICATION ----------------------\n",
      "\n",
      "Resnet backbone config for loss_surface\n",
      "Spectral norm for resnet: True\n",
      "Using BN for resnet\n",
      "Imagenet pretrain weights for resnet: False\n",
      "\n",
      "-------------------------- END --------------------------\n",
      "---------------------- NOTIFICATION ----------------------\n",
      "\n",
      "Weights loaded for loss_surface\n",
      "From: /home/skocznapanda/programming/BSc-soccer-annotator/automatic_models/lines_and_field_detection/out/pretrained_loss_surface/checkpoint.pth.tar\n",
      "\n",
      "-------------------------- END --------------------------\n",
      "---------------------- NOTIFICATION ----------------------\n",
      "\n",
      "Resnet backbone config for init_guess\n",
      "Spectral norm for resnet: False\n",
      "Using BN for resnet\n",
      "Imagenet pretrain weights for resnet: False\n",
      "\n",
      "-------------------------- END --------------------------\n",
      "---------------------- NOTIFICATION ----------------------\n",
      "\n",
      "Weights loaded for init_guess\n",
      "From: /home/skocznapanda/programming/BSc-soccer-annotator/automatic_models/lines_and_field_detection/out/pretrained_init_guess/checkpoint.pth.tar\n",
      "\n",
      "-------------------------- END --------------------------\n",
      "---------------------- NOTIFICATION ----------------------\n",
      "\n",
      "Weights loaded for init_guess\n",
      "From: /home/skocznapanda/programming/BSc-soccer-annotator/automatic_models/lines_and_field_detection/out/pretrained_init_guess/checkpoint.pth.tar\n",
      "\n",
      "-------------------------- END --------------------------\n"
     ]
    },
    {
     "name": "stderr",
     "output_type": "stream",
     "text": [
      "100%|██████████| 2/2 [00:00<00:00,  3.44it/s]"
     ]
    },
    {
     "name": "stdout",
     "output_type": "stream",
     "text": [
      "40.0 was processed.\n"
     ]
    },
    {
     "name": "stderr",
     "output_type": "stream",
     "text": [
      "\n"
     ]
    }
   ],
   "source": [
    "video_handler.divide_video()\n",
    "video_handler.detect_objects()\n",
    "video_handler.detect_lines_and_fields()\n",
    "video_handler.save_results_to_files()"
   ],
   "metadata": {
    "collapsed": false
   }
  },
  {
   "cell_type": "code",
   "execution_count": null,
   "outputs": [],
   "source": [],
   "metadata": {
    "collapsed": false
   }
  }
 ],
 "metadata": {
  "kernelspec": {
   "display_name": "Python 3",
   "language": "python",
   "name": "python3"
  },
  "language_info": {
   "codemirror_mode": {
    "name": "ipython",
    "version": 2
   },
   "file_extension": ".py",
   "mimetype": "text/x-python",
   "name": "python",
   "nbconvert_exporter": "python",
   "pygments_lexer": "ipython2",
   "version": "2.7.6"
  }
 },
 "nbformat": 4,
 "nbformat_minor": 0
}
