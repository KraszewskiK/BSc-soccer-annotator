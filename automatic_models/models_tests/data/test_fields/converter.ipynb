{
 "cells": [
  {
   "cell_type": "code",
   "execution_count": 4,
   "metadata": {
    "collapsed": true
   },
   "outputs": [],
   "source": [
    "import pandas as pd\n",
    "import json\n",
    "%matplotlib inline"
   ]
  },
  {
   "cell_type": "code",
   "execution_count": 5,
   "outputs": [],
   "source": [
    "def convert_dict_to_polygon_list(polygon: str):\n",
    "    result = []\n",
    "    coords_x = polygon['all_points_x']\n",
    "    coords_y = polygon['all_points_y']\n",
    "    for point in zip(coords_x, coords_y):\n",
    "        result.append(list(point))\n",
    "    return result"
   ],
   "metadata": {
    "collapsed": false
   }
  },
  {
   "cell_type": "code",
   "execution_count": 9,
   "outputs": [
    {
     "data": {
      "text/plain": "name\n00090    [[5, 524], [956, 465], [955, 93], [754, 3], [2...\n00080    [[196, 135], [1, 207], [2, 537], [958, 539], [...\n00070    [[1, 341], [270, 142], [959, 139], [959, 537],...\n00060             [[3, 403], [2, 2], [956, 2], [954, 391]]\n00050    [[2, 78], [476, 71], [957, 377], [957, 534], [...\nName: polygon, dtype: object"
     },
     "execution_count": 9,
     "metadata": {},
     "output_type": "execute_result"
    }
   ],
   "source": [
    "fields_raw = pd.read_csv('total_100.csv')\n",
    "fields_raw['name'] = fields_raw['filename'].apply(lambda k: k.split('.')[0])\n",
    "fields_raw['polygon'] = fields_raw['region_shape_attributes'].apply(lambda k: convert_dict_to_polygon_list(json.loads(k)))\n",
    "fields_raw.set_index('name', inplace=True)\n",
    "fields_raw['polygon'].head()"
   ],
   "metadata": {
    "collapsed": false
   }
  },
  {
   "cell_type": "code",
   "execution_count": null,
   "outputs": [],
   "source": [
    "with open('total_100_converted.json', 'w') as f:\n",
    "    json.dump(fields_raw['polygon'].to_dict(), f)\n",
    "import shutil\n",
    "\n",
    "images_used = fields_raw['filename'].tolist()\n",
    "for img in images_used:\n",
    "    shutil.copy(src=f'../test_soccernet/{img}',\n",
    "                dst=f'img/{img}')"
   ],
   "metadata": {
    "collapsed": false
   }
  }
 ],
 "metadata": {
  "kernelspec": {
   "display_name": "Python 3",
   "language": "python",
   "name": "python3"
  },
  "language_info": {
   "codemirror_mode": {
    "name": "ipython",
    "version": 2
   },
   "file_extension": ".py",
   "mimetype": "text/x-python",
   "name": "python",
   "nbconvert_exporter": "python",
   "pygments_lexer": "ipython2",
   "version": "2.7.6"
  }
 },
 "nbformat": 4,
 "nbformat_minor": 0
}
