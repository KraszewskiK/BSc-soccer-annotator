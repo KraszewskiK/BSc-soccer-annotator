{
 "cells": [
  {
   "cell_type": "code",
   "execution_count": 4,
   "metadata": {
    "collapsed": true
   },
   "outputs": [],
   "source": [
    "import pandas as pd\n",
    "import json\n",
    "import numpy as np\n",
    "from shapely.geometry import Polygon\n",
    "import matplotlib.pyplot as plt\n",
    "import matplotlib.patches as patches\n",
    "from matplotlib.collections import PatchCollection\n",
    "import cv2\n",
    "%matplotlib inline"
   ]
  },
  {
   "cell_type": "code",
   "execution_count": 5,
   "outputs": [],
   "source": [
    "def convert_dict_to_polygon_list(polygon: str):\n",
    "    result = []\n",
    "    coords_x = polygon['all_points_x']\n",
    "    coords_y = polygon['all_points_y']\n",
    "    for point in zip(coords_x, coords_y):\n",
    "        result.append(list(point))\n",
    "    return result"
   ],
   "metadata": {
    "collapsed": false
   }
  },
  {
   "cell_type": "code",
   "execution_count": 9,
   "outputs": [
    {
     "data": {
      "text/plain": "name\n00090    [[5, 524], [956, 465], [955, 93], [754, 3], [2...\n00080    [[196, 135], [1, 207], [2, 537], [958, 539], [...\n00070    [[1, 341], [270, 142], [959, 139], [959, 537],...\n00060             [[3, 403], [2, 2], [956, 2], [954, 391]]\n00050    [[2, 78], [476, 71], [957, 377], [957, 534], [...\nName: polygon, dtype: object"
     },
     "execution_count": 9,
     "metadata": {},
     "output_type": "execute_result"
    }
   ],
   "source": [
    "fields_raw = pd.read_csv('total_100.csv')\n",
    "fields_raw['name'] = fields_raw['filename'].apply(lambda k: k.split('.')[0])\n",
    "fields_raw['polygon'] = fields_raw['region_shape_attributes'].apply(lambda k: convert_dict_to_polygon_list(json.loads(k)))\n",
    "fields_raw.set_index('name', inplace=True)\n",
    "fields_raw['polygon'].head()"
   ],
   "metadata": {
    "collapsed": false
   }
  },
  {
   "cell_type": "code",
   "execution_count": 13,
   "outputs": [],
   "source": [
    "with open('total_100_converted.json', 'w') as f:\n",
    "    json.dump(fields_raw['polygon'].to_dict(), f)"
   ],
   "metadata": {
    "collapsed": false
   }
  },
  {
   "cell_type": "code",
   "execution_count": 17,
   "outputs": [],
   "source": [
    "import shutil\n",
    "images_used = fields_raw['filename'].tolist()\n",
    "for img in images_used:\n",
    "    shutil.copy(src=f'../test_soccernet/{img}',\n",
    "                dst=f'img/{img}')"
   ],
   "metadata": {
    "collapsed": false
   }
  },
  {
   "cell_type": "code",
   "execution_count": 20,
   "outputs": [
    {
     "data": {
      "text/plain": "        filename  file_size file_attributes  region_count  region_id  \\\nname                                                                   \n00000  00000.jpg     146764              {}             1          0   \n\n                                 region_shape_attributes region_attributes  \\\nname                                                                         \n00000  {\"name\":\"polygon\",\"all_points_x\":[2,370,957,95...                {}   \n\n                                                 polygon  \nname                                                      \n00000  [[2, 152], [370, 120], [957, 254], [957, 536],...  ",
      "text/html": "<div>\n<style scoped>\n    .dataframe tbody tr th:only-of-type {\n        vertical-align: middle;\n    }\n\n    .dataframe tbody tr th {\n        vertical-align: top;\n    }\n\n    .dataframe thead th {\n        text-align: right;\n    }\n</style>\n<table border=\"1\" class=\"dataframe\">\n  <thead>\n    <tr style=\"text-align: right;\">\n      <th></th>\n      <th>filename</th>\n      <th>file_size</th>\n      <th>file_attributes</th>\n      <th>region_count</th>\n      <th>region_id</th>\n      <th>region_shape_attributes</th>\n      <th>region_attributes</th>\n      <th>polygon</th>\n    </tr>\n    <tr>\n      <th>name</th>\n      <th></th>\n      <th></th>\n      <th></th>\n      <th></th>\n      <th></th>\n      <th></th>\n      <th></th>\n      <th></th>\n    </tr>\n  </thead>\n  <tbody>\n    <tr>\n      <th>00000</th>\n      <td>00000.jpg</td>\n      <td>146764</td>\n      <td>{}</td>\n      <td>1</td>\n      <td>0</td>\n      <td>{\"name\":\"polygon\",\"all_points_x\":[2,370,957,95...</td>\n      <td>{}</td>\n      <td>[[2, 152], [370, 120], [957, 254], [957, 536],...</td>\n    </tr>\n  </tbody>\n</table>\n</div>"
     },
     "execution_count": 20,
     "metadata": {},
     "output_type": "execute_result"
    }
   ],
   "source": [],
   "metadata": {
    "collapsed": false
   }
  },
  {
   "cell_type": "code",
   "execution_count": null,
   "outputs": [],
   "source": [],
   "metadata": {
    "collapsed": false
   }
  }
 ],
 "metadata": {
  "kernelspec": {
   "display_name": "Python 3",
   "language": "python",
   "name": "python3"
  },
  "language_info": {
   "codemirror_mode": {
    "name": "ipython",
    "version": 2
   },
   "file_extension": ".py",
   "mimetype": "text/x-python",
   "name": "python",
   "nbconvert_exporter": "python",
   "pygments_lexer": "ipython2",
   "version": "2.7.6"
  }
 },
 "nbformat": 4,
 "nbformat_minor": 0
}
